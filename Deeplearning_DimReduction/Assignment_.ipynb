{
 "cells": [
  {
   "cell_type": "markdown",
   "metadata": {
    "colab_type": "text",
    "id": "Fmk_edw8iCwu"
   },
   "source": [
    "# Problem Statement\n",
    "\n",
    "to predict labels for the testing data"
   ]
  },
  {
   "cell_type": "markdown",
   "metadata": {
    "colab_type": "text",
    "id": "iOFkPHnziCwv"
   },
   "source": [
    "# 1- Import key Modules"
   ]
  },
  {
   "cell_type": "code",
   "execution_count": 1,
   "metadata": {
    "colab": {},
    "colab_type": "code",
    "id": "xlQFIZ7oiCww"
   },
   "outputs": [],
   "source": [
    "# For warnings\n",
    "import warnings\n",
    "warnings.filterwarnings('ignore')"
   ]
  },
  {
   "cell_type": "code",
   "execution_count": 3,
   "metadata": {
    "colab": {},
    "colab_type": "code",
    "id": "QqCvswFwiCw6"
   },
   "outputs": [],
   "source": [
    "# For processing\n",
    "import numpy as np\n",
    "import pandas as pd\n",
    "import tensorflow as tf\n",
    "from sklearn.model_selection import train_test_split\n",
    "from sklearn.preprocessing import StandardScaler\n",
    "from sklearn.svm import SVC\n",
    "from sklearn.linear_model import LogisticRegression"
   ]
  },
  {
   "cell_type": "code",
   "execution_count": 4,
   "metadata": {
    "colab": {
     "base_uri": "https://localhost:8080/",
     "height": 34
    },
    "colab_type": "code",
    "id": "UAEwzHd3iCw_",
    "outputId": "fc2ff30d-dfe1-4ff4-e889-29bfef900ac8"
   },
   "outputs": [
    {
     "name": "stdout",
     "output_type": "stream",
     "text": [
      "Populating the interactive namespace from numpy and matplotlib\n"
     ]
    }
   ],
   "source": [
    "#For Visuals\n",
    "import matplotlib.pyplot as plt\n",
    "import seaborn as sns\n",
    "%matplotlib inline\n",
    "%pylab inline"
   ]
  },
  {
   "cell_type": "code",
   "execution_count": 5,
   "metadata": {
    "colab": {},
    "colab_type": "code",
    "id": "dkeZOxOsiCxC"
   },
   "outputs": [],
   "source": [
    "# To evaluate\n",
    "from sklearn.metrics import accuracy_score\n",
    "from sklearn.metrics import recall_score\n",
    "from sklearn.metrics import classification_report\n",
    "from sklearn.metrics import confusion_matrix"
   ]
  },
  {
   "cell_type": "code",
   "execution_count": 6,
   "metadata": {
    "colab": {
     "base_uri": "https://localhost:8080/",
     "height": 35
    },
    "colab_type": "code",
    "id": "sTQQ6X1Dl_qw",
    "outputId": "349d1faa-08c4-4139-d1f8-62d49664725a"
   },
   "outputs": [
    {
     "data": {
      "application/vnd.google.colaboratory.intrinsic+json": {
       "type": "string"
      },
      "text/plain": [
       "'/device:GPU:0'"
      ]
     },
     "execution_count": 6,
     "metadata": {
      "tags": []
     },
     "output_type": "execute_result"
    }
   ],
   "source": [
    "# testing GPU on colab\n",
    "import tensorflow as tf\n",
    "tf.test.gpu_device_name()"
   ]
  },
  {
   "cell_type": "markdown",
   "metadata": {
    "colab_type": "text",
    "id": "H7pHdqH1iCxF"
   },
   "source": [
    "# 2-Loading and preparing data"
   ]
  },
  {
   "cell_type": "code",
   "execution_count": 15,
   "metadata": {
    "colab": {
     "base_uri": "https://localhost:8080/",
     "height": 34
    },
    "colab_type": "code",
    "id": "sPLySC5CiCxF",
    "outputId": "ea1792d8-3ea6-4dbe-da8f-b0f4399d72ca"
   },
   "outputs": [
    {
     "data": {
      "text/plain": [
       "(3750, 10000)"
      ]
     },
     "execution_count": 15,
     "metadata": {
      "tags": []
     },
     "output_type": "execute_result"
    }
   ],
   "source": [
    "data_xtrain=pd.read_csv('train_data.csv', header = None)\n",
    "data_xtrain.shape"
   ]
  },
  {
   "cell_type": "code",
   "execution_count": 16,
   "metadata": {
    "colab": {
     "base_uri": "https://localhost:8080/",
     "height": 244
    },
    "colab_type": "code",
    "id": "CSllgbbQiCxH",
    "outputId": "ba1f21ff-c26a-4e47-913b-098294eba1d7"
   },
   "outputs": [
    {
     "data": {
      "text/html": [
       "<div>\n",
       "<style scoped>\n",
       "    .dataframe tbody tr th:only-of-type {\n",
       "        vertical-align: middle;\n",
       "    }\n",
       "\n",
       "    .dataframe tbody tr th {\n",
       "        vertical-align: top;\n",
       "    }\n",
       "\n",
       "    .dataframe thead th {\n",
       "        text-align: right;\n",
       "    }\n",
       "</style>\n",
       "<table border=\"1\" class=\"dataframe\">\n",
       "  <thead>\n",
       "    <tr style=\"text-align: right;\">\n",
       "      <th></th>\n",
       "      <th>0</th>\n",
       "      <th>1</th>\n",
       "      <th>2</th>\n",
       "      <th>3</th>\n",
       "      <th>4</th>\n",
       "      <th>5</th>\n",
       "      <th>6</th>\n",
       "      <th>7</th>\n",
       "      <th>8</th>\n",
       "      <th>9</th>\n",
       "      <th>10</th>\n",
       "      <th>11</th>\n",
       "      <th>12</th>\n",
       "      <th>13</th>\n",
       "      <th>14</th>\n",
       "      <th>15</th>\n",
       "      <th>16</th>\n",
       "      <th>17</th>\n",
       "      <th>18</th>\n",
       "      <th>19</th>\n",
       "      <th>20</th>\n",
       "      <th>21</th>\n",
       "      <th>22</th>\n",
       "      <th>23</th>\n",
       "      <th>24</th>\n",
       "      <th>25</th>\n",
       "      <th>26</th>\n",
       "      <th>27</th>\n",
       "      <th>28</th>\n",
       "      <th>29</th>\n",
       "      <th>30</th>\n",
       "      <th>31</th>\n",
       "      <th>32</th>\n",
       "      <th>33</th>\n",
       "      <th>34</th>\n",
       "      <th>35</th>\n",
       "      <th>36</th>\n",
       "      <th>37</th>\n",
       "      <th>38</th>\n",
       "      <th>39</th>\n",
       "      <th>...</th>\n",
       "      <th>9960</th>\n",
       "      <th>9961</th>\n",
       "      <th>9962</th>\n",
       "      <th>9963</th>\n",
       "      <th>9964</th>\n",
       "      <th>9965</th>\n",
       "      <th>9966</th>\n",
       "      <th>9967</th>\n",
       "      <th>9968</th>\n",
       "      <th>9969</th>\n",
       "      <th>9970</th>\n",
       "      <th>9971</th>\n",
       "      <th>9972</th>\n",
       "      <th>9973</th>\n",
       "      <th>9974</th>\n",
       "      <th>9975</th>\n",
       "      <th>9976</th>\n",
       "      <th>9977</th>\n",
       "      <th>9978</th>\n",
       "      <th>9979</th>\n",
       "      <th>9980</th>\n",
       "      <th>9981</th>\n",
       "      <th>9982</th>\n",
       "      <th>9983</th>\n",
       "      <th>9984</th>\n",
       "      <th>9985</th>\n",
       "      <th>9986</th>\n",
       "      <th>9987</th>\n",
       "      <th>9988</th>\n",
       "      <th>9989</th>\n",
       "      <th>9990</th>\n",
       "      <th>9991</th>\n",
       "      <th>9992</th>\n",
       "      <th>9993</th>\n",
       "      <th>9994</th>\n",
       "      <th>9995</th>\n",
       "      <th>9996</th>\n",
       "      <th>9997</th>\n",
       "      <th>9998</th>\n",
       "      <th>9999</th>\n",
       "    </tr>\n",
       "  </thead>\n",
       "  <tbody>\n",
       "    <tr>\n",
       "      <th>0</th>\n",
       "      <td>-241.198</td>\n",
       "      <td>-168.099</td>\n",
       "      <td>45470.273</td>\n",
       "      <td>30424.020</td>\n",
       "      <td>-5874.327</td>\n",
       "      <td>1013.082</td>\n",
       "      <td>918.979</td>\n",
       "      <td>184.197</td>\n",
       "      <td>51.221</td>\n",
       "      <td>112.268</td>\n",
       "      <td>-244.399</td>\n",
       "      <td>-457.158</td>\n",
       "      <td>869.094</td>\n",
       "      <td>-517.994</td>\n",
       "      <td>-291.329</td>\n",
       "      <td>-196.154</td>\n",
       "      <td>-167.077</td>\n",
       "      <td>-27.816</td>\n",
       "      <td>437.217</td>\n",
       "      <td>123.120</td>\n",
       "      <td>-384.783</td>\n",
       "      <td>-71.243</td>\n",
       "      <td>-91.678</td>\n",
       "      <td>1363.318</td>\n",
       "      <td>625.675</td>\n",
       "      <td>44.392</td>\n",
       "      <td>-365.473</td>\n",
       "      <td>119.070</td>\n",
       "      <td>419.734</td>\n",
       "      <td>593.822</td>\n",
       "      <td>375.660</td>\n",
       "      <td>1088.867</td>\n",
       "      <td>-1944.261</td>\n",
       "      <td>1069.427</td>\n",
       "      <td>28.277</td>\n",
       "      <td>-380.301</td>\n",
       "      <td>-364.577</td>\n",
       "      <td>87.772</td>\n",
       "      <td>31.810</td>\n",
       "      <td>25.527</td>\n",
       "      <td>...</td>\n",
       "      <td>-72.293</td>\n",
       "      <td>-485.257</td>\n",
       "      <td>547.978</td>\n",
       "      <td>899.011</td>\n",
       "      <td>-186.202</td>\n",
       "      <td>199.484</td>\n",
       "      <td>-705.381</td>\n",
       "      <td>-382.742</td>\n",
       "      <td>673.784</td>\n",
       "      <td>-86.990</td>\n",
       "      <td>-308.528</td>\n",
       "      <td>-636.889</td>\n",
       "      <td>-150.116</td>\n",
       "      <td>66.660</td>\n",
       "      <td>-240.948</td>\n",
       "      <td>405.780</td>\n",
       "      <td>-602.900</td>\n",
       "      <td>772.982</td>\n",
       "      <td>102.457</td>\n",
       "      <td>304.334</td>\n",
       "      <td>-694.879</td>\n",
       "      <td>877.912</td>\n",
       "      <td>26.977</td>\n",
       "      <td>268.859</td>\n",
       "      <td>-547.718</td>\n",
       "      <td>132.609</td>\n",
       "      <td>669.752</td>\n",
       "      <td>153.452</td>\n",
       "      <td>562.652</td>\n",
       "      <td>466.914</td>\n",
       "      <td>876.613</td>\n",
       "      <td>-274.944</td>\n",
       "      <td>161.189</td>\n",
       "      <td>104.710</td>\n",
       "      <td>-280.935</td>\n",
       "      <td>142.168</td>\n",
       "      <td>286.835</td>\n",
       "      <td>-1104.100</td>\n",
       "      <td>442.708</td>\n",
       "      <td>-443.516</td>\n",
       "    </tr>\n",
       "    <tr>\n",
       "      <th>1</th>\n",
       "      <td>228.546</td>\n",
       "      <td>289.306</td>\n",
       "      <td>66640.366</td>\n",
       "      <td>-22066.452</td>\n",
       "      <td>-5081.047</td>\n",
       "      <td>-553.859</td>\n",
       "      <td>54.748</td>\n",
       "      <td>-259.886</td>\n",
       "      <td>700.059</td>\n",
       "      <td>-224.882</td>\n",
       "      <td>-833.846</td>\n",
       "      <td>-5.134</td>\n",
       "      <td>-340.258</td>\n",
       "      <td>-549.360</td>\n",
       "      <td>-1231.971</td>\n",
       "      <td>-1406.476</td>\n",
       "      <td>314.254</td>\n",
       "      <td>71.723</td>\n",
       "      <td>259.902</td>\n",
       "      <td>-613.858</td>\n",
       "      <td>202.889</td>\n",
       "      <td>99.320</td>\n",
       "      <td>624.450</td>\n",
       "      <td>-585.048</td>\n",
       "      <td>-871.761</td>\n",
       "      <td>-378.382</td>\n",
       "      <td>-587.081</td>\n",
       "      <td>69.833</td>\n",
       "      <td>-58.610</td>\n",
       "      <td>-189.162</td>\n",
       "      <td>821.744</td>\n",
       "      <td>335.268</td>\n",
       "      <td>1202.380</td>\n",
       "      <td>490.959</td>\n",
       "      <td>47.437</td>\n",
       "      <td>-157.055</td>\n",
       "      <td>121.950</td>\n",
       "      <td>-1161.531</td>\n",
       "      <td>240.342</td>\n",
       "      <td>534.563</td>\n",
       "      <td>...</td>\n",
       "      <td>-502.342</td>\n",
       "      <td>44.742</td>\n",
       "      <td>492.836</td>\n",
       "      <td>17.423</td>\n",
       "      <td>296.432</td>\n",
       "      <td>431.845</td>\n",
       "      <td>354.484</td>\n",
       "      <td>41.753</td>\n",
       "      <td>-620.726</td>\n",
       "      <td>-150.793</td>\n",
       "      <td>154.983</td>\n",
       "      <td>-380.307</td>\n",
       "      <td>213.491</td>\n",
       "      <td>71.547</td>\n",
       "      <td>1124.721</td>\n",
       "      <td>21.715</td>\n",
       "      <td>-139.252</td>\n",
       "      <td>-1993.349</td>\n",
       "      <td>564.371</td>\n",
       "      <td>162.329</td>\n",
       "      <td>-204.679</td>\n",
       "      <td>-839.953</td>\n",
       "      <td>-46.967</td>\n",
       "      <td>681.524</td>\n",
       "      <td>445.038</td>\n",
       "      <td>-343.589</td>\n",
       "      <td>-328.525</td>\n",
       "      <td>381.987</td>\n",
       "      <td>-52.655</td>\n",
       "      <td>680.458</td>\n",
       "      <td>-876.383</td>\n",
       "      <td>-131.391</td>\n",
       "      <td>-48.409</td>\n",
       "      <td>-871.772</td>\n",
       "      <td>359.426</td>\n",
       "      <td>180.664</td>\n",
       "      <td>-440.039</td>\n",
       "      <td>-389.094</td>\n",
       "      <td>-112.745</td>\n",
       "      <td>783.364</td>\n",
       "    </tr>\n",
       "    <tr>\n",
       "      <th>2</th>\n",
       "      <td>128.574</td>\n",
       "      <td>276.969</td>\n",
       "      <td>19999.039</td>\n",
       "      <td>3833.398</td>\n",
       "      <td>5521.201</td>\n",
       "      <td>482.558</td>\n",
       "      <td>150.099</td>\n",
       "      <td>543.915</td>\n",
       "      <td>485.702</td>\n",
       "      <td>-237.148</td>\n",
       "      <td>-266.686</td>\n",
       "      <td>244.143</td>\n",
       "      <td>-19.762</td>\n",
       "      <td>745.768</td>\n",
       "      <td>-48.414</td>\n",
       "      <td>824.685</td>\n",
       "      <td>-197.186</td>\n",
       "      <td>-452.131</td>\n",
       "      <td>54.208</td>\n",
       "      <td>-500.395</td>\n",
       "      <td>-143.254</td>\n",
       "      <td>-59.577</td>\n",
       "      <td>-170.962</td>\n",
       "      <td>1032.484</td>\n",
       "      <td>422.922</td>\n",
       "      <td>-424.877</td>\n",
       "      <td>42.568</td>\n",
       "      <td>265.905</td>\n",
       "      <td>12.464</td>\n",
       "      <td>717.593</td>\n",
       "      <td>698.722</td>\n",
       "      <td>-125.546</td>\n",
       "      <td>-136.519</td>\n",
       "      <td>-19.501</td>\n",
       "      <td>214.881</td>\n",
       "      <td>292.913</td>\n",
       "      <td>-172.943</td>\n",
       "      <td>-834.864</td>\n",
       "      <td>177.320</td>\n",
       "      <td>-185.246</td>\n",
       "      <td>...</td>\n",
       "      <td>182.999</td>\n",
       "      <td>-0.198</td>\n",
       "      <td>-434.778</td>\n",
       "      <td>-803.558</td>\n",
       "      <td>374.920</td>\n",
       "      <td>214.181</td>\n",
       "      <td>-331.462</td>\n",
       "      <td>348.973</td>\n",
       "      <td>-41.899</td>\n",
       "      <td>202.775</td>\n",
       "      <td>619.388</td>\n",
       "      <td>-939.192</td>\n",
       "      <td>-1164.311</td>\n",
       "      <td>583.168</td>\n",
       "      <td>-16.773</td>\n",
       "      <td>227.725</td>\n",
       "      <td>-13.186</td>\n",
       "      <td>1296.095</td>\n",
       "      <td>-315.042</td>\n",
       "      <td>-517.854</td>\n",
       "      <td>-351.766</td>\n",
       "      <td>-1.725</td>\n",
       "      <td>5.475</td>\n",
       "      <td>91.896</td>\n",
       "      <td>-126.459</td>\n",
       "      <td>505.028</td>\n",
       "      <td>-275.899</td>\n",
       "      <td>-127.695</td>\n",
       "      <td>-264.891</td>\n",
       "      <td>-854.654</td>\n",
       "      <td>1142.136</td>\n",
       "      <td>-27.107</td>\n",
       "      <td>58.940</td>\n",
       "      <td>-1093.859</td>\n",
       "      <td>-912.443</td>\n",
       "      <td>350.579</td>\n",
       "      <td>374.715</td>\n",
       "      <td>206.126</td>\n",
       "      <td>1344.780</td>\n",
       "      <td>475.398</td>\n",
       "    </tr>\n",
       "    <tr>\n",
       "      <th>3</th>\n",
       "      <td>-6.458</td>\n",
       "      <td>54.470</td>\n",
       "      <td>18806.522</td>\n",
       "      <td>11277.931</td>\n",
       "      <td>-60341.532</td>\n",
       "      <td>-315.243</td>\n",
       "      <td>-214.489</td>\n",
       "      <td>45.202</td>\n",
       "      <td>-22.297</td>\n",
       "      <td>-185.386</td>\n",
       "      <td>80.745</td>\n",
       "      <td>-467.267</td>\n",
       "      <td>9.579</td>\n",
       "      <td>-761.308</td>\n",
       "      <td>362.520</td>\n",
       "      <td>-631.227</td>\n",
       "      <td>-62.471</td>\n",
       "      <td>279.298</td>\n",
       "      <td>-50.690</td>\n",
       "      <td>395.598</td>\n",
       "      <td>-42.359</td>\n",
       "      <td>132.386</td>\n",
       "      <td>-340.861</td>\n",
       "      <td>14.366</td>\n",
       "      <td>930.948</td>\n",
       "      <td>464.484</td>\n",
       "      <td>712.147</td>\n",
       "      <td>-614.320</td>\n",
       "      <td>-142.757</td>\n",
       "      <td>-286.561</td>\n",
       "      <td>-12.298</td>\n",
       "      <td>19.390</td>\n",
       "      <td>-961.761</td>\n",
       "      <td>-462.679</td>\n",
       "      <td>-29.975</td>\n",
       "      <td>-805.047</td>\n",
       "      <td>-653.311</td>\n",
       "      <td>776.557</td>\n",
       "      <td>-211.997</td>\n",
       "      <td>99.035</td>\n",
       "      <td>...</td>\n",
       "      <td>767.449</td>\n",
       "      <td>158.939</td>\n",
       "      <td>385.056</td>\n",
       "      <td>-1133.030</td>\n",
       "      <td>479.352</td>\n",
       "      <td>-468.293</td>\n",
       "      <td>-550.776</td>\n",
       "      <td>-521.635</td>\n",
       "      <td>-316.169</td>\n",
       "      <td>-294.841</td>\n",
       "      <td>162.121</td>\n",
       "      <td>571.599</td>\n",
       "      <td>1528.905</td>\n",
       "      <td>315.277</td>\n",
       "      <td>574.421</td>\n",
       "      <td>-244.816</td>\n",
       "      <td>319.820</td>\n",
       "      <td>1733.410</td>\n",
       "      <td>-143.594</td>\n",
       "      <td>-126.256</td>\n",
       "      <td>-776.705</td>\n",
       "      <td>-492.850</td>\n",
       "      <td>-46.931</td>\n",
       "      <td>514.795</td>\n",
       "      <td>333.280</td>\n",
       "      <td>111.545</td>\n",
       "      <td>-414.365</td>\n",
       "      <td>-1541.874</td>\n",
       "      <td>452.893</td>\n",
       "      <td>1214.040</td>\n",
       "      <td>-660.190</td>\n",
       "      <td>257.320</td>\n",
       "      <td>-104.424</td>\n",
       "      <td>-1183.014</td>\n",
       "      <td>1012.996</td>\n",
       "      <td>157.763</td>\n",
       "      <td>87.025</td>\n",
       "      <td>-924.071</td>\n",
       "      <td>-1295.756</td>\n",
       "      <td>1047.525</td>\n",
       "    </tr>\n",
       "    <tr>\n",
       "      <th>4</th>\n",
       "      <td>161.241</td>\n",
       "      <td>-656.679</td>\n",
       "      <td>-100408.696</td>\n",
       "      <td>-81928.635</td>\n",
       "      <td>27426.780</td>\n",
       "      <td>-510.462</td>\n",
       "      <td>1131.959</td>\n",
       "      <td>-238.869</td>\n",
       "      <td>-253.697</td>\n",
       "      <td>96.306</td>\n",
       "      <td>638.759</td>\n",
       "      <td>-1198.249</td>\n",
       "      <td>191.493</td>\n",
       "      <td>-742.757</td>\n",
       "      <td>-1189.571</td>\n",
       "      <td>1000.301</td>\n",
       "      <td>-660.766</td>\n",
       "      <td>-352.509</td>\n",
       "      <td>317.120</td>\n",
       "      <td>199.280</td>\n",
       "      <td>-308.604</td>\n",
       "      <td>-17.155</td>\n",
       "      <td>-1057.989</td>\n",
       "      <td>-108.676</td>\n",
       "      <td>153.674</td>\n",
       "      <td>-382.000</td>\n",
       "      <td>877.420</td>\n",
       "      <td>-464.820</td>\n",
       "      <td>-111.868</td>\n",
       "      <td>943.200</td>\n",
       "      <td>-621.364</td>\n",
       "      <td>-154.404</td>\n",
       "      <td>241.940</td>\n",
       "      <td>-190.704</td>\n",
       "      <td>382.622</td>\n",
       "      <td>-419.349</td>\n",
       "      <td>-456.030</td>\n",
       "      <td>-279.778</td>\n",
       "      <td>-102.933</td>\n",
       "      <td>532.824</td>\n",
       "      <td>...</td>\n",
       "      <td>-140.069</td>\n",
       "      <td>184.970</td>\n",
       "      <td>536.073</td>\n",
       "      <td>-313.084</td>\n",
       "      <td>-43.836</td>\n",
       "      <td>-528.367</td>\n",
       "      <td>286.620</td>\n",
       "      <td>385.338</td>\n",
       "      <td>-1006.553</td>\n",
       "      <td>164.166</td>\n",
       "      <td>-113.657</td>\n",
       "      <td>797.984</td>\n",
       "      <td>-397.638</td>\n",
       "      <td>-34.249</td>\n",
       "      <td>91.596</td>\n",
       "      <td>-269.991</td>\n",
       "      <td>51.925</td>\n",
       "      <td>-1047.156</td>\n",
       "      <td>-403.573</td>\n",
       "      <td>-175.156</td>\n",
       "      <td>-517.952</td>\n",
       "      <td>943.573</td>\n",
       "      <td>385.754</td>\n",
       "      <td>-270.242</td>\n",
       "      <td>187.314</td>\n",
       "      <td>463.255</td>\n",
       "      <td>-146.799</td>\n",
       "      <td>-544.981</td>\n",
       "      <td>124.936</td>\n",
       "      <td>-105.039</td>\n",
       "      <td>-1904.939</td>\n",
       "      <td>-98.083</td>\n",
       "      <td>-94.512</td>\n",
       "      <td>2215.710</td>\n",
       "      <td>476.187</td>\n",
       "      <td>-594.739</td>\n",
       "      <td>-137.546</td>\n",
       "      <td>547.996</td>\n",
       "      <td>-133.822</td>\n",
       "      <td>-937.346</td>\n",
       "    </tr>\n",
       "  </tbody>\n",
       "</table>\n",
       "<p>5 rows × 10000 columns</p>\n",
       "</div>"
      ],
      "text/plain": [
       "      0        1           2     ...      9997      9998      9999\n",
       "0 -241.198 -168.099   45470.273  ... -1104.100   442.708  -443.516\n",
       "1  228.546  289.306   66640.366  ...  -389.094  -112.745   783.364\n",
       "2  128.574  276.969   19999.039  ...   206.126  1344.780   475.398\n",
       "3   -6.458   54.470   18806.522  ...  -924.071 -1295.756  1047.525\n",
       "4  161.241 -656.679 -100408.696  ...   547.996  -133.822  -937.346\n",
       "\n",
       "[5 rows x 10000 columns]"
      ]
     },
     "execution_count": 16,
     "metadata": {
      "tags": []
     },
     "output_type": "execute_result"
    }
   ],
   "source": [
    "data_xtrain.head()"
   ]
  },
  {
   "cell_type": "markdown",
   "metadata": {
    "colab_type": "text",
    "id": "opwbS1C5Cj9c"
   },
   "source": [
    "Checking if there is a timestamp"
   ]
  },
  {
   "cell_type": "code",
   "execution_count": 17,
   "metadata": {
    "colab": {},
    "colab_type": "code",
    "id": "mSKS--d7CLrX"
   },
   "outputs": [],
   "source": [
    "#import datetime\n",
    "#data_xtrain.date = pd.to_datetime(data_xtrain.date)\n",
    "#if (data_xtrain.date == pd.Timestamp(\"2010-03-01 00:00:00\")).any():\n",
    "#    print ('timestamp exists in columns')"
   ]
  },
  {
   "cell_type": "code",
   "execution_count": 7,
   "metadata": {
    "colab": {
     "base_uri": "https://localhost:8080/",
     "height": 34
    },
    "colab_type": "code",
    "id": "hEUwK2JdiCxK",
    "outputId": "962c5614-b525-44db-dacc-49466f654062"
   },
   "outputs": [
    {
     "data": {
      "text/plain": [
       "(1249, 10000)"
      ]
     },
     "execution_count": 7,
     "metadata": {
      "tags": []
     },
     "output_type": "execute_result"
    }
   ],
   "source": [
    "data_xtest=pd.read_csv('test_data.csv')\n",
    "data_xtest.shape"
   ]
  },
  {
   "cell_type": "code",
   "execution_count": 8,
   "metadata": {
    "colab": {
     "base_uri": "https://localhost:8080/",
     "height": 34
    },
    "colab_type": "code",
    "id": "N7c3hqKgiCxN",
    "outputId": "73b6ebd5-ac55-495b-a33f-facc16131453"
   },
   "outputs": [
    {
     "data": {
      "text/plain": [
       "(3750, 1)"
      ]
     },
     "execution_count": 8,
     "metadata": {
      "tags": []
     },
     "output_type": "execute_result"
    }
   ],
   "source": [
    "data_ytrain=pd.read_csv('train_labels.csv',header = None)\n",
    "data_ytrain.columns = [\"labels\"]\n",
    "data_ytrain.shape"
   ]
  },
  {
   "cell_type": "code",
   "execution_count": 9,
   "metadata": {
    "colab": {
     "base_uri": "https://localhost:8080/",
     "height": 195
    },
    "colab_type": "code",
    "id": "g2SVWW_tiCxP",
    "outputId": "295894ba-f8d1-4778-d0af-e220b9f94b58"
   },
   "outputs": [
    {
     "data": {
      "text/html": [
       "<div>\n",
       "<style scoped>\n",
       "    .dataframe tbody tr th:only-of-type {\n",
       "        vertical-align: middle;\n",
       "    }\n",
       "\n",
       "    .dataframe tbody tr th {\n",
       "        vertical-align: top;\n",
       "    }\n",
       "\n",
       "    .dataframe thead th {\n",
       "        text-align: right;\n",
       "    }\n",
       "</style>\n",
       "<table border=\"1\" class=\"dataframe\">\n",
       "  <thead>\n",
       "    <tr style=\"text-align: right;\">\n",
       "      <th></th>\n",
       "      <th>labels</th>\n",
       "    </tr>\n",
       "  </thead>\n",
       "  <tbody>\n",
       "    <tr>\n",
       "      <th>0</th>\n",
       "      <td>1</td>\n",
       "    </tr>\n",
       "    <tr>\n",
       "      <th>1</th>\n",
       "      <td>1</td>\n",
       "    </tr>\n",
       "    <tr>\n",
       "      <th>2</th>\n",
       "      <td>1</td>\n",
       "    </tr>\n",
       "    <tr>\n",
       "      <th>3</th>\n",
       "      <td>1</td>\n",
       "    </tr>\n",
       "    <tr>\n",
       "      <th>4</th>\n",
       "      <td>1</td>\n",
       "    </tr>\n",
       "  </tbody>\n",
       "</table>\n",
       "</div>"
      ],
      "text/plain": [
       "   labels\n",
       "0       1\n",
       "1       1\n",
       "2       1\n",
       "3       1\n",
       "4       1"
      ]
     },
     "execution_count": 9,
     "metadata": {
      "tags": []
     },
     "output_type": "execute_result"
    }
   ],
   "source": [
    "data_ytrain.head()"
   ]
  },
  {
   "cell_type": "code",
   "execution_count": 10,
   "metadata": {
    "colab": {},
    "colab_type": "code",
    "id": "Q8NgCq31BeOx"
   },
   "outputs": [],
   "source": [
    "# replace -1 with 0. I like it more\n",
    "data_ytrain = data_ytrain.replace(-1, 0)"
   ]
  },
  {
   "cell_type": "code",
   "execution_count": 11,
   "metadata": {
    "colab": {
     "base_uri": "https://localhost:8080/",
     "height": 67
    },
    "colab_type": "code",
    "id": "l7NXdmoOiCxR",
    "outputId": "6a230c30-63c0-4f5b-cfed-a20c23a30c87"
   },
   "outputs": [
    {
     "data": {
      "text/plain": [
       "1    3372\n",
       "0     378\n",
       "Name: labels, dtype: int64"
      ]
     },
     "execution_count": 11,
     "metadata": {
      "tags": []
     },
     "output_type": "execute_result"
    }
   ],
   "source": [
    "data_ytrain.labels.value_counts()"
   ]
  },
  {
   "cell_type": "code",
   "execution_count": 12,
   "metadata": {
    "colab": {
     "base_uri": "https://localhost:8080/",
     "height": 67
    },
    "colab_type": "code",
    "id": "HeRw5_n8iCxU",
    "outputId": "dc1a5d75-d180-4871-b8d3-e915ff1938a1"
   },
   "outputs": [
    {
     "data": {
      "text/plain": [
       "1    0.8992\n",
       "0    0.1008\n",
       "Name: labels, dtype: float64"
      ]
     },
     "execution_count": 12,
     "metadata": {
      "tags": []
     },
     "output_type": "execute_result"
    }
   ],
   "source": [
    "data_ytrain.labels.value_counts(normalize=True)"
   ]
  },
  {
   "cell_type": "code",
   "execution_count": 13,
   "metadata": {
    "colab": {
     "base_uri": "https://localhost:8080/",
     "height": 280
    },
    "colab_type": "code",
    "id": "hykSp5ktiCxX",
    "outputId": "cae94234-c14b-4714-ea01-84cb5b2e9ef0"
   },
   "outputs": [
    {
     "data": {
      "text/plain": [
       "<matplotlib.axes._subplots.AxesSubplot at 0x7f6712886710>"
      ]
     },
     "execution_count": 13,
     "metadata": {
      "tags": []
     },
     "output_type": "execute_result"
    },
    {
     "data": {
      "image/png": "[encoded data removed]",
      "text/plain": [
       "<Figure size 432x288 with 1 Axes>"
      ]
     },
     "metadata": {
      "needs_background": "light",
      "tags": []
     },
     "output_type": "display_data"
    }
   ],
   "source": [
    "data_ytrain['labels'].value_counts().plot(kind='bar')"
   ]
  },
  {
   "cell_type": "markdown",
   "metadata": {
    "colab_type": "text",
    "id": "Dn1VUdNjiCxZ"
   },
   "source": [
    "**There is a class imbalance. It will be challenging to create a model that will do as good prediction for class 0 as for class 1. Since class 1 has frequency of almost 90%.**"
   ]
  },
  {
   "cell_type": "code",
   "execution_count": 14,
   "metadata": {
    "colab": {
     "base_uri": "https://localhost:8080/",
     "height": 34
    },
    "colab_type": "code",
    "id": "6qPUODbBiCxa",
    "outputId": "4ac526bb-da2e-4d6a-ee24-4cbcc51e3c28"
   },
   "outputs": [
    {
     "data": {
      "text/plain": [
       "(3750,)"
      ]
     },
     "execution_count": 14,
     "metadata": {
      "tags": []
     },
     "output_type": "execute_result"
    }
   ],
   "source": [
    "y=data_ytrain.labels\n",
    "y.shape"
   ]
  },
  {
   "cell_type": "markdown",
   "metadata": {
    "colab_type": "text",
    "id": "wfPc8EUViCxc"
   },
   "source": [
    "# 3)-Preprocessing Data\n",
    "-  Cleaning\n",
    "-  Transformation\n",
    "-  Reduction by PCA"
   ]
  },
  {
   "cell_type": "markdown",
   "metadata": {
    "colab_type": "text",
    "id": "UPSO-pDUiCxc"
   },
   "source": [
    "### 3.1 Cleaning \n",
    "\n",
    "checking null values"
   ]
  },
  {
   "cell_type": "code",
   "execution_count": 18,
   "metadata": {
    "colab": {
     "base_uri": "https://localhost:8080/",
     "height": 218
    },
    "colab_type": "code",
    "id": "LKyNHBrSiCxd",
    "outputId": "dc8bcb1b-f720-4eb1-aac3-72bce45618f5"
   },
   "outputs": [
    {
     "data": {
      "text/plain": [
       "0       0\n",
       "1       0\n",
       "2       0\n",
       "3       0\n",
       "4       0\n",
       "       ..\n",
       "9995    0\n",
       "9996    0\n",
       "9997    0\n",
       "9998    0\n",
       "9999    0\n",
       "Length: 10000, dtype: int64"
      ]
     },
     "execution_count": 18,
     "metadata": {
      "tags": []
     },
     "output_type": "execute_result"
    }
   ],
   "source": [
    "data_xtrain.isnull().sum()"
   ]
  },
  {
   "cell_type": "code",
   "execution_count": 19,
   "metadata": {
    "colab": {
     "base_uri": "https://localhost:8080/",
     "height": 34
    },
    "colab_type": "code",
    "id": "NrI9pvGaiCxf",
    "outputId": "a855e484-8559-4134-eaca-99d493564c1a"
   },
   "outputs": [
    {
     "data": {
      "text/plain": [
       "False"
      ]
     },
     "execution_count": 19,
     "metadata": {
      "tags": []
     },
     "output_type": "execute_result"
    }
   ],
   "source": [
    "# Checking rows now\n",
    "#check if any NaN values\n",
    "data_xtrain.isnull().values.any()"
   ]
  },
  {
   "cell_type": "code",
   "execution_count": 20,
   "metadata": {
    "colab": {
     "base_uri": "https://localhost:8080/",
     "height": 34
    },
    "colab_type": "code",
    "id": "qf0RY5jIiCxh",
    "outputId": "ced2ea59-512f-4ebd-806e-aad4c5e5188e"
   },
   "outputs": [
    {
     "data": {
      "text/plain": [
       "False"
      ]
     },
     "execution_count": 20,
     "metadata": {
      "tags": []
     },
     "output_type": "execute_result"
    }
   ],
   "source": [
    "data_ytrain.isnull().values.any()"
   ]
  },
  {
   "cell_type": "code",
   "execution_count": 21,
   "metadata": {
    "colab": {
     "base_uri": "https://localhost:8080/",
     "height": 34
    },
    "colab_type": "code",
    "id": "pY2ROP1MiCxk",
    "outputId": "1ffc2403-6cf8-4f6f-db60-5ea6bde46ee8"
   },
   "outputs": [
    {
     "data": {
      "text/plain": [
       "False"
      ]
     },
     "execution_count": 21,
     "metadata": {
      "tags": []
     },
     "output_type": "execute_result"
    }
   ],
   "source": [
    "data_xtest.isnull().values.any()"
   ]
  },
  {
   "cell_type": "markdown",
   "metadata": {
    "colab_type": "text",
    "id": "L79UI6yYiCxl"
   },
   "source": [
    "### 3.2)-Transformation\n",
    "Normalize data"
   ]
  },
  {
   "cell_type": "code",
   "execution_count": 22,
   "metadata": {
    "colab": {},
    "colab_type": "code",
    "id": "WuqMBs3ziCxm"
   },
   "outputs": [],
   "source": [
    "from sklearn.preprocessing import StandardScaler\n",
    "X = StandardScaler().fit_transform(data_xtrain) "
   ]
  },
  {
   "cell_type": "code",
   "execution_count": 23,
   "metadata": {
    "colab": {
     "base_uri": "https://localhost:8080/",
     "height": 34
    },
    "colab_type": "code",
    "id": "A-XR16uaiCxo",
    "outputId": "d99a6d14-e2ec-4770-c44a-5a6de0ccefde"
   },
   "outputs": [
    {
     "data": {
      "text/plain": [
       "(3750, 10000)"
      ]
     },
     "execution_count": 23,
     "metadata": {
      "tags": []
     },
     "output_type": "execute_result"
    }
   ],
   "source": [
    "X.shape"
   ]
  },
  {
   "cell_type": "code",
   "execution_count": 24,
   "metadata": {
    "colab": {
     "base_uri": "https://localhost:8080/",
     "height": 34
    },
    "colab_type": "code",
    "id": "3Gsuvd_5iCxq",
    "outputId": "9f1a06e2-df75-47aa-8088-40c795441906"
   },
   "outputs": [
    {
     "data": {
      "text/plain": [
       "numpy.ndarray"
      ]
     },
     "execution_count": 24,
     "metadata": {
      "tags": []
     },
     "output_type": "execute_result"
    }
   ],
   "source": [
    "type(X)"
   ]
  },
  {
   "cell_type": "code",
   "execution_count": 25,
   "metadata": {
    "colab": {
     "base_uri": "https://localhost:8080/",
     "height": 34
    },
    "colab_type": "code",
    "id": "qREf5MyKiCxs",
    "outputId": "e8b1fbbd-7746-40da-ba84-3d07d281a9bc"
   },
   "outputs": [
    {
     "data": {
      "text/plain": [
       "(7.579122514774402e-22, 1.0000000000000009)"
      ]
     },
     "execution_count": 25,
     "metadata": {
      "tags": []
     },
     "output_type": "execute_result"
    }
   ],
   "source": [
    "np.mean(X),np.std(X)"
   ]
  },
  {
   "cell_type": "code",
   "execution_count": 26,
   "metadata": {
    "colab": {},
    "colab_type": "code",
    "id": "iMq02dyZiCxu"
   },
   "outputs": [],
   "source": [
    "feat_cols = ['feature'+str(i) for i in range(X.shape[1])]"
   ]
  },
  {
   "cell_type": "code",
   "execution_count": 27,
   "metadata": {
    "colab": {},
    "colab_type": "code",
    "id": "DhnEihwJiCxw"
   },
   "outputs": [],
   "source": [
    "normalised_X = pd.DataFrame(X,columns=feat_cols)"
   ]
  },
  {
   "cell_type": "code",
   "execution_count": 28,
   "metadata": {
    "colab": {
     "base_uri": "https://localhost:8080/",
     "height": 244
    },
    "colab_type": "code",
    "id": "-OsBw3mwiCxy",
    "outputId": "5c83f95c-2292-4973-b134-09b24bcd302d"
   },
   "outputs": [
    {
     "data": {
      "text/html": [
       "<div>\n",
       "<style scoped>\n",
       "    .dataframe tbody tr th:only-of-type {\n",
       "        vertical-align: middle;\n",
       "    }\n",
       "\n",
       "    .dataframe tbody tr th {\n",
       "        vertical-align: top;\n",
       "    }\n",
       "\n",
       "    .dataframe thead th {\n",
       "        text-align: right;\n",
       "    }\n",
       "</style>\n",
       "<table border=\"1\" class=\"dataframe\">\n",
       "  <thead>\n",
       "    <tr style=\"text-align: right;\">\n",
       "      <th></th>\n",
       "      <th>feature0</th>\n",
       "      <th>feature1</th>\n",
       "      <th>feature2</th>\n",
       "      <th>feature3</th>\n",
       "      <th>feature4</th>\n",
       "      <th>feature5</th>\n",
       "      <th>feature6</th>\n",
       "      <th>feature7</th>\n",
       "      <th>feature8</th>\n",
       "      <th>feature9</th>\n",
       "      <th>feature10</th>\n",
       "      <th>feature11</th>\n",
       "      <th>feature12</th>\n",
       "      <th>feature13</th>\n",
       "      <th>feature14</th>\n",
       "      <th>feature15</th>\n",
       "      <th>feature16</th>\n",
       "      <th>feature17</th>\n",
       "      <th>feature18</th>\n",
       "      <th>feature19</th>\n",
       "      <th>feature20</th>\n",
       "      <th>feature21</th>\n",
       "      <th>feature22</th>\n",
       "      <th>feature23</th>\n",
       "      <th>feature24</th>\n",
       "      <th>feature25</th>\n",
       "      <th>feature26</th>\n",
       "      <th>feature27</th>\n",
       "      <th>feature28</th>\n",
       "      <th>feature29</th>\n",
       "      <th>feature30</th>\n",
       "      <th>feature31</th>\n",
       "      <th>feature32</th>\n",
       "      <th>feature33</th>\n",
       "      <th>feature34</th>\n",
       "      <th>feature35</th>\n",
       "      <th>feature36</th>\n",
       "      <th>feature37</th>\n",
       "      <th>feature38</th>\n",
       "      <th>feature39</th>\n",
       "      <th>...</th>\n",
       "      <th>feature9960</th>\n",
       "      <th>feature9961</th>\n",
       "      <th>feature9962</th>\n",
       "      <th>feature9963</th>\n",
       "      <th>feature9964</th>\n",
       "      <th>feature9965</th>\n",
       "      <th>feature9966</th>\n",
       "      <th>feature9967</th>\n",
       "      <th>feature9968</th>\n",
       "      <th>feature9969</th>\n",
       "      <th>feature9970</th>\n",
       "      <th>feature9971</th>\n",
       "      <th>feature9972</th>\n",
       "      <th>feature9973</th>\n",
       "      <th>feature9974</th>\n",
       "      <th>feature9975</th>\n",
       "      <th>feature9976</th>\n",
       "      <th>feature9977</th>\n",
       "      <th>feature9978</th>\n",
       "      <th>feature9979</th>\n",
       "      <th>feature9980</th>\n",
       "      <th>feature9981</th>\n",
       "      <th>feature9982</th>\n",
       "      <th>feature9983</th>\n",
       "      <th>feature9984</th>\n",
       "      <th>feature9985</th>\n",
       "      <th>feature9986</th>\n",
       "      <th>feature9987</th>\n",
       "      <th>feature9988</th>\n",
       "      <th>feature9989</th>\n",
       "      <th>feature9990</th>\n",
       "      <th>feature9991</th>\n",
       "      <th>feature9992</th>\n",
       "      <th>feature9993</th>\n",
       "      <th>feature9994</th>\n",
       "      <th>feature9995</th>\n",
       "      <th>feature9996</th>\n",
       "      <th>feature9997</th>\n",
       "      <th>feature9998</th>\n",
       "      <th>feature9999</th>\n",
       "    </tr>\n",
       "  </thead>\n",
       "  <tbody>\n",
       "    <tr>\n",
       "      <th>0</th>\n",
       "      <td>-1.135113</td>\n",
       "      <td>-0.293143</td>\n",
       "      <td>0.785253</td>\n",
       "      <td>0.544583</td>\n",
       "      <td>-0.172500</td>\n",
       "      <td>1.243972</td>\n",
       "      <td>1.385623</td>\n",
       "      <td>0.483861</td>\n",
       "      <td>0.069430</td>\n",
       "      <td>0.497459</td>\n",
       "      <td>-0.348071</td>\n",
       "      <td>-0.854943</td>\n",
       "      <td>2.007574</td>\n",
       "      <td>-0.769832</td>\n",
       "      <td>-0.366479</td>\n",
       "      <td>-0.212197</td>\n",
       "      <td>-0.418649</td>\n",
       "      <td>-0.092057</td>\n",
       "      <td>1.436500</td>\n",
       "      <td>0.201098</td>\n",
       "      <td>-1.212320</td>\n",
       "      <td>-0.641749</td>\n",
       "      <td>-0.143974</td>\n",
       "      <td>1.918492</td>\n",
       "      <td>0.675644</td>\n",
       "      <td>0.069268</td>\n",
       "      <td>-0.615003</td>\n",
       "      <td>0.304614</td>\n",
       "      <td>2.556812</td>\n",
       "      <td>0.736935</td>\n",
       "      <td>0.741712</td>\n",
       "      <td>1.564716</td>\n",
       "      <td>-2.096322</td>\n",
       "      <td>1.880033</td>\n",
       "      <td>0.057368</td>\n",
       "      <td>-0.560727</td>\n",
       "      <td>-0.374886</td>\n",
       "      <td>0.078524</td>\n",
       "      <td>0.105613</td>\n",
       "      <td>0.020074</td>\n",
       "      <td>...</td>\n",
       "      <td>-0.105400</td>\n",
       "      <td>-1.574031</td>\n",
       "      <td>0.883410</td>\n",
       "      <td>1.087586</td>\n",
       "      <td>-0.635830</td>\n",
       "      <td>0.562978</td>\n",
       "      <td>-1.068439</td>\n",
       "      <td>-0.435334</td>\n",
       "      <td>1.314565</td>\n",
       "      <td>-0.357382</td>\n",
       "      <td>-0.812409</td>\n",
       "      <td>-0.888574</td>\n",
       "      <td>-0.297448</td>\n",
       "      <td>0.101777</td>\n",
       "      <td>-0.475068</td>\n",
       "      <td>1.430761</td>\n",
       "      <td>-1.676941</td>\n",
       "      <td>0.817071</td>\n",
       "      <td>0.343910</td>\n",
       "      <td>0.892839</td>\n",
       "      <td>-1.031970</td>\n",
       "      <td>1.030782</td>\n",
       "      <td>-0.007833</td>\n",
       "      <td>0.701151</td>\n",
       "      <td>-1.634206</td>\n",
       "      <td>0.338363</td>\n",
       "      <td>1.548172</td>\n",
       "      <td>0.157847</td>\n",
       "      <td>1.633905</td>\n",
       "      <td>0.745380</td>\n",
       "      <td>1.363506</td>\n",
       "      <td>-0.956104</td>\n",
       "      <td>0.728127</td>\n",
       "      <td>0.089789</td>\n",
       "      <td>-0.290556</td>\n",
       "      <td>0.200106</td>\n",
       "      <td>0.973704</td>\n",
       "      <td>-1.721704</td>\n",
       "      <td>0.497074</td>\n",
       "      <td>-0.562462</td>\n",
       "    </tr>\n",
       "    <tr>\n",
       "      <th>1</th>\n",
       "      <td>0.991779</td>\n",
       "      <td>0.412414</td>\n",
       "      <td>1.149773</td>\n",
       "      <td>-0.405239</td>\n",
       "      <td>-0.148500</td>\n",
       "      <td>-0.760365</td>\n",
       "      <td>0.078463</td>\n",
       "      <td>-0.833017</td>\n",
       "      <td>1.180782</td>\n",
       "      <td>-1.323246</td>\n",
       "      <td>-1.136052</td>\n",
       "      <td>-0.026914</td>\n",
       "      <td>-0.842284</td>\n",
       "      <td>-0.815943</td>\n",
       "      <td>-1.405427</td>\n",
       "      <td>-1.462214</td>\n",
       "      <td>0.718656</td>\n",
       "      <td>0.143691</td>\n",
       "      <td>0.824159</td>\n",
       "      <td>-1.158960</td>\n",
       "      <td>0.622531</td>\n",
       "      <td>0.555958</td>\n",
       "      <td>0.849415</td>\n",
       "      <td>-0.816797</td>\n",
       "      <td>-1.013387</td>\n",
       "      <td>-1.040191</td>\n",
       "      <td>-0.979192</td>\n",
       "      <td>0.155385</td>\n",
       "      <td>-0.444739</td>\n",
       "      <td>-0.240001</td>\n",
       "      <td>1.711632</td>\n",
       "      <td>0.456462</td>\n",
       "      <td>1.232940</td>\n",
       "      <td>0.850765</td>\n",
       "      <td>0.140984</td>\n",
       "      <td>-0.224390</td>\n",
       "      <td>0.156106</td>\n",
       "      <td>-1.221700</td>\n",
       "      <td>0.919613</td>\n",
       "      <td>1.153620</td>\n",
       "      <td>...</td>\n",
       "      <td>-0.593871</td>\n",
       "      <td>0.099447</td>\n",
       "      <td>0.794859</td>\n",
       "      <td>-0.001772</td>\n",
       "      <td>0.932152</td>\n",
       "      <td>1.282958</td>\n",
       "      <td>0.528209</td>\n",
       "      <td>0.049503</td>\n",
       "      <td>-1.303667</td>\n",
       "      <td>-0.592752</td>\n",
       "      <td>0.313698</td>\n",
       "      <td>-0.541603</td>\n",
       "      <td>0.347259</td>\n",
       "      <td>0.111163</td>\n",
       "      <td>2.074068</td>\n",
       "      <td>0.083528</td>\n",
       "      <td>-0.421341</td>\n",
       "      <td>-2.291996</td>\n",
       "      <td>2.075191</td>\n",
       "      <td>0.459776</td>\n",
       "      <td>-0.317589</td>\n",
       "      <td>-1.087776</td>\n",
       "      <td>-0.208045</td>\n",
       "      <td>1.846859</td>\n",
       "      <td>1.308299</td>\n",
       "      <td>-0.855675</td>\n",
       "      <td>-0.839503</td>\n",
       "      <td>0.442648</td>\n",
       "      <td>-0.188196</td>\n",
       "      <td>1.096376</td>\n",
       "      <td>-1.322784</td>\n",
       "      <td>-0.483768</td>\n",
       "      <td>-0.342849</td>\n",
       "      <td>-0.941287</td>\n",
       "      <td>0.358770</td>\n",
       "      <td>0.254614</td>\n",
       "      <td>-1.582912</td>\n",
       "      <td>-0.616302</td>\n",
       "      <td>-0.150918</td>\n",
       "      <td>0.967641</td>\n",
       "    </tr>\n",
       "    <tr>\n",
       "      <th>2</th>\n",
       "      <td>0.539129</td>\n",
       "      <td>0.393383</td>\n",
       "      <td>0.346674</td>\n",
       "      <td>0.063422</td>\n",
       "      <td>0.172270</td>\n",
       "      <td>0.565358</td>\n",
       "      <td>0.222682</td>\n",
       "      <td>1.550563</td>\n",
       "      <td>0.813624</td>\n",
       "      <td>-1.389486</td>\n",
       "      <td>-0.377864</td>\n",
       "      <td>0.429718</td>\n",
       "      <td>-0.087030</td>\n",
       "      <td>1.088001</td>\n",
       "      <td>-0.098177</td>\n",
       "      <td>0.842122</td>\n",
       "      <td>-0.489792</td>\n",
       "      <td>-1.097003</td>\n",
       "      <td>0.113815</td>\n",
       "      <td>-0.949569</td>\n",
       "      <td>-0.458209</td>\n",
       "      <td>-0.559829</td>\n",
       "      <td>-0.253954</td>\n",
       "      <td>1.454038</td>\n",
       "      <td>0.446949</td>\n",
       "      <td>-1.162205</td>\n",
       "      <td>0.055567</td>\n",
       "      <td>0.749643</td>\n",
       "      <td>0.001242</td>\n",
       "      <td>0.891365</td>\n",
       "      <td>1.444145</td>\n",
       "      <td>-0.221217</td>\n",
       "      <td>-0.183664</td>\n",
       "      <td>-0.057497</td>\n",
       "      <td>0.871722</td>\n",
       "      <td>0.453522</td>\n",
       "      <td>-0.165738</td>\n",
       "      <td>-0.881718</td>\n",
       "      <td>0.673608</td>\n",
       "      <td>-0.449286</td>\n",
       "      <td>...</td>\n",
       "      <td>0.184573</td>\n",
       "      <td>-0.042451</td>\n",
       "      <td>-0.694773</td>\n",
       "      <td>-1.016239</td>\n",
       "      <td>1.187144</td>\n",
       "      <td>0.608517</td>\n",
       "      <td>-0.505143</td>\n",
       "      <td>0.400394</td>\n",
       "      <td>-0.132951</td>\n",
       "      <td>0.711566</td>\n",
       "      <td>1.441977</td>\n",
       "      <td>-1.297373</td>\n",
       "      <td>-2.095702</td>\n",
       "      <td>1.093776</td>\n",
       "      <td>-0.056627</td>\n",
       "      <td>0.806175</td>\n",
       "      <td>-0.079943</td>\n",
       "      <td>1.404995</td>\n",
       "      <td>-1.220901</td>\n",
       "      <td>-1.614531</td>\n",
       "      <td>-0.531943</td>\n",
       "      <td>-0.054031</td>\n",
       "      <td>-0.066053</td>\n",
       "      <td>0.209837</td>\n",
       "      <td>-0.385604</td>\n",
       "      <td>1.272182</td>\n",
       "      <td>-0.713632</td>\n",
       "      <td>-0.192519</td>\n",
       "      <td>-0.816688</td>\n",
       "      <td>-1.426839</td>\n",
       "      <td>1.770394</td>\n",
       "      <td>-0.140639</td>\n",
       "      <td>0.205668</td>\n",
       "      <td>-1.175791</td>\n",
       "      <td>-0.930905</td>\n",
       "      <td>0.495203</td>\n",
       "      <td>1.282803</td>\n",
       "      <td>0.303910</td>\n",
       "      <td>1.549431</td>\n",
       "      <td>0.583561</td>\n",
       "    </tr>\n",
       "    <tr>\n",
       "      <th>3</th>\n",
       "      <td>-0.072264</td>\n",
       "      <td>0.050174</td>\n",
       "      <td>0.326140</td>\n",
       "      <td>0.198132</td>\n",
       "      <td>-1.820400</td>\n",
       "      <td>-0.455142</td>\n",
       "      <td>-0.328761</td>\n",
       "      <td>0.071687</td>\n",
       "      <td>-0.056494</td>\n",
       "      <td>-1.109957</td>\n",
       "      <td>0.086586</td>\n",
       "      <td>-0.873461</td>\n",
       "      <td>-0.017887</td>\n",
       "      <td>-1.127524</td>\n",
       "      <td>0.355704</td>\n",
       "      <td>-0.661539</td>\n",
       "      <td>-0.171482</td>\n",
       "      <td>0.635310</td>\n",
       "      <td>-0.248440</td>\n",
       "      <td>0.703944</td>\n",
       "      <td>-0.143191</td>\n",
       "      <td>0.788150</td>\n",
       "      <td>-0.489632</td>\n",
       "      <td>0.024713</td>\n",
       "      <td>1.019976</td>\n",
       "      <td>1.171690</td>\n",
       "      <td>1.155946</td>\n",
       "      <td>-1.918156</td>\n",
       "      <td>-0.972751</td>\n",
       "      <td>-0.361526</td>\n",
       "      <td>-0.101824</td>\n",
       "      <td>-0.008072</td>\n",
       "      <td>-1.056801</td>\n",
       "      <td>-0.846044</td>\n",
       "      <td>-0.196848</td>\n",
       "      <td>-1.200641</td>\n",
       "      <td>-0.690009</td>\n",
       "      <td>0.795383</td>\n",
       "      <td>-0.846082</td>\n",
       "      <td>0.183765</td>\n",
       "      <td>...</td>\n",
       "      <td>0.848419</td>\n",
       "      <td>0.460026</td>\n",
       "      <td>0.621778</td>\n",
       "      <td>-1.423360</td>\n",
       "      <td>1.526423</td>\n",
       "      <td>-1.506158</td>\n",
       "      <td>-0.835532</td>\n",
       "      <td>-0.593971</td>\n",
       "      <td>-0.687681</td>\n",
       "      <td>-1.124148</td>\n",
       "      <td>0.331039</td>\n",
       "      <td>0.745642</td>\n",
       "      <td>2.679600</td>\n",
       "      <td>0.579268</td>\n",
       "      <td>1.046887</td>\n",
       "      <td>-0.851416</td>\n",
       "      <td>0.821867</td>\n",
       "      <td>1.896491</td>\n",
       "      <td>-0.578304</td>\n",
       "      <td>-0.420302</td>\n",
       "      <td>-1.151217</td>\n",
       "      <td>-0.659711</td>\n",
       "      <td>-0.207948</td>\n",
       "      <td>1.383959</td>\n",
       "      <td>0.977051</td>\n",
       "      <td>0.285547</td>\n",
       "      <td>-1.044815</td>\n",
       "      <td>-1.954874</td>\n",
       "      <td>1.308877</td>\n",
       "      <td>1.973407</td>\n",
       "      <td>-0.991490</td>\n",
       "      <td>0.795219</td>\n",
       "      <td>-0.629067</td>\n",
       "      <td>-1.269931</td>\n",
       "      <td>1.021490</td>\n",
       "      <td>0.222187</td>\n",
       "      <td>0.270917</td>\n",
       "      <td>-1.443378</td>\n",
       "      <td>-1.531018</td>\n",
       "      <td>1.297089</td>\n",
       "    </tr>\n",
       "    <tr>\n",
       "      <th>4</th>\n",
       "      <td>0.687038</td>\n",
       "      <td>-1.046788</td>\n",
       "      <td>-1.726581</td>\n",
       "      <td>-1.488455</td>\n",
       "      <td>0.835021</td>\n",
       "      <td>-0.704854</td>\n",
       "      <td>1.707758</td>\n",
       "      <td>-0.770694</td>\n",
       "      <td>-0.452844</td>\n",
       "      <td>0.411260</td>\n",
       "      <td>0.832547</td>\n",
       "      <td>-2.212493</td>\n",
       "      <td>0.410796</td>\n",
       "      <td>-1.100252</td>\n",
       "      <td>-1.358596</td>\n",
       "      <td>1.023497</td>\n",
       "      <td>-1.585154</td>\n",
       "      <td>-0.861058</td>\n",
       "      <td>1.021756</td>\n",
       "      <td>0.341648</td>\n",
       "      <td>-0.974471</td>\n",
       "      <td>-0.261939</td>\n",
       "      <td>-1.484408</td>\n",
       "      <td>-0.148024</td>\n",
       "      <td>0.143251</td>\n",
       "      <td>-1.049686</td>\n",
       "      <td>1.427554</td>\n",
       "      <td>-1.465049</td>\n",
       "      <td>-0.778927</td>\n",
       "      <td>1.172857</td>\n",
       "      <td>-1.426115</td>\n",
       "      <td>-0.263656</td>\n",
       "      <td>0.216759</td>\n",
       "      <td>-0.362119</td>\n",
       "      <td>1.603755</td>\n",
       "      <td>-0.619556</td>\n",
       "      <td>-0.474697</td>\n",
       "      <td>-0.304007</td>\n",
       "      <td>-0.420353</td>\n",
       "      <td>1.149748</td>\n",
       "      <td>...</td>\n",
       "      <td>-0.182384</td>\n",
       "      <td>0.542219</td>\n",
       "      <td>0.864292</td>\n",
       "      <td>-0.410172</td>\n",
       "      <td>-0.173311</td>\n",
       "      <td>-1.692300</td>\n",
       "      <td>0.425975</td>\n",
       "      <td>0.441929</td>\n",
       "      <td>-2.084028</td>\n",
       "      <td>0.569136</td>\n",
       "      <td>-0.338967</td>\n",
       "      <td>1.051779</td>\n",
       "      <td>-0.736325</td>\n",
       "      <td>-0.092028</td>\n",
       "      <td>0.145653</td>\n",
       "      <td>-0.939725</td>\n",
       "      <td>0.096384</td>\n",
       "      <td>-1.228574</td>\n",
       "      <td>-1.552721</td>\n",
       "      <td>-0.569429</td>\n",
       "      <td>-0.774130</td>\n",
       "      <td>1.111758</td>\n",
       "      <td>0.963595</td>\n",
       "      <td>-0.795590</td>\n",
       "      <td>0.544411</td>\n",
       "      <td>1.167439</td>\n",
       "      <td>-0.404852</td>\n",
       "      <td>-0.712543</td>\n",
       "      <td>0.337702</td>\n",
       "      <td>-0.194721</td>\n",
       "      <td>-2.898943</td>\n",
       "      <td>-0.374173</td>\n",
       "      <td>-0.578420</td>\n",
       "      <td>2.318813</td>\n",
       "      <td>0.477166</td>\n",
       "      <td>-0.843310</td>\n",
       "      <td>-0.518961</td>\n",
       "      <td>0.832442</td>\n",
       "      <td>-0.175506</td>\n",
       "      <td>-1.178342</td>\n",
       "    </tr>\n",
       "  </tbody>\n",
       "</table>\n",
       "<p>5 rows × 10000 columns</p>\n",
       "</div>"
      ],
      "text/plain": [
       "   feature0  feature1  feature2  ...  feature9997  feature9998  feature9999\n",
       "0 -1.135113 -0.293143  0.785253  ...    -1.721704     0.497074    -0.562462\n",
       "1  0.991779  0.412414  1.149773  ...    -0.616302    -0.150918     0.967641\n",
       "2  0.539129  0.393383  0.346674  ...     0.303910     1.549431     0.583561\n",
       "3 -0.072264  0.050174  0.326140  ...    -1.443378    -1.531018     1.297089\n",
       "4  0.687038 -1.046788 -1.726581  ...     0.832442    -0.175506    -1.178342\n",
       "\n",
       "[5 rows x 10000 columns]"
      ]
     },
     "execution_count": 28,
     "metadata": {
      "tags": []
     },
     "output_type": "execute_result"
    }
   ],
   "source": [
    "normalised_X.head()"
   ]
  },
  {
   "cell_type": "markdown",
   "metadata": {
    "colab_type": "text",
    "id": "yImcBOWKiCx4"
   },
   "source": [
    "### 3.3)-Dimension Reduction\n",
    "PCA methods being used <br>\n",
    "Find out what is fairly good value for n_components according to the Explained Variance Ratio<br>\n",
    "Reduce dimensions by the n_components<br>"
   ]
  },
  {
   "cell_type": "code",
   "execution_count": 29,
   "metadata": {
    "colab": {
     "base_uri": "https://localhost:8080/",
     "height": 279
    },
    "colab_type": "code",
    "id": "1ke6j0PuiCx5",
    "outputId": "9b12776d-5113-4715-a8cc-e3ffb52da119"
   },
   "outputs": [
    {
     "data": {
      "image/png": "[encoded data removed]",
      "text/plain": [
       "<Figure size 432x288 with 1 Axes>"
      ]
     },
     "metadata": {
      "needs_background": "light",
      "tags": []
     },
     "output_type": "display_data"
    }
   ],
   "source": [
    "from sklearn.decomposition import PCA\n",
    "pca = PCA().fit(normalised_X)\n",
    "plt.plot(np.cumsum(pca.explained_variance_ratio_))\n",
    "plt.xlabel('number of components')\n",
    "plt.ylabel('cumulative explained variance');"
   ]
  },
  {
   "cell_type": "code",
   "execution_count": 30,
   "metadata": {
    "colab": {},
    "colab_type": "code",
    "id": "RUShxW0QiCx7"
   },
   "outputs": [],
   "source": [
    "x_scaled = StandardScaler().fit_transform(X)\n",
    "pca = PCA(n_components = 3000)\n",
    "x_pca = pca.fit_transform(x_scaled)"
   ]
  },
  {
   "cell_type": "code",
   "execution_count": 31,
   "metadata": {
    "colab": {
     "base_uri": "https://localhost:8080/",
     "height": 34
    },
    "colab_type": "code",
    "id": "BbJHbEK2iCx9",
    "outputId": "106fd7b3-08df-4a1c-e6ed-8ed6b0b26561"
   },
   "outputs": [
    {
     "data": {
      "text/plain": [
       "0.9421616342341516"
      ]
     },
     "execution_count": 31,
     "metadata": {
      "tags": []
     },
     "output_type": "execute_result"
    }
   ],
   "source": [
    "sum(pca.explained_variance_ratio_)"
   ]
  },
  {
   "cell_type": "code",
   "execution_count": 32,
   "metadata": {
    "colab": {
     "base_uri": "https://localhost:8080/",
     "height": 34
    },
    "colab_type": "code",
    "id": "2AaC-d5RiCx_",
    "outputId": "3b6c166d-04d6-4df9-ea76-9f66b2e56aab"
   },
   "outputs": [
    {
     "data": {
      "text/plain": [
       "(3750, 3000)"
      ]
     },
     "execution_count": 32,
     "metadata": {
      "tags": []
     },
     "output_type": "execute_result"
    }
   ],
   "source": [
    "x_pca.shape"
   ]
  },
  {
   "cell_type": "markdown",
   "metadata": {
    "colab_type": "text",
    "id": "QbGDsCc7iCyB"
   },
   "source": [
    "# 4- Model Training"
   ]
  },
  {
   "cell_type": "code",
   "execution_count": 33,
   "metadata": {
    "colab": {},
    "colab_type": "code",
    "id": "sSpmDiAHiCyC"
   },
   "outputs": [],
   "source": [
    "from sklearn.model_selection import train_test_split\n",
    "\n",
    "X_train, X_test, y_train, y_test = train_test_split(x_pca,y, test_size=0.20, random_state=20)"
   ]
  },
  {
   "cell_type": "code",
   "execution_count": 34,
   "metadata": {
    "colab": {
     "base_uri": "https://localhost:8080/",
     "height": 84
    },
    "colab_type": "code",
    "id": "ZFbR2LptiCyD",
    "outputId": "7ce44da6-bff2-4603-855d-67cb83fa1766"
   },
   "outputs": [
    {
     "name": "stdout",
     "output_type": "stream",
     "text": [
      "(3000, 3000)\n",
      "(750, 3000)\n",
      "(3000,)\n",
      "(750,)\n"
     ]
    }
   ],
   "source": [
    "print(X_train.shape)\n",
    "print(X_test.shape)\n",
    "print(y_train.shape)\n",
    "print(y_test.shape)"
   ]
  },
  {
   "cell_type": "code",
   "execution_count": 35,
   "metadata": {
    "colab": {
     "base_uri": "https://localhost:8080/",
     "height": 235
    },
    "colab_type": "code",
    "id": "yIjI19Z-iCyF",
    "outputId": "48c1f3c3-9012-4124-eb72-c0b1883e690d"
   },
   "outputs": [
    {
     "data": {
      "text/plain": [
       "array([[-0.01952242, -4.55606064, -2.1045772 , ...,  1.62937747,\n",
       "         0.94166954, -1.33250739],\n",
       "       [-0.63377422, -3.12176693, -6.22650473, ..., -0.38856948,\n",
       "         0.88532437, -2.13614786],\n",
       "       [-2.93004397,  2.21965997, -0.11824451, ...,  0.49450439,\n",
       "        -0.83956261, -1.35946385],\n",
       "       ...,\n",
       "       [ 1.28961649, -2.530795  , -0.6221296 , ..., -1.10298661,\n",
       "        -0.61949121,  0.90175619],\n",
       "       [-3.5531345 ,  0.37077297,  1.98400336, ..., -0.58414853,\n",
       "         2.47114205, -0.8719491 ],\n",
       "       [ 1.04076264, -2.89122948, -0.61825897, ..., -0.60684284,\n",
       "         0.28932681,  1.78294432]])"
      ]
     },
     "execution_count": 35,
     "metadata": {
      "tags": []
     },
     "output_type": "execute_result"
    }
   ],
   "source": [
    "X_train"
   ]
  },
  {
   "cell_type": "markdown",
   "metadata": {
    "colab_type": "text",
    "id": "fFNbhVePiXRg"
   },
   "source": [
    "### 4.1.Multiple Model using K-fold"
   ]
  },
  {
   "cell_type": "code",
   "execution_count": 36,
   "metadata": {
    "colab": {},
    "colab_type": "code",
    "id": "KbNbtA8aiCyO"
   },
   "outputs": [],
   "source": [
    "from sklearn.svm import SVC\n",
    "from sklearn.linear_model import LogisticRegression\n",
    "from sklearn.model_selection import KFold\n",
    "from sklearn.model_selection import cross_val_score\n",
    "from sklearn.naive_bayes import GaussianNB\n",
    "from sklearn.neighbors import KNeighborsClassifier\n",
    "from sklearn.tree import DecisionTreeClassifier\n",
    "from sklearn.ensemble import RandomForestClassifier\n",
    "models = []\n",
    "models.append((\"LR\",LogisticRegression()))\n",
    "models.append((\"NB\",GaussianNB()))\n",
    "models.append((\"KNN\",KNeighborsClassifier()))\n",
    "models.append((\"DT\",DecisionTreeClassifier()))\n",
    "models.append((\"RF\",RandomForestClassifier()))\n",
    "models.append((\"SVM\",SVC()))"
   ]
  },
  {
   "cell_type": "code",
   "execution_count": 37,
   "metadata": {
    "colab": {
     "base_uri": "https://localhost:8080/",
     "height": 118
    },
    "colab_type": "code",
    "id": "3ck9lt5wiCyP",
    "outputId": "07fbcb82-215b-4c52-fbb8-0d3e4871de58"
   },
   "outputs": [
    {
     "name": "stdout",
     "output_type": "stream",
     "text": [
      "LR 0.8797333333333333\n",
      "NB 0.8981333333333333\n",
      "KNN 0.8701333333333332\n",
      "DT 0.8008000000000001\n",
      "RF 0.8992000000000001\n",
      "SVM 0.8992000000000001\n"
     ]
    }
   ],
   "source": [
    "results = []\n",
    "names = []\n",
    "for name,model in models:\n",
    "    kfold = KFold(n_splits=10, random_state=22)\n",
    "    cv_result = cross_val_score(model,x_pca,y, cv = kfold,scoring = \"accuracy\")\n",
    "    names.append(name)\n",
    "    results.append(cv_result)\n",
    "for i in range(len(names)):\n",
    "    print(names[i],results[i].mean())"
   ]
  },
  {
   "cell_type": "code",
   "execution_count": 38,
   "metadata": {
    "colab": {
     "base_uri": "https://localhost:8080/",
     "height": 368
    },
    "colab_type": "code",
    "id": "-DJm6qfiiCyR",
    "outputId": "d831309e-03c6-458c-ad6f-03b47161d0d5"
   },
   "outputs": [
    {
     "data": {
      "text/plain": [
       "[Text(0, 0, 'LR'),\n",
       " Text(0, 0, 'NB'),\n",
       " Text(0, 0, 'KNN'),\n",
       " Text(0, 0, 'DT'),\n",
       " Text(0, 0, 'RF'),\n",
       " Text(0, 0, 'SVM')]"
      ]
     },
     "execution_count": 38,
     "metadata": {
      "tags": []
     },
     "output_type": "execute_result"
    },
    {
     "data": {
      "image/png": "[encoded data removed]",
      "text/plain": [
       "<Figure size 432x288 with 1 Axes>"
      ]
     },
     "metadata": {
      "needs_background": "light",
      "tags": []
     },
     "output_type": "display_data"
    }
   ],
   "source": [
    "ax = sns.boxplot(data=results)\n",
    "figsize=(16, 7)\n",
    "ax.set_xticklabels(names)"
   ]
  },
  {
   "cell_type": "markdown",
   "metadata": {
    "colab_type": "text",
    "id": "5VRZxtD3iCyH"
   },
   "source": [
    "### 4.2.Random Forest\n",
    "\n",
    "using train-test split experiment to confirm."
   ]
  },
  {
   "cell_type": "code",
   "execution_count": 39,
   "metadata": {
    "colab": {
     "base_uri": "https://localhost:8080/",
     "height": 34
    },
    "colab_type": "code",
    "id": "D7J4OLgEiCyI",
    "outputId": "18d9bc3f-1238-45d3-a606-9ae035da01d4"
   },
   "outputs": [
    {
     "data": {
      "text/plain": [
       "array([1, 1, 1, 1, 1])"
      ]
     },
     "execution_count": 39,
     "metadata": {
      "tags": []
     },
     "output_type": "execute_result"
    }
   ],
   "source": [
    "rf = RandomForestClassifier(n_estimators=10, criterion='entropy', random_state=0)\n",
    "rf.fit(X_train, y_train)\n",
    "pred_rf = rf.predict(X_test)\n",
    "pred_rf[:5]"
   ]
  },
  {
   "cell_type": "code",
   "execution_count": 40,
   "metadata": {
    "colab": {
     "base_uri": "https://localhost:8080/",
     "height": 34
    },
    "colab_type": "code",
    "id": "lOZJ4aUNiCyK",
    "outputId": "c3b16366-7d37-4612-9fb5-dc732b703d5a"
   },
   "outputs": [
    {
     "name": "stdout",
     "output_type": "stream",
     "text": [
      "Random Forest Accuracy for test data:  0.884\n"
     ]
    }
   ],
   "source": [
    "import sklearn.metrics as metrics\n",
    "\n",
    "print('Random Forest Accuracy for test data: ', metrics.accuracy_score(y_test,pred_rf))"
   ]
  },
  {
   "cell_type": "code",
   "execution_count": null,
   "metadata": {
    "colab": {},
    "colab_type": "code",
    "id": "PpO30mbrQKdf"
   },
   "outputs": [],
   "source": [
    "#training_scr=rf.score(X_test, y_test)\n",
    "#print('Random Forest Accuracy for test data: ',training_scr)"
   ]
  },
  {
   "cell_type": "code",
   "execution_count": 41,
   "metadata": {
    "colab": {
     "base_uri": "https://localhost:8080/",
     "height": 34
    },
    "colab_type": "code",
    "id": "RWpH3vOfIdUp",
    "outputId": "2c8b2640-6b40-406c-c043-221b41bbc49e"
   },
   "outputs": [
    {
     "name": "stdout",
     "output_type": "stream",
     "text": [
      "Random Forest Accuracy for training data:  0.9933333333333333\n"
     ]
    }
   ],
   "source": [
    "training_scr=rf.score(X_train, y_train)\n",
    "print('Random Forest Accuracy for training data: ',training_scr)"
   ]
  },
  {
   "cell_type": "markdown",
   "metadata": {
    "colab_type": "text",
    "id": "bEF61wYXPELh"
   },
   "source": [
    "Our Random Forest model is over fitting. We could do more such as model tunning in trying to fix this issue."
   ]
  },
  {
   "cell_type": "code",
   "execution_count": 42,
   "metadata": {
    "colab": {
     "base_uri": "https://localhost:8080/",
     "height": 168
    },
    "colab_type": "code",
    "id": "kc0ABqKqiCyL",
    "outputId": "7be610a5-f7db-4a99-9e26-a9a16e3cc30b"
   },
   "outputs": [
    {
     "name": "stdout",
     "output_type": "stream",
     "text": [
      "              precision    recall  f1-score   support\n",
      "\n",
      "           0       0.33      0.01      0.02        86\n",
      "           1       0.89      1.00      0.94       664\n",
      "\n",
      "    accuracy                           0.88       750\n",
      "   macro avg       0.61      0.50      0.48       750\n",
      "weighted avg       0.82      0.88      0.83       750\n",
      "\n"
     ]
    }
   ],
   "source": [
    "from sklearn.metrics import classification_report\n",
    "print(classification_report(y_test, pred_rf))"
   ]
  },
  {
   "cell_type": "markdown",
   "metadata": {
    "colab_type": "text",
    "id": "pf78QE7FXLaz"
   },
   "source": [
    "f1 score is combination of both precision and recall. Therefore, I shall use this as metrics of evaluation. I will still take care of accuracy but, F1 score is more important in analysis."
   ]
  },
  {
   "cell_type": "markdown",
   "metadata": {
    "colab_type": "text",
    "id": "naMWg82aV9ww"
   },
   "source": [
    "### 4.3.Model Tune"
   ]
  },
  {
   "cell_type": "code",
   "execution_count": 43,
   "metadata": {
    "colab": {},
    "colab_type": "code",
    "id": "mCi-0UQXWcjo"
   },
   "outputs": [],
   "source": [
    "from sklearn.model_selection import GridSearchCV"
   ]
  },
  {
   "cell_type": "code",
   "execution_count": 44,
   "metadata": {
    "colab": {},
    "colab_type": "code",
    "id": "S7YjZAMRWAwk"
   },
   "outputs": [],
   "source": [
    "rf = RandomForestClassifier(n_estimators=100, n_jobs=-1, random_state=42, \n",
    "                            class_weight='balanced')"
   ]
  },
  {
   "cell_type": "code",
   "execution_count": 45,
   "metadata": {
    "colab": {},
    "colab_type": "code",
    "id": "poGPlv3lW3B-"
   },
   "outputs": [],
   "source": [
    "from sklearn.model_selection import StratifiedKFold\n",
    "skf = StratifiedKFold(n_splits=5, shuffle=True, random_state=5)"
   ]
  },
  {
   "cell_type": "code",
   "execution_count": 46,
   "metadata": {
    "colab": {},
    "colab_type": "code",
    "id": "34_wQlNZWA-Q"
   },
   "outputs": [],
   "source": [
    "parameters = {'max_features': [1, 2, 4], 'min_samples_leaf': [3, 5, 7, 9], 'max_depth': [5,10,15]}"
   ]
  },
  {
   "cell_type": "code",
   "execution_count": 47,
   "metadata": {
    "colab": {
     "base_uri": "https://localhost:8080/",
     "height": 118
    },
    "colab_type": "code",
    "id": "yvZK3QpqWA8W",
    "outputId": "242b4594-5936-459b-a5ed-6a886ab49f2a"
   },
   "outputs": [
    {
     "name": "stdout",
     "output_type": "stream",
     "text": [
      "Fitting 5 folds for each of 36 candidates, totalling 180 fits\n"
     ]
    },
    {
     "name": "stderr",
     "output_type": "stream",
     "text": [
      "[Parallel(n_jobs=-1)]: Using backend LokyBackend with 2 concurrent workers.\n",
      "[Parallel(n_jobs=-1)]: Done  46 tasks      | elapsed:   18.8s\n",
      "[Parallel(n_jobs=-1)]: Done 180 out of 180 | elapsed:  1.4min finished\n"
     ]
    },
    {
     "name": "stdout",
     "output_type": "stream",
     "text": [
      "CPU times: user 1.62 s, sys: 208 ms, total: 1.83 s\n",
      "Wall time: 1min 23s\n"
     ]
    }
   ],
   "source": [
    "%%time\n",
    "rf_grid_search = GridSearchCV(rf, parameters, n_jobs=-1, scoring='f1', cv=skf, verbose=True)\n",
    "rf_grid_search = rf_grid_search.fit(X_train, y_train)"
   ]
  },
  {
   "cell_type": "code",
   "execution_count": 48,
   "metadata": {
    "colab": {
     "base_uri": "https://localhost:8080/",
     "height": 34
    },
    "colab_type": "code",
    "id": "m61ess11XJuL",
    "outputId": "5b63ad34-e35c-4298-b456-34f09bbe6fd3"
   },
   "outputs": [
    {
     "name": "stdout",
     "output_type": "stream",
     "text": [
      "0.9488435344913594\n"
     ]
    }
   ],
   "source": [
    "print(rf_grid_search.best_score_)"
   ]
  },
  {
   "cell_type": "code",
   "execution_count": 49,
   "metadata": {
    "colab": {
     "base_uri": "https://localhost:8080/",
     "height": 151
    },
    "colab_type": "code",
    "id": "bN8B97yEWA65",
    "outputId": "0d8b8f0d-29b6-4c27-d9ed-0980fc2f7b62"
   },
   "outputs": [
    {
     "name": "stdout",
     "output_type": "stream",
     "text": [
      "RandomForestClassifier(bootstrap=True, ccp_alpha=0.0, class_weight='balanced',\n",
      "                       criterion='gini', max_depth=5, max_features=2,\n",
      "                       max_leaf_nodes=None, max_samples=None,\n",
      "                       min_impurity_decrease=0.0, min_impurity_split=None,\n",
      "                       min_samples_leaf=3, min_samples_split=2,\n",
      "                       min_weight_fraction_leaf=0.0, n_estimators=100,\n",
      "                       n_jobs=-1, oob_score=False, random_state=42, verbose=0,\n",
      "                       warm_start=False)\n"
     ]
    }
   ],
   "source": [
    "print(rf_grid_search.best_estimator_)"
   ]
  },
  {
   "cell_type": "code",
   "execution_count": 50,
   "metadata": {
    "colab": {
     "base_uri": "https://localhost:8080/",
     "height": 34
    },
    "colab_type": "code",
    "id": "tiIA-XyQWAz8",
    "outputId": "7538505e-510d-4ef8-81b6-19e198249165"
   },
   "outputs": [
    {
     "name": "stdout",
     "output_type": "stream",
     "text": [
      "{'max_depth': 5, 'max_features': 2, 'min_samples_leaf': 3}\n"
     ]
    }
   ],
   "source": [
    "print(rf_grid_search.best_params_)"
   ]
  },
  {
   "cell_type": "markdown",
   "metadata": {
    "colab_type": "text",
    "id": "1kC6NF7Fq6wy"
   },
   "source": [
    "# 5-Deep Learning"
   ]
  },
  {
   "cell_type": "code",
   "execution_count": 55,
   "metadata": {
    "colab": {},
    "colab_type": "code",
    "id": "9tsJKd004-qR"
   },
   "outputs": [],
   "source": [
    "from keras.models import Sequential\n",
    "from keras.layers import Dense, Dropout\n",
    "from keras.layers.normalization import BatchNormalization"
   ]
  },
  {
   "cell_type": "markdown",
   "metadata": {},
   "source": [
    "### 5.1.Preprocessing for Neural Network\n",
    "\n",
    "As we are not going to do any feature engineering or feature transformation for this model, preprocessing is rather simple."
   ]
  },
  {
   "cell_type": "code",
   "execution_count": 107,
   "metadata": {
    "colab": {},
    "colab_type": "code",
    "id": "4Yu8EBOMjhIg"
   },
   "outputs": [],
   "source": [
    "data_xtrain=pd.read_csv('train_data.csv', header = None)\n",
    "# scaling is important for neural nets else gradient exposion or diminsihing\n",
    "X = StandardScaler().fit_transform(data_xtrain)"
   ]
  },
  {
   "cell_type": "code",
   "execution_count": 108,
   "metadata": {
    "colab": {
     "base_uri": "https://localhost:8080/",
     "height": 67
    },
    "colab_type": "code",
    "id": "Jg7k6CpcjnEh",
    "outputId": "8c3f0784-156a-4c3d-f918-e792f370bcf6"
   },
   "outputs": [
    {
     "data": {
      "text/plain": [
       "1    3372\n",
       "0     378\n",
       "Name: labels, dtype: int64"
      ]
     },
     "execution_count": 108,
     "metadata": {
      "tags": []
     },
     "output_type": "execute_result"
    }
   ],
   "source": [
    "data_ytrain=pd.read_csv('train_labels.csv',header = None)\n",
    "data_ytrain.columns = [\"labels\"]\n",
    "data_ytrain = data_ytrain.replace(-1, 0)\n",
    "data_ytrain.labels.value_counts()"
   ]
  },
  {
   "cell_type": "code",
   "execution_count": 109,
   "metadata": {
    "colab": {
     "base_uri": "https://localhost:8080/",
     "height": 50
    },
    "colab_type": "code",
    "id": "vv9WJA-1j0a6",
    "outputId": "3b5e2ba2-a211-4ee8-e631-706265208594"
   },
   "outputs": [
    {
     "name": "stdout",
     "output_type": "stream",
     "text": [
      "(3750, 10000)\n",
      "(3750,)\n"
     ]
    }
   ],
   "source": [
    "print(X.shape)\n",
    "print(y.shape)"
   ]
  },
  {
   "cell_type": "markdown",
   "metadata": {},
   "source": [
    "### 5.2.Train-test split"
   ]
  },
  {
   "cell_type": "code",
   "execution_count": 110,
   "metadata": {
    "colab": {},
    "colab_type": "code",
    "id": "V-WNAsM6jYLs"
   },
   "outputs": [],
   "source": [
    "X_train, X_test, y_train, y_test = train_test_split(X,y, test_size=0.20, random_state=20)"
   ]
  },
  {
   "cell_type": "code",
   "execution_count": 111,
   "metadata": {
    "colab": {
     "base_uri": "https://localhost:8080/",
     "height": 84
    },
    "colab_type": "code",
    "id": "nPGEV-m0kADG",
    "outputId": "e754adc0-a271-4ea6-9733-2a084574463c"
   },
   "outputs": [
    {
     "name": "stdout",
     "output_type": "stream",
     "text": [
      "(3000, 10000)\n",
      "(750, 10000)\n",
      "(3000,)\n",
      "(750,)\n"
     ]
    }
   ],
   "source": [
    "print(X_train.shape)\n",
    "print(X_test.shape)\n",
    "print(y_train.shape)\n",
    "print(y_test.shape)"
   ]
  },
  {
   "cell_type": "markdown",
   "metadata": {},
   "source": [
    "### 5.3.Encoding target variable"
   ]
  },
  {
   "cell_type": "code",
   "execution_count": 112,
   "metadata": {
    "colab": {},
    "colab_type": "code",
    "id": "33Kb-gzx_3DP"
   },
   "outputs": [],
   "source": [
    "from keras.utils import np_utils\n",
    "def one_hot_encode_object_array(arr):\n",
    "    '''One hot encode a numpy array of objects (e.g. strings)'''\n",
    "    uniques, ids = np.unique(arr, return_inverse=True)\n",
    "    return np_utils.to_categorical(ids, len(uniques))\n",
    "\n",
    "y_train_ohe=one_hot_encode_object_array(y_train)\n",
    "y_test_ohe=one_hot_encode_object_array(y_test)"
   ]
  },
  {
   "cell_type": "code",
   "execution_count": 113,
   "metadata": {
    "colab": {
     "base_uri": "https://localhost:8080/",
     "height": 50
    },
    "colab_type": "code",
    "id": "xKN9Wp3yAZHr",
    "outputId": "1d017a4f-d2b9-46b4-fe0e-29b9286ee8e2"
   },
   "outputs": [
    {
     "name": "stdout",
     "output_type": "stream",
     "text": [
      "(3000, 2)\n",
      "(750, 2)\n"
     ]
    }
   ],
   "source": [
    "print(y_train_ohe.shape)\n",
    "print(y_test_ohe.shape)"
   ]
  },
  {
   "cell_type": "markdown",
   "metadata": {},
   "source": [
    "### 5.4.Model Building"
   ]
  },
  {
   "cell_type": "code",
   "execution_count": 114,
   "metadata": {
    "colab": {},
    "colab_type": "code",
    "id": "20jsfw2V4-ze"
   },
   "outputs": [],
   "source": [
    "#create model, add dense layers one by one specifying activation function\n",
    "model = Sequential()\n",
    "model.add(Dense(300, input_dim=X_train.shape[1], activation='relu')) # input layer requires input_dim param\n",
    "model.add(Dropout(0.2))\n",
    "model.add(BatchNormalization())\n",
    "\n",
    "model.add(Dense(200, activation='relu'))\n",
    "model.add(Dropout(0.2))\n",
    "model.add(BatchNormalization())\n",
    "\n",
    "model.add(Dense(100, activation='relu'))\n",
    "model.add(Dropout(.2))\n",
    "model.add(Dense(2, activation='softmax')) # sigmoid instead of relu for final probability between 0 and 1"
   ]
  },
  {
   "cell_type": "code",
   "execution_count": 115,
   "metadata": {
    "colab": {},
    "colab_type": "code",
    "id": "vul9djfb4-6-"
   },
   "outputs": [],
   "source": [
    "# compile the model, adam gradient descent (optimized)\n",
    "model.compile(loss=\"binary_crossentropy\", optimizer=\"adam\", metrics=['accuracy'])"
   ]
  },
  {
   "cell_type": "code",
   "execution_count": 116,
   "metadata": {
    "colab": {
     "base_uri": "https://localhost:8080/",
     "height": 454
    },
    "colab_type": "code",
    "id": "iOM5qzpB4-5K",
    "outputId": "d13ce3c9-9457-40cb-d2b0-f65aaeee9c4c"
   },
   "outputs": [
    {
     "name": "stdout",
     "output_type": "stream",
     "text": [
      "Model: \"sequential_1\"\n",
      "_________________________________________________________________\n",
      "Layer (type)                 Output Shape              Param #   \n",
      "=================================================================\n",
      "dense_4 (Dense)              (None, 300)               3000300   \n",
      "_________________________________________________________________\n",
      "dropout_3 (Dropout)          (None, 300)               0         \n",
      "_________________________________________________________________\n",
      "batch_normalization_2 (Batch (None, 300)               1200      \n",
      "_________________________________________________________________\n",
      "dense_5 (Dense)              (None, 200)               60200     \n",
      "_________________________________________________________________\n",
      "dropout_4 (Dropout)          (None, 200)               0         \n",
      "_________________________________________________________________\n",
      "batch_normalization_3 (Batch (None, 200)               800       \n",
      "_________________________________________________________________\n",
      "dense_6 (Dense)              (None, 100)               20100     \n",
      "_________________________________________________________________\n",
      "dropout_5 (Dropout)          (None, 100)               0         \n",
      "_________________________________________________________________\n",
      "dense_7 (Dense)              (None, 2)                 202       \n",
      "=================================================================\n",
      "Total params: 3,082,802\n",
      "Trainable params: 3,081,802\n",
      "Non-trainable params: 1,000\n",
      "_________________________________________________________________\n"
     ]
    }
   ],
   "source": [
    "model.summary()"
   ]
  },
  {
   "cell_type": "code",
   "execution_count": 117,
   "metadata": {
    "colab": {
     "base_uri": "https://localhost:8080/",
     "height": 34
    },
    "colab_type": "code",
    "id": "OE6qJHZ1PvBL",
    "outputId": "d4574ef6-e3ad-45fa-f29a-01930154690e"
   },
   "outputs": [
    {
     "data": {
      "text/plain": [
       "array([0, 1])"
      ]
     },
     "execution_count": 117,
     "metadata": {
      "tags": []
     },
     "output_type": "execute_result"
    }
   ],
   "source": [
    "np.unique(y_train)"
   ]
  },
  {
   "cell_type": "markdown",
   "metadata": {},
   "source": [
    "### 5.5.Imbalanced classes & saving computing wastage"
   ]
  },
  {
   "cell_type": "code",
   "execution_count": 118,
   "metadata": {
    "colab": {},
    "colab_type": "code",
    "id": "CX-nyAl_ACmY"
   },
   "outputs": [],
   "source": [
    "# for imbalanced classes\n",
    "from sklearn.utils import class_weight\n",
    "from keras.callbacks import EarlyStopping\n",
    "class_weights = class_weight.compute_class_weight('balanced',np.unique(y_train),y_train)\n",
    "class_weights = {i : class_weights[i] for i in range(2)}"
   ]
  },
  {
   "cell_type": "code",
   "execution_count": 119,
   "metadata": {
    "colab": {
     "base_uri": "https://localhost:8080/",
     "height": 218
    },
    "colab_type": "code",
    "id": "wKPmJEGQ4-3W",
    "outputId": "37f2f776-2a60-44e6-d317-6559748235ac"
   },
   "outputs": [
    {
     "name": "stdout",
     "output_type": "stream",
     "text": [
      "Epoch 1/100\n",
      "94/94 [==============================] - 1s 13ms/step - loss: 0.3736 - accuracy: 0.8083 - val_loss: 0.3543 - val_accuracy: 0.9107\n",
      "Epoch 2/100\n",
      "94/94 [==============================] - 1s 9ms/step - loss: 0.1557 - accuracy: 0.9100 - val_loss: 0.2143 - val_accuracy: 0.9240\n",
      "Epoch 3/100\n",
      "94/94 [==============================] - 1s 9ms/step - loss: 0.0576 - accuracy: 0.9710 - val_loss: 0.1943 - val_accuracy: 0.9333\n",
      "Epoch 4/100\n",
      "94/94 [==============================] - 1s 9ms/step - loss: 0.0479 - accuracy: 0.9820 - val_loss: 0.2391 - val_accuracy: 0.9267\n",
      "Epoch 5/100\n",
      "94/94 [==============================] - 1s 9ms/step - loss: 0.0276 - accuracy: 0.9867 - val_loss: 0.2214 - val_accuracy: 0.9307\n",
      "Epoch 6/100\n",
      "94/94 [==============================] - 1s 9ms/step - loss: 0.0231 - accuracy: 0.9907 - val_loss: 0.2144 - val_accuracy: 0.9413\n"
     ]
    }
   ],
   "source": [
    "# call the function to fit to the data (training the network)\n",
    "\n",
    "history=model.fit(X_train, y_train_ohe, epochs = 100, batch_size=32, \n",
    "                  validation_data=(X_test, y_test_ohe),\n",
    "                  class_weight=class_weights,\n",
    "                  callbacks=[EarlyStopping(monitor='val_loss', patience=3,min_delta=0.0001)])"
   ]
  },
  {
   "cell_type": "markdown",
   "metadata": {},
   "source": [
    "# 6- Evaluate Model"
   ]
  },
  {
   "cell_type": "code",
   "execution_count": 120,
   "metadata": {
    "colab": {
     "base_uri": "https://localhost:8080/",
     "height": 50
    },
    "colab_type": "code",
    "id": "vya9sbLf8BkN",
    "outputId": "86da4483-6252-435e-ed08-ff763bb2f3bd"
   },
   "outputs": [
    {
     "name": "stdout",
     "output_type": "stream",
     "text": [
      "Testing Accuracy:  0.9413\n",
      "Testing Loss:  0.2144\n"
     ]
    }
   ],
   "source": [
    "loss, accuracy = model.evaluate(X_test, y_test_ohe, verbose=False)\n",
    "print(\"Testing Accuracy:  {:.4f}\".format(accuracy))\n",
    "print(\"Testing Loss:  {:.4f}\".format(loss))"
   ]
  },
  {
   "cell_type": "code",
   "execution_count": 121,
   "metadata": {
    "colab": {
     "base_uri": "https://localhost:8080/",
     "height": 101
    },
    "colab_type": "code",
    "id": "eLgdSxGh4-xu",
    "outputId": "b1d114fd-16e0-41ee-f0af-44913c4ebae2"
   },
   "outputs": [
    {
     "data": {
      "text/plain": [
       "array([[8.6477790e-08, 9.9999988e-01],\n",
       "       [3.3923880e-06, 9.9999666e-01],\n",
       "       [2.5497424e-09, 1.0000000e+00],\n",
       "       [2.2048387e-05, 9.9997795e-01],\n",
       "       [9.5887708e-07, 9.9999905e-01]], dtype=float32)"
      ]
     },
     "execution_count": 121,
     "metadata": {
      "tags": []
     },
     "output_type": "execute_result"
    }
   ],
   "source": [
    "y_pred_keras = model.predict(X_test)\n",
    "y_pred_keras[:5]"
   ]
  },
  {
   "cell_type": "code",
   "execution_count": 122,
   "metadata": {
    "colab": {
     "base_uri": "https://localhost:8080/",
     "height": 34
    },
    "colab_type": "code",
    "id": "VfgGtKu48czD",
    "outputId": "eeb7166d-4162-4c31-a637-a94c2b65276f"
   },
   "outputs": [
    {
     "data": {
      "text/plain": [
       "(750, 2)"
      ]
     },
     "execution_count": 122,
     "metadata": {
      "tags": []
     },
     "output_type": "execute_result"
    }
   ],
   "source": [
    "y_pred_keras.shape"
   ]
  },
  {
   "cell_type": "code",
   "execution_count": 123,
   "metadata": {
    "colab": {
     "base_uri": "https://localhost:8080/",
     "height": 34
    },
    "colab_type": "code",
    "id": "n0MFR0Sl-HF-",
    "outputId": "047bbbc4-733d-4c9c-8073-72f4ab959be2"
   },
   "outputs": [
    {
     "data": {
      "text/plain": [
       "array([1, 1, 1, 1, 1])"
      ]
     },
     "execution_count": 123,
     "metadata": {
      "tags": []
     },
     "output_type": "execute_result"
    }
   ],
   "source": [
    "#convert in crisp class\n",
    "yhat_class_keras = model.predict_classes(X_test, verbose=0)\n",
    "yhat_class_keras[:5]"
   ]
  },
  {
   "cell_type": "code",
   "execution_count": 124,
   "metadata": {
    "colab": {
     "base_uri": "https://localhost:8080/",
     "height": 34
    },
    "colab_type": "code",
    "id": "JX2Uj_FlAzsx",
    "outputId": "b4fd82e9-3083-4908-be03-c0d924071335"
   },
   "outputs": [
    {
     "data": {
      "text/plain": [
       "(750,)"
      ]
     },
     "execution_count": 124,
     "metadata": {
      "tags": []
     },
     "output_type": "execute_result"
    }
   ],
   "source": [
    "yhat_class_keras.shape"
   ]
  },
  {
   "cell_type": "code",
   "execution_count": 125,
   "metadata": {
    "colab": {
     "base_uri": "https://localhost:8080/",
     "height": 34
    },
    "colab_type": "code",
    "id": "CmcFOY5fA2OZ",
    "outputId": "74d2d6a0-c0fd-462f-fabb-f2da3e3c97a2"
   },
   "outputs": [
    {
     "data": {
      "text/plain": [
       "numpy.ndarray"
      ]
     },
     "execution_count": 125,
     "metadata": {
      "tags": []
     },
     "output_type": "execute_result"
    }
   ],
   "source": [
    "type(yhat_class_keras)"
   ]
  },
  {
   "cell_type": "code",
   "execution_count": 126,
   "metadata": {
    "colab": {
     "base_uri": "https://localhost:8080/",
     "height": 67
    },
    "colab_type": "code",
    "id": "cahomZ91A2Rp",
    "outputId": "a8aa44fc-7a22-4888-a231-15188525b9cf"
   },
   "outputs": [
    {
     "data": {
      "text/plain": [
       "1    644\n",
       "0    106\n",
       "Name: predictions, dtype: int64"
      ]
     },
     "execution_count": 126,
     "metadata": {
      "tags": []
     },
     "output_type": "execute_result"
    }
   ],
   "source": [
    "predictions=pd.DataFrame(yhat_class_keras, columns=[\"predictions\"])\n",
    "predictions.predictions.value_counts()"
   ]
  },
  {
   "cell_type": "markdown",
   "metadata": {},
   "source": [
    "### 6.1.Classification Report"
   ]
  },
  {
   "cell_type": "code",
   "execution_count": 127,
   "metadata": {
    "colab": {
     "base_uri": "https://localhost:8080/",
     "height": 168
    },
    "colab_type": "code",
    "id": "WcJFhPpw6nIJ",
    "outputId": "c00b1a23-71ae-473f-de21-4aaa1d5e42a2"
   },
   "outputs": [
    {
     "name": "stdout",
     "output_type": "stream",
     "text": [
      "              precision    recall  f1-score   support\n",
      "\n",
      "           0       0.70      0.86      0.77        86\n",
      "           1       0.98      0.95      0.97       664\n",
      "\n",
      "    accuracy                           0.94       750\n",
      "   macro avg       0.84      0.91      0.87       750\n",
      "weighted avg       0.95      0.94      0.94       750\n",
      "\n"
     ]
    }
   ],
   "source": [
    "print(classification_report(y_test,  yhat_class_keras))"
   ]
  },
  {
   "cell_type": "markdown",
   "metadata": {},
   "source": [
    "### 6.2.confusion_matrix"
   ]
  },
  {
   "cell_type": "code",
   "execution_count": 128,
   "metadata": {
    "colab": {
     "base_uri": "https://localhost:8080/",
     "height": 50
    },
    "colab_type": "code",
    "id": "36n4Ukd1_QpC",
    "outputId": "72c0832b-51bd-463c-fd37-7d0822ef2d19"
   },
   "outputs": [
    {
     "data": {
      "text/plain": [
       "array([[ 74,  12],\n",
       "       [ 32, 632]])"
      ]
     },
     "execution_count": 128,
     "metadata": {
      "tags": []
     },
     "output_type": "execute_result"
    }
   ],
   "source": [
    "cm = confusion_matrix(y_test,yhat_class_keras)\n",
    "cm"
   ]
  },
  {
   "cell_type": "code",
   "execution_count": 129,
   "metadata": {
    "colab": {},
    "colab_type": "code",
    "id": "uOdpxJe9SlGS"
   },
   "outputs": [],
   "source": [
    "import itertools\n",
    "def plot_confusion_matrix(cm, classes,\n",
    "                          normalize=False,\n",
    "                          title='Confusion matrix',\n",
    "                          cmap=plt.cm.Spectral):\n",
    "    \"\"\"\n",
    "    See full source and example: \n",
    "    http://scikit-learn.org/stable/auto_examples/model_selection/plot_confusion_matrix.html\n",
    "    \n",
    "    This function prints and plots the confusion matrix.\n",
    "    Normalization can be applied by setting `normalize=True`.\n",
    "    \"\"\"\n",
    "    plt.imshow(cm, interpolation='nearest', cmap=cmap)\n",
    "    plt.title(title)\n",
    "    plt.colorbar()\n",
    "    tick_marks = np.arange(len(classes))\n",
    "    plt.xticks(tick_marks, classes, rotation=45)\n",
    "    plt.yticks(tick_marks, classes)\n",
    "\n",
    "    thresh = cm.max() / 2.\n",
    "    for i, j in itertools.product(range(cm.shape[0]), range(cm.shape[1])):\n",
    "        plt.text(j, i, cm[i, j],\n",
    "                 horizontalalignment=\"center\",\n",
    "                 color=\"black\" if cm[i, j] > thresh else \"white\")\n",
    "\n",
    "    plt.tight_layout()\n",
    "    plt.ylabel('True label')\n",
    "    plt.xlabel('Predicted label')"
   ]
  },
  {
   "cell_type": "code",
   "execution_count": 130,
   "metadata": {
    "colab": {
     "base_uri": "https://localhost:8080/",
     "height": 314
    },
    "colab_type": "code",
    "id": "NYSoUpDzSnmJ",
    "outputId": "0ada6b5c-6b7b-493f-db88-7b65dccaf070"
   },
   "outputs": [
    {
     "data": {
      "image/png": "[encoded data removed]",
      "text/plain": [
       "<Figure size 432x288 with 2 Axes>"
      ]
     },
     "metadata": {
      "tags": []
     },
     "output_type": "display_data"
    }
   ],
   "source": [
    "plot_confusion_matrix(cm, classes=['zero', 'ones'])"
   ]
  },
  {
   "cell_type": "code",
   "execution_count": 131,
   "metadata": {
    "colab": {},
    "colab_type": "code",
    "id": "-wVZVuQe7Tau"
   },
   "outputs": [],
   "source": [
    "plt.style.use('ggplot')\n",
    "\n",
    "def plot_history(history):\n",
    "    acc = history.history['accuracy']\n",
    "    val_acc = history.history['val_accuracy']\n",
    "    loss = history.history['loss']\n",
    "    val_loss = history.history['val_loss']\n",
    "    x = range(1, len(acc) + 1)\n",
    "\n",
    "    plt.figure(figsize=(12, 5))\n",
    "    plt.subplot(1, 2, 1)\n",
    "    plt.plot(x, acc, 'b', label='Training acc')\n",
    "    plt.plot(x, val_acc, 'r', label='Validation acc')\n",
    "    plt.title('Training and validation accuracy')\n",
    "    plt.legend()\n",
    "    plt.subplot(1, 2, 2)\n",
    "    plt.plot(x, loss, 'b', label='Training loss')\n",
    "    plt.plot(x, val_loss, 'r', label='Validation loss')\n",
    "    plt.title('Training and validation loss')\n",
    "    plt.legend()"
   ]
  },
  {
   "cell_type": "code",
   "execution_count": 132,
   "metadata": {
    "colab": {
     "base_uri": "https://localhost:8080/",
     "height": 337
    },
    "colab_type": "code",
    "id": "h2UJlBEV7Txh",
    "outputId": "2e1a0b9a-c031-4e85-e85d-cda3330f6442"
   },
   "outputs": [
    {
     "data": {
      "image/png": "[encoded data removed]",
      "text/plain": [
       "<Figure size 864x360 with 2 Axes>"
      ]
     },
     "metadata": {
      "tags": []
     },
     "output_type": "display_data"
    }
   ],
   "source": [
    "plot_history(history)"
   ]
  },
  {
   "cell_type": "markdown",
   "metadata": {
    "colab_type": "text",
    "id": "usNfswmfRibH"
   },
   "source": [
    "### 6.3. weight performance of each step"
   ]
  },
  {
   "cell_type": "code",
   "execution_count": 133,
   "metadata": {
    "colab": {
     "base_uri": "https://localhost:8080/",
     "height": 286
    },
    "colab_type": "code",
    "id": "p-C-cRiIRhsW",
    "outputId": "1e10a533-153a-4f22-afa3-6e21441d10bb"
   },
   "outputs": [
    {
     "name": "stdout",
     "output_type": "stream",
     "text": [
      "(10000, 300)\n",
      "(300,)\n",
      "(300,)\n",
      "(300,)\n",
      "(300,)\n",
      "(300,)\n",
      "(300, 200)\n",
      "(200,)\n",
      "(200,)\n",
      "(200,)\n",
      "(200,)\n",
      "(200,)\n",
      "(200, 100)\n",
      "(100,)\n",
      "(100, 2)\n",
      "(2,)\n"
     ]
    }
   ],
   "source": [
    "for w in model.get_weights():\n",
    "    print(w.shape)"
   ]
  },
  {
   "cell_type": "code",
   "execution_count": 134,
   "metadata": {
    "colab": {
     "base_uri": "https://localhost:8080/",
     "height": 1000
    },
    "colab_type": "code",
    "id": "ZNhLJ7LPRlT1",
    "outputId": "33a70836-046f-42f3-fc08-ca8f536610a7"
   },
   "outputs": [
    {
     "data": {
      "text/plain": [
       "[<tf.Variable 'dense_4/kernel:0' shape=(10000, 300) dtype=float32, numpy=\n",
       " array([[-0.0106583 ,  0.02298548, -0.04094761, ..., -0.01004541,\n",
       "         -0.00305931, -0.03775406],\n",
       "        [-0.01776781, -0.02729399, -0.02993761, ..., -0.0125346 ,\n",
       "          0.02739144,  0.00736289],\n",
       "        [-0.00431772,  0.00620726,  0.00073144, ...,  0.02513018,\n",
       "          0.00440675,  0.0132616 ],\n",
       "        ...,\n",
       "        [-0.01785824, -0.00717155, -0.01502667, ..., -0.03345701,\n",
       "          0.0181738 , -0.00111226],\n",
       "        [ 0.03332749,  0.00999994, -0.01496147, ..., -0.00850679,\n",
       "          0.03069069,  0.01041354],\n",
       "        [ 0.02878362,  0.00506048,  0.02910416, ...,  0.00210851,\n",
       "         -0.0171661 ,  0.00138587]], dtype=float32)>,\n",
       " <tf.Variable 'dense_4/bias:0' shape=(300,) dtype=float32, numpy=\n",
       " array([ 2.58071832e-02, -5.88813971e-04,  1.27541530e-03,  1.29137998e-02,\n",
       "         9.60536487e-03, -7.03735929e-03,  4.32985462e-02,  3.06002740e-02,\n",
       "        -3.12429946e-02,  5.70157403e-03,  2.30926927e-02, -1.40814260e-02,\n",
       "        -4.93138982e-03,  6.68197498e-02, -1.22276191e-02,  2.31309561e-03,\n",
       "        -2.03320030e-02, -1.58780869e-02,  1.33787813e-02, -2.20010383e-03,\n",
       "         5.60219865e-03, -1.48822926e-02, -1.91857424e-02, -4.46005911e-03,\n",
       "        -1.93232037e-02,  7.70434644e-03, -1.03438962e-02,  1.53946469e-03,\n",
       "        -1.46228606e-02,  7.49421678e-03,  1.86725575e-02, -1.74743347e-02,\n",
       "        -1.45801262e-03, -2.24788561e-02,  5.28326444e-03, -4.60265344e-03,\n",
       "        -3.22943702e-02,  6.32543117e-02,  8.47576838e-03, -4.33740951e-03,\n",
       "         1.21190436e-02,  2.11037006e-02,  2.47474108e-02, -4.63295309e-03,\n",
       "         2.70692469e-03,  5.30741177e-03, -1.32335564e-02,  3.87292765e-02,\n",
       "        -3.03145754e-03,  8.43594316e-03,  1.99859254e-02, -1.95767079e-03,\n",
       "        -9.88339912e-03, -2.79077608e-03, -1.11049414e-02, -2.16728053e-03,\n",
       "        -3.10180373e-02, -1.14729814e-02, -3.99466082e-02,  3.40986252e-02,\n",
       "         8.91796872e-03, -2.48835459e-02,  7.32966885e-03, -3.71859781e-02,\n",
       "        -3.41503212e-04, -1.32671129e-02, -7.34460214e-03, -3.41583379e-02,\n",
       "        -3.07893311e-03, -8.22646823e-03, -1.54358326e-02, -2.49918159e-02,\n",
       "        -6.70914352e-03,  1.07437093e-03,  1.76610295e-02, -1.53652430e-02,\n",
       "         1.80893973e-03, -1.25902891e-02, -8.31673853e-04, -2.16410384e-02,\n",
       "        -2.62890849e-03, -2.65120286e-02, -7.37853255e-03, -2.17404310e-03,\n",
       "         1.57165527e-03,  8.66169669e-03,  4.58518229e-03,  3.83511395e-03,\n",
       "         1.46559710e-02, -8.32089037e-03, -5.16472990e-03, -1.46337319e-02,\n",
       "        -3.90731432e-02, -3.64483334e-02, -2.11939830e-02,  5.63499657e-03,\n",
       "         2.20929738e-02,  1.42189069e-02, -8.54335167e-03, -1.36536686e-02,\n",
       "        -1.86932888e-02,  2.12527555e-03,  7.28422403e-03, -2.38361699e-03,\n",
       "        -7.99117843e-04,  3.99069414e-02,  6.68884302e-03,  5.70892217e-03,\n",
       "         2.01152489e-02,  1.61290579e-02, -2.14407034e-02,  8.76503903e-03,\n",
       "        -2.16531232e-02,  2.58314162e-02,  1.17410617e-02,  1.84874272e-03,\n",
       "        -7.19796587e-03, -1.99041646e-02, -4.38621780e-03, -2.46798922e-03,\n",
       "         1.16734058e-02,  5.63094206e-03,  2.15698872e-02,  5.47577906e-03,\n",
       "         1.58441311e-03, -3.76121327e-02,  6.45668665e-03, -1.45947384e-02,\n",
       "        -2.13678740e-02,  7.60035077e-03,  1.92493312e-02,  1.16494810e-02,\n",
       "         1.05355345e-02, -2.42027771e-02, -1.22538349e-02,  6.85904920e-03,\n",
       "        -4.99019492e-03,  2.16635074e-02, -3.57970479e-03, -1.06190844e-02,\n",
       "        -8.92339461e-03, -2.48393063e-02,  1.54928202e-02, -5.35703823e-03,\n",
       "         1.01999063e-02,  5.57442103e-03,  2.45199017e-02, -1.61265917e-02,\n",
       "        -1.70992338e-03, -3.73935071e-03, -5.22822607e-03,  7.34302355e-03,\n",
       "        -3.15464189e-04, -2.59166621e-02,  2.21489016e-02, -3.82287800e-03,\n",
       "        -2.33877413e-02, -3.29990089e-02,  1.07711367e-02,  3.18585485e-02,\n",
       "        -2.50515677e-02,  1.30209541e-02, -3.80756659e-03,  1.13281785e-02,\n",
       "         1.68139786e-02,  1.78360599e-04,  1.57531239e-02,  2.26178695e-03,\n",
       "         1.28726419e-02,  4.20974754e-02,  5.42268273e-04,  1.40852137e-02,\n",
       "        -1.62741132e-02, -1.34445657e-03,  2.61535239e-03, -1.54924737e-02,\n",
       "         8.24584800e-04, -2.71555744e-02,  3.87793221e-03, -2.48443964e-03,\n",
       "         3.95352505e-02, -3.48455571e-02, -3.04510687e-02, -1.30382217e-02,\n",
       "         5.68207237e-04,  1.75250266e-02, -1.72364078e-02,  5.32592740e-03,\n",
       "        -3.30804056e-03,  1.13311680e-02,  2.53530149e-03,  2.54277755e-02,\n",
       "        -4.25967015e-02,  1.36178611e-02, -1.96007825e-02,  4.70875129e-02,\n",
       "         1.64866615e-02, -2.21080985e-02,  2.91100144e-03, -2.17089802e-03,\n",
       "         9.73783247e-03,  7.99627230e-03, -7.50660570e-03, -1.76878180e-03,\n",
       "        -4.94544907e-03, -7.86488038e-03,  1.46507844e-02,  3.26494128e-02,\n",
       "        -1.18999258e-02, -1.96498949e-02,  2.03439198e-03,  6.50281273e-03,\n",
       "         5.95315080e-03, -1.97108109e-02,  1.44362859e-02,  1.75782274e-02,\n",
       "         1.90358888e-02, -1.96907315e-02,  1.32100331e-03,  1.60740241e-02,\n",
       "        -2.81642117e-02, -1.90795271e-03, -2.13313196e-02,  2.32632030e-02,\n",
       "        -1.76779386e-02, -8.08932993e-04, -6.29319716e-03, -2.04002727e-02,\n",
       "        -1.45737780e-03,  2.83008032e-02, -1.91677306e-02, -3.68526578e-02,\n",
       "        -1.38529297e-02,  4.95886058e-03,  3.35634453e-03, -1.06432773e-02,\n",
       "         1.62393530e-03,  1.15642333e-02, -4.51726234e-03,  1.19421603e-02,\n",
       "         1.69018786e-02, -4.44005989e-03,  1.67467277e-02, -2.16259025e-02,\n",
       "        -7.77056121e-05, -3.20522697e-03, -3.44005274e-03,  1.87790655e-02,\n",
       "         2.12974604e-02,  3.34778614e-02, -4.66076145e-03, -2.02457681e-02,\n",
       "        -2.01865789e-02, -2.50808559e-02,  1.63747594e-02, -7.91477785e-03,\n",
       "         7.75763066e-03, -3.89752444e-03,  4.39734198e-02,  1.86944474e-02,\n",
       "         1.74786560e-02, -1.30176414e-02, -3.66819627e-03,  5.61476452e-03,\n",
       "         9.02093947e-03,  1.43333599e-02,  1.79433692e-02,  2.73938477e-02,\n",
       "        -4.44271648e-03,  1.07951276e-02, -8.24058149e-03,  4.93466295e-03,\n",
       "         6.10301597e-03,  4.74594394e-03, -3.99471028e-03, -1.05988532e-02,\n",
       "        -2.21104883e-02,  2.02914537e-03,  2.74696648e-02,  1.81406492e-03,\n",
       "         7.46686151e-03, -8.06812313e-05, -8.09797738e-03,  4.42814687e-03,\n",
       "        -1.42068267e-02, -1.60566589e-03,  2.64775138e-02, -4.57592141e-05,\n",
       "         6.62978739e-03, -6.51346706e-03,  1.54676512e-02, -2.70619546e-03,\n",
       "        -2.55817901e-02,  3.90440114e-02, -1.16332304e-02, -9.37038194e-03,\n",
       "        -5.30582620e-03, -4.30956436e-03, -2.08903123e-02,  3.64267640e-03],\n",
       "       dtype=float32)>,\n",
       " <tf.Variable 'batch_normalization_2/gamma:0' shape=(300,) dtype=float32, numpy=\n",
       " array([1.0277747 , 0.99307185, 0.99870586, 1.0399095 , 1.0127755 ,\n",
       "        0.98272806, 1.0111221 , 0.9994522 , 1.022235  , 1.0027151 ,\n",
       "        1.0515097 , 1.0130905 , 1.0188917 , 1.0359298 , 0.972671  ,\n",
       "        1.0076866 , 1.005108  , 0.9985228 , 0.9982426 , 0.9968773 ,\n",
       "        1.0090781 , 1.0348175 , 0.9794002 , 0.9820542 , 0.9920506 ,\n",
       "        0.98891026, 0.9930644 , 0.98813725, 0.9957849 , 0.9881724 ,\n",
       "        1.0016922 , 0.9993779 , 0.98542225, 0.9930915 , 1.003166  ,\n",
       "        0.9928668 , 0.9932768 , 1.0368844 , 1.0459846 , 0.97227246,\n",
       "        1.0316375 , 1.0117743 , 1.0200412 , 1.0213219 , 0.9979739 ,\n",
       "        1.0075802 , 0.994152  , 1.01727   , 0.9973878 , 1.0306742 ,\n",
       "        0.9957458 , 0.98995566, 0.9943539 , 0.9926547 , 1.0101001 ,\n",
       "        0.97780186, 1.0309472 , 1.0064025 , 0.98407716, 0.99535143,\n",
       "        0.97503936, 0.9724718 , 0.9771825 , 1.005176  , 0.9965382 ,\n",
       "        1.0372154 , 0.97320753, 1.0161524 , 0.9816376 , 0.9953396 ,\n",
       "        0.97820365, 0.99848473, 0.99625075, 0.9951664 , 0.9828638 ,\n",
       "        1.0155809 , 0.99728155, 0.98320603, 0.98287857, 0.9923822 ,\n",
       "        0.9958907 , 0.99897337, 0.9685718 , 1.025281  , 1.0210677 ,\n",
       "        1.0088904 , 1.0102237 , 0.99430656, 0.99968386, 0.9814966 ,\n",
       "        1.0028282 , 0.9617779 , 1.0174772 , 1.0119426 , 1.0159458 ,\n",
       "        1.03487   , 0.98096836, 0.9993577 , 1.0025173 , 0.97903913,\n",
       "        0.995513  , 0.9782527 , 1.0021875 , 0.98093724, 0.991922  ,\n",
       "        1.0105747 , 1.0126245 , 1.013324  , 1.0288119 , 1.0036937 ,\n",
       "        1.0146441 , 1.0162904 , 0.9742558 , 1.0206044 , 0.9839397 ,\n",
       "        0.96758586, 0.99431074, 1.0151826 , 1.0169789 , 0.9836743 ,\n",
       "        0.99622095, 0.97604907, 1.0085783 , 1.020149  , 1.0206974 ,\n",
       "        1.0018555 , 0.98393863, 0.9945555 , 1.0254722 , 1.0131633 ,\n",
       "        1.0402838 , 0.9911903 , 1.0197767 , 0.9718607 , 1.0045975 ,\n",
       "        0.99864846, 0.9928417 , 0.9957318 , 0.9796919 , 0.99393827,\n",
       "        0.96775335, 1.0306299 , 0.9927208 , 1.006813  , 0.997807  ,\n",
       "        0.99458367, 1.0318621 , 0.97692895, 1.0037346 , 1.0079317 ,\n",
       "        0.9861211 , 0.9742964 , 0.9837332 , 1.0147568 , 1.0051954 ,\n",
       "        0.98673   , 0.98722905, 1.0234479 , 1.008328  , 1.0148638 ,\n",
       "        0.98570514, 1.0155276 , 1.0028216 , 0.98585045, 0.9916924 ,\n",
       "        1.0365928 , 1.0066992 , 1.0250056 , 0.99609125, 1.0258403 ,\n",
       "        0.97979397, 0.9994555 , 0.9956254 , 0.99465764, 0.998745  ,\n",
       "        0.98008263, 1.0209059 , 0.9835161 , 0.97564924, 0.99716824,\n",
       "        1.0061243 , 1.0234475 , 0.98329884, 0.9889409 , 1.0176643 ,\n",
       "        0.99763787, 1.010887  , 0.9914901 , 1.0024768 , 0.99912304,\n",
       "        1.0098234 , 0.9818422 , 0.9916516 , 0.9909401 , 1.0007305 ,\n",
       "        1.0287392 , 1.0397216 , 0.9917641 , 0.9894144 , 1.0557954 ,\n",
       "        1.0086142 , 1.0484962 , 1.0033853 , 0.99538684, 0.9982429 ,\n",
       "        1.0143901 , 1.0070119 , 1.0111967 , 1.0135397 , 1.0241895 ,\n",
       "        0.9760409 , 0.9803594 , 0.98264533, 0.99122936, 0.98319024,\n",
       "        0.9884311 , 1.014838  , 1.0022976 , 1.0229963 , 1.0283153 ,\n",
       "        1.0304873 , 0.9917881 , 1.0052189 , 0.9856106 , 0.99446404,\n",
       "        1.0042434 , 1.0251737 , 1.0107484 , 0.982079  , 0.99538505,\n",
       "        0.98639315, 1.0249875 , 0.9937857 , 0.99437803, 1.0150698 ,\n",
       "        0.9959205 , 0.99256927, 1.0107033 , 0.98986423, 0.9964236 ,\n",
       "        1.0154386 , 1.0075879 , 0.974351  , 0.9845593 , 1.01408   ,\n",
       "        0.97416276, 0.9779344 , 1.0138049 , 0.966089  , 1.0288099 ,\n",
       "        0.97818166, 0.97503626, 1.0052462 , 1.0209441 , 0.9970378 ,\n",
       "        0.9832905 , 0.99037105, 0.99546623, 1.0294417 , 1.0060645 ,\n",
       "        0.97543263, 0.9875134 , 1.0012476 , 1.0074382 , 0.9910469 ,\n",
       "        0.96591127, 0.9819276 , 1.0256008 , 0.9746876 , 0.9731715 ,\n",
       "        1.0028592 , 0.9900879 , 1.0156003 , 1.002023  , 1.0119948 ,\n",
       "        0.96620977, 0.9707817 , 0.9716035 , 1.0353088 , 1.0028123 ,\n",
       "        0.9793096 , 0.9836885 , 0.9916062 , 0.9820763 , 0.9759507 ,\n",
       "        0.9943963 , 1.0119407 , 0.999975  , 1.0180575 , 0.9842494 ,\n",
       "        1.0185056 , 0.9935933 , 1.0100563 , 1.0267822 , 1.0155729 ,\n",
       "        0.987058  , 0.98304987, 1.000979  , 1.0008997 , 1.0150446 ],\n",
       "       dtype=float32)>,\n",
       " <tf.Variable 'batch_normalization_2/beta:0' shape=(300,) dtype=float32, numpy=\n",
       " array([ 1.10762836e-02,  9.97696538e-03,  2.88730245e-02, -3.17793712e-03,\n",
       "        -1.04480805e-02, -1.72771867e-02,  6.62171394e-02, -3.15256901e-02,\n",
       "        -2.82330643e-02,  2.56402697e-02,  1.44217964e-02, -3.50348689e-02,\n",
       "         4.86141071e-02,  2.24824492e-02, -6.96777506e-03,  2.29152292e-03,\n",
       "         1.38887130e-02,  4.15164046e-02,  1.16771953e-02,  1.64910639e-03,\n",
       "         4.71912064e-02,  3.66927646e-02,  2.79001277e-02,  3.02480091e-03,\n",
       "        -1.03098657e-02,  5.99198835e-03,  2.89036874e-02,  4.48795315e-03,\n",
       "        -1.44938547e-02,  2.25415118e-02, -3.47111095e-03, -2.49103736e-02,\n",
       "         1.52773606e-02, -3.12063117e-02,  3.73101085e-02, -1.57338523e-04,\n",
       "        -1.47741912e-02,  3.31196785e-02, -1.06728403e-02,  1.59931835e-02,\n",
       "        -1.30631793e-02,  6.67462358e-03,  3.98929305e-02,  6.93830661e-03,\n",
       "         2.63326038e-02,  1.08054345e-02, -9.36535560e-03,  5.06187081e-02,\n",
       "         1.59134883e-02,  3.75325456e-02,  4.52514319e-03,  2.57758778e-02,\n",
       "        -2.59215385e-02, -1.94177106e-02, -1.26167554e-02, -2.40082052e-02,\n",
       "         2.78793368e-03,  4.07367498e-02,  4.10533287e-02,  3.70315798e-02,\n",
       "         1.24770831e-02,  5.39372675e-03, -2.39626411e-02,  4.28403057e-02,\n",
       "         1.05808293e-02,  3.78536098e-02,  1.00465535e-04,  5.50816418e-04,\n",
       "         3.13102640e-02,  4.06252453e-03,  2.32499209e-03,  4.30780798e-02,\n",
       "         5.08238934e-02,  2.86225770e-02, -1.84717681e-02, -1.50567135e-02,\n",
       "        -4.13075238e-02, -1.21604679e-02, -2.86545586e-02,  2.24217568e-02,\n",
       "         2.51960643e-02, -3.85004319e-02, -1.00037558e-02,  7.35994894e-03,\n",
       "         2.49086414e-02,  2.51257531e-02,  3.66965719e-02, -6.22678455e-03,\n",
       "         1.87343229e-02, -6.03998313e-03,  1.13869021e-02,  7.33488426e-03,\n",
       "        -1.28757590e-02,  1.26376171e-02, -2.96879336e-02,  2.14841980e-02,\n",
       "         1.22915162e-02,  4.65797335e-02, -1.64904073e-02,  2.84301266e-02,\n",
       "         1.17483893e-02,  3.51405405e-02, -4.94850567e-03,  2.68242974e-03,\n",
       "         5.06669562e-03,  3.86769623e-02,  2.70964392e-02,  3.29255057e-03,\n",
       "         4.37536351e-02, -6.18766248e-03, -2.81587206e-02, -2.20992621e-02,\n",
       "         1.27974460e-02,  8.12668204e-02,  6.77940296e-03,  2.34939018e-03,\n",
       "        -1.91017345e-03, -2.45858300e-02, -2.14317776e-02, -2.33085696e-02,\n",
       "        -1.38565265e-02, -6.61530485e-03,  1.03086932e-02,  8.31611156e-02,\n",
       "         6.01942539e-02, -3.88401449e-02,  2.53504352e-03,  9.06035211e-03,\n",
       "        -1.71925966e-02, -1.16364043e-02,  4.74058129e-02,  2.59086974e-02,\n",
       "        -1.70295108e-02,  1.67699065e-02, -6.34402502e-03, -1.58801377e-02,\n",
       "         9.43687931e-03, -1.58622221e-03, -2.99536693e-03,  5.50185479e-02,\n",
       "         9.16973781e-03,  1.87344551e-02,  4.55467552e-02, -1.49595421e-02,\n",
       "        -2.70316862e-02, -8.69962107e-03,  2.82056928e-02, -3.08077986e-04,\n",
       "         4.85284403e-02,  1.52686471e-02, -2.54560169e-02, -3.20679159e-04,\n",
       "         4.35342863e-02,  4.58316319e-02,  1.68785732e-02,  8.78693070e-03,\n",
       "         1.95954461e-02,  3.34171876e-02,  2.41100173e-02,  2.49430351e-03,\n",
       "         6.02729432e-02, -1.50513765e-03, -3.34724300e-02, -3.42758819e-02,\n",
       "        -1.38220200e-02, -3.68688256e-03,  1.69314852e-03,  2.71359198e-02,\n",
       "         5.80225177e-02,  6.87516257e-02,  1.51035711e-02, -1.15459515e-02,\n",
       "        -2.52209604e-03,  2.56461315e-02, -1.53727236e-03,  3.23613500e-03,\n",
       "         2.28510108e-02,  1.53750377e-02,  2.05678046e-02,  2.52104346e-02,\n",
       "         3.03130541e-02, -4.50146152e-03,  2.28319373e-02,  1.20834988e-02,\n",
       "         7.87047247e-05,  6.16729185e-02,  3.22737894e-03,  1.23160947e-02,\n",
       "         2.48691207e-03,  2.14580502e-02, -1.97022185e-02,  9.51910764e-03,\n",
       "        -6.01933524e-03, -4.63004457e-03,  2.67878566e-02,  3.23247463e-02,\n",
       "         4.80850004e-02, -1.67757571e-02, -2.78252903e-02,  1.90413948e-02,\n",
       "         1.23285381e-02,  3.49087864e-02,  2.16288883e-02,  5.32276649e-03,\n",
       "         7.89330807e-03,  5.34196571e-02,  2.93051489e-02,  2.51029730e-02,\n",
       "        -2.65468527e-02, -3.43032368e-02,  1.32578518e-02,  1.23083498e-02,\n",
       "         9.82974563e-03,  3.27239409e-02,  4.85609192e-03,  8.67963827e-04,\n",
       "         1.86814461e-02,  1.45142730e-02,  8.43559625e-04,  2.98837889e-02,\n",
       "         3.52571197e-02, -1.53566466e-03, -1.55803477e-02,  4.15817201e-02,\n",
       "         1.13251358e-02,  1.08516077e-02,  1.21705150e-02,  5.32492809e-03,\n",
       "         5.46157360e-02,  2.45977435e-02,  3.74253727e-02,  2.80849282e-02,\n",
       "         3.21377777e-02,  2.21748836e-03,  1.33274756e-02, -7.98005518e-03,\n",
       "         2.08871602e-03, -6.28877664e-03, -1.08623691e-02,  3.23102884e-02,\n",
       "         4.25704420e-02, -1.17864255e-02,  4.81960597e-03, -2.58693565e-02,\n",
       "         3.45539935e-02, -3.54950869e-04,  1.53787788e-02,  1.17711341e-02,\n",
       "         1.84799265e-02,  3.09025473e-03, -1.28482617e-02, -1.62393451e-02,\n",
       "        -2.52466686e-02,  3.83359268e-02,  3.45047936e-02,  3.06602567e-02,\n",
       "        -2.06673425e-02,  2.11828463e-02,  5.86587265e-02, -1.66135170e-02,\n",
       "         2.42985990e-02, -1.68750118e-02,  7.35101430e-03, -1.93518009e-02,\n",
       "         1.46330958e-02, -8.59470759e-03,  1.28209740e-02,  1.21098123e-02,\n",
       "         3.06328665e-02, -4.66026226e-03, -4.56426712e-03,  2.27167681e-02,\n",
       "         9.04285628e-03,  9.28485580e-03,  7.18471943e-04,  2.26163585e-02,\n",
       "         9.84120369e-03, -5.40756900e-03,  6.48629218e-02,  1.83873568e-02,\n",
       "         9.13201738e-03, -1.40738199e-02,  3.29904333e-02, -2.10463814e-02,\n",
       "        -5.66600636e-03,  2.21032836e-02,  2.73124129e-02,  2.82733869e-02,\n",
       "        -2.74746269e-02, -6.80554938e-03,  2.23222654e-02, -2.47745160e-02,\n",
       "        -3.93963531e-02,  5.74945994e-02, -2.90608481e-02,  6.23181259e-05,\n",
       "        -1.98981091e-02,  2.58219708e-03,  1.55840414e-02,  1.62681323e-02],\n",
       "       dtype=float32)>,\n",
       " <tf.Variable 'batch_normalization_2/moving_mean:0' shape=(300,) dtype=float32, numpy=\n",
       " array([1158.8833 , 3157.6648 ,  690.5971 , 2951.1057 , 1197.483  ,\n",
       "         886.36194, 1202.3601 ,  982.54297,  711.3426 , 2874.8193 ,\n",
       "        1466.8932 ,  873.5764 , 3894.045  , 1278.9158 , 1108.4172 ,\n",
       "        1746.2817 , 3277.8086 , 4560.193  , 1147.5562 ,  769.5955 ,\n",
       "         837.24426, 2415.262  , 2629.9531 ,  985.88696,  621.81537,\n",
       "        2802.7336 , 2835.6853 , 1010.08484, 2830.264  , 1362.8047 ,\n",
       "        5063.668  ,  772.18164,  871.5006 ,  749.4978 ,  760.7003 ,\n",
       "        4109.788  ,  835.7126 , 1683.7875 , 3374.4968 , 2511.795  ,\n",
       "        2803.8254 , 1342.539  , 1551.3108 , 3950.0332 , 4728.3457 ,\n",
       "        2250.5112 ,  744.932  , 1733.9856 , 2219.589  ,  749.21405,\n",
       "        1205.5651 , 4025.2617 , 3357.2007 ,  878.6185 , 4042.7422 ,\n",
       "        1950.6362 , 5813.0146 , 1104.4567 , 4347.856  ,  898.1698 ,\n",
       "        1235.9994 , 1430.0135 ,  637.83856, 1351.8856 , 3206.6409 ,\n",
       "        2484.7026 , 5333.4043 , 4267.7695 , 1020.2737 , 3830.8643 ,\n",
       "        2714.5032 , 4796.0264 , 1251.9817 , 1392.2511 , 4962.3223 ,\n",
       "         664.1758 , 1372.9011 ,  950.4041 ,  907.64966, 3375.0837 ,\n",
       "         803.1722 , 1012.81335,  760.5737 , 5122.23   ,  954.8108 ,\n",
       "         946.81366, 1387.4694 ,  941.81586, 1051.1786 , 2405.9895 ,\n",
       "        1051.3606 , 1369.2416 , 1130.5243 , 2846.3481 ,  967.305  ,\n",
       "        2430.922  ,  713.0818 , 1058.2712 ,  807.27673, 3524.648  ,\n",
       "        5551.013  ,  717.9015 , 1046.0527 , 1081.4658 ,  980.2278 ,\n",
       "        1307.5063 ,  872.6071 , 3946.805  , 2242.457  , 1629.2607 ,\n",
       "         525.67175,  851.7719 , 3223.084  , 1484.4083 , 3915.9438 ,\n",
       "        2730.348  , 3539.434  ,  716.87506,  822.7486 ,  970.51184,\n",
       "         969.0053 , 2942.5286 , 4396.6353 , 1169.6613 , 1225.9855 ,\n",
       "         732.98285, 4805.1113 , 1993.76   , 4580.906  ,  884.045  ,\n",
       "        1454.2903 , 3548.0146 , 1072.2766 , 4243.533  ,  856.57654,\n",
       "        2618.2878 , 2422.5579 ,  888.6967 ,  755.60266, 1177.2316 ,\n",
       "         810.22614, 5115.8525 , 1011.7547 ,  546.43365,  870.3115 ,\n",
       "         841.8683 , 1394.5778 ,  936.9173 , 2368.9668 ,  898.07025,\n",
       "        1724.9923 , 3429.4023 ,  766.38   , 5233.1816 ,  745.39294,\n",
       "         836.57904,  611.6024 , 4470.352  , 3365.2188 , 1363.6299 ,\n",
       "        5897.566  , 3297.9868 ,  642.30426, 3273.7583 , 1119.1942 ,\n",
       "        4533.8135 , 4270.958  , 3051.4817 , 1023.6882 , 1609.0344 ,\n",
       "        1161.4102 ,  559.1339 ,  726.6071 , 3889.025  , 1735.0431 ,\n",
       "        1020.41284, 1207.9955 , 1212.0378 , 1334.8239 , 4537.056  ,\n",
       "        1261.4713 , 4545.996  , 4032.056  ,  982.98193, 4559.609  ,\n",
       "        1107.8508 ,  769.8238 , 1415.9729 , 3394.6865 , 3664.429  ,\n",
       "        3418.124  ,  861.422  ,  865.2827 , 3875.296  , 5485.1753 ,\n",
       "        1264.5308 ,  914.7819 ,  782.45294, 2676.4448 , 2432.9827 ,\n",
       "        3813.912  , 1032.0441 , 1056.5361 , 3874.0686 ,  952.73425,\n",
       "         874.6709 , 2152.079  , 1108.3682 , 5722.019  , 1469.4082 ,\n",
       "         870.05774,  874.6635 , 4812.206  , 1041.935  , 2642.5054 ,\n",
       "        2828.7944 , 1068.762  , 2714.4463 , 6600.7134 ,  949.9796 ,\n",
       "        1580.3533 , 2942.3887 ,  881.4829 , 1394.3597 , 3631.5466 ,\n",
       "        3545.8308 , 3909.331  , 2106.511  , 1328.783  ,  971.0556 ,\n",
       "        1212.0151 , 2660.7988 , 2651.0571 , 1587.653  ,  713.54205,\n",
       "        5219.318  ,  657.1696 , 4935.4307 , 6143.8853 , 1078.0071 ,\n",
       "         702.8997 , 2010.2043 ,  862.4185 ,  684.5586 ,  852.54675,\n",
       "        2463.8687 , 1637.9451 , 1915.8978 , 1697.2018 , 3603.4045 ,\n",
       "         980.167  , 1087.0428 ,  864.1081 , 3468.4426 , 1020.77954,\n",
       "        4522.273  , 1591.5251 ,  933.91766, 1307.6234 , 1022.2651 ,\n",
       "        2441.9797 ,  874.7786 , 3131.5618 , 2457.72   , 1430.1343 ,\n",
       "        5356.028  , 1852.0295 ,  957.9152 , 1400.2223 , 1642.2277 ,\n",
       "        4836.6157 ,  904.6653 , 1410.2875 ,  663.4968 ,  763.569  ,\n",
       "        5343.967  , 1177.0458 , 1053.2695 , 1221.1913 ,  978.96906,\n",
       "         820.3199 , 1435.6522 , 3326.1858 , 1055.9987 ,  811.4461 ,\n",
       "        1015.0872 , 1645.1617 , 1287.2109 ,  866.28845, 1024.0154 ,\n",
       "        1543.8292 , 1060.9419 ,  692.13324, 1382.5154 ,  670.6515 ,\n",
       "         941.48914, 1709.7828 , 3772.999  , 4209.967  , 1018.43945],\n",
       "       dtype=float32)>,\n",
       " <tf.Variable 'batch_normalization_2/moving_variance:0' shape=(300,) dtype=float32, numpy=\n",
       " array([ 4864153.5, 16671904. ,  2113144.8, 14009639. ,  5384199. ,\n",
       "         3506374.8,  5240872. ,  5004430. ,  2587260.8, 13623076. ,\n",
       "         7552748.5,  3167773.2, 23664002. ,  5243789.5,  4458132. ,\n",
       "         6211764. , 17918252. , 32513302. ,  4807035. ,  2608101.2,\n",
       "         3118954.2, 10154333. , 12580384. ,  3564086.2,  2177226.5,\n",
       "        13085372. , 13501079. ,  3777255. , 13597343. ,  5914379.5,\n",
       "        39238452. ,  3785744.2,  2906852. ,  3123366.5,  2579936.5,\n",
       "        27373708. ,  3171468.2,  8242718.5, 18243678. , 10399173. ,\n",
       "        13793726. ,  5862396. ,  6941429. , 24639696. , 34368296. ,\n",
       "         8678744. ,  2319512. ,  8949298. ,  8992316. ,  2333661.5,\n",
       "         4431928.5, 25887196. , 17826264. ,  3198755.8, 26472996. ,\n",
       "         6936756. , 52805800. ,  5043371.5, 30329168. ,  3041320. ,\n",
       "         5338336. ,  7113143. ,  1959161. ,  5279320. , 17257770. ,\n",
       "        10340676. , 43081636. , 29628868. ,  4116039.8, 23999012. ,\n",
       "        12095015. , 35574956. ,  5000919. ,  5365801.5, 38723676. ,\n",
       "         2278710. ,  4756602. ,  4023290.8,  2661654.2, 18707128. ,\n",
       "         2599189.8,  4991091.5,  2795008. , 40110704. ,  3414631.5,\n",
       "         3023228.2,  6860624.5,  3371939.8,  3731582.8, 11258564. ,\n",
       "         4445094. ,  6132455. ,  4964027. , 13681822. ,  4340208. ,\n",
       "        10270179. ,  2294581.5,  3848297. ,  3170622.8, 20279868. ,\n",
       "        47328740. ,  2370123.8,  3525256.5,  4132123.8,  3426475.8,\n",
       "         5352580.5,  2899972.8, 24442890. ,  8312625. ,  8514382. ,\n",
       "         1867791.1,  3703313.5, 17253630. ,  6914076.5, 23750540. ,\n",
       "        12716908. , 19419076. ,  2174612.5,  3868373.8,  3936158.8,\n",
       "         3752321.8, 13496056. , 29540504. ,  3777981. ,  4889956.5,\n",
       "         2665584.8, 34991684. ,  6921181.5, 33398690. ,  3261774.5,\n",
       "         6127972.5, 20329712. ,  4587636.5, 28230222. ,  3154023.5,\n",
       "        11354455. , 10568922. ,  3309165. ,  2385177. ,  3849158.2,\n",
       "         2923299.5, 41584960. ,  3500602.5,  1574244.4,  3806937.2,\n",
       "         2946052.8,  5211009. ,  3355956.8,  9677907. ,  2875697. ,\n",
       "         5215658. , 19241750. ,  2790156.2, 42894250. ,  2441877. ,\n",
       "         2890166. ,  2076706.2, 32031770. , 18002910. ,  5539525.5,\n",
       "        55451680. , 17377182. ,  1929213. , 18292650. ,  4081715.5,\n",
       "        32606428. , 28684040. , 15324297. ,  3641252. ,  8150782. ,\n",
       "         4961531.5,  1438334.8,  2662999. , 23662002. ,  6662585.5,\n",
       "         3685411.2,  5766937. ,  5581302. ,  5487248. , 32626214. ,\n",
       "         4812603.5, 33809136. , 25901418. ,  3315040.5, 32188036. ,\n",
       "         4095372.2,  2885511. ,  4545244. , 17874860. , 21374114. ,\n",
       "        19527878. ,  3393753. ,  3436048. , 23777246. , 47889040. ,\n",
       "         5254207. ,  2852537.5,  3055139.2, 12682183. ,  9899262. ,\n",
       "        23056416. ,  4900731.5,  3360882.5, 23537844. ,  3880280.2,\n",
       "         3289444.5,  8238122. ,  4518512. , 50796200. ,  7480805. ,\n",
       "         2879503.2,  3687038. , 37112404. ,  3619351.8, 11723237. ,\n",
       "        14313492. ,  4730046.5, 12050367. , 67326640. ,  3317996.2,\n",
       "         5321859. , 13594554. ,  3570089.8,  7966434.5, 20718130. ,\n",
       "        19880038. , 24605904. ,  7716776. ,  5983527. ,  3212431.5,\n",
       "         6147895.5, 12177459. , 13244066. ,  7254979.5,  2455347.8,\n",
       "        42529172. ,  2322336. , 38215196. , 59737276. ,  3715855.5,\n",
       "         2079414.5,  7612875.5,  3650718.2,  2411037.8,  2677542.2,\n",
       "        11148138. ,  6018079.5, 10373731. ,  6309716. , 20825448. ,\n",
       "         4742738. ,  4090025.8,  4195537.5, 18994854. ,  3357318.5,\n",
       "        32278868. ,  5574928. ,  3474845.2,  5719451. ,  3706150.5,\n",
       "        11143686. ,  3223958.5, 16039119. , 10348085. ,  7056133. ,\n",
       "        45799296. ,  7348304.5,  3236303.5,  6627519. ,  4941969.5,\n",
       "        36048190. ,  3731667.2,  5748676. ,  2220340.2,  2915302. ,\n",
       "        44906440. ,  5081518.5,  2914398. ,  6201645.5,  3750578.8,\n",
       "         3648476. ,  6599290. , 17476598. ,  3382039.2,  2967815.2,\n",
       "         4724172.5,  7800157. ,  5088835.5,  3895383.2,  4067519.8,\n",
       "         7363515. ,  4623732. ,  2902808. ,  6219817. ,  2932441. ,\n",
       "         3415381.5,  5129862. , 23233048. , 28412610. ,  3775161.2],\n",
       "       dtype=float32)>,\n",
       " <tf.Variable 'dense_5/kernel:0' shape=(300, 200) dtype=float32, numpy=\n",
       " array([[ 0.0581753 , -0.01140183, -0.07594386, ...,  0.08597514,\n",
       "         -0.02411396, -0.07243889],\n",
       "        [-0.07442577, -0.01998737, -0.00568405, ..., -0.11405177,\n",
       "         -0.05716734, -0.08305234],\n",
       "        [-0.05678804,  0.00810468,  0.0260066 , ...,  0.02615482,\n",
       "          0.03718382,  0.02865542],\n",
       "        ...,\n",
       "        [-0.10761774,  0.05674712,  0.02269576, ..., -0.1136256 ,\n",
       "          0.06022087,  0.02099316],\n",
       "        [ 0.12220029, -0.01907424,  0.00754444, ..., -0.00443789,\n",
       "         -0.04065467, -0.01249647],\n",
       "        [ 0.05945555, -0.07267427, -0.05302648, ...,  0.0811898 ,\n",
       "         -0.03606313, -0.10872566]], dtype=float32)>,\n",
       " <tf.Variable 'dense_5/bias:0' shape=(200,) dtype=float32, numpy=\n",
       " array([-0.00139927,  0.01485237,  0.00536725,  0.02642854, -0.02567932,\n",
       "         0.01232848,  0.01090619,  0.00099985,  0.00828734,  0.01578723,\n",
       "        -0.00123216,  0.02332645, -0.00069505,  0.00874055, -0.04898485,\n",
       "        -0.01838612,  0.00735328, -0.0186441 , -0.01563383,  0.00139223,\n",
       "        -0.01054381, -0.01529439, -0.00056941,  0.01537577,  0.00034627,\n",
       "         0.0146956 ,  0.01120544,  0.01782547,  0.01544222, -0.01807452,\n",
       "        -0.00387005, -0.00644853,  0.00423448,  0.0046671 ,  0.0058036 ,\n",
       "        -0.00353623, -0.00377405, -0.00060928, -0.01036221,  0.00496494,\n",
       "         0.00937673,  0.00219812,  0.0007813 , -0.00177097, -0.01589873,\n",
       "        -0.02619063, -0.00427704, -0.02507134,  0.0026755 ,  0.01670204,\n",
       "        -0.01568182,  0.00110966,  0.00677837,  0.00170251,  0.02363336,\n",
       "        -0.02712186, -0.00408691, -0.03272132,  0.00122108, -0.01006795,\n",
       "        -0.00052794,  0.01675664, -0.04626079, -0.01857431,  0.00887399,\n",
       "        -0.03706211,  0.00027866, -0.00553901, -0.02357561,  0.01545367,\n",
       "         0.01244629,  0.00192011,  0.01916438, -0.01711993,  0.00674225,\n",
       "        -0.02503943, -0.00102003,  0.00572204, -0.01356876, -0.00642448,\n",
       "         0.04786188, -0.01804642,  0.00540275,  0.00906572,  0.02915771,\n",
       "        -0.01443229,  0.00167437, -0.00167588,  0.00081536,  0.02880802,\n",
       "         0.00829661, -0.0125252 , -0.01209674, -0.0428807 , -0.04196904,\n",
       "        -0.04406212, -0.00370202, -0.00585635,  0.0007767 , -0.04396296,\n",
       "         0.01742464,  0.00144927, -0.00607185, -0.00172666, -0.00543358,\n",
       "        -0.00065069,  0.01893778,  0.00329721, -0.01370649,  0.02535337,\n",
       "        -0.00693884, -0.01442688, -0.00205604,  0.01055222,  0.00370839,\n",
       "        -0.01742257, -0.00888271, -0.00910004, -0.01357563,  0.00647152,\n",
       "         0.01203954, -0.0035483 , -0.03375389, -0.01640401, -0.01103653,\n",
       "        -0.02231167,  0.0302585 , -0.00888249,  0.01163264,  0.00374882,\n",
       "         0.00253906,  0.01376764,  0.00686041, -0.01895973,  0.00809904,\n",
       "        -0.00834761,  0.00941401, -0.01124104, -0.00559678,  0.01055905,\n",
       "        -0.01652618, -0.00045284, -0.00475391, -0.00199049,  0.02136369,\n",
       "         0.01290364,  0.00826588, -0.00399949,  0.0037969 , -0.00876449,\n",
       "         0.00371005,  0.01663125, -0.01156285,  0.04106402, -0.04109135,\n",
       "        -0.01875279,  0.01793191, -0.01174183,  0.01795222, -0.04116846,\n",
       "        -0.02195961, -0.00678646,  0.00375035,  0.00705418, -0.01807658,\n",
       "        -0.01293857,  0.00987075,  0.00424034, -0.01287607, -0.00409383,\n",
       "         0.01598974, -0.00084092,  0.00706228, -0.01184638, -0.02862854,\n",
       "        -0.00521201,  0.01196023, -0.00718228,  0.00362983,  0.02663188,\n",
       "         0.01995376, -0.04981377,  0.0046422 , -0.01856896,  0.00245376,\n",
       "        -0.0477711 , -0.02912779,  0.01138098, -0.03935793, -0.02918999,\n",
       "         0.00104675,  0.01820895, -0.0199192 , -0.00291751, -0.00449283,\n",
       "         0.00336271, -0.00370693,  0.00829122,  0.01421465,  0.004521  ],\n",
       "       dtype=float32)>,\n",
       " <tf.Variable 'batch_normalization_3/gamma:0' shape=(200,) dtype=float32, numpy=\n",
       " array([0.9913204 , 1.0085881 , 0.9980164 , 1.0527481 , 0.9967216 ,\n",
       "        0.9857105 , 0.9954867 , 1.0051539 , 1.0071934 , 1.005671  ,\n",
       "        0.9861128 , 1.0093331 , 0.9860081 , 1.0129938 , 1.0056078 ,\n",
       "        1.0200664 , 0.98513544, 1.0082763 , 0.990258  , 1.0262141 ,\n",
       "        1.0048994 , 0.99242884, 0.9973926 , 1.0023291 , 1.0031595 ,\n",
       "        1.0182981 , 0.9925384 , 0.9897018 , 1.0235827 , 1.0012692 ,\n",
       "        1.028504  , 0.99870014, 0.99836236, 0.99256146, 1.0145308 ,\n",
       "        0.9947614 , 0.9766436 , 0.99277925, 0.9980684 , 1.0008317 ,\n",
       "        1.0280598 , 1.0071236 , 0.9973209 , 1.009256  , 1.0025399 ,\n",
       "        0.99472344, 0.9883627 , 1.0219641 , 0.98002946, 0.9900558 ,\n",
       "        1.0022463 , 0.97889686, 0.96418214, 0.9770735 , 1.0064799 ,\n",
       "        1.0104762 , 0.9929353 , 1.0067856 , 0.99321103, 1.025154  ,\n",
       "        1.0007169 , 1.0093776 , 0.9914119 , 0.99247223, 0.99732476,\n",
       "        1.0320016 , 0.9892707 , 0.99804956, 0.9954613 , 0.99082744,\n",
       "        1.0067827 , 0.9971959 , 0.9973804 , 0.9840139 , 0.99680495,\n",
       "        0.99462026, 1.0251269 , 1.0056252 , 1.0044188 , 0.985231  ,\n",
       "        0.99104947, 0.9892071 , 1.0004765 , 1.0090673 , 1.0245614 ,\n",
       "        0.9813565 , 0.9940345 , 1.0072145 , 0.9978926 , 0.9988715 ,\n",
       "        1.0132344 , 0.97860897, 0.9979409 , 1.0204418 , 1.002502  ,\n",
       "        1.0239084 , 0.9912618 , 1.0164821 , 1.0175385 , 0.9830293 ,\n",
       "        1.0142126 , 0.9850921 , 0.99429095, 1.0006526 , 0.97499174,\n",
       "        0.98420095, 1.0082798 , 0.9988192 , 1.0227185 , 1.0157667 ,\n",
       "        0.99920064, 0.9881302 , 1.0116117 , 0.9975145 , 0.9954045 ,\n",
       "        0.9999927 , 0.979789  , 1.0128616 , 0.9882132 , 1.0211807 ,\n",
       "        0.9854013 , 1.0359144 , 1.0065488 , 0.98934275, 0.99818647,\n",
       "        1.0099314 , 1.0113028 , 0.99024624, 0.96748275, 0.98274755,\n",
       "        0.9864212 , 1.0270706 , 1.0099435 , 1.0206432 , 1.0182198 ,\n",
       "        0.99148744, 1.0261406 , 0.96591306, 1.0005549 , 0.99194336,\n",
       "        0.99207985, 1.0271165 , 1.0107708 , 0.99263626, 0.98736084,\n",
       "        1.0054351 , 0.9958512 , 0.99279076, 1.0071675 , 0.99284905,\n",
       "        1.0046787 , 0.9933623 , 1.0100967 , 0.9918321 , 1.0155106 ,\n",
       "        0.99671686, 1.000512  , 1.0009892 , 0.9774896 , 0.98686606,\n",
       "        0.9955972 , 0.9817183 , 1.0077995 , 0.98183393, 0.9704048 ,\n",
       "        0.98043674, 1.0017871 , 0.99552566, 1.0194604 , 1.020441  ,\n",
       "        1.0140234 , 1.0067726 , 1.001719  , 0.9927319 , 1.0210322 ,\n",
       "        0.99754703, 1.0003034 , 0.97420317, 1.0122142 , 1.0438621 ,\n",
       "        1.0082415 , 1.0345829 , 1.0103325 , 1.0191381 , 1.0007929 ,\n",
       "        1.0175273 , 1.002145  , 1.0028493 , 1.0404999 , 0.9974755 ,\n",
       "        1.0163285 , 0.99911356, 1.0019867 , 1.0109949 , 1.009028  ,\n",
       "        1.034893  , 1.0103819 , 0.97369945, 0.9965844 , 1.0124788 ],\n",
       "       dtype=float32)>,\n",
       " <tf.Variable 'batch_normalization_3/beta:0' shape=(200,) dtype=float32, numpy=\n",
       " array([ 2.14862591e-03,  4.04439792e-02, -4.07689996e-03,  1.53923295e-02,\n",
       "        -1.71874817e-02, -1.50301505e-03,  3.83617692e-02, -6.83431979e-03,\n",
       "         1.23926848e-02,  2.94822436e-02,  5.79892145e-03,  3.32297795e-02,\n",
       "        -2.25333590e-02,  3.65830287e-02, -2.86229197e-02,  3.81075069e-02,\n",
       "         2.78544854e-02, -2.61048712e-02, -9.01420414e-03,  1.29531352e-02,\n",
       "        -1.49789425e-02,  4.15352620e-02,  5.46696819e-02, -6.82561798e-03,\n",
       "        -9.30290669e-03,  1.01999822e-03,  3.12967002e-02,  2.89365537e-02,\n",
       "         1.31182233e-02,  6.21337269e-04, -3.34873004e-03,  8.94037820e-03,\n",
       "        -2.81658536e-03, -7.17718573e-03,  2.71225292e-02,  1.46702230e-02,\n",
       "        -1.27108647e-02,  1.04898857e-02, -6.04872517e-02,  3.92025225e-02,\n",
       "         3.63523676e-03,  1.79529469e-02,  1.55414250e-02,  1.35900844e-02,\n",
       "        -1.68079045e-03, -3.92631218e-02, -1.99235715e-02, -2.21224409e-02,\n",
       "        -4.54672333e-03, -5.74547332e-03, -1.30981440e-02,  7.35671632e-03,\n",
       "         1.64383408e-02,  3.44831198e-02,  2.75158361e-02, -8.21928401e-03,\n",
       "         3.40991020e-02, -3.75833064e-02, -3.78115587e-02, -1.58271044e-02,\n",
       "         6.54271990e-02,  1.94889326e-02, -1.57319009e-02, -1.76457390e-02,\n",
       "        -2.21678484e-02, -2.55673602e-02, -1.16269579e-02, -1.79509930e-02,\n",
       "         1.01665715e-02,  1.72847286e-02,  3.14454921e-02, -3.43794785e-02,\n",
       "        -8.49932490e-04,  2.14389283e-02,  1.67123228e-02, -3.83929769e-03,\n",
       "         2.95086522e-02,  1.64184887e-02,  2.08443534e-02,  1.83918495e-02,\n",
       "        -1.62841529e-02,  1.67950836e-03,  1.32183162e-02,  5.12307510e-03,\n",
       "         1.72735937e-02, -2.55527459e-02,  1.90716274e-02,  9.02259909e-03,\n",
       "        -3.85427685e-03,  3.09883673e-02,  1.24343242e-02, -3.34082078e-03,\n",
       "         2.37538368e-02, -2.36322302e-02, -5.62437922e-02, -3.16783749e-02,\n",
       "        -6.18434045e-03, -3.34198661e-02, -7.98708294e-03,  1.32426794e-04,\n",
       "         3.83593561e-03, -3.42746861e-02, -2.91406065e-02,  7.03707756e-03,\n",
       "         3.64010059e-03,  1.41713368e-02, -5.02966810e-03,  2.51824167e-02,\n",
       "        -1.97221735e-03,  4.15637754e-02, -2.49401145e-02, -1.25144012e-02,\n",
       "         1.16006099e-02,  8.65193643e-03,  2.40070615e-02, -1.64645780e-02,\n",
       "         2.23105997e-02, -4.70503569e-02, -3.16760018e-02,  1.91597231e-02,\n",
       "         3.65024321e-02,  3.23172174e-02, -2.24488955e-02,  4.62272111e-03,\n",
       "        -1.85792632e-02, -3.15357260e-02,  3.66473012e-02, -2.47871201e-03,\n",
       "         2.09100787e-02,  5.17336801e-02,  6.74357289e-05,  2.17991117e-02,\n",
       "        -3.71653736e-02, -1.74423642e-02, -3.48304808e-02, -1.57705341e-02,\n",
       "         5.18650450e-02, -1.93295553e-02,  1.79968327e-02,  2.50959247e-02,\n",
       "        -6.80006482e-03,  1.52845476e-02, -4.99071144e-02,  3.06282230e-02,\n",
       "         6.97712926e-03,  2.06994638e-02,  2.26973929e-02,  2.03401372e-02,\n",
       "        -3.30277579e-03, -1.90811965e-03,  1.77931152e-02,  2.26005260e-02,\n",
       "         1.82527192e-02,  4.60358933e-02, -4.41449918e-02, -3.56457313e-03,\n",
       "         7.92847294e-03,  8.11641291e-03,  4.11908403e-02,  5.70693286e-03,\n",
       "        -1.46627915e-03, -7.21532805e-03,  1.24687133e-02,  3.42060030e-02,\n",
       "         2.34986958e-03, -9.00161359e-03,  2.28187572e-02,  1.85120236e-02,\n",
       "        -1.82974283e-02, -2.28226315e-02,  1.20719001e-02,  1.78494453e-02,\n",
       "        -1.52987493e-02,  4.45601065e-03, -3.23131308e-02, -1.04023959e-03,\n",
       "         2.03375444e-02, -8.16100510e-04,  7.81469978e-03,  3.55465524e-02,\n",
       "         2.11411137e-02, -2.41756961e-02, -5.92256803e-03, -4.55538593e-02,\n",
       "         2.12664139e-02, -3.12115550e-02, -1.92375220e-02,  2.14587562e-02,\n",
       "        -2.38742288e-02, -1.21176615e-02,  4.31537395e-03,  2.79213395e-02,\n",
       "        -4.03864942e-02, -4.44839522e-02, -2.59161517e-02,  6.78339740e-03,\n",
       "        -2.04197951e-02,  3.26212496e-02,  3.37312110e-02, -3.58859380e-03],\n",
       "       dtype=float32)>,\n",
       " <tf.Variable 'batch_normalization_3/moving_mean:0' shape=(200,) dtype=float32, numpy=\n",
       " array([0.63209486, 1.3490956 , 0.5701338 , 0.9507522 , 0.7361943 ,\n",
       "        0.5509492 , 1.1204767 , 0.9687891 , 1.1229942 , 1.0718563 ,\n",
       "        0.56239307, 1.352134  , 1.0273312 , 1.15474   , 0.66693014,\n",
       "        1.5809598 , 1.1989045 , 0.6603436 , 0.5305835 , 0.76897186,\n",
       "        0.61135685, 0.8403228 , 1.4146229 , 0.5602421 , 0.77890587,\n",
       "        0.5726455 , 1.0777212 , 0.46388245, 0.97773147, 0.89461863,\n",
       "        0.59889495, 0.7454015 , 1.244091  , 0.5154314 , 1.1467485 ,\n",
       "        0.6186155 , 0.9494225 , 0.5451844 , 0.41327173, 1.1572883 ,\n",
       "        1.3885955 , 0.9496853 , 1.069534  , 0.73304254, 0.60216904,\n",
       "        0.5780416 , 0.6796792 , 0.55521345, 0.41427386, 1.0225682 ,\n",
       "        0.4490451 , 0.39038983, 0.7875607 , 1.0186023 , 0.59971786,\n",
       "        0.44044164, 0.7175143 , 0.55629003, 0.5668765 , 0.44238058,\n",
       "        1.2203069 , 1.074018  , 0.31080353, 0.53551084, 0.48730215,\n",
       "        0.71269816, 0.59236115, 0.8226339 , 0.5108573 , 1.7406837 ,\n",
       "        1.3128704 , 0.5136454 , 0.7922867 , 0.7009516 , 0.58510923,\n",
       "        0.4151115 , 0.9231881 , 0.75558424, 1.1609064 , 0.7164895 ,\n",
       "        0.59504896, 0.40480933, 0.7194606 , 0.9267766 , 0.99652696,\n",
       "        0.52020043, 0.6084376 , 0.5497708 , 0.9492854 , 0.75033   ,\n",
       "        0.9437513 , 0.44178376, 0.7163044 , 0.7130994 , 0.46789375,\n",
       "        0.478102  , 0.56068844, 0.49169216, 0.8016767 , 0.7031816 ,\n",
       "        0.8339324 , 0.530262  , 0.57013255, 0.9226096 , 0.76794016,\n",
       "        0.6051597 , 1.1004311 , 0.9300376 , 0.7662909 , 1.455754  ,\n",
       "        0.8385171 , 0.5022683 , 0.6620403 , 0.8028534 , 0.70694697,\n",
       "        0.59589523, 1.0388267 , 0.6277365 , 0.3593148 , 1.3370519 ,\n",
       "        0.8072862 , 1.105554  , 0.6170878 , 0.77965677, 0.48619026,\n",
       "        0.65267307, 0.9706891 , 0.9923993 , 0.4142605 , 0.74376875,\n",
       "        0.82256603, 1.0628895 , 0.62514067, 0.35092136, 0.4623567 ,\n",
       "        0.45741415, 0.6470837 , 0.467667  , 0.9099198 , 1.162718  ,\n",
       "        0.701745  , 1.5735918 , 0.45444232, 0.5831801 , 0.93036795,\n",
       "        0.7760795 , 0.72967964, 1.104781  , 0.64774805, 0.62769485,\n",
       "        0.8426713 , 0.4905285 , 0.81045604, 0.9238576 , 0.7144025 ,\n",
       "        0.8543047 , 0.71944916, 0.8662488 , 0.662016  , 0.37911093,\n",
       "        0.6480146 , 0.60984004, 1.0416983 , 0.78000146, 0.69942427,\n",
       "        0.5681816 , 1.1822293 , 0.7248773 , 0.7053693 , 0.42195642,\n",
       "        0.8463399 , 0.98788327, 0.57564354, 0.5618851 , 0.5330456 ,\n",
       "        0.7800785 , 0.81357235, 0.4283704 , 1.1479377 , 1.4258431 ,\n",
       "        0.5720291 , 0.54999053, 0.902066  , 0.35618114, 0.9682936 ,\n",
       "        0.38275218, 0.49926445, 0.82729685, 0.78119534, 0.4798578 ,\n",
       "        1.0575789 , 1.006841  , 0.4475861 , 0.42153502, 0.76056886,\n",
       "        1.0113809 , 0.6705578 , 0.54573876, 0.52822095, 1.0726736 ],\n",
       "       dtype=float32)>,\n",
       " <tf.Variable 'batch_normalization_3/moving_variance:0' shape=(200,) dtype=float32, numpy=\n",
       " array([1.0130051 , 3.7648563 , 0.86316824, 1.8775822 , 1.5126536 ,\n",
       "        0.84077334, 3.0644174 , 2.6435819 , 2.63014   , 2.8044796 ,\n",
       "        0.82642907, 3.9624298 , 2.2699127 , 2.847159  , 0.9070471 ,\n",
       "        5.247047  , 4.084075  , 1.1650219 , 0.7659126 , 1.4850546 ,\n",
       "        1.4498663 , 1.8110855 , 4.0249443 , 0.87441933, 1.191925  ,\n",
       "        0.715405  , 2.7983804 , 0.6157417 , 2.1777463 , 1.709905  ,\n",
       "        0.9078895 , 1.4836416 , 3.6203394 , 0.79866743, 2.9298766 ,\n",
       "        1.3830957 , 2.588428  , 0.9339321 , 0.56542766, 2.9397683 ,\n",
       "        3.795349  , 2.1316009 , 2.8064692 , 1.4410349 , 0.8134228 ,\n",
       "        0.8420494 , 1.2366786 , 0.7509025 , 0.5589377 , 1.857648  ,\n",
       "        0.62692964, 0.48768166, 1.8314735 , 2.7706673 , 0.85418415,\n",
       "        0.7248984 , 1.3787179 , 1.1677921 , 0.89129156, 0.51294947,\n",
       "        3.250077  , 2.5995414 , 0.38523158, 0.8007059 , 0.666247  ,\n",
       "        1.046366  , 1.0098708 , 1.591753  , 0.8980738 , 6.481578  ,\n",
       "        3.7404234 , 0.68531513, 1.7514536 , 1.2772093 , 0.9209983 ,\n",
       "        0.47651464, 2.0205793 , 1.6914357 , 2.9590464 , 1.6936215 ,\n",
       "        1.0240632 , 0.55365217, 1.0123376 , 1.9981604 , 2.538312  ,\n",
       "        0.804833  , 1.1151534 , 0.92151743, 2.019343  , 1.1445935 ,\n",
       "        2.0146983 , 0.65539783, 1.545463  , 1.1015309 , 0.960267  ,\n",
       "        0.93861425, 1.071276  , 0.71862364, 1.7814122 , 1.728729  ,\n",
       "        1.7473172 , 0.9247988 , 0.83166635, 2.3235316 , 1.2026744 ,\n",
       "        1.2000213 , 1.942013  , 2.0902855 , 1.1184725 , 4.332006  ,\n",
       "        2.264891  , 0.82646227, 1.1252688 , 1.5294005 , 1.2908183 ,\n",
       "        0.8431377 , 2.710433  , 1.0082592 , 0.4706628 , 3.84943   ,\n",
       "        1.6946759 , 2.4888864 , 0.8714885 , 1.9752265 , 0.8543548 ,\n",
       "        1.0251915 , 2.2465591 , 2.4142127 , 0.5369268 , 1.7362986 ,\n",
       "        1.8905946 , 2.3927047 , 1.0401006 , 0.452646  , 0.70060366,\n",
       "        0.6113337 , 0.98074925, 0.6499078 , 2.2419748 , 3.0560353 ,\n",
       "        1.2939619 , 5.0324817 , 0.6630021 , 0.8326722 , 1.8240124 ,\n",
       "        1.6944137 , 1.2480578 , 2.344175  , 1.1991768 , 1.0572699 ,\n",
       "        2.196618  , 0.7169976 , 1.7927763 , 1.8956755 , 1.1223795 ,\n",
       "        1.8400767 , 1.0346352 , 2.4057508 , 1.3583623 , 0.49906102,\n",
       "        1.2226623 , 0.8353221 , 2.5028636 , 1.8950498 , 1.2924118 ,\n",
       "        1.0957445 , 3.3763287 , 1.267332  , 1.0707289 , 0.67849404,\n",
       "        1.7783737 , 2.8667583 , 0.91012853, 1.0905402 , 0.9366396 ,\n",
       "        1.5757526 , 1.707994  , 0.5002456 , 2.8433788 , 4.130986  ,\n",
       "        0.84904903, 0.95733625, 1.7704812 , 0.47240263, 2.1370378 ,\n",
       "        0.5544499 , 0.7106192 , 1.8295245 , 1.270559  , 0.6956489 ,\n",
       "        2.2939394 , 2.213591  , 0.7354034 , 0.65989345, 1.1343863 ,\n",
       "        2.0130916 , 1.1949798 , 1.0109434 , 0.74751836, 3.2420244 ],\n",
       "       dtype=float32)>,\n",
       " <tf.Variable 'dense_6/kernel:0' shape=(200, 100) dtype=float32, numpy=\n",
       " array([[ 0.12201834, -0.09974115, -0.02372489, ..., -0.0751292 ,\n",
       "          0.08496664,  0.00692071],\n",
       "        [-0.13127656,  0.01697049,  0.04795138, ..., -0.01629457,\n",
       "          0.08771108,  0.04621175],\n",
       "        [-0.05165521, -0.06578759, -0.04073435, ...,  0.10332868,\n",
       "         -0.03297457, -0.08699993],\n",
       "        ...,\n",
       "        [ 0.09779981,  0.00654648,  0.03900461, ...,  0.03040988,\n",
       "          0.08078304,  0.0827824 ],\n",
       "        [ 0.1330514 , -0.10354522,  0.1490265 , ..., -0.09453209,\n",
       "         -0.00330344,  0.10223327],\n",
       "        [ 0.04066872, -0.02900475, -0.06320173, ...,  0.0060956 ,\n",
       "         -0.02839444,  0.04166297]], dtype=float32)>,\n",
       " <tf.Variable 'dense_6/bias:0' shape=(100,) dtype=float32, numpy=\n",
       " array([ 0.02576307,  0.00359195,  0.04470067,  0.02650997, -0.02731056,\n",
       "        -0.01053827, -0.0034954 , -0.01516112,  0.00599427, -0.01351612,\n",
       "        -0.00906057, -0.00476213, -0.0338755 ,  0.02089538, -0.00908938,\n",
       "         0.0179071 ,  0.01120051,  0.00017713,  0.00498626,  0.01826449,\n",
       "         0.01150408,  0.03474854, -0.01554875,  0.01209086, -0.00597476,\n",
       "        -0.02495793, -0.01268032, -0.01860086,  0.02142224, -0.03572293,\n",
       "        -0.03058346,  0.00495319, -0.00827341,  0.02969139,  0.01635377,\n",
       "        -0.02519213,  0.01590245, -0.01613845, -0.01150279, -0.00329323,\n",
       "        -0.03315639,  0.03410524, -0.01692533, -0.00618146,  0.00744123,\n",
       "        -0.00447001,  0.03460652,  0.00239401,  0.01121862, -0.00509671,\n",
       "         0.03744781, -0.01712128,  0.00731555, -0.01957259,  0.02066374,\n",
       "        -0.03064465,  0.01055452, -0.00100658, -0.01530828, -0.01227407,\n",
       "        -0.02389625,  0.04486145,  0.02596908, -0.03383995, -0.00983876,\n",
       "        -0.04920292,  0.02537986,  0.01823814,  0.02751455, -0.01888737,\n",
       "        -0.02144832, -0.04159224,  0.0116741 , -0.01598259,  0.01910529,\n",
       "         0.02118714, -0.01742859,  0.02960799, -0.01480561, -0.00691603,\n",
       "         0.05838001,  0.02882829, -0.01911253, -0.00360591, -0.01288958,\n",
       "        -0.03282099, -0.02712737, -0.02722967, -0.02195087,  0.00946623,\n",
       "         0.04938583,  0.01201255, -0.00414105,  0.00171655,  0.01593702,\n",
       "        -0.0446371 , -0.03022106, -0.01964605,  0.05726738, -0.00719636],\n",
       "       dtype=float32)>,\n",
       " <tf.Variable 'dense_7/kernel:0' shape=(100, 2) dtype=float32, numpy=\n",
       " array([[ 0.19015427,  0.2627689 ],\n",
       "        [-0.08750969,  0.20693347],\n",
       "        [-0.1990105 , -0.12500063],\n",
       "        [-0.15749083,  0.26558205],\n",
       "        [ 0.13739744,  0.07247109],\n",
       "        [ 0.23563632, -0.06348754],\n",
       "        [ 0.14833383,  0.15748191],\n",
       "        [ 0.16605166,  0.09643225],\n",
       "        [-0.11460645,  0.09639205],\n",
       "        [-0.05819242, -0.13378558],\n",
       "        [ 0.22603953, -0.01840777],\n",
       "        [ 0.15547594,  0.05286435],\n",
       "        [ 0.22285613, -0.02336119],\n",
       "        [-0.04117119,  0.24438237],\n",
       "        [ 0.15691406, -0.03804925],\n",
       "        [-0.26056144,  0.03400163],\n",
       "        [-0.23061593, -0.15217777],\n",
       "        [ 0.01476957,  0.1757862 ],\n",
       "        [-0.18101352,  0.05180277],\n",
       "        [-0.1250927 ,  0.15504673],\n",
       "        [-0.24048345,  0.19758171],\n",
       "        [ 0.01276264,  0.18781799],\n",
       "        [ 0.13843714,  0.09203851],\n",
       "        [-0.23079762, -0.01264677],\n",
       "        [ 0.04839455,  0.07229471],\n",
       "        [ 0.02064619, -0.06575555],\n",
       "        [ 0.24333148,  0.04147679],\n",
       "        [ 0.15255661, -0.18404453],\n",
       "        [-0.20616777,  0.07483958],\n",
       "        [ 0.22911513, -0.21647964],\n",
       "        [ 0.10242032,  0.00531083],\n",
       "        [-0.20211822, -0.15855405],\n",
       "        [-0.03974628,  0.10717499],\n",
       "        [-0.20626163,  0.04613543],\n",
       "        [-0.16633959,  0.1398991 ],\n",
       "        [-0.06616452, -0.05919882],\n",
       "        [-0.08526843,  0.18333821],\n",
       "        [ 0.0154038 , -0.234318  ],\n",
       "        [ 0.16979116,  0.12256485],\n",
       "        [-0.06968346, -0.01707673],\n",
       "        [ 0.13777213,  0.06665068],\n",
       "        [ 0.00627776,  0.21572876],\n",
       "        [-0.00512607, -0.0588461 ],\n",
       "        [ 0.0450578 ,  0.0916917 ],\n",
       "        [-0.24669948, -0.12530333],\n",
       "        [-0.17734218, -0.06888471],\n",
       "        [-0.21918924, -0.11924011],\n",
       "        [-0.06641941,  0.13950992],\n",
       "        [-0.22512935, -0.03433271],\n",
       "        [ 0.04251483,  0.18219014],\n",
       "        [-0.1190146 ,  0.18294199],\n",
       "        [ 0.08043349, -0.07967813],\n",
       "        [ 0.21342808,  0.23969938],\n",
       "        [ 0.15005364, -0.01305372],\n",
       "        [-0.21657038,  0.15166983],\n",
       "        [ 0.17755835,  0.11449061],\n",
       "        [-0.12540738,  0.04903566],\n",
       "        [ 0.00864913, -0.06783384],\n",
       "        [ 0.06968299, -0.11438454],\n",
       "        [ 0.04188997,  0.01190892],\n",
       "        [-0.01975236, -0.03791535],\n",
       "        [-0.2242543 , -0.11141849],\n",
       "        [-0.23728669, -0.00510306],\n",
       "        [ 0.19701491,  0.21409725],\n",
       "        [-0.1742855 , -0.11458038],\n",
       "        [ 0.09620249, -0.1894751 ],\n",
       "        [ 0.05675572,  0.15237512],\n",
       "        [-0.1421662 ,  0.15180287],\n",
       "        [-0.07101198,  0.15430894],\n",
       "        [-0.07687285, -0.18790948],\n",
       "        [ 0.08555792, -0.21482839],\n",
       "        [-0.14555849, -0.17165014],\n",
       "        [-0.1305766 ,  0.10721547],\n",
       "        [ 0.02272308, -0.01430742],\n",
       "        [ 0.06352078,  0.12436652],\n",
       "        [-0.07862984,  0.22738549],\n",
       "        [ 0.10894425, -0.07247664],\n",
       "        [-0.1935116 ,  0.23545308],\n",
       "        [ 0.07419842,  0.07703014],\n",
       "        [-0.00064294,  0.0071596 ],\n",
       "        [-0.09689149,  0.19549133],\n",
       "        [-0.2432785 , -0.16418669],\n",
       "        [-0.00070852, -0.11731569],\n",
       "        [-0.10095691, -0.07187818],\n",
       "        [ 0.21725895,  0.23038301],\n",
       "        [ 0.00947636, -0.11274865],\n",
       "        [ 0.17189568,  0.07368861],\n",
       "        [ 0.16753215, -0.10208062],\n",
       "        [ 0.02136256, -0.04591317],\n",
       "        [-0.17071126,  0.19190946],\n",
       "        [-0.23321868, -0.05661732],\n",
       "        [-0.22512883,  0.16045624],\n",
       "        [-0.2363586 , -0.04686395],\n",
       "        [-0.16438185,  0.24741398],\n",
       "        [-0.19837897, -0.07636646],\n",
       "        [ 0.16245334,  0.05600436],\n",
       "        [ 0.063441  , -0.04828432],\n",
       "        [ 0.04826533, -0.21161772],\n",
       "        [-0.25875553, -0.11870269],\n",
       "        [-0.05499508, -0.22683376]], dtype=float32)>,\n",
       " <tf.Variable 'dense_7/bias:0' shape=(2,) dtype=float32, numpy=array([-0.02125922,  0.02125925], dtype=float32)>]"
      ]
     },
     "execution_count": 134,
     "metadata": {
      "tags": []
     },
     "output_type": "execute_result"
    }
   ],
   "source": [
    "a = model.weights\n",
    "a"
   ]
  },
  {
   "cell_type": "code",
   "execution_count": 135,
   "metadata": {
    "colab": {
     "base_uri": "https://localhost:8080/",
     "height": 265
    },
    "colab_type": "code",
    "id": "UR2_SgjmRnY7",
    "outputId": "0b6028e5-c983-4e7d-c791-887eda54ced0"
   },
   "outputs": [
    {
     "data": {
      "image/png": "[encoded data removed]",
      "text/plain": [
       "<Figure size 432x288 with 1 Axes>"
      ]
     },
     "metadata": {
      "tags": []
     },
     "output_type": "display_data"
    }
   ],
   "source": [
    "plt.hist(model.get_weights()[0].ravel(),100)\n",
    "plt.show()"
   ]
  },
  {
   "cell_type": "markdown",
   "metadata": {
    "colab_type": "text",
    "id": "h7NimVYOTSga"
   },
   "source": [
    "### 6.4.predict_proba"
   ]
  },
  {
   "cell_type": "code",
   "execution_count": 136,
   "metadata": {
    "colab": {
     "base_uri": "https://localhost:8080/",
     "height": 185
    },
    "colab_type": "code",
    "id": "hxpAQTfMRpgx",
    "outputId": "7672c5bd-996d-43d3-dc7e-f0dfdc2676aa"
   },
   "outputs": [
    {
     "data": {
      "text/plain": [
       "array([[8.6477790e-08, 9.9999988e-01],\n",
       "       [3.3923880e-06, 9.9999666e-01],\n",
       "       [2.5497424e-09, 1.0000000e+00],\n",
       "       [2.2048387e-05, 9.9997795e-01],\n",
       "       [9.5887708e-07, 9.9999905e-01],\n",
       "       [3.3719188e-03, 9.9662811e-01],\n",
       "       [3.4329151e-03, 9.9656701e-01],\n",
       "       [6.5616639e-08, 9.9999988e-01],\n",
       "       [6.9421130e-01, 3.0578864e-01],\n",
       "       [8.6541127e-07, 9.9999917e-01]], dtype=float32)"
      ]
     },
     "execution_count": 136,
     "metadata": {
      "tags": []
     },
     "output_type": "execute_result"
    }
   ],
   "source": [
    "model.predict_proba(X_test)[0:10, :]"
   ]
  },
  {
   "cell_type": "markdown",
   "metadata": {
    "colab_type": "text",
    "id": "_amUQgN6Tduq"
   },
   "source": [
    "Left column shows for class 0 and right for class 1"
   ]
  },
  {
   "cell_type": "code",
   "execution_count": 137,
   "metadata": {
    "colab": {
     "base_uri": "https://localhost:8080/",
     "height": 34
    },
    "colab_type": "code",
    "id": "gm9Ajdt5TYgn",
    "outputId": "7d788a61-95df-482d-d963-32ebfcac198f"
   },
   "outputs": [
    {
     "name": "stdout",
     "output_type": "stream",
     "text": [
      "[8.6477790e-08 3.3923880e-06 2.5497424e-09 2.2048387e-05 9.5887708e-07]\n"
     ]
    }
   ],
   "source": [
    "# for only all zeros\n",
    "\n",
    "pred_prob_cl0 = model.predict_proba(X_test)[:, 0]\n",
    "print(pred_prob_cl0[:5])"
   ]
  },
  {
   "cell_type": "code",
   "execution_count": 138,
   "metadata": {
    "colab": {
     "base_uri": "https://localhost:8080/",
     "height": 34
    },
    "colab_type": "code",
    "id": "imdO-h-NTngu",
    "outputId": "053c8603-5478-4096-ad04-14339aa04d4f"
   },
   "outputs": [
    {
     "name": "stdout",
     "output_type": "stream",
     "text": [
      "[8.6477790e-08 3.3923880e-06 2.5497424e-09 2.2048387e-05 9.5887708e-07]\n"
     ]
    }
   ],
   "source": [
    "# for all ones\n",
    "pred_prob_cl1 = model.predict_proba(X_test)[:, 1]\n",
    "print(pred_prob_cl0[:5])"
   ]
  },
  {
   "cell_type": "code",
   "execution_count": 139,
   "metadata": {
    "colab": {
     "base_uri": "https://localhost:8080/",
     "height": 316
    },
    "colab_type": "code",
    "id": "jZyLmSg8TtQg",
    "outputId": "c049da0e-3655-4fd9-f633-509c30d4ddaa"
   },
   "outputs": [
    {
     "data": {
      "text/plain": [
       "Text(0, 0.5, 'Frequency')"
      ]
     },
     "execution_count": 139,
     "metadata": {
      "tags": []
     },
     "output_type": "execute_result"
    },
    {
     "data": {
      "image/png": "[encoded data removed]",
      "text/plain": [
       "<Figure size 432x288 with 1 Axes>"
      ]
     },
     "metadata": {
      "tags": []
     },
     "output_type": "display_data"
    }
   ],
   "source": [
    "# histogram of predicted probabilities with zero class\n",
    "plt.hist(pred_prob_cl0, bins=8)\n",
    "plt.xlim(0, 1)\n",
    "plt.title('Histogram of predicted probabilities')\n",
    "plt.xlabel('Predicted probability for class zero i.e -1')\n",
    "plt.ylabel('Frequency')"
   ]
  },
  {
   "cell_type": "code",
   "execution_count": 140,
   "metadata": {
    "colab": {
     "base_uri": "https://localhost:8080/",
     "height": 316
    },
    "colab_type": "code",
    "id": "JRuohrHfT2mv",
    "outputId": "697dcdf6-f2f3-4693-e9a1-05e99014c915"
   },
   "outputs": [
    {
     "data": {
      "text/plain": [
       "Text(0, 0.5, 'Frequency')"
      ]
     },
     "execution_count": 140,
     "metadata": {
      "tags": []
     },
     "output_type": "execute_result"
    },
    {
     "data": {
      "image/png": "[encoded data removed]",
      "text/plain": [
       "<Figure size 432x288 with 1 Axes>"
      ]
     },
     "metadata": {
      "tags": []
     },
     "output_type": "display_data"
    }
   ],
   "source": [
    "# histogram of predicted probabilities for class one\n",
    "plt.hist(pred_prob_cl1, bins=8)\n",
    "plt.xlim(0, 1)\n",
    "plt.title('Histogram of predicted probabilities')\n",
    "plt.xlabel('Predicted probability for class 1')\n",
    "plt.ylabel('Frequency')"
   ]
  },
  {
   "cell_type": "markdown",
   "metadata": {
    "colab_type": "text",
    "id": "RUHr6CZMUGF0"
   },
   "source": [
    "### 6.5.ROC curve"
   ]
  },
  {
   "cell_type": "code",
   "execution_count": 141,
   "metadata": {
    "colab": {},
    "colab_type": "code",
    "id": "mPcCzPq7T_ih"
   },
   "outputs": [],
   "source": [
    "from sklearn.metrics import roc_curve\n",
    "roc_score=roc_curve(y_test, pred_prob_cl1)"
   ]
  },
  {
   "cell_type": "code",
   "execution_count": 142,
   "metadata": {
    "colab": {
     "base_uri": "https://localhost:8080/",
     "height": 517
    },
    "colab_type": "code",
    "id": "16aouMqkUJes",
    "outputId": "9cce6171-b69b-40d5-9713-6d97dac27b50"
   },
   "outputs": [
    {
     "data": {
      "image/png": "[encoded data removed]",
      "text/plain": [
       "<Figure size 720x576 with 1 Axes>"
      ]
     },
     "metadata": {
      "tags": []
     },
     "output_type": "display_data"
    }
   ],
   "source": [
    "# Representing roc_curve\n",
    "from sklearn.metrics import roc_curve\n",
    "fpr, tpr, thres = roc_curve(y_test, pred_prob_cl1)\n",
    "\n",
    "\n",
    "def _plot_roc_curve(fpr, tpr, thres):\n",
    "    roc = plt.figure(figsize = (10, 8))\n",
    "    plt.plot(fpr, tpr, 'b-', label = 'ROC')\n",
    "    plt.plot([0, 1], [0, 1], '--')\n",
    "    plt.axis([0, 1, 0, 1])\n",
    "    plt.xlabel('False Positive Rate(1 - Specificity)')\n",
    "    plt.ylabel('True Positive Rate(Sensitivity)')\n",
    "    plt.title('ROC Curve')\n",
    "    return roc\n",
    "p1 = _plot_roc_curve(fpr, tpr, thres)"
   ]
  },
  {
   "cell_type": "markdown",
   "metadata": {
    "colab_type": "text",
    "id": "lORQbJ6LUXsc"
   },
   "source": [
    "### 6.6.AUC"
   ]
  },
  {
   "cell_type": "code",
   "execution_count": 143,
   "metadata": {
    "colab": {
     "base_uri": "https://localhost:8080/",
     "height": 34
    },
    "colab_type": "code",
    "id": "bvWNCQqTUMXA",
    "outputId": "5e59fe64-e88f-4790-a71e-0fb6513dd5f0"
   },
   "outputs": [
    {
     "data": {
      "text/plain": [
       "0.9726463995516952"
      ]
     },
     "execution_count": 143,
     "metadata": {
      "tags": []
     },
     "output_type": "execute_result"
    }
   ],
   "source": [
    "from sklearn.metrics import auc\n",
    "auc(fpr, tpr)"
   ]
  },
  {
   "cell_type": "code",
   "execution_count": 144,
   "metadata": {
    "colab": {
     "base_uri": "https://localhost:8080/",
     "height": 517
    },
    "colab_type": "code",
    "id": "KZX2RMDNUaah",
    "outputId": "8c90c55f-171f-4e1a-b410-f0199989395f"
   },
   "outputs": [
    {
     "data": {
      "image/png": "[encoded data removed]",
      "text/plain": [
       "<Figure size 720x576 with 1 Axes>"
      ]
     },
     "metadata": {
      "tags": []
     },
     "output_type": "display_data"
    }
   ],
   "source": [
    "from sklearn.metrics import roc_curve, precision_recall_curve\n",
    "prec, rec, thres = precision_recall_curve(y_test, pred_prob_cl1)\n",
    "\n",
    "def _plot_prec_rec_curve(prec, rec, thres):\n",
    "    plot_pr = plt.figure(figsize = (10, 8))\n",
    "    plt.plot(thres, prec[:-1], 'b--', label = 'Precision')\n",
    "    plt.plot(thres, rec[:-1], 'g-', label = 'Recall')\n",
    "    plt.xlabel('Threshold')\n",
    "    plt.ylabel('Probability')\n",
    "    plt.title('Precsion vs Recall Curve')\n",
    "    plt.legend()\n",
    "    #return plot_pr(it creates duplicate graph)\n",
    "\n",
    "_plot_prec_rec_curve(prec, rec, thres)"
   ]
  },
  {
   "cell_type": "markdown",
   "metadata": {
    "colab_type": "text",
    "id": "hPXQ2dGhU2xI"
   },
   "source": [
    "Ideally, we get threshold point at 0.5 where both sensitivity and precision cross each other. In our case, it is 0.6 slightly higher than what we should have. It slightly gives a hint that our model has few values that are making it tough to provide good and precise prediction."
   ]
  },
  {
   "cell_type": "markdown",
   "metadata": {
    "colab_type": "text",
    "id": "Ok5cTGGMZOKt"
   },
   "source": [
    "# 7-Submission"
   ]
  },
  {
   "cell_type": "code",
   "execution_count": 146,
   "metadata": {
    "colab": {
     "base_uri": "https://localhost:8080/",
     "height": 34
    },
    "colab_type": "code",
    "id": "K4AM--wVhdEb",
    "outputId": "1877452f-68cd-4a1e-cf2e-fbe227e20b67"
   },
   "outputs": [
    {
     "data": {
      "text/plain": [
       "(1249, 10000)"
      ]
     },
     "execution_count": 146,
     "metadata": {
      "tags": []
     },
     "output_type": "execute_result"
    }
   ],
   "source": [
    "data_xtest.shape"
   ]
  },
  {
   "cell_type": "code",
   "execution_count": 147,
   "metadata": {
    "colab": {
     "base_uri": "https://localhost:8080/",
     "height": 244
    },
    "colab_type": "code",
    "id": "f2Yuv3HGiBVW",
    "outputId": "ca68c2a6-9fdb-40d9-a8cd-0487cfd55492"
   },
   "outputs": [
    {
     "data": {
      "text/html": [
       "<div>\n",
       "<style scoped>\n",
       "    .dataframe tbody tr th:only-of-type {\n",
       "        vertical-align: middle;\n",
       "    }\n",
       "\n",
       "    .dataframe tbody tr th {\n",
       "        vertical-align: top;\n",
       "    }\n",
       "\n",
       "    .dataframe thead th {\n",
       "        text-align: right;\n",
       "    }\n",
       "</style>\n",
       "<table border=\"1\" class=\"dataframe\">\n",
       "  <thead>\n",
       "    <tr style=\"text-align: right;\">\n",
       "      <th></th>\n",
       "      <th>feature0</th>\n",
       "      <th>feature1</th>\n",
       "      <th>feature2</th>\n",
       "      <th>feature3</th>\n",
       "      <th>feature4</th>\n",
       "      <th>feature5</th>\n",
       "      <th>feature6</th>\n",
       "      <th>feature7</th>\n",
       "      <th>feature8</th>\n",
       "      <th>feature9</th>\n",
       "      <th>feature10</th>\n",
       "      <th>feature11</th>\n",
       "      <th>feature12</th>\n",
       "      <th>feature13</th>\n",
       "      <th>feature14</th>\n",
       "      <th>feature15</th>\n",
       "      <th>feature16</th>\n",
       "      <th>feature17</th>\n",
       "      <th>feature18</th>\n",
       "      <th>feature19</th>\n",
       "      <th>feature20</th>\n",
       "      <th>feature21</th>\n",
       "      <th>feature22</th>\n",
       "      <th>feature23</th>\n",
       "      <th>feature24</th>\n",
       "      <th>feature25</th>\n",
       "      <th>feature26</th>\n",
       "      <th>feature27</th>\n",
       "      <th>feature28</th>\n",
       "      <th>feature29</th>\n",
       "      <th>feature30</th>\n",
       "      <th>feature31</th>\n",
       "      <th>feature32</th>\n",
       "      <th>feature33</th>\n",
       "      <th>feature34</th>\n",
       "      <th>feature35</th>\n",
       "      <th>feature36</th>\n",
       "      <th>feature37</th>\n",
       "      <th>feature38</th>\n",
       "      <th>feature39</th>\n",
       "      <th>...</th>\n",
       "      <th>feature9960</th>\n",
       "      <th>feature9961</th>\n",
       "      <th>feature9962</th>\n",
       "      <th>feature9963</th>\n",
       "      <th>feature9964</th>\n",
       "      <th>feature9965</th>\n",
       "      <th>feature9966</th>\n",
       "      <th>feature9967</th>\n",
       "      <th>feature9968</th>\n",
       "      <th>feature9969</th>\n",
       "      <th>feature9970</th>\n",
       "      <th>feature9971</th>\n",
       "      <th>feature9972</th>\n",
       "      <th>feature9973</th>\n",
       "      <th>feature9974</th>\n",
       "      <th>feature9975</th>\n",
       "      <th>feature9976</th>\n",
       "      <th>feature9977</th>\n",
       "      <th>feature9978</th>\n",
       "      <th>feature9979</th>\n",
       "      <th>feature9980</th>\n",
       "      <th>feature9981</th>\n",
       "      <th>feature9982</th>\n",
       "      <th>feature9983</th>\n",
       "      <th>feature9984</th>\n",
       "      <th>feature9985</th>\n",
       "      <th>feature9986</th>\n",
       "      <th>feature9987</th>\n",
       "      <th>feature9988</th>\n",
       "      <th>feature9989</th>\n",
       "      <th>feature9990</th>\n",
       "      <th>feature9991</th>\n",
       "      <th>feature9992</th>\n",
       "      <th>feature9993</th>\n",
       "      <th>feature9994</th>\n",
       "      <th>feature9995</th>\n",
       "      <th>feature9996</th>\n",
       "      <th>feature9997</th>\n",
       "      <th>feature9998</th>\n",
       "      <th>feature9999</th>\n",
       "    </tr>\n",
       "  </thead>\n",
       "  <tbody>\n",
       "    <tr>\n",
       "      <th>0</th>\n",
       "      <td>0.609241</td>\n",
       "      <td>1.791523</td>\n",
       "      <td>-2.124618</td>\n",
       "      <td>0.089341</td>\n",
       "      <td>-1.490476</td>\n",
       "      <td>0.300628</td>\n",
       "      <td>0.280798</td>\n",
       "      <td>-0.051802</td>\n",
       "      <td>0.543903</td>\n",
       "      <td>1.020866</td>\n",
       "      <td>0.758481</td>\n",
       "      <td>1.230090</td>\n",
       "      <td>-0.034555</td>\n",
       "      <td>0.304648</td>\n",
       "      <td>-1.257635</td>\n",
       "      <td>-1.515956</td>\n",
       "      <td>0.221911</td>\n",
       "      <td>-0.097428</td>\n",
       "      <td>-1.132751</td>\n",
       "      <td>-0.289703</td>\n",
       "      <td>-0.610075</td>\n",
       "      <td>-0.088000</td>\n",
       "      <td>-1.196245</td>\n",
       "      <td>0.258591</td>\n",
       "      <td>-1.078973</td>\n",
       "      <td>-0.939290</td>\n",
       "      <td>0.324663</td>\n",
       "      <td>-0.381568</td>\n",
       "      <td>0.422937</td>\n",
       "      <td>-0.953295</td>\n",
       "      <td>1.635312</td>\n",
       "      <td>-0.213829</td>\n",
       "      <td>0.364581</td>\n",
       "      <td>-0.439720</td>\n",
       "      <td>0.165975</td>\n",
       "      <td>-0.322932</td>\n",
       "      <td>0.543143</td>\n",
       "      <td>0.928159</td>\n",
       "      <td>-1.523605</td>\n",
       "      <td>-0.095267</td>\n",
       "      <td>...</td>\n",
       "      <td>-1.514063</td>\n",
       "      <td>0.079445</td>\n",
       "      <td>-0.086947</td>\n",
       "      <td>0.367580</td>\n",
       "      <td>-0.191756</td>\n",
       "      <td>-0.521538</td>\n",
       "      <td>1.168903</td>\n",
       "      <td>-1.082200</td>\n",
       "      <td>-2.129798</td>\n",
       "      <td>-1.215281</td>\n",
       "      <td>0.402686</td>\n",
       "      <td>-1.048920</td>\n",
       "      <td>-0.328617</td>\n",
       "      <td>-0.365431</td>\n",
       "      <td>-0.561243</td>\n",
       "      <td>-1.031511</td>\n",
       "      <td>2.010831</td>\n",
       "      <td>0.701080</td>\n",
       "      <td>0.384435</td>\n",
       "      <td>-0.906463</td>\n",
       "      <td>-0.751875</td>\n",
       "      <td>-0.175465</td>\n",
       "      <td>-0.022051</td>\n",
       "      <td>-1.359747</td>\n",
       "      <td>-0.884548</td>\n",
       "      <td>2.266538</td>\n",
       "      <td>-2.390067</td>\n",
       "      <td>-1.389986</td>\n",
       "      <td>-0.290962</td>\n",
       "      <td>0.163927</td>\n",
       "      <td>0.284293</td>\n",
       "      <td>1.777492</td>\n",
       "      <td>1.401481</td>\n",
       "      <td>1.123118</td>\n",
       "      <td>0.021320</td>\n",
       "      <td>-0.990453</td>\n",
       "      <td>-1.404056</td>\n",
       "      <td>0.718724</td>\n",
       "      <td>0.543282</td>\n",
       "      <td>1.128538</td>\n",
       "    </tr>\n",
       "    <tr>\n",
       "      <th>1</th>\n",
       "      <td>0.350695</td>\n",
       "      <td>-0.079477</td>\n",
       "      <td>-0.113209</td>\n",
       "      <td>0.233827</td>\n",
       "      <td>-1.929552</td>\n",
       "      <td>1.137443</td>\n",
       "      <td>-2.022092</td>\n",
       "      <td>-0.755574</td>\n",
       "      <td>0.542303</td>\n",
       "      <td>1.162112</td>\n",
       "      <td>1.144891</td>\n",
       "      <td>0.513112</td>\n",
       "      <td>-0.189065</td>\n",
       "      <td>0.736800</td>\n",
       "      <td>0.434848</td>\n",
       "      <td>1.042218</td>\n",
       "      <td>-1.246078</td>\n",
       "      <td>1.367979</td>\n",
       "      <td>1.026694</td>\n",
       "      <td>-1.696331</td>\n",
       "      <td>1.434243</td>\n",
       "      <td>2.414885</td>\n",
       "      <td>-1.342808</td>\n",
       "      <td>1.440166</td>\n",
       "      <td>0.722062</td>\n",
       "      <td>0.294577</td>\n",
       "      <td>-0.054545</td>\n",
       "      <td>0.493026</td>\n",
       "      <td>0.003588</td>\n",
       "      <td>-0.247717</td>\n",
       "      <td>0.255564</td>\n",
       "      <td>0.270762</td>\n",
       "      <td>0.879510</td>\n",
       "      <td>-0.670353</td>\n",
       "      <td>-1.124226</td>\n",
       "      <td>-0.667338</td>\n",
       "      <td>-0.253520</td>\n",
       "      <td>-0.088068</td>\n",
       "      <td>-0.211389</td>\n",
       "      <td>-0.947371</td>\n",
       "      <td>...</td>\n",
       "      <td>0.046600</td>\n",
       "      <td>-1.469398</td>\n",
       "      <td>1.138766</td>\n",
       "      <td>0.001018</td>\n",
       "      <td>-1.701311</td>\n",
       "      <td>0.181133</td>\n",
       "      <td>-0.346379</td>\n",
       "      <td>-1.463818</td>\n",
       "      <td>0.544086</td>\n",
       "      <td>1.980021</td>\n",
       "      <td>0.014140</td>\n",
       "      <td>-0.717164</td>\n",
       "      <td>-0.624440</td>\n",
       "      <td>0.736866</td>\n",
       "      <td>-0.368226</td>\n",
       "      <td>-0.027634</td>\n",
       "      <td>0.984786</td>\n",
       "      <td>2.069492</td>\n",
       "      <td>-0.701734</td>\n",
       "      <td>0.710441</td>\n",
       "      <td>0.402867</td>\n",
       "      <td>0.428069</td>\n",
       "      <td>-1.585430</td>\n",
       "      <td>1.287426</td>\n",
       "      <td>-0.636853</td>\n",
       "      <td>1.255374</td>\n",
       "      <td>0.170104</td>\n",
       "      <td>1.550260</td>\n",
       "      <td>-0.328608</td>\n",
       "      <td>-0.979304</td>\n",
       "      <td>1.699328</td>\n",
       "      <td>1.354172</td>\n",
       "      <td>0.272291</td>\n",
       "      <td>-0.742914</td>\n",
       "      <td>1.114312</td>\n",
       "      <td>0.284432</td>\n",
       "      <td>-1.930375</td>\n",
       "      <td>-0.029640</td>\n",
       "      <td>0.284530</td>\n",
       "      <td>-1.062560</td>\n",
       "    </tr>\n",
       "    <tr>\n",
       "      <th>2</th>\n",
       "      <td>0.897408</td>\n",
       "      <td>0.290021</td>\n",
       "      <td>0.638809</td>\n",
       "      <td>0.224324</td>\n",
       "      <td>0.267653</td>\n",
       "      <td>0.963186</td>\n",
       "      <td>0.803766</td>\n",
       "      <td>0.645222</td>\n",
       "      <td>0.474120</td>\n",
       "      <td>-0.208843</td>\n",
       "      <td>0.480842</td>\n",
       "      <td>-1.171023</td>\n",
       "      <td>0.325174</td>\n",
       "      <td>-0.148305</td>\n",
       "      <td>0.781168</td>\n",
       "      <td>0.113667</td>\n",
       "      <td>0.480136</td>\n",
       "      <td>1.046859</td>\n",
       "      <td>0.178262</td>\n",
       "      <td>1.075303</td>\n",
       "      <td>-1.064226</td>\n",
       "      <td>-0.716500</td>\n",
       "      <td>1.211141</td>\n",
       "      <td>-1.350039</td>\n",
       "      <td>0.121910</td>\n",
       "      <td>0.411985</td>\n",
       "      <td>-0.747976</td>\n",
       "      <td>-1.432455</td>\n",
       "      <td>-0.149261</td>\n",
       "      <td>-1.335696</td>\n",
       "      <td>0.772431</td>\n",
       "      <td>0.048835</td>\n",
       "      <td>0.847192</td>\n",
       "      <td>-0.758900</td>\n",
       "      <td>0.759773</td>\n",
       "      <td>1.050580</td>\n",
       "      <td>-0.662712</td>\n",
       "      <td>1.080294</td>\n",
       "      <td>0.333076</td>\n",
       "      <td>-1.459593</td>\n",
       "      <td>...</td>\n",
       "      <td>-0.086820</td>\n",
       "      <td>1.841755</td>\n",
       "      <td>-0.323763</td>\n",
       "      <td>1.592930</td>\n",
       "      <td>-0.842275</td>\n",
       "      <td>-0.851236</td>\n",
       "      <td>-0.760001</td>\n",
       "      <td>-0.032111</td>\n",
       "      <td>-0.153763</td>\n",
       "      <td>1.813807</td>\n",
       "      <td>-0.434114</td>\n",
       "      <td>0.406675</td>\n",
       "      <td>0.247653</td>\n",
       "      <td>0.288009</td>\n",
       "      <td>-0.012232</td>\n",
       "      <td>-0.641177</td>\n",
       "      <td>1.333343</td>\n",
       "      <td>0.627288</td>\n",
       "      <td>0.034753</td>\n",
       "      <td>0.665436</td>\n",
       "      <td>1.057062</td>\n",
       "      <td>0.531266</td>\n",
       "      <td>1.030726</td>\n",
       "      <td>-0.120858</td>\n",
       "      <td>1.694031</td>\n",
       "      <td>-0.746167</td>\n",
       "      <td>0.344681</td>\n",
       "      <td>-1.048722</td>\n",
       "      <td>-0.618441</td>\n",
       "      <td>0.442976</td>\n",
       "      <td>0.358727</td>\n",
       "      <td>-0.465102</td>\n",
       "      <td>0.391801</td>\n",
       "      <td>-0.813890</td>\n",
       "      <td>-0.941513</td>\n",
       "      <td>0.500306</td>\n",
       "      <td>-0.628662</td>\n",
       "      <td>-1.802578</td>\n",
       "      <td>-0.335758</td>\n",
       "      <td>-0.424276</td>\n",
       "    </tr>\n",
       "    <tr>\n",
       "      <th>3</th>\n",
       "      <td>-1.487576</td>\n",
       "      <td>-0.033788</td>\n",
       "      <td>-0.713361</td>\n",
       "      <td>-0.486103</td>\n",
       "      <td>-0.845678</td>\n",
       "      <td>0.448922</td>\n",
       "      <td>-1.354754</td>\n",
       "      <td>0.392132</td>\n",
       "      <td>-1.015016</td>\n",
       "      <td>-0.449145</td>\n",
       "      <td>0.334241</td>\n",
       "      <td>-1.103807</td>\n",
       "      <td>-0.768968</td>\n",
       "      <td>-0.823377</td>\n",
       "      <td>1.153276</td>\n",
       "      <td>0.893693</td>\n",
       "      <td>0.977604</td>\n",
       "      <td>-0.800082</td>\n",
       "      <td>0.133665</td>\n",
       "      <td>0.937275</td>\n",
       "      <td>-2.271658</td>\n",
       "      <td>-1.014991</td>\n",
       "      <td>0.358883</td>\n",
       "      <td>1.917911</td>\n",
       "      <td>-0.133671</td>\n",
       "      <td>0.229454</td>\n",
       "      <td>0.013314</td>\n",
       "      <td>0.607107</td>\n",
       "      <td>0.763760</td>\n",
       "      <td>-0.793197</td>\n",
       "      <td>-0.489704</td>\n",
       "      <td>-0.915339</td>\n",
       "      <td>-0.049294</td>\n",
       "      <td>-1.329794</td>\n",
       "      <td>-0.297205</td>\n",
       "      <td>-1.451943</td>\n",
       "      <td>-1.223803</td>\n",
       "      <td>-0.620634</td>\n",
       "      <td>-0.499708</td>\n",
       "      <td>0.136986</td>\n",
       "      <td>...</td>\n",
       "      <td>0.736075</td>\n",
       "      <td>1.087787</td>\n",
       "      <td>0.018529</td>\n",
       "      <td>-0.946620</td>\n",
       "      <td>-0.082230</td>\n",
       "      <td>-0.709774</td>\n",
       "      <td>1.759294</td>\n",
       "      <td>0.980128</td>\n",
       "      <td>0.617693</td>\n",
       "      <td>-0.539467</td>\n",
       "      <td>-0.012215</td>\n",
       "      <td>-0.428488</td>\n",
       "      <td>-0.071978</td>\n",
       "      <td>-0.328770</td>\n",
       "      <td>-1.855722</td>\n",
       "      <td>-0.405231</td>\n",
       "      <td>-0.278094</td>\n",
       "      <td>-1.199656</td>\n",
       "      <td>-1.003045</td>\n",
       "      <td>-0.227228</td>\n",
       "      <td>0.723312</td>\n",
       "      <td>1.630522</td>\n",
       "      <td>0.184133</td>\n",
       "      <td>0.812790</td>\n",
       "      <td>0.258268</td>\n",
       "      <td>-0.073682</td>\n",
       "      <td>0.405199</td>\n",
       "      <td>0.157176</td>\n",
       "      <td>-0.421661</td>\n",
       "      <td>0.489899</td>\n",
       "      <td>0.113712</td>\n",
       "      <td>-1.170251</td>\n",
       "      <td>0.161155</td>\n",
       "      <td>0.299066</td>\n",
       "      <td>-1.347567</td>\n",
       "      <td>-0.837667</td>\n",
       "      <td>1.128186</td>\n",
       "      <td>0.337662</td>\n",
       "      <td>-0.282765</td>\n",
       "      <td>-0.624844</td>\n",
       "    </tr>\n",
       "    <tr>\n",
       "      <th>4</th>\n",
       "      <td>-0.733768</td>\n",
       "      <td>-0.523177</td>\n",
       "      <td>-1.790395</td>\n",
       "      <td>0.328341</td>\n",
       "      <td>0.755217</td>\n",
       "      <td>-0.336479</td>\n",
       "      <td>1.028705</td>\n",
       "      <td>-0.361693</td>\n",
       "      <td>-0.292969</td>\n",
       "      <td>-0.533346</td>\n",
       "      <td>-1.383929</td>\n",
       "      <td>-0.167265</td>\n",
       "      <td>0.617259</td>\n",
       "      <td>-1.841218</td>\n",
       "      <td>-2.220558</td>\n",
       "      <td>1.634976</td>\n",
       "      <td>-1.271674</td>\n",
       "      <td>0.814413</td>\n",
       "      <td>-0.851041</td>\n",
       "      <td>0.550476</td>\n",
       "      <td>-1.041725</td>\n",
       "      <td>-0.208541</td>\n",
       "      <td>-1.079223</td>\n",
       "      <td>-1.189980</td>\n",
       "      <td>-1.424995</td>\n",
       "      <td>0.796124</td>\n",
       "      <td>-0.188293</td>\n",
       "      <td>0.944993</td>\n",
       "      <td>-0.250210</td>\n",
       "      <td>1.074280</td>\n",
       "      <td>0.791194</td>\n",
       "      <td>1.109044</td>\n",
       "      <td>-0.018058</td>\n",
       "      <td>-0.218092</td>\n",
       "      <td>-0.022170</td>\n",
       "      <td>-0.336203</td>\n",
       "      <td>-0.461318</td>\n",
       "      <td>-0.473065</td>\n",
       "      <td>-0.152485</td>\n",
       "      <td>0.058027</td>\n",
       "      <td>...</td>\n",
       "      <td>-0.267506</td>\n",
       "      <td>0.617159</td>\n",
       "      <td>-0.291004</td>\n",
       "      <td>0.250948</td>\n",
       "      <td>-0.170669</td>\n",
       "      <td>-0.783728</td>\n",
       "      <td>-0.459996</td>\n",
       "      <td>0.007542</td>\n",
       "      <td>-0.194881</td>\n",
       "      <td>-1.298862</td>\n",
       "      <td>1.463664</td>\n",
       "      <td>0.982550</td>\n",
       "      <td>2.246180</td>\n",
       "      <td>-2.131055</td>\n",
       "      <td>-0.823903</td>\n",
       "      <td>1.070646</td>\n",
       "      <td>-1.074869</td>\n",
       "      <td>0.678056</td>\n",
       "      <td>0.931183</td>\n",
       "      <td>0.647237</td>\n",
       "      <td>-1.113786</td>\n",
       "      <td>1.025371</td>\n",
       "      <td>-0.837881</td>\n",
       "      <td>0.296321</td>\n",
       "      <td>1.491547</td>\n",
       "      <td>-1.949199</td>\n",
       "      <td>1.291777</td>\n",
       "      <td>-0.925937</td>\n",
       "      <td>0.714035</td>\n",
       "      <td>1.025618</td>\n",
       "      <td>-0.294782</td>\n",
       "      <td>0.899795</td>\n",
       "      <td>-1.822784</td>\n",
       "      <td>-1.443882</td>\n",
       "      <td>-0.497433</td>\n",
       "      <td>-0.376023</td>\n",
       "      <td>-0.185244</td>\n",
       "      <td>0.061771</td>\n",
       "      <td>1.380985</td>\n",
       "      <td>-1.404508</td>\n",
       "    </tr>\n",
       "  </tbody>\n",
       "</table>\n",
       "<p>5 rows × 10000 columns</p>\n",
       "</div>"
      ],
      "text/plain": [
       "   feature0  feature1  feature2  ...  feature9997  feature9998  feature9999\n",
       "0  0.609241  1.791523 -2.124618  ...     0.718724     0.543282     1.128538\n",
       "1  0.350695 -0.079477 -0.113209  ...    -0.029640     0.284530    -1.062560\n",
       "2  0.897408  0.290021  0.638809  ...    -1.802578    -0.335758    -0.424276\n",
       "3 -1.487576 -0.033788 -0.713361  ...     0.337662    -0.282765    -0.624844\n",
       "4 -0.733768 -0.523177 -1.790395  ...     0.061771     1.380985    -1.404508\n",
       "\n",
       "[5 rows x 10000 columns]"
      ]
     },
     "execution_count": 147,
     "metadata": {
      "tags": []
     },
     "output_type": "execute_result"
    }
   ],
   "source": [
    "# scale dataset before feedling to trained model\n",
    "X = StandardScaler().fit_transform(data_xtest)\n",
    "feat_cols = ['feature'+str(i) for i in range(X.shape[1])]\n",
    "normalised_X = pd.DataFrame(X,columns=feat_cols)\n",
    "normalised_X.head()"
   ]
  },
  {
   "cell_type": "code",
   "execution_count": 155,
   "metadata": {
    "colab": {},
    "colab_type": "code",
    "id": "0Kydlg75dH6v"
   },
   "outputs": [],
   "source": [
    "# use model.predict()\n",
    "y_pred_keras = model.predict(X)\n",
    "prediction_df=pd.DataFrame(y_pred_keras)"
   ]
  },
  {
   "cell_type": "code",
   "execution_count": 149,
   "metadata": {
    "colab": {
     "base_uri": "https://localhost:8080/",
     "height": 34
    },
    "colab_type": "code",
    "id": "5dFPg5fcdPyh",
    "outputId": "bd9d5d4c-00ce-44a8-ad8c-d2933e83d105"
   },
   "outputs": [
    {
     "data": {
      "text/plain": [
       "array([1, 1, 1, 1, 1])"
      ]
     },
     "execution_count": 149,
     "metadata": {
      "tags": []
     },
     "output_type": "execute_result"
    }
   ],
   "source": [
    "# convert to crisp class\n",
    "yhat_class_keras = model.predict_classes(X_test, verbose=0)\n",
    "yhat_class_keras[:5]"
   ]
  },
  {
   "cell_type": "code",
   "execution_count": 150,
   "metadata": {
    "colab": {
     "base_uri": "https://localhost:8080/",
     "height": 118
    },
    "colab_type": "code",
    "id": "HLYDhZx-cNTt",
    "outputId": "dfd39e67-a579-4a32-b5f2-0cb26f2cf2da"
   },
   "outputs": [
    {
     "data": {
      "text/plain": [
       "0    0.998719\n",
       "1    0.998723\n",
       "2    0.998717\n",
       "3    0.998716\n",
       "4    0.998712\n",
       "dtype: float32"
      ]
     },
     "execution_count": 150,
     "metadata": {
      "tags": []
     },
     "output_type": "execute_result"
    }
   ],
   "source": [
    "prediction_df=pd.DataFrame(y_pred_keras)\n",
    "pred_value_class=prediction_df.max(axis=1)\n",
    "pred_value_class.head()"
   ]
  },
  {
   "cell_type": "code",
   "execution_count": 151,
   "metadata": {
    "colab": {
     "base_uri": "https://localhost:8080/",
     "height": 195
    },
    "colab_type": "code",
    "id": "JkT7ktqkZPpu",
    "outputId": "1a4b2914-699e-465a-ea3c-257d6721ac22"
   },
   "outputs": [
    {
     "data": {
      "text/html": [
       "<div>\n",
       "<style scoped>\n",
       "    .dataframe tbody tr th:only-of-type {\n",
       "        vertical-align: middle;\n",
       "    }\n",
       "\n",
       "    .dataframe tbody tr th {\n",
       "        vertical-align: top;\n",
       "    }\n",
       "\n",
       "    .dataframe thead th {\n",
       "        text-align: right;\n",
       "    }\n",
       "</style>\n",
       "<table border=\"1\" class=\"dataframe\">\n",
       "  <thead>\n",
       "    <tr style=\"text-align: right;\">\n",
       "      <th></th>\n",
       "      <th>pred_class</th>\n",
       "      <th>Probability</th>\n",
       "    </tr>\n",
       "  </thead>\n",
       "  <tbody>\n",
       "    <tr>\n",
       "      <th>0</th>\n",
       "      <td>1</td>\n",
       "      <td>0.998719</td>\n",
       "    </tr>\n",
       "    <tr>\n",
       "      <th>1</th>\n",
       "      <td>1</td>\n",
       "      <td>0.998723</td>\n",
       "    </tr>\n",
       "    <tr>\n",
       "      <th>2</th>\n",
       "      <td>1</td>\n",
       "      <td>0.998717</td>\n",
       "    </tr>\n",
       "    <tr>\n",
       "      <th>3</th>\n",
       "      <td>1</td>\n",
       "      <td>0.998716</td>\n",
       "    </tr>\n",
       "    <tr>\n",
       "      <th>4</th>\n",
       "      <td>1</td>\n",
       "      <td>0.998712</td>\n",
       "    </tr>\n",
       "  </tbody>\n",
       "</table>\n",
       "</div>"
      ],
      "text/plain": [
       "   pred_class  Probability\n",
       "0           1     0.998719\n",
       "1           1     0.998723\n",
       "2           1     0.998717\n",
       "3           1     0.998716\n",
       "4           1     0.998712"
      ]
     },
     "execution_count": 151,
     "metadata": {
      "tags": []
     },
     "output_type": "execute_result"
    }
   ],
   "source": [
    "predictions=pd.DataFrame(yhat_class_keras, columns=[\"pred_class\"])\n",
    "predictions[\"pred_class\"] = predictions.pred_class.replace(0, -1)\n",
    "predictions[\"Probability\"]=pred_value_class\n",
    "predictions.head()"
   ]
  },
  {
   "cell_type": "code",
   "execution_count": 152,
   "metadata": {
    "colab": {
     "base_uri": "https://localhost:8080/",
     "height": 67
    },
    "colab_type": "code",
    "id": "rtaeAwzsZVBg",
    "outputId": "942819d9-242b-4b24-ffcc-9237f86cafe4"
   },
   "outputs": [
    {
     "data": {
      "text/plain": [
       " 1    644\n",
       "-1    106\n",
       "Name: pred_class, dtype: int64"
      ]
     },
     "execution_count": 152,
     "metadata": {
      "tags": []
     },
     "output_type": "execute_result"
    }
   ],
   "source": [
    "predictions.pred_class.value_counts()"
   ]
  },
  {
   "cell_type": "code",
   "execution_count": 161,
   "metadata": {
    "colab": {
     "base_uri": "https://localhost:8080/",
     "height": 67
    },
    "colab_type": "code",
    "id": "Tz9ZVYq3nI2u",
    "outputId": "4f13a894-49f0-4fbf-f7e3-33a1ff40b546"
   },
   "outputs": [
    {
     "data": {
      "text/plain": [
       " 1    644\n",
       "-1    106\n",
       "Name: pred_class, dtype: int64"
      ]
     },
     "execution_count": 161,
     "metadata": {
      "tags": []
     },
     "output_type": "execute_result"
    }
   ],
   "source": [
    "# as per instructions, I only need to submit labels of test classes and not their probability value.\n",
    "y_test_label=predictions.pred_class\n",
    "y_test_label=pd.DataFrame(y_test_label, columns=[\"pred_class\"])"
   ]
  },
  {
   "cell_type": "code",
   "execution_count": 162,
   "metadata": {
    "colab": {},
    "colab_type": "code",
    "id": "-YQCJi99djkW"
   },
   "outputs": [],
   "source": [
    "# save this as test_labels.csv file\n",
    "y_test_label.to_csv('test_labels.csv', index=False)"
   ]
  },
  {
   "cell_type": "code",
   "execution_count": 163,
   "metadata": {
    "colab": {
     "base_uri": "https://localhost:8080/",
     "height": 195
    },
    "colab_type": "code",
    "id": "lzkWmALvaskB",
    "outputId": "47965a29-002b-488f-a574-a34327f39781"
   },
   "outputs": [
    {
     "data": {
      "text/html": [
       "<div>\n",
       "<style scoped>\n",
       "    .dataframe tbody tr th:only-of-type {\n",
       "        vertical-align: middle;\n",
       "    }\n",
       "\n",
       "    .dataframe tbody tr th {\n",
       "        vertical-align: top;\n",
       "    }\n",
       "\n",
       "    .dataframe thead th {\n",
       "        text-align: right;\n",
       "    }\n",
       "</style>\n",
       "<table border=\"1\" class=\"dataframe\">\n",
       "  <thead>\n",
       "    <tr style=\"text-align: right;\">\n",
       "      <th></th>\n",
       "      <th>pred_class</th>\n",
       "    </tr>\n",
       "  </thead>\n",
       "  <tbody>\n",
       "    <tr>\n",
       "      <th>0</th>\n",
       "      <td>1</td>\n",
       "    </tr>\n",
       "    <tr>\n",
       "      <th>1</th>\n",
       "      <td>1</td>\n",
       "    </tr>\n",
       "    <tr>\n",
       "      <th>2</th>\n",
       "      <td>1</td>\n",
       "    </tr>\n",
       "    <tr>\n",
       "      <th>3</th>\n",
       "      <td>1</td>\n",
       "    </tr>\n",
       "    <tr>\n",
       "      <th>4</th>\n",
       "      <td>1</td>\n",
       "    </tr>\n",
       "  </tbody>\n",
       "</table>\n",
       "</div>"
      ],
      "text/plain": [
       "   pred_class\n",
       "0           1\n",
       "1           1\n",
       "2           1\n",
       "3           1\n",
       "4           1"
      ]
     },
     "execution_count": 163,
     "metadata": {
      "tags": []
     },
     "output_type": "execute_result"
    }
   ],
   "source": [
    "result_check = pd.read_csv(\"test_labels.csv\")\n",
    "result_check.head()"
   ]
  }
 ],
 "metadata": {
  "accelerator": "GPU",
  "colab": {
   "collapsed_sections": [],
   "name": "Assignment.ipynb",
   "provenance": []
  },
  "kernelspec": {
   "display_name": "Python 3",
   "language": "python",
   "name": "python3"
  },
  "language_info": {
   "codemirror_mode": {
    "name": "ipython",
    "version": 3
   },
   "file_extension": ".py",
   "mimetype": "text/x-python",
   "name": "python",
   "nbconvert_exporter": "python",
   "pygments_lexer": "ipython3",
   "version": "3.6.5"
  }
 },
 "nbformat": 4,
 "nbformat_minor": 1
}
