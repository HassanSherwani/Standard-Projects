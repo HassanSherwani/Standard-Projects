{
 "cells": [
  {
   "cell_type": "markdown",
   "metadata": {},
   "source": [
    "# ML Model"
   ]
  },
  {
   "cell_type": "markdown",
   "metadata": {},
   "source": [
    "# 1) importing key modules"
   ]
  },
  {
   "cell_type": "code",
   "execution_count": 1,
   "metadata": {},
   "outputs": [],
   "source": [
    "#support both Python 2 and Python 3 with minimal overhead.\n",
    "from __future__ import absolute_import, division, print_function\n",
    "#ignore warnings\n",
    "import warnings\n",
    "warnings.filterwarnings('ignore')"
   ]
  },
  {
   "cell_type": "code",
   "execution_count": 2,
   "metadata": {},
   "outputs": [],
   "source": [
    "import numpy as np \n",
    "import pandas as pd\n",
    "import requests\n",
    "import pickle"
   ]
  },
  {
   "cell_type": "code",
   "execution_count": 3,
   "metadata": {},
   "outputs": [],
   "source": [
    "#For Visuals\n",
    "import matplotlib.pyplot as plt\n",
    "import seaborn as sns\n",
    "sns.set()\n",
    "from matplotlib import rcParams\n",
    "rcParams['figure.figsize'] = 11, 8\n",
    "%config InlineBackend.figure_format = 'svg'\n",
    "%matplotlib inline"
   ]
  },
  {
   "cell_type": "code",
   "execution_count": 4,
   "metadata": {},
   "outputs": [],
   "source": [
    "# for modeling\n",
    "from sklearn.model_selection import train_test_split\n",
    "from sklearn.linear_model import LinearRegression,Ridge,Lasso,RidgeCV, ElasticNet\n",
    "from sklearn.ensemble import RandomForestRegressor,BaggingRegressor,GradientBoostingRegressor,AdaBoostRegressor \n",
    "from sklearn.neighbors import KNeighborsRegressor\n",
    "from sklearn.preprocessing import PolynomialFeatures\n",
    "import random\n",
    "from sklearn.metrics import mean_squared_error, mean_absolute_error\n",
    "from sklearn.preprocessing import MinMaxScaler\n",
    "\n",
    "# Regression evaluation\n",
    "from sklearn.metrics import mean_squared_log_error,mean_squared_error, r2_score,mean_absolute_error \n",
    "\n",
    "# Classification\n",
    "from sklearn.metrics import accuracy_score\n",
    "\n",
    "#Model helper\n",
    "from sklearn.model_selection import GridSearchCV , KFold , cross_val_score"
   ]
  },
  {
   "cell_type": "markdown",
   "metadata": {},
   "source": [
    "## 2)- Loading data-files"
   ]
  },
  {
   "cell_type": "code",
   "execution_count": 5,
   "metadata": {},
   "outputs": [],
   "source": [
    "df = pd.read_csv('testset2.csv')"
   ]
  },
  {
   "cell_type": "code",
   "execution_count": 6,
   "metadata": {},
   "outputs": [
    {
     "data": {
      "text/html": [
       "<div>\n",
       "<style scoped>\n",
       "    .dataframe tbody tr th:only-of-type {\n",
       "        vertical-align: middle;\n",
       "    }\n",
       "\n",
       "    .dataframe tbody tr th {\n",
       "        vertical-align: top;\n",
       "    }\n",
       "\n",
       "    .dataframe thead th {\n",
       "        text-align: right;\n",
       "    }\n",
       "</style>\n",
       "<table border=\"1\" class=\"dataframe\">\n",
       "  <thead>\n",
       "    <tr style=\"text-align: right;\">\n",
       "      <th></th>\n",
       "      <th>Unnamed: 0</th>\n",
       "      <th>m1</th>\n",
       "      <th>m2</th>\n",
       "      <th>m3</th>\n",
       "      <th>m4</th>\n",
       "      <th>m5</th>\n",
       "      <th>m6</th>\n",
       "      <th>m7</th>\n",
       "      <th>m8</th>\n",
       "      <th>m9</th>\n",
       "      <th>...</th>\n",
       "      <th>m16</th>\n",
       "      <th>m17</th>\n",
       "      <th>m18</th>\n",
       "      <th>m19</th>\n",
       "      <th>m20</th>\n",
       "      <th>m21</th>\n",
       "      <th>m22</th>\n",
       "      <th>m23</th>\n",
       "      <th>m24</th>\n",
       "      <th>m25</th>\n",
       "    </tr>\n",
       "  </thead>\n",
       "  <tbody>\n",
       "    <tr>\n",
       "      <th>0</th>\n",
       "      <td>0</td>\n",
       "      <td>0.572565</td>\n",
       "      <td>-0.014704</td>\n",
       "      <td>-0.352985</td>\n",
       "      <td>-0.012697</td>\n",
       "      <td>-0.138549</td>\n",
       "      <td>0.620313</td>\n",
       "      <td>-0.602656</td>\n",
       "      <td>-0.071517</td>\n",
       "      <td>-0.131941</td>\n",
       "      <td>...</td>\n",
       "      <td>-0.199931</td>\n",
       "      <td>-0.360027</td>\n",
       "      <td>0.154202</td>\n",
       "      <td>0.369976</td>\n",
       "      <td>0.320812</td>\n",
       "      <td>1.252255</td>\n",
       "      <td>1.154858</td>\n",
       "      <td>0.609724</td>\n",
       "      <td>-0.126952</td>\n",
       "      <td>0.075709</td>\n",
       "    </tr>\n",
       "    <tr>\n",
       "      <th>1</th>\n",
       "      <td>1</td>\n",
       "      <td>-1.233754</td>\n",
       "      <td>0.643106</td>\n",
       "      <td>-0.268247</td>\n",
       "      <td>-0.588117</td>\n",
       "      <td>-0.231391</td>\n",
       "      <td>1.816856</td>\n",
       "      <td>0.369814</td>\n",
       "      <td>0.784052</td>\n",
       "      <td>0.870746</td>\n",
       "      <td>...</td>\n",
       "      <td>0.943058</td>\n",
       "      <td>-0.475841</td>\n",
       "      <td>-0.085267</td>\n",
       "      <td>-0.601490</td>\n",
       "      <td>-0.601191</td>\n",
       "      <td>0.635048</td>\n",
       "      <td>-0.433662</td>\n",
       "      <td>-0.456993</td>\n",
       "      <td>0.429443</td>\n",
       "      <td>0.423808</td>\n",
       "    </tr>\n",
       "  </tbody>\n",
       "</table>\n",
       "<p>2 rows × 26 columns</p>\n",
       "</div>"
      ],
      "text/plain": [
       "   Unnamed: 0        m1        m2        m3        m4        m5        m6  \\\n",
       "0           0  0.572565 -0.014704 -0.352985 -0.012697 -0.138549  0.620313   \n",
       "1           1 -1.233754  0.643106 -0.268247 -0.588117 -0.231391  1.816856   \n",
       "\n",
       "         m7        m8        m9    ...          m16       m17       m18  \\\n",
       "0 -0.602656 -0.071517 -0.131941    ...    -0.199931 -0.360027  0.154202   \n",
       "1  0.369814  0.784052  0.870746    ...     0.943058 -0.475841 -0.085267   \n",
       "\n",
       "        m19       m20       m21       m22       m23       m24       m25  \n",
       "0  0.369976  0.320812  1.252255  1.154858  0.609724 -0.126952  0.075709  \n",
       "1 -0.601490 -0.601191  0.635048 -0.433662 -0.456993  0.429443  0.423808  \n",
       "\n",
       "[2 rows x 26 columns]"
      ]
     },
     "execution_count": 6,
     "metadata": {},
     "output_type": "execute_result"
    }
   ],
   "source": [
    "df.head(2)"
   ]
  },
  {
   "cell_type": "code",
   "execution_count": 7,
   "metadata": {},
   "outputs": [],
   "source": [
    "df = df.drop(['Unnamed: 0'], axis=1)"
   ]
  },
  {
   "cell_type": "code",
   "execution_count": 8,
   "metadata": {},
   "outputs": [
    {
     "data": {
      "text/plain": [
       "(80000, 25)"
      ]
     },
     "execution_count": 8,
     "metadata": {},
     "output_type": "execute_result"
    }
   ],
   "source": [
    "df.shape"
   ]
  },
  {
   "cell_type": "code",
   "execution_count": 9,
   "metadata": {},
   "outputs": [],
   "source": [
    "# Selecting all columns except last one that is 'm25'.\n",
    "\n",
    "X = df.iloc[:,:-1].values          \n",
    "y = df['m25'].values"
   ]
  },
  {
   "cell_type": "code",
   "execution_count": 10,
   "metadata": {},
   "outputs": [
    {
     "data": {
      "text/plain": [
       "array([[ 0.57256488, -0.01470396, -0.35298469, ...,  1.1548579 ,\n",
       "         0.60972403, -0.12695157],\n",
       "       [-1.23375423,  0.64310596, -0.26824732, ..., -0.4336621 ,\n",
       "        -0.4569929 ,  0.42944315],\n",
       "       [-0.77836448, -0.45371563, -2.10020124, ...,  0.18666614,\n",
       "         0.21163226, -0.56662082],\n",
       "       ...,\n",
       "       [ 0.94546444, -0.39535052,  0.3145296 , ..., -0.98010944,\n",
       "         0.17685301, -0.17008695],\n",
       "       [ 0.1151475 , -1.04815064,  0.65888561, ...,  1.15475919,\n",
       "         1.25093225,  1.49547161],\n",
       "       [ 0.31239622,  0.75315802,  0.94000431, ..., -0.16357309,\n",
       "         1.71373922,  0.2796558 ]])"
      ]
     },
     "execution_count": 10,
     "metadata": {},
     "output_type": "execute_result"
    }
   ],
   "source": [
    "X"
   ]
  },
  {
   "cell_type": "code",
   "execution_count": 11,
   "metadata": {},
   "outputs": [
    {
     "data": {
      "text/plain": [
       "(80000, 24)"
      ]
     },
     "execution_count": 11,
     "metadata": {},
     "output_type": "execute_result"
    }
   ],
   "source": [
    "X.shape"
   ]
  },
  {
   "cell_type": "code",
   "execution_count": 12,
   "metadata": {},
   "outputs": [],
   "source": [
    "from sklearn.model_selection import train_test_split\n",
    "X_train, X_test, y_train, y_test = train_test_split(X, y, test_size=0.20, random_state=2019)"
   ]
  },
  {
   "cell_type": "markdown",
   "metadata": {},
   "source": [
    "# Modeling"
   ]
  },
  {
   "cell_type": "code",
   "execution_count": 13,
   "metadata": {},
   "outputs": [],
   "source": [
    "R2_Scores = []\n",
    "models = ['Linear Regression' , 'Lasso Regression' ,'Ridge Regression', 'AdaBoost Regression' ,'GradientBoosting Regression',\n",
    "          'RandomForest Regression' , 'KNeighbours Regression']"
   ]
  },
  {
   "cell_type": "markdown",
   "metadata": {},
   "source": [
    "### i- Linear Regression"
   ]
  },
  {
   "cell_type": "code",
   "execution_count": 14,
   "metadata": {},
   "outputs": [
    {
     "data": {
      "text/plain": [
       "LinearRegression(copy_X=True, fit_intercept=True, n_jobs=None,\n",
       "         normalize=False)"
      ]
     },
     "execution_count": 14,
     "metadata": {},
     "output_type": "execute_result"
    }
   ],
   "source": [
    "clf_lr = LinearRegression()\n",
    "clf_lr.fit(X_train , y_train)"
   ]
  },
  {
   "cell_type": "code",
   "execution_count": 15,
   "metadata": {},
   "outputs": [],
   "source": [
    "y_pred = clf_lr.predict(X_test)"
   ]
  },
  {
   "cell_type": "code",
   "execution_count": 16,
   "metadata": {},
   "outputs": [
    {
     "data": {
      "text/plain": [
       "array([ 0.10972659,  0.13205332,  0.03730852, -0.11999982, -0.0522195 ])"
      ]
     },
     "execution_count": 16,
     "metadata": {},
     "output_type": "execute_result"
    }
   ],
   "source": [
    "y_pred[:5]"
   ]
  },
  {
   "cell_type": "code",
   "execution_count": 17,
   "metadata": {},
   "outputs": [
    {
     "data": {
      "text/plain": [
       "array([ 0.07428443, -0.11529221, -0.16358595,  0.04638495, -0.88075262])"
      ]
     },
     "execution_count": 17,
     "metadata": {},
     "output_type": "execute_result"
    }
   ],
   "source": [
    "y_test[:5]"
   ]
  },
  {
   "cell_type": "code",
   "execution_count": 18,
   "metadata": {},
   "outputs": [
    {
     "name": "stderr",
     "output_type": "stream",
     "text": [
      "[Parallel(n_jobs=1)]: Using backend SequentialBackend with 1 concurrent workers.\n",
      "[Parallel(n_jobs=1)]: Done   5 out of   5 | elapsed:    0.1s finished\n"
     ]
    }
   ],
   "source": [
    "accuracies = cross_val_score(estimator = clf_lr, X = X_train, y = y_train, cv = 5,verbose = 1)"
   ]
  },
  {
   "cell_type": "code",
   "execution_count": 19,
   "metadata": {},
   "outputs": [
    {
     "name": "stdout",
     "output_type": "stream",
     "text": [
      "####### Linear Regression #######\n",
      "Score : 0.0113\n",
      "[0.01111921 0.01183187 0.01019182 0.0117513  0.0094422 ]\n"
     ]
    }
   ],
   "source": [
    "print('####### Linear Regression #######')\n",
    "print('Score : %.4f' % clf_lr.score(X_test, y_test))\n",
    "print(accuracies)"
   ]
  },
  {
   "cell_type": "code",
   "execution_count": 20,
   "metadata": {},
   "outputs": [],
   "source": [
    "mse = mean_squared_error(y_test, y_pred)\n",
    "mae = mean_absolute_error(y_test, y_pred)\n",
    "rmse = mean_squared_error(y_test, y_pred)**0.5\n",
    "r2 = r2_score(y_test, y_pred)"
   ]
  },
  {
   "cell_type": "code",
   "execution_count": 21,
   "metadata": {},
   "outputs": [
    {
     "name": "stdout",
     "output_type": "stream",
     "text": [
      "MSE    : 0.82 \n",
      "MAE    : 0.72 \n",
      "RMSE   : 0.91 \n",
      "R2     : 0.0113 \n"
     ]
    }
   ],
   "source": [
    "print('MSE    : %0.2f ' % mse)\n",
    "print('MAE    : %0.2f ' % mae)\n",
    "print('RMSE   : %0.2f ' % rmse)\n",
    "print('R2     : %0.4f ' % r2)\n",
    "\n",
    "R2_Scores.append(r2)"
   ]
  },
  {
   "cell_type": "markdown",
   "metadata": {},
   "source": [
    "### ii-Lasso Regression"
   ]
  },
  {
   "cell_type": "code",
   "execution_count": 22,
   "metadata": {},
   "outputs": [
    {
     "data": {
      "text/plain": [
       "Lasso(alpha=1.0, copy_X=True, fit_intercept=True, max_iter=1000,\n",
       "   normalize=True, positive=False, precompute=False, random_state=None,\n",
       "   selection='cyclic', tol=0.0001, warm_start=False)"
      ]
     },
     "execution_count": 22,
     "metadata": {},
     "output_type": "execute_result"
    }
   ],
   "source": [
    "clf_la = Lasso(normalize=True)\n",
    "clf_la.fit(X_train , y_train)"
   ]
  },
  {
   "cell_type": "code",
   "execution_count": 23,
   "metadata": {},
   "outputs": [],
   "source": [
    "y_pred = clf_la.predict(X_test)"
   ]
  },
  {
   "cell_type": "code",
   "execution_count": 24,
   "metadata": {},
   "outputs": [
    {
     "name": "stderr",
     "output_type": "stream",
     "text": [
      "[Parallel(n_jobs=1)]: Using backend SequentialBackend with 1 concurrent workers.\n",
      "[Parallel(n_jobs=1)]: Done   5 out of   5 | elapsed:    0.1s finished\n"
     ]
    }
   ],
   "source": [
    "accuracies = cross_val_score(estimator = clf_la, X = X_train, y = y_train, cv = 5,verbose = 1)"
   ]
  },
  {
   "cell_type": "code",
   "execution_count": 25,
   "metadata": {},
   "outputs": [
    {
     "name": "stdout",
     "output_type": "stream",
     "text": [
      "###### Lasso Regression ######\n",
      "Score : -0.0000\n",
      "[-9.35032691e-06 -1.27091843e-07 -1.13841486e-05 -1.25588065e-04\n",
      " -1.94523527e-05]\n"
     ]
    }
   ],
   "source": [
    "print('###### Lasso Regression ######')\n",
    "print('Score : %.4f' % clf_la.score(X_test, y_test))\n",
    "print(accuracies)"
   ]
  },
  {
   "cell_type": "code",
   "execution_count": 26,
   "metadata": {},
   "outputs": [],
   "source": [
    "mse = mean_squared_error(y_test, y_pred)\n",
    "mae = mean_absolute_error(y_test, y_pred)\n",
    "rmse = mean_squared_error(y_test, y_pred)**0.5\n",
    "r2 = r2_score(y_test, y_pred)"
   ]
  },
  {
   "cell_type": "code",
   "execution_count": 27,
   "metadata": {},
   "outputs": [
    {
     "name": "stdout",
     "output_type": "stream",
     "text": [
      "MSE    : 0.83 \n",
      "MAE    : 0.73 \n",
      "RMSE   : 0.91 \n",
      "R2     : -0.0000 \n"
     ]
    }
   ],
   "source": [
    "print('MSE    : %0.2f ' % mse)\n",
    "print('MAE    : %0.2f ' % mae)\n",
    "print('RMSE   : %0.2f ' % rmse)\n",
    "print('R2     : %0.4f ' % r2)\n",
    "\n",
    "R2_Scores.append(r2)"
   ]
  },
  {
   "cell_type": "markdown",
   "metadata": {},
   "source": [
    "### iii)-Ridge Regression"
   ]
  },
  {
   "cell_type": "code",
   "execution_count": 28,
   "metadata": {},
   "outputs": [
    {
     "name": "stderr",
     "output_type": "stream",
     "text": [
      "[Parallel(n_jobs=1)]: Using backend SequentialBackend with 1 concurrent workers.\n",
      "[Parallel(n_jobs=1)]: Done   5 out of   5 | elapsed:    0.0s finished\n"
     ]
    }
   ],
   "source": [
    "clf_rr = Ridge(normalize=True)\n",
    "clf_rr.fit(X_train , y_train)\n",
    "accuracies = cross_val_score(estimator = clf_rr, X = X_train, y = y_train, cv = 5,verbose = 1)\n",
    "y_pred = clf_rr.predict(X_test)"
   ]
  },
  {
   "cell_type": "code",
   "execution_count": 29,
   "metadata": {},
   "outputs": [
    {
     "name": "stdout",
     "output_type": "stream",
     "text": [
      "###### Ridge Regression ######\n",
      "Score : 0.0094\n",
      "[0.00926652 0.00962429 0.00859177 0.00945139 0.00840532]\n"
     ]
    }
   ],
   "source": [
    "print('###### Ridge Regression ######')\n",
    "print('Score : %.4f' % clf_rr.score(X_test, y_test))\n",
    "print(accuracies)"
   ]
  },
  {
   "cell_type": "code",
   "execution_count": 30,
   "metadata": {},
   "outputs": [
    {
     "name": "stdout",
     "output_type": "stream",
     "text": [
      "\n",
      "MSE    : 0.82 \n",
      "MAE    : 0.72 \n",
      "RMSE   : 0.91 \n",
      "R2     : 0.0094 \n"
     ]
    }
   ],
   "source": [
    "mse = mean_squared_error(y_test, y_pred)\n",
    "mae = mean_absolute_error(y_test, y_pred)\n",
    "rmse = mean_squared_error(y_test, y_pred)**0.5\n",
    "r2 = r2_score(y_test, y_pred)\n",
    "\n",
    "print('')\n",
    "print('MSE    : %0.2f ' % mse)\n",
    "print('MAE    : %0.2f ' % mae)\n",
    "print('RMSE   : %0.2f ' % rmse)\n",
    "print('R2     : %0.4f ' % r2)\n",
    "\n",
    "R2_Scores.append(r2)"
   ]
  },
  {
   "cell_type": "markdown",
   "metadata": {},
   "source": [
    "### iv)-AdaBosst Regression"
   ]
  },
  {
   "cell_type": "code",
   "execution_count": 31,
   "metadata": {},
   "outputs": [
    {
     "data": {
      "text/plain": [
       "AdaBoostRegressor(base_estimator=None, learning_rate=1.0, loss='linear',\n",
       "         n_estimators=1000, random_state=None)"
      ]
     },
     "execution_count": 31,
     "metadata": {},
     "output_type": "execute_result"
    }
   ],
   "source": [
    "clf_ar = AdaBoostRegressor(n_estimators=1000)\n",
    "clf_ar.fit(X_train , y_train)"
   ]
  },
  {
   "cell_type": "code",
   "execution_count": 32,
   "metadata": {},
   "outputs": [],
   "source": [
    "y_pred = clf_ar.predict(X_test)"
   ]
  },
  {
   "cell_type": "code",
   "execution_count": 33,
   "metadata": {},
   "outputs": [
    {
     "name": "stdout",
     "output_type": "stream",
     "text": [
      "###### AdaBoost Regression ######\n",
      "Score : 0.0077\n",
      "[0.00926652 0.00962429 0.00859177 0.00945139 0.00840532]\n"
     ]
    }
   ],
   "source": [
    "print('###### AdaBoost Regression ######')\n",
    "print('Score : %.4f' % clf_ar.score(X_test, y_test))\n",
    "print(accuracies)"
   ]
  },
  {
   "cell_type": "code",
   "execution_count": 34,
   "metadata": {},
   "outputs": [
    {
     "name": "stdout",
     "output_type": "stream",
     "text": [
      "\n",
      "MSE    : 0.82 \n",
      "MAE    : 0.72 \n",
      "RMSE   : 0.91 \n",
      "R2     : 0.0077 \n"
     ]
    }
   ],
   "source": [
    "mse = mean_squared_error(y_test, y_pred)\n",
    "mae = mean_absolute_error(y_test, y_pred)\n",
    "rmse = mean_squared_error(y_test, y_pred)**0.5\n",
    "r2 = r2_score(y_test, y_pred)\n",
    "\n",
    "print('')\n",
    "print('MSE    : %0.2f ' % mse)\n",
    "print('MAE    : %0.2f ' % mae)\n",
    "print('RMSE   : %0.2f ' % rmse)\n",
    "print('R2     : %0.4f ' % r2)\n",
    "\n",
    "R2_Scores.append(r2)"
   ]
  },
  {
   "cell_type": "markdown",
   "metadata": {},
   "source": [
    "### v)-GradientBoosting Regression"
   ]
  },
  {
   "cell_type": "code",
   "execution_count": 35,
   "metadata": {},
   "outputs": [
    {
     "name": "stdout",
     "output_type": "stream",
     "text": [
      "      Iter       Train Loss   Remaining Time \n",
      "         1           0.8235            5.06s\n",
      "         2           0.8232            4.67s\n",
      "         3           0.8228            4.34s\n",
      "         4           0.8225            4.14s\n",
      "         5           0.8222            4.02s\n",
      "         6           0.8220            4.08s\n",
      "         7           0.8217            4.16s\n",
      "         8           0.8215            4.04s\n",
      "         9           0.8212            3.93s\n",
      "        10           0.8210            3.85s\n",
      "        20           0.8193            3.28s\n",
      "        30           0.8182            2.82s\n",
      "        40           0.8174            2.39s\n",
      "        50           0.8167            1.98s\n",
      "        60           0.8161            1.58s\n",
      "        70           0.8156            1.18s\n",
      "        80           0.8152            0.78s\n",
      "        90           0.8149            0.39s\n",
      "       100           0.8146            0.00s\n",
      "      Iter       Train Loss   Remaining Time \n",
      "         1           0.8245            2.98s\n",
      "         2           0.8242            2.90s\n"
     ]
    },
    {
     "name": "stderr",
     "output_type": "stream",
     "text": [
      "[Parallel(n_jobs=1)]: Using backend SequentialBackend with 1 concurrent workers.\n"
     ]
    },
    {
     "name": "stdout",
     "output_type": "stream",
     "text": [
      "         3           0.8238            2.85s\n",
      "         4           0.8235            3.37s\n",
      "         5           0.8232            3.31s\n",
      "         6           0.8229            3.19s\n",
      "         7           0.8227            3.10s\n",
      "         8           0.8224            3.03s\n",
      "         9           0.8222            2.96s\n",
      "        10           0.8220            2.91s\n",
      "        20           0.8203            2.51s\n",
      "        30           0.8192            2.30s\n",
      "        40           0.8183            1.94s\n",
      "        50           0.8176            1.65s\n",
      "        60           0.8170            1.33s\n",
      "        70           0.8165            0.98s\n",
      "        80           0.8161            0.64s\n",
      "        90           0.8157            0.32s\n",
      "       100           0.8153            0.00s\n",
      "      Iter       Train Loss   Remaining Time \n",
      "         1           0.8296            4.07s\n",
      "         2           0.8293            4.23s\n",
      "         3           0.8289            3.96s\n",
      "         4           0.8286            3.78s\n",
      "         5           0.8283            3.66s\n",
      "         6           0.8280            3.55s\n",
      "         7           0.8278            4.00s\n",
      "         8           0.8275            3.91s\n",
      "         9           0.8273            3.84s\n",
      "        10           0.8271            3.95s\n",
      "        20           0.8253            3.29s\n",
      "        30           0.8242            2.61s\n",
      "        40           0.8233            2.14s\n",
      "        50           0.8226            1.75s\n",
      "        60           0.8220            1.41s\n",
      "        70           0.8214            1.05s\n",
      "        80           0.8210            0.69s\n",
      "        90           0.8206            0.34s\n",
      "       100           0.8203            0.00s\n",
      "      Iter       Train Loss   Remaining Time \n",
      "         1           0.8189            3.18s\n",
      "         2           0.8185            3.14s\n",
      "         3           0.8182            3.27s\n",
      "         4           0.8179            3.22s\n",
      "         5           0.8176            3.14s\n",
      "         6           0.8173            3.09s\n",
      "         7           0.8170            3.05s\n",
      "         8           0.8168            3.01s\n",
      "         9           0.8166            3.04s\n",
      "        10           0.8163            3.00s\n",
      "        20           0.8146            2.65s\n",
      "        30           0.8135            2.26s\n",
      "        40           0.8126            1.92s\n",
      "        50           0.8119            1.61s\n",
      "        60           0.8113            1.27s\n",
      "        70           0.8108            0.96s\n",
      "        80           0.8103            0.64s\n",
      "        90           0.8099            0.32s\n",
      "       100           0.8096            0.00s\n",
      "      Iter       Train Loss   Remaining Time \n",
      "         1           0.8224            4.17s\n",
      "         2           0.8220            4.08s\n",
      "         3           0.8217            4.15s\n",
      "         4           0.8214            3.95s\n",
      "         5           0.8211            3.79s\n",
      "         6           0.8208            3.63s\n",
      "         7           0.8205            3.48s\n",
      "         8           0.8203            3.41s\n",
      "         9           0.8201            3.34s\n",
      "        10           0.8198            3.25s\n",
      "        20           0.8181            2.64s\n",
      "        30           0.8169            2.30s\n",
      "        40           0.8161            1.94s\n",
      "        50           0.8154            1.62s\n",
      "        60           0.8148            1.29s\n",
      "        70           0.8143            0.96s\n",
      "        80           0.8139            0.64s\n",
      "        90           0.8135            0.32s\n",
      "       100           0.8132            0.00s\n",
      "      Iter       Train Loss   Remaining Time \n",
      "         1           0.8222            3.18s\n",
      "         2           0.8218            3.10s\n",
      "         3           0.8214            3.11s\n",
      "         4           0.8211            3.27s\n",
      "         5           0.8208            3.18s\n",
      "         6           0.8205            3.11s\n",
      "         7           0.8202            3.05s\n",
      "         8           0.8200            3.00s\n",
      "         9           0.8198            2.94s\n",
      "        10           0.8195            3.00s\n",
      "        20           0.8178            2.58s\n",
      "        30           0.8166            2.23s\n",
      "        40           0.8157            1.91s\n",
      "        50           0.8150            1.58s\n",
      "        60           0.8144            1.31s\n",
      "        70           0.8139            0.97s\n",
      "        80           0.8134            0.64s\n",
      "        90           0.8130            0.32s\n",
      "       100           0.8127            0.00s\n"
     ]
    },
    {
     "name": "stderr",
     "output_type": "stream",
     "text": [
      "[Parallel(n_jobs=1)]: Done   5 out of   5 | elapsed:   16.6s finished\n"
     ]
    }
   ],
   "source": [
    "clf_gbr = GradientBoostingRegressor(n_estimators=100, learning_rate=0.1,max_depth=1, random_state=0, loss='ls',verbose = 1)\n",
    "clf_gbr.fit(X_train , y_train)\n",
    "accuracies = cross_val_score(estimator = clf_gbr, X = X_train, y = y_train, cv = 5,verbose = 1)\n",
    "y_pred = clf_gbr.predict(X_test)"
   ]
  },
  {
   "cell_type": "code",
   "execution_count": 36,
   "metadata": {},
   "outputs": [
    {
     "name": "stdout",
     "output_type": "stream",
     "text": [
      "###### Gradient Boosting Regression #######\n",
      "Score : 0.0089\n",
      "[0.00952889 0.00890773 0.00847191 0.00928892 0.0085154 ]\n"
     ]
    }
   ],
   "source": [
    "print('###### Gradient Boosting Regression #######')\n",
    "print('Score : %.4f' % clf_gbr.score(X_test, y_test))\n",
    "print(accuracies)"
   ]
  },
  {
   "cell_type": "code",
   "execution_count": 37,
   "metadata": {},
   "outputs": [
    {
     "name": "stdout",
     "output_type": "stream",
     "text": [
      "\n",
      "MSE    : 0.82 \n",
      "MAE    : 0.72 \n",
      "RMSE   : 0.91 \n",
      "R2     : 0.0089 \n"
     ]
    }
   ],
   "source": [
    "mse = mean_squared_error(y_test, y_pred)\n",
    "mae = mean_absolute_error(y_test, y_pred)\n",
    "rmse = mean_squared_error(y_test, y_pred)**0.5\n",
    "r2 = r2_score(y_test, y_pred)\n",
    "\n",
    "print('')\n",
    "print('MSE    : %0.2f ' % mse)\n",
    "print('MAE    : %0.2f ' % mae)\n",
    "print('RMSE   : %0.2f ' % rmse)\n",
    "print('R2     : %0.4f ' % r2)\n",
    "\n",
    "R2_Scores.append(r2)"
   ]
  },
  {
   "cell_type": "markdown",
   "metadata": {},
   "source": [
    "### vi)-RandomForest Regression"
   ]
  },
  {
   "cell_type": "code",
   "execution_count": 38,
   "metadata": {},
   "outputs": [
    {
     "name": "stderr",
     "output_type": "stream",
     "text": [
      "[Parallel(n_jobs=1)]: Using backend SequentialBackend with 1 concurrent workers.\n",
      "[Parallel(n_jobs=1)]: Done   5 out of   5 | elapsed:  1.0min finished\n"
     ]
    }
   ],
   "source": [
    "clf_rf = RandomForestRegressor()\n",
    "clf_rf.fit(X_train , y_train)\n",
    "accuracies = cross_val_score(estimator = clf_rf, X = X_train, y = y_train, cv = 5,verbose = 1)\n",
    "y_pred = clf_rf.predict(X_test)"
   ]
  },
  {
   "cell_type": "code",
   "execution_count": 39,
   "metadata": {},
   "outputs": [
    {
     "name": "stdout",
     "output_type": "stream",
     "text": [
      "###### Random Forest ######\n",
      "Score : -0.1021\n",
      "[-0.0982551  -0.12052511 -0.10863236 -0.09638342 -0.09954106]\n"
     ]
    }
   ],
   "source": [
    "print('###### Random Forest ######')\n",
    "print('Score : %.4f' % clf_rf.score(X_test, y_test))\n",
    "print(accuracies)"
   ]
  },
  {
   "cell_type": "code",
   "execution_count": 40,
   "metadata": {},
   "outputs": [
    {
     "name": "stdout",
     "output_type": "stream",
     "text": [
      "\n",
      "MSE    : 0.91 \n",
      "MAE    : 0.76 \n",
      "RMSE   : 0.96 \n",
      "R2     : -0.1021 \n"
     ]
    }
   ],
   "source": [
    "mse = mean_squared_error(y_test, y_pred)\n",
    "mae = mean_absolute_error(y_test, y_pred)\n",
    "rmse = mean_squared_error(y_test, y_pred)**0.5\n",
    "r2 = r2_score(y_test, y_pred)\n",
    "\n",
    "print('')\n",
    "print('MSE    : %0.2f ' % mse)\n",
    "print('MAE    : %0.2f ' % mae)\n",
    "print('RMSE   : %0.2f ' % rmse)\n",
    "print('R2     : %0.4f ' % r2)"
   ]
  },
  {
   "cell_type": "markdown",
   "metadata": {},
   "source": [
    "### Tuning Parameters"
   ]
  },
  {
   "cell_type": "code",
   "execution_count": 41,
   "metadata": {},
   "outputs": [
    {
     "name": "stdout",
     "output_type": "stream",
     "text": [
      "Score : -0.0013\n",
      "R2     : -0.0013 \n"
     ]
    }
   ],
   "source": [
    "no_of_test=[100]\n",
    "params_dict={'n_estimators':no_of_test,'n_jobs':[-1],'max_features':[\"auto\",'sqrt','log2']}\n",
    "clf_rf=GridSearchCV(estimator=RandomForestRegressor(),param_grid=params_dict,scoring='r2')\n",
    "clf_rf.fit(X_train,y_train)\n",
    "print('Score : %.4f' % clf_rf.score(X_test, y_test))\n",
    "pred=clf_rf.predict(X_test)\n",
    "r2 = r2_score(y_test, pred)\n",
    "print('R2     : %0.4f ' % r2)\n",
    "R2_Scores.append(r2)"
   ]
  },
  {
   "cell_type": "markdown",
   "metadata": {},
   "source": [
    "### vii)-KNeighbours Regression"
   ]
  },
  {
   "cell_type": "code",
   "execution_count": 42,
   "metadata": {},
   "outputs": [
    {
     "name": "stderr",
     "output_type": "stream",
     "text": [
      "[Parallel(n_jobs=1)]: Using backend SequentialBackend with 1 concurrent workers.\n",
      "[Parallel(n_jobs=1)]: Done   5 out of   5 | elapsed:  3.8min finished\n"
     ]
    },
    {
     "name": "stdout",
     "output_type": "stream",
     "text": [
      "\n",
      "###### KNeighbours Regression ######\n",
      "Score : -0.1832\n",
      "[-0.18228581 -0.20664405 -0.19382787 -0.1917326  -0.18681382]\n"
     ]
    }
   ],
   "source": [
    "clf_knn = KNeighborsRegressor()\n",
    "clf_knn.fit(X_train , y_train)\n",
    "accuracies = cross_val_score(estimator = clf_knn, X = X_train, y = y_train, cv = 5,verbose = 1)\n",
    "y_pred = clf_knn.predict(X_test)\n",
    "print('')\n",
    "print('###### KNeighbours Regression ######')\n",
    "print('Score : %.4f' % clf_knn.score(X_test, y_test))\n",
    "print(accuracies)"
   ]
  },
  {
   "cell_type": "code",
   "execution_count": 43,
   "metadata": {},
   "outputs": [
    {
     "name": "stdout",
     "output_type": "stream",
     "text": [
      "\n",
      "MSE    : 0.98 \n",
      "MAE    : 0.79 \n",
      "RMSE   : 0.99 \n",
      "R2     : -0.1832 \n"
     ]
    }
   ],
   "source": [
    "mse = mean_squared_error(y_test, y_pred)\n",
    "mae = mean_absolute_error(y_test, y_pred)\n",
    "rmse = mean_squared_error(y_test, y_pred)**0.5\n",
    "r2 = r2_score(y_test, y_pred)\n",
    "\n",
    "print('')\n",
    "print('MSE    : %0.2f ' % mse)\n",
    "print('MAE    : %0.2f ' % mae)\n",
    "print('RMSE   : %0.2f ' % rmse)\n",
    "print('R2     : %0.4f ' % r2)\n",
    "R2_Scores.append(r2)"
   ]
  },
  {
   "cell_type": "markdown",
   "metadata": {},
   "source": [
    "### Tuning Parameters"
   ]
  },
  {
   "cell_type": "code",
   "execution_count": 44,
   "metadata": {},
   "outputs": [
    {
     "name": "stdout",
     "output_type": "stream",
     "text": [
      "Score : -0.0101\n",
      "R2     : -0.0101 \n"
     ]
    }
   ],
   "source": [
    "n_neighbors=[]\n",
    "for i in range (0,50,5):\n",
    "    if(i!=0):\n",
    "        n_neighbors.append(i)\n",
    "params_dict={'n_neighbors':n_neighbors,'n_jobs':[-1]}\n",
    "clf_knn=GridSearchCV(estimator=KNeighborsRegressor(),param_grid=params_dict,scoring='r2')\n",
    "clf_knn.fit(X_train,y_train)\n",
    "print('Score : %.4f' % clf_knn.score(X_test, y_test))\n",
    "pred=clf_knn.predict(X_test)\n",
    "r2 = r2_score(y_test, pred)\n",
    "print('R2     : %0.4f ' % r2)"
   ]
  },
  {
   "cell_type": "markdown",
   "metadata": {},
   "source": [
    "# Comparison of R2-Score "
   ]
  },
  {
   "cell_type": "code",
   "execution_count": 45,
   "metadata": {},
   "outputs": [
    {
     "data": {
      "text/html": [
       "<div>\n",
       "<style scoped>\n",
       "    .dataframe tbody tr th:only-of-type {\n",
       "        vertical-align: middle;\n",
       "    }\n",
       "\n",
       "    .dataframe tbody tr th {\n",
       "        vertical-align: top;\n",
       "    }\n",
       "\n",
       "    .dataframe thead th {\n",
       "        text-align: right;\n",
       "    }\n",
       "</style>\n",
       "<table border=\"1\" class=\"dataframe\">\n",
       "  <thead>\n",
       "    <tr style=\"text-align: right;\">\n",
       "      <th></th>\n",
       "      <th>MODEL</th>\n",
       "      <th>R2-Scores</th>\n",
       "    </tr>\n",
       "  </thead>\n",
       "  <tbody>\n",
       "    <tr>\n",
       "      <th>0</th>\n",
       "      <td>Linear Regression</td>\n",
       "      <td>0.011325</td>\n",
       "    </tr>\n",
       "    <tr>\n",
       "      <th>2</th>\n",
       "      <td>Ridge Regression</td>\n",
       "      <td>0.009372</td>\n",
       "    </tr>\n",
       "    <tr>\n",
       "      <th>4</th>\n",
       "      <td>GradientBoosting Regression</td>\n",
       "      <td>0.008906</td>\n",
       "    </tr>\n",
       "    <tr>\n",
       "      <th>3</th>\n",
       "      <td>AdaBoost Regression</td>\n",
       "      <td>0.007701</td>\n",
       "    </tr>\n",
       "    <tr>\n",
       "      <th>1</th>\n",
       "      <td>Lasso Regression</td>\n",
       "      <td>-0.000007</td>\n",
       "    </tr>\n",
       "    <tr>\n",
       "      <th>5</th>\n",
       "      <td>RandomForest Regression</td>\n",
       "      <td>-0.001320</td>\n",
       "    </tr>\n",
       "    <tr>\n",
       "      <th>6</th>\n",
       "      <td>KNeighbours Regression</td>\n",
       "      <td>-0.183204</td>\n",
       "    </tr>\n",
       "  </tbody>\n",
       "</table>\n",
       "</div>"
      ],
      "text/plain": [
       "                         MODEL  R2-Scores\n",
       "0            Linear Regression   0.011325\n",
       "2             Ridge Regression   0.009372\n",
       "4  GradientBoosting Regression   0.008906\n",
       "3          AdaBoost Regression   0.007701\n",
       "1             Lasso Regression  -0.000007\n",
       "5      RandomForest Regression  -0.001320\n",
       "6       KNeighbours Regression  -0.183204"
      ]
     },
     "execution_count": 45,
     "metadata": {},
     "output_type": "execute_result"
    }
   ],
   "source": [
    "compare = pd.DataFrame({'MODEL' : models , 'R2-Scores' : R2_Scores})\n",
    "compare.sort_values(by='R2-Scores' ,ascending=False)"
   ]
  },
  {
   "cell_type": "markdown",
   "metadata": {},
   "source": [
    "**The best R2 is from above is 0.0113 . So, we think that \"Linear Regression\" is the best most optimized model for our prediction problem.**"
   ]
  }
 ],
 "metadata": {
  "kernelspec": {
   "display_name": "Python 3",
   "language": "python",
   "name": "python3"
  },
  "language_info": {
   "codemirror_mode": {
    "name": "ipython",
    "version": 3
   },
   "file_extension": ".py",
   "mimetype": "text/x-python",
   "name": "python",
   "nbconvert_exporter": "python",
   "pygments_lexer": "ipython3",
   "version": "3.6.3"
  }
 },
 "nbformat": 4,
 "nbformat_minor": 2
}
