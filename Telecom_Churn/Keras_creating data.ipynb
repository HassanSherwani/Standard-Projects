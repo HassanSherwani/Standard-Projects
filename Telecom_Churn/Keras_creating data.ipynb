{
 "cells": [
  {
   "cell_type": "code",
   "execution_count": 1,
   "metadata": {},
   "outputs": [],
   "source": [
    "import pickle\n",
    "import pandas as pd"
   ]
  },
  {
   "cell_type": "code",
   "execution_count": 2,
   "metadata": {},
   "outputs": [],
   "source": [
    "df = pd.read_csv('clean_features.csv')"
   ]
  },
  {
   "cell_type": "code",
   "execution_count": 3,
   "metadata": {},
   "outputs": [
    {
     "data": {
      "text/plain": [
       "(1200, 22)"
      ]
     },
     "execution_count": 3,
     "metadata": {},
     "output_type": "execute_result"
    }
   ],
   "source": [
    "df.shape"
   ]
  },
  {
   "cell_type": "code",
   "execution_count": 4,
   "metadata": {},
   "outputs": [
    {
     "data": {
      "text/plain": [
       "0    0\n",
       "1    0\n",
       "2    0\n",
       "3    1\n",
       "4    0\n",
       "Name: Churn.Status, dtype: int64"
      ]
     },
     "execution_count": 4,
     "metadata": {},
     "output_type": "execute_result"
    }
   ],
   "source": [
    "df['Churn.Status'][:5]"
   ]
  },
  {
   "cell_type": "code",
   "execution_count": 5,
   "metadata": {
    "scrolled": true
   },
   "outputs": [
    {
     "data": {
      "text/html": [
       "<div>\n",
       "<style scoped>\n",
       "    .dataframe tbody tr th:only-of-type {\n",
       "        vertical-align: middle;\n",
       "    }\n",
       "\n",
       "    .dataframe tbody tr th {\n",
       "        vertical-align: top;\n",
       "    }\n",
       "\n",
       "    .dataframe thead th {\n",
       "        text-align: right;\n",
       "    }\n",
       "</style>\n",
       "<table border=\"1\" class=\"dataframe\">\n",
       "  <thead>\n",
       "    <tr style=\"text-align: right;\">\n",
       "      <th></th>\n",
       "      <th>Months.customer</th>\n",
       "      <th>Minutes.in.2018</th>\n",
       "      <th>Number.of.SMS</th>\n",
       "      <th>KBs.used</th>\n",
       "      <th>Total.Unique.Calls</th>\n",
       "      <th>Churn.Status</th>\n",
       "      <th>Customer.Age</th>\n",
       "      <th>LoginsSite.Last.6Months</th>\n",
       "      <th>EndSubscription</th>\n",
       "      <th>Total.Call.centre.complaint.calls</th>\n",
       "      <th>...</th>\n",
       "      <th>Province_Friesland</th>\n",
       "      <th>Province_Gelderland</th>\n",
       "      <th>Province_Groningen</th>\n",
       "      <th>Province_Limburg</th>\n",
       "      <th>Province_Noord-Brabant</th>\n",
       "      <th>Province_Noord-Holland</th>\n",
       "      <th>Province_Overijssel</th>\n",
       "      <th>Province_Utrecht</th>\n",
       "      <th>Province_Zeeland</th>\n",
       "      <th>Province_Zuid-Holland</th>\n",
       "    </tr>\n",
       "  </thead>\n",
       "  <tbody>\n",
       "    <tr>\n",
       "      <th>0</th>\n",
       "      <td>126.83</td>\n",
       "      <td>4091.616</td>\n",
       "      <td>81</td>\n",
       "      <td>3624.3750</td>\n",
       "      <td>117</td>\n",
       "      <td>0</td>\n",
       "      <td>44</td>\n",
       "      <td>11</td>\n",
       "      <td>5</td>\n",
       "      <td>2</td>\n",
       "      <td>...</td>\n",
       "      <td>0</td>\n",
       "      <td>0</td>\n",
       "      <td>0</td>\n",
       "      <td>0</td>\n",
       "      <td>0</td>\n",
       "      <td>0</td>\n",
       "      <td>0</td>\n",
       "      <td>1</td>\n",
       "      <td>0</td>\n",
       "      <td>0</td>\n",
       "    </tr>\n",
       "    <tr>\n",
       "      <th>1</th>\n",
       "      <td>96.83</td>\n",
       "      <td>3179.280</td>\n",
       "      <td>101</td>\n",
       "      <td>551842.8331</td>\n",
       "      <td>106</td>\n",
       "      <td>0</td>\n",
       "      <td>31</td>\n",
       "      <td>12</td>\n",
       "      <td>4</td>\n",
       "      <td>2</td>\n",
       "      <td>...</td>\n",
       "      <td>0</td>\n",
       "      <td>0</td>\n",
       "      <td>0</td>\n",
       "      <td>0</td>\n",
       "      <td>0</td>\n",
       "      <td>0</td>\n",
       "      <td>0</td>\n",
       "      <td>0</td>\n",
       "      <td>0</td>\n",
       "      <td>0</td>\n",
       "    </tr>\n",
       "  </tbody>\n",
       "</table>\n",
       "<p>2 rows × 22 columns</p>\n",
       "</div>"
      ],
      "text/plain": [
       "   Months.customer  Minutes.in.2018  Number.of.SMS     KBs.used  \\\n",
       "0           126.83         4091.616             81    3624.3750   \n",
       "1            96.83         3179.280            101  551842.8331   \n",
       "\n",
       "   Total.Unique.Calls  Churn.Status  Customer.Age  LoginsSite.Last.6Months  \\\n",
       "0                 117             0            44                       11   \n",
       "1                 106             0            31                       12   \n",
       "\n",
       "   EndSubscription  Total.Call.centre.complaint.calls          ...            \\\n",
       "0                5                                  2          ...             \n",
       "1                4                                  2          ...             \n",
       "\n",
       "   Province_Friesland  Province_Gelderland  Province_Groningen  \\\n",
       "0                   0                    0                   0   \n",
       "1                   0                    0                   0   \n",
       "\n",
       "   Province_Limburg  Province_Noord-Brabant  Province_Noord-Holland  \\\n",
       "0                 0                       0                       0   \n",
       "1                 0                       0                       0   \n",
       "\n",
       "   Province_Overijssel  Province_Utrecht  Province_Zeeland  \\\n",
       "0                    0                 1                 0   \n",
       "1                    0                 0                 0   \n",
       "\n",
       "   Province_Zuid-Holland  \n",
       "0                      0  \n",
       "1                      0  \n",
       "\n",
       "[2 rows x 22 columns]"
      ]
     },
     "execution_count": 5,
     "metadata": {},
     "output_type": "execute_result"
    }
   ],
   "source": [
    "df.head(2)"
   ]
  },
  {
   "cell_type": "code",
   "execution_count": 6,
   "metadata": {},
   "outputs": [],
   "source": [
    "df=df.rename(index=str, columns={\"Churn.Status\": \"churn\"})"
   ]
  },
  {
   "cell_type": "code",
   "execution_count": 7,
   "metadata": {},
   "outputs": [
    {
     "data": {
      "text/html": [
       "<div>\n",
       "<style scoped>\n",
       "    .dataframe tbody tr th:only-of-type {\n",
       "        vertical-align: middle;\n",
       "    }\n",
       "\n",
       "    .dataframe tbody tr th {\n",
       "        vertical-align: top;\n",
       "    }\n",
       "\n",
       "    .dataframe thead th {\n",
       "        text-align: right;\n",
       "    }\n",
       "</style>\n",
       "<table border=\"1\" class=\"dataframe\">\n",
       "  <thead>\n",
       "    <tr style=\"text-align: right;\">\n",
       "      <th></th>\n",
       "      <th>Months.customer</th>\n",
       "      <th>Minutes.in.2018</th>\n",
       "      <th>Number.of.SMS</th>\n",
       "      <th>KBs.used</th>\n",
       "      <th>Total.Unique.Calls</th>\n",
       "      <th>churn</th>\n",
       "      <th>Customer.Age</th>\n",
       "      <th>LoginsSite.Last.6Months</th>\n",
       "      <th>EndSubscription</th>\n",
       "      <th>Total.Call.centre.complaint.calls</th>\n",
       "      <th>...</th>\n",
       "      <th>Province_Friesland</th>\n",
       "      <th>Province_Gelderland</th>\n",
       "      <th>Province_Groningen</th>\n",
       "      <th>Province_Limburg</th>\n",
       "      <th>Province_Noord-Brabant</th>\n",
       "      <th>Province_Noord-Holland</th>\n",
       "      <th>Province_Overijssel</th>\n",
       "      <th>Province_Utrecht</th>\n",
       "      <th>Province_Zeeland</th>\n",
       "      <th>Province_Zuid-Holland</th>\n",
       "    </tr>\n",
       "  </thead>\n",
       "  <tbody>\n",
       "    <tr>\n",
       "      <th>0</th>\n",
       "      <td>126.83</td>\n",
       "      <td>4091.6160</td>\n",
       "      <td>81</td>\n",
       "      <td>3.624375e+03</td>\n",
       "      <td>117</td>\n",
       "      <td>0</td>\n",
       "      <td>44</td>\n",
       "      <td>11</td>\n",
       "      <td>5</td>\n",
       "      <td>2</td>\n",
       "      <td>...</td>\n",
       "      <td>0</td>\n",
       "      <td>0</td>\n",
       "      <td>0</td>\n",
       "      <td>0</td>\n",
       "      <td>0</td>\n",
       "      <td>0</td>\n",
       "      <td>0</td>\n",
       "      <td>1</td>\n",
       "      <td>0</td>\n",
       "      <td>0</td>\n",
       "    </tr>\n",
       "    <tr>\n",
       "      <th>1</th>\n",
       "      <td>96.83</td>\n",
       "      <td>3179.2800</td>\n",
       "      <td>101</td>\n",
       "      <td>5.518428e+05</td>\n",
       "      <td>106</td>\n",
       "      <td>0</td>\n",
       "      <td>31</td>\n",
       "      <td>12</td>\n",
       "      <td>4</td>\n",
       "      <td>2</td>\n",
       "      <td>...</td>\n",
       "      <td>0</td>\n",
       "      <td>0</td>\n",
       "      <td>0</td>\n",
       "      <td>0</td>\n",
       "      <td>0</td>\n",
       "      <td>0</td>\n",
       "      <td>0</td>\n",
       "      <td>0</td>\n",
       "      <td>0</td>\n",
       "      <td>0</td>\n",
       "    </tr>\n",
       "    <tr>\n",
       "      <th>2</th>\n",
       "      <td>127.30</td>\n",
       "      <td>7233.1824</td>\n",
       "      <td>79</td>\n",
       "      <td>2.128473e+06</td>\n",
       "      <td>94</td>\n",
       "      <td>0</td>\n",
       "      <td>35</td>\n",
       "      <td>8</td>\n",
       "      <td>5</td>\n",
       "      <td>3</td>\n",
       "      <td>...</td>\n",
       "      <td>0</td>\n",
       "      <td>0</td>\n",
       "      <td>0</td>\n",
       "      <td>0</td>\n",
       "      <td>1</td>\n",
       "      <td>0</td>\n",
       "      <td>0</td>\n",
       "      <td>0</td>\n",
       "      <td>0</td>\n",
       "      <td>0</td>\n",
       "    </tr>\n",
       "    <tr>\n",
       "      <th>3</th>\n",
       "      <td>121.43</td>\n",
       "      <td>7336.1760</td>\n",
       "      <td>121</td>\n",
       "      <td>2.180738e+04</td>\n",
       "      <td>450</td>\n",
       "      <td>1</td>\n",
       "      <td>54</td>\n",
       "      <td>14</td>\n",
       "      <td>3</td>\n",
       "      <td>1</td>\n",
       "      <td>...</td>\n",
       "      <td>0</td>\n",
       "      <td>0</td>\n",
       "      <td>0</td>\n",
       "      <td>0</td>\n",
       "      <td>0</td>\n",
       "      <td>1</td>\n",
       "      <td>0</td>\n",
       "      <td>0</td>\n",
       "      <td>0</td>\n",
       "      <td>0</td>\n",
       "    </tr>\n",
       "    <tr>\n",
       "      <th>4</th>\n",
       "      <td>126.97</td>\n",
       "      <td>5390.9400</td>\n",
       "      <td>16</td>\n",
       "      <td>4.648857e+05</td>\n",
       "      <td>308</td>\n",
       "      <td>0</td>\n",
       "      <td>53</td>\n",
       "      <td>9</td>\n",
       "      <td>3</td>\n",
       "      <td>2</td>\n",
       "      <td>...</td>\n",
       "      <td>0</td>\n",
       "      <td>0</td>\n",
       "      <td>0</td>\n",
       "      <td>0</td>\n",
       "      <td>1</td>\n",
       "      <td>0</td>\n",
       "      <td>0</td>\n",
       "      <td>0</td>\n",
       "      <td>0</td>\n",
       "      <td>0</td>\n",
       "    </tr>\n",
       "  </tbody>\n",
       "</table>\n",
       "<p>5 rows × 22 columns</p>\n",
       "</div>"
      ],
      "text/plain": [
       "   Months.customer  Minutes.in.2018  Number.of.SMS      KBs.used  \\\n",
       "0           126.83        4091.6160             81  3.624375e+03   \n",
       "1            96.83        3179.2800            101  5.518428e+05   \n",
       "2           127.30        7233.1824             79  2.128473e+06   \n",
       "3           121.43        7336.1760            121  2.180738e+04   \n",
       "4           126.97        5390.9400             16  4.648857e+05   \n",
       "\n",
       "   Total.Unique.Calls  churn  Customer.Age  LoginsSite.Last.6Months  \\\n",
       "0                 117      0            44                       11   \n",
       "1                 106      0            31                       12   \n",
       "2                  94      0            35                        8   \n",
       "3                 450      1            54                       14   \n",
       "4                 308      0            53                        9   \n",
       "\n",
       "   EndSubscription  Total.Call.centre.complaint.calls          ...            \\\n",
       "0                5                                  2          ...             \n",
       "1                4                                  2          ...             \n",
       "2                5                                  3          ...             \n",
       "3                3                                  1          ...             \n",
       "4                3                                  2          ...             \n",
       "\n",
       "   Province_Friesland  Province_Gelderland  Province_Groningen  \\\n",
       "0                   0                    0                   0   \n",
       "1                   0                    0                   0   \n",
       "2                   0                    0                   0   \n",
       "3                   0                    0                   0   \n",
       "4                   0                    0                   0   \n",
       "\n",
       "   Province_Limburg  Province_Noord-Brabant  Province_Noord-Holland  \\\n",
       "0                 0                       0                       0   \n",
       "1                 0                       0                       0   \n",
       "2                 0                       1                       0   \n",
       "3                 0                       0                       1   \n",
       "4                 0                       1                       0   \n",
       "\n",
       "   Province_Overijssel  Province_Utrecht  Province_Zeeland  \\\n",
       "0                    0                 1                 0   \n",
       "1                    0                 0                 0   \n",
       "2                    0                 0                 0   \n",
       "3                    0                 0                 0   \n",
       "4                    0                 0                 0   \n",
       "\n",
       "   Province_Zuid-Holland  \n",
       "0                      0  \n",
       "1                      0  \n",
       "2                      0  \n",
       "3                      0  \n",
       "4                      0  \n",
       "\n",
       "[5 rows x 22 columns]"
      ]
     },
     "execution_count": 7,
     "metadata": {},
     "output_type": "execute_result"
    }
   ],
   "source": [
    "df.head()"
   ]
  },
  {
   "cell_type": "code",
   "execution_count": 8,
   "metadata": {},
   "outputs": [
    {
     "data": {
      "text/plain": [
       "0    609\n",
       "1    591\n",
       "Name: churn, dtype: int64"
      ]
     },
     "execution_count": 8,
     "metadata": {},
     "output_type": "execute_result"
    }
   ],
   "source": [
    "df.churn.value_counts()"
   ]
  },
  {
   "cell_type": "code",
   "execution_count": 9,
   "metadata": {},
   "outputs": [],
   "source": [
    "df[\"churn\"] = df.churn.map({ 0 :\"loyal\", 1 :\"churn\"})"
   ]
  },
  {
   "cell_type": "code",
   "execution_count": 10,
   "metadata": {},
   "outputs": [
    {
     "data": {
      "text/plain": [
       "(1200, 22)"
      ]
     },
     "execution_count": 10,
     "metadata": {},
     "output_type": "execute_result"
    }
   ],
   "source": [
    "df.shape"
   ]
  },
  {
   "cell_type": "code",
   "execution_count": 11,
   "metadata": {},
   "outputs": [
    {
     "data": {
      "text/plain": [
       "0    loyal\n",
       "1    loyal\n",
       "2    loyal\n",
       "3    churn\n",
       "4    loyal\n",
       "Name: churn, dtype: object"
      ]
     },
     "execution_count": 11,
     "metadata": {},
     "output_type": "execute_result"
    }
   ],
   "source": [
    "df.churn.head()"
   ]
  },
  {
   "cell_type": "code",
   "execution_count": 13,
   "metadata": {},
   "outputs": [
    {
     "data": {
      "text/plain": [
       "loyal    609\n",
       "churn    591\n",
       "Name: churn, dtype: int64"
      ]
     },
     "execution_count": 13,
     "metadata": {},
     "output_type": "execute_result"
    }
   ],
   "source": [
    "df.churn.value_counts()"
   ]
  },
  {
   "cell_type": "code",
   "execution_count": 14,
   "metadata": {},
   "outputs": [
    {
     "data": {
      "text/plain": [
       "(1200, 22)"
      ]
     },
     "execution_count": 14,
     "metadata": {},
     "output_type": "execute_result"
    }
   ],
   "source": [
    "df.shape"
   ]
  },
  {
   "cell_type": "code",
   "execution_count": 15,
   "metadata": {},
   "outputs": [],
   "source": [
    "df.to_pickle('keras_made.pkl')"
   ]
  },
  {
   "cell_type": "code",
   "execution_count": null,
   "metadata": {},
   "outputs": [],
   "source": []
  }
 ],
 "metadata": {
  "kernelspec": {
   "display_name": "Python 3",
   "language": "python",
   "name": "python3"
  },
  "language_info": {
   "codemirror_mode": {
    "name": "ipython",
    "version": 3
   },
   "file_extension": ".py",
   "mimetype": "text/x-python",
   "name": "python",
   "nbconvert_exporter": "python",
   "pygments_lexer": "ipython3",
   "version": "3.6.5"
  }
 },
 "nbformat": 4,
 "nbformat_minor": 2
}
