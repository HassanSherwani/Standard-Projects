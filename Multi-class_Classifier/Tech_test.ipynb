{
 "cells": [
  {
   "cell_type": "markdown",
   "metadata": {
    "colab_type": "text",
    "id": "Qp6Jzx49W_ta"
   },
   "source": [
    "# Multi-class Classification Problem"
   ]
  },
  {
   "cell_type": "markdown",
   "metadata": {},
   "source": [
    "# 1)-Importing key modules"
   ]
  },
  {
   "cell_type": "code",
   "execution_count": 1,
   "metadata": {
    "colab": {},
    "colab_type": "code",
    "id": "4V11g1goXDyF"
   },
   "outputs": [
    {
     "name": "stdout",
     "output_type": "stream",
     "text": [
      "Populating the interactive namespace from numpy and matplotlib\n"
     ]
    }
   ],
   "source": [
    "import warnings\n",
    "warnings.filterwarnings('ignore')\n",
    "# For processing\n",
    "import matplotlib.pyplot as plt\n",
    "import pandas as pd\n",
    "import numpy as np\n",
    "import datetime as dt\n",
    "from datetime import datetime\n",
    "import seaborn as sns\n",
    "plt.rcParams[\"figure.figsize\"] = (16, 10)\n",
    "plt.rcParams[\"xtick.labelsize\"] = 10\n",
    "plt.figure(figsize=(16,10)) # this creates a figure 16 inch wide, 10 inch high\n",
    "from pprint import pprint\n",
    "%matplotlib inline\n",
    "%pylab inline"
   ]
  },
  {
   "cell_type": "code",
   "execution_count": 2,
   "metadata": {},
   "outputs": [],
   "source": [
    "# For modeling building and tunning\n",
    "from sklearn.model_selection import train_test_split\n",
    "from sklearn.preprocessing import StandardScaler\n",
    "from sklearn.impute import SimpleImputer\n",
    "from sklearn.svm import SVC\n",
    "from sklearn.linear_model import LogisticRegression\n",
    "from sklearn.model_selection import KFold\n",
    "from sklearn.model_selection import cross_val_score\n",
    "from sklearn.naive_bayes import GaussianNB\n",
    "from sklearn.neighbors import KNeighborsClassifier\n",
    "from sklearn.tree import DecisionTreeClassifier\n",
    "from sklearn.ensemble import RandomForestClassifier"
   ]
  },
  {
   "cell_type": "code",
   "execution_count": 4,
   "metadata": {},
   "outputs": [],
   "source": [
    "# for evaluation\n",
    "\n",
    "from sklearn.metrics import accuracy_score\n",
    "from sklearn.metrics import recall_score\n",
    "from sklearn.metrics import classification_report\n",
    "from sklearn.metrics import confusion_matrix"
   ]
  },
  {
   "cell_type": "markdown",
   "metadata": {},
   "source": [
    "# 2)-Loading data"
   ]
  },
  {
   "cell_type": "code",
   "execution_count": 5,
   "metadata": {},
   "outputs": [
    {
     "data": {
      "text/plain": [
       "(7352, 566)"
      ]
     },
     "execution_count": 5,
     "metadata": {},
     "output_type": "execute_result"
    }
   ],
   "source": [
    "df = pd.read_csv('train.csv')\n",
    "df=df.drop('Unnamed: 0',axis=1)\n",
    "df.shape"
   ]
  },
  {
   "cell_type": "code",
   "execution_count": 6,
   "metadata": {},
   "outputs": [
    {
     "data": {
      "text/plain": [
       "Index(['v0', 'v1', 'v2', 'v3', 'v4', 'v5', 'v6', 'v7', 'v8', 'v9',\n",
       "       ...\n",
       "       'v556', 'v557', 'v558', 'v559', 'v560', 'v561', 'v562', 'v563', 'v564',\n",
       "       'label'],\n",
       "      dtype='object', length=566)"
      ]
     },
     "execution_count": 6,
     "metadata": {},
     "output_type": "execute_result"
    }
   ],
   "source": [
    "df.columns"
   ]
  },
  {
   "cell_type": "code",
   "execution_count": 7,
   "metadata": {},
   "outputs": [
    {
     "data": {
      "text/html": [
       "<div>\n",
       "<style scoped>\n",
       "    .dataframe tbody tr th:only-of-type {\n",
       "        vertical-align: middle;\n",
       "    }\n",
       "\n",
       "    .dataframe tbody tr th {\n",
       "        vertical-align: top;\n",
       "    }\n",
       "\n",
       "    .dataframe thead th {\n",
       "        text-align: right;\n",
       "    }\n",
       "</style>\n",
       "<table border=\"1\" class=\"dataframe\">\n",
       "  <thead>\n",
       "    <tr style=\"text-align: right;\">\n",
       "      <th></th>\n",
       "      <th>v0</th>\n",
       "      <th>v1</th>\n",
       "      <th>v2</th>\n",
       "      <th>v3</th>\n",
       "      <th>v4</th>\n",
       "      <th>v5</th>\n",
       "      <th>v6</th>\n",
       "      <th>v7</th>\n",
       "      <th>v8</th>\n",
       "      <th>v9</th>\n",
       "      <th>...</th>\n",
       "      <th>v556</th>\n",
       "      <th>v557</th>\n",
       "      <th>v558</th>\n",
       "      <th>v559</th>\n",
       "      <th>v560</th>\n",
       "      <th>v561</th>\n",
       "      <th>v562</th>\n",
       "      <th>v563</th>\n",
       "      <th>v564</th>\n",
       "      <th>label</th>\n",
       "    </tr>\n",
       "  </thead>\n",
       "  <tbody>\n",
       "    <tr>\n",
       "      <th>0</th>\n",
       "      <td>0</td>\n",
       "      <td>f</td>\n",
       "      <td>-0.132905</td>\n",
       "      <td>-0.995279</td>\n",
       "      <td>-0.983111</td>\n",
       "      <td>0</td>\n",
       "      <td>-0.995112</td>\n",
       "      <td>-0.983185</td>\n",
       "      <td>-0.923527</td>\n",
       "      <td>-0.934724</td>\n",
       "      <td>...</td>\n",
       "      <td>-0.464761</td>\n",
       "      <td>-0.018446</td>\n",
       "      <td>-0.841247</td>\n",
       "      <td>0.179941</td>\n",
       "      <td>-0.058627</td>\n",
       "      <td>A</td>\n",
       "      <td>0.288585</td>\n",
       "      <td>-0.913526</td>\n",
       "      <td>-0.020294</td>\n",
       "      <td>2</td>\n",
       "    </tr>\n",
       "    <tr>\n",
       "      <th>1</th>\n",
       "      <td>1</td>\n",
       "      <td>f</td>\n",
       "      <td>-0.123520</td>\n",
       "      <td>-0.998245</td>\n",
       "      <td>-0.975300</td>\n",
       "      <td>0</td>\n",
       "      <td>-0.998807</td>\n",
       "      <td>-0.974914</td>\n",
       "      <td>-0.957686</td>\n",
       "      <td>-0.943068</td>\n",
       "      <td>...</td>\n",
       "      <td>-0.732626</td>\n",
       "      <td>0.703511</td>\n",
       "      <td>-0.844788</td>\n",
       "      <td>0.180289</td>\n",
       "      <td>-0.054317</td>\n",
       "      <td>A</td>\n",
       "      <td>0.278419</td>\n",
       "      <td>-0.960322</td>\n",
       "      <td>-0.016411</td>\n",
       "      <td>2</td>\n",
       "    </tr>\n",
       "    <tr>\n",
       "      <th>2</th>\n",
       "      <td>2</td>\n",
       "      <td>f</td>\n",
       "      <td>-0.113462</td>\n",
       "      <td>-0.995380</td>\n",
       "      <td>-0.967187</td>\n",
       "      <td>0</td>\n",
       "      <td>-0.996520</td>\n",
       "      <td>-0.963668</td>\n",
       "      <td>-0.977469</td>\n",
       "      <td>-0.938692</td>\n",
       "      <td>...</td>\n",
       "      <td>0.100699</td>\n",
       "      <td>0.808529</td>\n",
       "      <td>-0.848933</td>\n",
       "      <td>0.180637</td>\n",
       "      <td>-0.049118</td>\n",
       "      <td>A</td>\n",
       "      <td>0.279653</td>\n",
       "      <td>-0.978944</td>\n",
       "      <td>-0.019467</td>\n",
       "      <td>2</td>\n",
       "    </tr>\n",
       "    <tr>\n",
       "      <th>3</th>\n",
       "      <td>3</td>\n",
       "      <td>f</td>\n",
       "      <td>-0.123283</td>\n",
       "      <td>-0.996091</td>\n",
       "      <td>-0.983403</td>\n",
       "      <td>0</td>\n",
       "      <td>-0.997099</td>\n",
       "      <td>-0.982750</td>\n",
       "      <td>-0.989302</td>\n",
       "      <td>-0.938692</td>\n",
       "      <td>...</td>\n",
       "      <td>0.640011</td>\n",
       "      <td>-0.485366</td>\n",
       "      <td>-0.848649</td>\n",
       "      <td>0.181935</td>\n",
       "      <td>-0.047663</td>\n",
       "      <td>A</td>\n",
       "      <td>0.279174</td>\n",
       "      <td>-0.990675</td>\n",
       "      <td>-0.026201</td>\n",
       "      <td>2</td>\n",
       "    </tr>\n",
       "    <tr>\n",
       "      <th>4</th>\n",
       "      <td>4</td>\n",
       "      <td>f</td>\n",
       "      <td>-0.115362</td>\n",
       "      <td>-0.998139</td>\n",
       "      <td>-0.980817</td>\n",
       "      <td>0</td>\n",
       "      <td>-0.998321</td>\n",
       "      <td>-0.979672</td>\n",
       "      <td>-0.990441</td>\n",
       "      <td>-0.942469</td>\n",
       "      <td>...</td>\n",
       "      <td>0.693578</td>\n",
       "      <td>-0.615971</td>\n",
       "      <td>-0.847865</td>\n",
       "      <td>0.185151</td>\n",
       "      <td>-0.043892</td>\n",
       "      <td>A</td>\n",
       "      <td>0.276629</td>\n",
       "      <td>-0.990482</td>\n",
       "      <td>-0.016570</td>\n",
       "      <td>2</td>\n",
       "    </tr>\n",
       "  </tbody>\n",
       "</table>\n",
       "<p>5 rows × 566 columns</p>\n",
       "</div>"
      ],
      "text/plain": [
       "   v0 v1        v2        v3        v4  v5        v6        v7        v8  \\\n",
       "0   0  f -0.132905 -0.995279 -0.983111   0 -0.995112 -0.983185 -0.923527   \n",
       "1   1  f -0.123520 -0.998245 -0.975300   0 -0.998807 -0.974914 -0.957686   \n",
       "2   2  f -0.113462 -0.995380 -0.967187   0 -0.996520 -0.963668 -0.977469   \n",
       "3   3  f -0.123283 -0.996091 -0.983403   0 -0.997099 -0.982750 -0.989302   \n",
       "4   4  f -0.115362 -0.998139 -0.980817   0 -0.998321 -0.979672 -0.990441   \n",
       "\n",
       "         v9  ...      v556      v557      v558      v559      v560  v561  \\\n",
       "0 -0.934724  ... -0.464761 -0.018446 -0.841247  0.179941 -0.058627     A   \n",
       "1 -0.943068  ... -0.732626  0.703511 -0.844788  0.180289 -0.054317     A   \n",
       "2 -0.938692  ...  0.100699  0.808529 -0.848933  0.180637 -0.049118     A   \n",
       "3 -0.938692  ...  0.640011 -0.485366 -0.848649  0.181935 -0.047663     A   \n",
       "4 -0.942469  ...  0.693578 -0.615971 -0.847865  0.185151 -0.043892     A   \n",
       "\n",
       "       v562      v563      v564  label  \n",
       "0  0.288585 -0.913526 -0.020294      2  \n",
       "1  0.278419 -0.960322 -0.016411      2  \n",
       "2  0.279653 -0.978944 -0.019467      2  \n",
       "3  0.279174 -0.990675 -0.026201      2  \n",
       "4  0.276629 -0.990482 -0.016570      2  \n",
       "\n",
       "[5 rows x 566 columns]"
      ]
     },
     "execution_count": 7,
     "metadata": {},
     "output_type": "execute_result"
    }
   ],
   "source": [
    "df.head()"
   ]
  },
  {
   "cell_type": "code",
   "execution_count": 8,
   "metadata": {},
   "outputs": [
    {
     "data": {
      "text/plain": [
       "(2947, 566)"
      ]
     },
     "execution_count": 8,
     "metadata": {},
     "output_type": "execute_result"
    }
   ],
   "source": [
    "df_test = pd.read_csv('test.csv')\n",
    "df_test=df_test.drop('Unnamed: 0',axis=1)\n",
    "df_test.shape"
   ]
  },
  {
   "cell_type": "code",
   "execution_count": 9,
   "metadata": {
    "scrolled": true
   },
   "outputs": [
    {
     "data": {
      "text/html": [
       "<div>\n",
       "<style scoped>\n",
       "    .dataframe tbody tr th:only-of-type {\n",
       "        vertical-align: middle;\n",
       "    }\n",
       "\n",
       "    .dataframe tbody tr th {\n",
       "        vertical-align: top;\n",
       "    }\n",
       "\n",
       "    .dataframe thead th {\n",
       "        text-align: right;\n",
       "    }\n",
       "</style>\n",
       "<table border=\"1\" class=\"dataframe\">\n",
       "  <thead>\n",
       "    <tr style=\"text-align: right;\">\n",
       "      <th></th>\n",
       "      <th>v0</th>\n",
       "      <th>v1</th>\n",
       "      <th>v2</th>\n",
       "      <th>v3</th>\n",
       "      <th>v4</th>\n",
       "      <th>v5</th>\n",
       "      <th>v6</th>\n",
       "      <th>v7</th>\n",
       "      <th>v8</th>\n",
       "      <th>v9</th>\n",
       "      <th>...</th>\n",
       "      <th>v556</th>\n",
       "      <th>v557</th>\n",
       "      <th>v558</th>\n",
       "      <th>v559</th>\n",
       "      <th>v560</th>\n",
       "      <th>v561</th>\n",
       "      <th>v562</th>\n",
       "      <th>v563</th>\n",
       "      <th>v564</th>\n",
       "      <th>label</th>\n",
       "    </tr>\n",
       "  </thead>\n",
       "  <tbody>\n",
       "    <tr>\n",
       "      <th>0</th>\n",
       "      <td>0</td>\n",
       "      <td>i</td>\n",
       "      <td>-0.014654</td>\n",
       "      <td>-0.938404</td>\n",
       "      <td>-0.920091</td>\n",
       "      <td>0</td>\n",
       "      <td>-0.952501</td>\n",
       "      <td>-0.925249</td>\n",
       "      <td>-0.674302</td>\n",
       "      <td>-0.894088</td>\n",
       "      <td>...</td>\n",
       "      <td>-0.825886</td>\n",
       "      <td>0.271151</td>\n",
       "      <td>-0.720009</td>\n",
       "      <td>0.276801</td>\n",
       "      <td>-0.057978</td>\n",
       "      <td>B</td>\n",
       "      <td>0.257178</td>\n",
       "      <td>-0.667683</td>\n",
       "      <td>-0.023285</td>\n",
       "      <td>2</td>\n",
       "    </tr>\n",
       "    <tr>\n",
       "      <th>1</th>\n",
       "      <td>1</td>\n",
       "      <td>h</td>\n",
       "      <td>-0.119083</td>\n",
       "      <td>-0.975415</td>\n",
       "      <td>-0.967458</td>\n",
       "      <td>0</td>\n",
       "      <td>-0.986799</td>\n",
       "      <td>-0.968401</td>\n",
       "      <td>-0.945823</td>\n",
       "      <td>-0.894088</td>\n",
       "      <td>...</td>\n",
       "      <td>-0.434375</td>\n",
       "      <td>0.920593</td>\n",
       "      <td>-0.698091</td>\n",
       "      <td>0.281343</td>\n",
       "      <td>-0.083898</td>\n",
       "      <td>B</td>\n",
       "      <td>0.286027</td>\n",
       "      <td>-0.944958</td>\n",
       "      <td>-0.013163</td>\n",
       "      <td>2</td>\n",
       "    </tr>\n",
       "    <tr>\n",
       "      <th>2</th>\n",
       "      <td>2</td>\n",
       "      <td>h</td>\n",
       "      <td>-0.118152</td>\n",
       "      <td>-0.993819</td>\n",
       "      <td>-0.969926</td>\n",
       "      <td>0</td>\n",
       "      <td>-0.994403</td>\n",
       "      <td>-0.970735</td>\n",
       "      <td>-0.963483</td>\n",
       "      <td>-0.939260</td>\n",
       "      <td>...</td>\n",
       "      <td>0.064103</td>\n",
       "      <td>0.145068</td>\n",
       "      <td>-0.702771</td>\n",
       "      <td>0.280083</td>\n",
       "      <td>-0.079346</td>\n",
       "      <td>B</td>\n",
       "      <td>0.275485</td>\n",
       "      <td>-0.962748</td>\n",
       "      <td>-0.026050</td>\n",
       "      <td>2</td>\n",
       "    </tr>\n",
       "    <tr>\n",
       "      <th>3</th>\n",
       "      <td>3</td>\n",
       "      <td>f</td>\n",
       "      <td>-0.117520</td>\n",
       "      <td>-0.994743</td>\n",
       "      <td>-0.973268</td>\n",
       "      <td>0</td>\n",
       "      <td>-0.995274</td>\n",
       "      <td>-0.974471</td>\n",
       "      <td>-0.968897</td>\n",
       "      <td>-0.938610</td>\n",
       "      <td>...</td>\n",
       "      <td>0.340134</td>\n",
       "      <td>0.296407</td>\n",
       "      <td>-0.698954</td>\n",
       "      <td>0.284114</td>\n",
       "      <td>-0.077108</td>\n",
       "      <td>B</td>\n",
       "      <td>0.270298</td>\n",
       "      <td>-0.967091</td>\n",
       "      <td>-0.032614</td>\n",
       "      <td>2</td>\n",
       "    </tr>\n",
       "    <tr>\n",
       "      <th>4</th>\n",
       "      <td>4</td>\n",
       "      <td>e</td>\n",
       "      <td>-0.129527</td>\n",
       "      <td>-0.993852</td>\n",
       "      <td>-0.967445</td>\n",
       "      <td>0</td>\n",
       "      <td>-0.994111</td>\n",
       "      <td>-0.965953</td>\n",
       "      <td>-0.977346</td>\n",
       "      <td>-0.938610</td>\n",
       "      <td>...</td>\n",
       "      <td>0.736715</td>\n",
       "      <td>-0.118545</td>\n",
       "      <td>-0.692245</td>\n",
       "      <td>0.290722</td>\n",
       "      <td>-0.073857</td>\n",
       "      <td>B</td>\n",
       "      <td>0.274833</td>\n",
       "      <td>-0.978295</td>\n",
       "      <td>-0.027848</td>\n",
       "      <td>2</td>\n",
       "    </tr>\n",
       "  </tbody>\n",
       "</table>\n",
       "<p>5 rows × 566 columns</p>\n",
       "</div>"
      ],
      "text/plain": [
       "   v0 v1        v2        v3        v4  v5        v6        v7        v8  \\\n",
       "0   0  i -0.014654 -0.938404 -0.920091   0 -0.952501 -0.925249 -0.674302   \n",
       "1   1  h -0.119083 -0.975415 -0.967458   0 -0.986799 -0.968401 -0.945823   \n",
       "2   2  h -0.118152 -0.993819 -0.969926   0 -0.994403 -0.970735 -0.963483   \n",
       "3   3  f -0.117520 -0.994743 -0.973268   0 -0.995274 -0.974471 -0.968897   \n",
       "4   4  e -0.129527 -0.993852 -0.967445   0 -0.994111 -0.965953 -0.977346   \n",
       "\n",
       "         v9  ...      v556      v557      v558      v559      v560  v561  \\\n",
       "0 -0.894088  ... -0.825886  0.271151 -0.720009  0.276801 -0.057978     B   \n",
       "1 -0.894088  ... -0.434375  0.920593 -0.698091  0.281343 -0.083898     B   \n",
       "2 -0.939260  ...  0.064103  0.145068 -0.702771  0.280083 -0.079346     B   \n",
       "3 -0.938610  ...  0.340134  0.296407 -0.698954  0.284114 -0.077108     B   \n",
       "4 -0.938610  ...  0.736715 -0.118545 -0.692245  0.290722 -0.073857     B   \n",
       "\n",
       "       v562      v563      v564  label  \n",
       "0  0.257178 -0.667683 -0.023285      2  \n",
       "1  0.286027 -0.944958 -0.013163      2  \n",
       "2  0.275485 -0.962748 -0.026050      2  \n",
       "3  0.270298 -0.967091 -0.032614      2  \n",
       "4  0.274833 -0.978295 -0.027848      2  \n",
       "\n",
       "[5 rows x 566 columns]"
      ]
     },
     "execution_count": 9,
     "metadata": {},
     "output_type": "execute_result"
    }
   ],
   "source": [
    "df_test.head()"
   ]
  },
  {
   "cell_type": "markdown",
   "metadata": {},
   "source": [
    "So, there is label feature as well. It means that this dataset is more of validation dataset to test how my model performed versus what test dataset has.\n",
    "\n",
    "Mostly test dataset are out of sample with no target value at all. "
   ]
  },
  {
   "cell_type": "markdown",
   "metadata": {},
   "source": [
    "# 3)- Data Exploring"
   ]
  },
  {
   "cell_type": "markdown",
   "metadata": {},
   "source": [
    "### 3.1)- Check data type"
   ]
  },
  {
   "cell_type": "code",
   "execution_count": 10,
   "metadata": {},
   "outputs": [
    {
     "data": {
      "text/html": [
       "<div>\n",
       "<style scoped>\n",
       "    .dataframe tbody tr th:only-of-type {\n",
       "        vertical-align: middle;\n",
       "    }\n",
       "\n",
       "    .dataframe tbody tr th {\n",
       "        vertical-align: top;\n",
       "    }\n",
       "\n",
       "    .dataframe thead th {\n",
       "        text-align: right;\n",
       "    }\n",
       "</style>\n",
       "<table border=\"1\" class=\"dataframe\">\n",
       "  <thead>\n",
       "    <tr style=\"text-align: right;\">\n",
       "      <th></th>\n",
       "      <th>Data Type</th>\n",
       "    </tr>\n",
       "  </thead>\n",
       "  <tbody>\n",
       "    <tr>\n",
       "      <th>v0</th>\n",
       "      <td>int64</td>\n",
       "    </tr>\n",
       "    <tr>\n",
       "      <th>v5</th>\n",
       "      <td>int64</td>\n",
       "    </tr>\n",
       "    <tr>\n",
       "      <th>label</th>\n",
       "      <td>int64</td>\n",
       "    </tr>\n",
       "    <tr>\n",
       "      <th>v3</th>\n",
       "      <td>float64</td>\n",
       "    </tr>\n",
       "    <tr>\n",
       "      <th>v386</th>\n",
       "      <td>float64</td>\n",
       "    </tr>\n",
       "    <tr>\n",
       "      <th>...</th>\n",
       "      <td>...</td>\n",
       "    </tr>\n",
       "    <tr>\n",
       "      <th>v193</th>\n",
       "      <td>float64</td>\n",
       "    </tr>\n",
       "    <tr>\n",
       "      <th>v187</th>\n",
       "      <td>float64</td>\n",
       "    </tr>\n",
       "    <tr>\n",
       "      <th>v282</th>\n",
       "      <td>float64</td>\n",
       "    </tr>\n",
       "    <tr>\n",
       "      <th>v561</th>\n",
       "      <td>object</td>\n",
       "    </tr>\n",
       "    <tr>\n",
       "      <th>v1</th>\n",
       "      <td>object</td>\n",
       "    </tr>\n",
       "  </tbody>\n",
       "</table>\n",
       "<p>566 rows × 1 columns</p>\n",
       "</div>"
      ],
      "text/plain": [
       "      Data Type\n",
       "v0        int64\n",
       "v5        int64\n",
       "label     int64\n",
       "v3      float64\n",
       "v386    float64\n",
       "...         ...\n",
       "v193    float64\n",
       "v187    float64\n",
       "v282    float64\n",
       "v561     object\n",
       "v1       object\n",
       "\n",
       "[566 rows x 1 columns]"
      ]
     },
     "execution_count": 10,
     "metadata": {},
     "output_type": "execute_result"
    }
   ],
   "source": [
    "# Checking all variables with their data-type\n",
    "def _tbl_dtype(dataset):\n",
    "    sum_dtype = pd.DataFrame(dataset.dtypes).sort_values(0).rename(columns = {0:'Data Type'})\n",
    "    return sum_dtype\n",
    "\n",
    "table_dtype = _tbl_dtype(df)\n",
    "table_dtype"
   ]
  },
  {
   "cell_type": "markdown",
   "metadata": {},
   "source": [
    "We have too many columns to observe. It is unwise to look and assume that all variables are int or float. Some exploration is needed"
   ]
  },
  {
   "cell_type": "code",
   "execution_count": 11,
   "metadata": {},
   "outputs": [
    {
     "data": {
      "text/plain": [
       "dtype('O')"
      ]
     },
     "execution_count": 11,
     "metadata": {},
     "output_type": "execute_result"
    }
   ],
   "source": [
    "df.v1.dtype"
   ]
  },
  {
   "cell_type": "markdown",
   "metadata": {},
   "source": [
    "So we have an object. Lets see what it contains"
   ]
  },
  {
   "cell_type": "code",
   "execution_count": 12,
   "metadata": {},
   "outputs": [
    {
     "data": {
      "text/plain": [
       "0    f\n",
       "1    f\n",
       "2    f\n",
       "3    f\n",
       "4    f\n",
       "Name: v1, dtype: object"
      ]
     },
     "execution_count": 12,
     "metadata": {},
     "output_type": "execute_result"
    }
   ],
   "source": [
    "df.v1[:5]"
   ]
  },
  {
   "cell_type": "markdown",
   "metadata": {},
   "source": [
    "What are these \"f\"? Are they classes or categories ?"
   ]
  },
  {
   "cell_type": "code",
   "execution_count": 13,
   "metadata": {},
   "outputs": [
    {
     "data": {
      "text/plain": [
       "d    1407\n",
       "f    1374\n",
       "e    1286\n",
       "g    1226\n",
       "i    1073\n",
       "h     986\n",
       "Name: v1, dtype: int64"
      ]
     },
     "execution_count": 13,
     "metadata": {},
     "output_type": "execute_result"
    }
   ],
   "source": [
    "df.v1.value_counts()"
   ]
  },
  {
   "cell_type": "markdown",
   "metadata": {},
   "source": [
    "Yes it seems like that these are classess. There is no information what do they mean or what even features mean? We shall try to deal with them as categorical variables are dealt"
   ]
  },
  {
   "cell_type": "markdown",
   "metadata": {},
   "source": [
    "**Problem is that this dataset has too much to see and one by one exploration is not possible**"
   ]
  },
  {
   "cell_type": "markdown",
   "metadata": {},
   "source": [
    "### 3.2 Check Data Description"
   ]
  },
  {
   "cell_type": "code",
   "execution_count": 14,
   "metadata": {},
   "outputs": [
    {
     "data": {
      "text/html": [
       "<div>\n",
       "<style scoped>\n",
       "    .dataframe tbody tr th:only-of-type {\n",
       "        vertical-align: middle;\n",
       "    }\n",
       "\n",
       "    .dataframe tbody tr th {\n",
       "        vertical-align: top;\n",
       "    }\n",
       "\n",
       "    .dataframe thead th {\n",
       "        text-align: right;\n",
       "    }\n",
       "</style>\n",
       "<table border=\"1\" class=\"dataframe\">\n",
       "  <thead>\n",
       "    <tr style=\"text-align: right;\">\n",
       "      <th></th>\n",
       "      <th>v0</th>\n",
       "      <th>v2</th>\n",
       "      <th>v3</th>\n",
       "      <th>v4</th>\n",
       "      <th>v5</th>\n",
       "      <th>v6</th>\n",
       "      <th>v7</th>\n",
       "      <th>v8</th>\n",
       "      <th>v9</th>\n",
       "      <th>v10</th>\n",
       "      <th>...</th>\n",
       "      <th>v555</th>\n",
       "      <th>v556</th>\n",
       "      <th>v557</th>\n",
       "      <th>v558</th>\n",
       "      <th>v559</th>\n",
       "      <th>v560</th>\n",
       "      <th>v562</th>\n",
       "      <th>v563</th>\n",
       "      <th>v564</th>\n",
       "      <th>label</th>\n",
       "    </tr>\n",
       "  </thead>\n",
       "  <tbody>\n",
       "    <tr>\n",
       "      <th>count</th>\n",
       "      <td>7352.000000</td>\n",
       "      <td>7352.000000</td>\n",
       "      <td>7352.000000</td>\n",
       "      <td>7352.000000</td>\n",
       "      <td>7352.0</td>\n",
       "      <td>7352.000000</td>\n",
       "      <td>7352.000000</td>\n",
       "      <td>7351.000000</td>\n",
       "      <td>7352.000000</td>\n",
       "      <td>7345.000000</td>\n",
       "      <td>...</td>\n",
       "      <td>7352.000000</td>\n",
       "      <td>7352.000000</td>\n",
       "      <td>7352.000000</td>\n",
       "      <td>7352.000000</td>\n",
       "      <td>7352.000000</td>\n",
       "      <td>7352.000000</td>\n",
       "      <td>7352.000000</td>\n",
       "      <td>7352.000000</td>\n",
       "      <td>7352.000000</td>\n",
       "      <td>7352.000000</td>\n",
       "    </tr>\n",
       "    <tr>\n",
       "      <th>mean</th>\n",
       "      <td>3675.500000</td>\n",
       "      <td>-0.109141</td>\n",
       "      <td>-0.605438</td>\n",
       "      <td>-0.510938</td>\n",
       "      <td>0.0</td>\n",
       "      <td>-0.630512</td>\n",
       "      <td>-0.526907</td>\n",
       "      <td>-0.606191</td>\n",
       "      <td>-0.468604</td>\n",
       "      <td>-0.305875</td>\n",
       "      <td>...</td>\n",
       "      <td>0.002186</td>\n",
       "      <td>0.008726</td>\n",
       "      <td>-0.005981</td>\n",
       "      <td>-0.489547</td>\n",
       "      <td>0.058593</td>\n",
       "      <td>-0.056515</td>\n",
       "      <td>0.274488</td>\n",
       "      <td>-0.604754</td>\n",
       "      <td>-0.017695</td>\n",
       "      <td>2.315152</td>\n",
       "    </tr>\n",
       "    <tr>\n",
       "      <th>std</th>\n",
       "      <td>2122.483922</td>\n",
       "      <td>0.056635</td>\n",
       "      <td>0.448734</td>\n",
       "      <td>0.502645</td>\n",
       "      <td>0.0</td>\n",
       "      <td>0.424073</td>\n",
       "      <td>0.485942</td>\n",
       "      <td>0.414135</td>\n",
       "      <td>0.544547</td>\n",
       "      <td>0.282282</td>\n",
       "      <td>...</td>\n",
       "      <td>0.448306</td>\n",
       "      <td>0.608303</td>\n",
       "      <td>0.477975</td>\n",
       "      <td>0.511807</td>\n",
       "      <td>0.297480</td>\n",
       "      <td>0.279122</td>\n",
       "      <td>0.070261</td>\n",
       "      <td>0.418687</td>\n",
       "      <td>0.040811</td>\n",
       "      <td>1.690628</td>\n",
       "    </tr>\n",
       "    <tr>\n",
       "      <th>min</th>\n",
       "      <td>0.000000</td>\n",
       "      <td>-1.000000</td>\n",
       "      <td>-1.000000</td>\n",
       "      <td>-0.999873</td>\n",
       "      <td>0.0</td>\n",
       "      <td>-1.000000</td>\n",
       "      <td>-1.000000</td>\n",
       "      <td>-1.000000</td>\n",
       "      <td>-1.000000</td>\n",
       "      <td>-1.000000</td>\n",
       "      <td>...</td>\n",
       "      <td>-1.000000</td>\n",
       "      <td>-1.000000</td>\n",
       "      <td>-1.000000</td>\n",
       "      <td>-1.000000</td>\n",
       "      <td>-1.000000</td>\n",
       "      <td>-1.000000</td>\n",
       "      <td>-1.000000</td>\n",
       "      <td>-1.000000</td>\n",
       "      <td>-1.000000</td>\n",
       "      <td>0.000000</td>\n",
       "    </tr>\n",
       "    <tr>\n",
       "      <th>25%</th>\n",
       "      <td>1837.750000</td>\n",
       "      <td>-0.120993</td>\n",
       "      <td>-0.992754</td>\n",
       "      <td>-0.978129</td>\n",
       "      <td>0.0</td>\n",
       "      <td>-0.993591</td>\n",
       "      <td>-0.978162</td>\n",
       "      <td>-0.980252</td>\n",
       "      <td>-0.936219</td>\n",
       "      <td>-0.563530</td>\n",
       "      <td>...</td>\n",
       "      <td>-0.289549</td>\n",
       "      <td>-0.482273</td>\n",
       "      <td>-0.376341</td>\n",
       "      <td>-0.812065</td>\n",
       "      <td>-0.017885</td>\n",
       "      <td>-0.143414</td>\n",
       "      <td>0.262975</td>\n",
       "      <td>-0.980233</td>\n",
       "      <td>-0.024863</td>\n",
       "      <td>1.000000</td>\n",
       "    </tr>\n",
       "    <tr>\n",
       "      <th>50%</th>\n",
       "      <td>3675.500000</td>\n",
       "      <td>-0.108676</td>\n",
       "      <td>-0.946196</td>\n",
       "      <td>-0.851897</td>\n",
       "      <td>0.0</td>\n",
       "      <td>-0.950709</td>\n",
       "      <td>-0.857328</td>\n",
       "      <td>-0.857244</td>\n",
       "      <td>-0.881637</td>\n",
       "      <td>-0.479508</td>\n",
       "      <td>...</td>\n",
       "      <td>0.008943</td>\n",
       "      <td>0.008735</td>\n",
       "      <td>-0.000368</td>\n",
       "      <td>-0.709417</td>\n",
       "      <td>0.182071</td>\n",
       "      <td>0.003181</td>\n",
       "      <td>0.277193</td>\n",
       "      <td>-0.859365</td>\n",
       "      <td>-0.017219</td>\n",
       "      <td>2.000000</td>\n",
       "    </tr>\n",
       "    <tr>\n",
       "      <th>75%</th>\n",
       "      <td>5513.250000</td>\n",
       "      <td>-0.097794</td>\n",
       "      <td>-0.242813</td>\n",
       "      <td>-0.034231</td>\n",
       "      <td>0.0</td>\n",
       "      <td>-0.292680</td>\n",
       "      <td>-0.066701</td>\n",
       "      <td>-0.265598</td>\n",
       "      <td>-0.017129</td>\n",
       "      <td>-0.065161</td>\n",
       "      <td>...</td>\n",
       "      <td>0.292861</td>\n",
       "      <td>0.506187</td>\n",
       "      <td>0.359368</td>\n",
       "      <td>-0.509079</td>\n",
       "      <td>0.248353</td>\n",
       "      <td>0.107659</td>\n",
       "      <td>0.288461</td>\n",
       "      <td>-0.262415</td>\n",
       "      <td>-0.010783</td>\n",
       "      <td>4.000000</td>\n",
       "    </tr>\n",
       "    <tr>\n",
       "      <th>max</th>\n",
       "      <td>7351.000000</td>\n",
       "      <td>1.000000</td>\n",
       "      <td>1.000000</td>\n",
       "      <td>0.916238</td>\n",
       "      <td>0.0</td>\n",
       "      <td>1.000000</td>\n",
       "      <td>0.967664</td>\n",
       "      <td>1.000000</td>\n",
       "      <td>1.000000</td>\n",
       "      <td>1.000000</td>\n",
       "      <td>...</td>\n",
       "      <td>1.000000</td>\n",
       "      <td>0.998702</td>\n",
       "      <td>0.996078</td>\n",
       "      <td>1.000000</td>\n",
       "      <td>0.478157</td>\n",
       "      <td>1.000000</td>\n",
       "      <td>1.000000</td>\n",
       "      <td>1.000000</td>\n",
       "      <td>1.000000</td>\n",
       "      <td>5.000000</td>\n",
       "    </tr>\n",
       "  </tbody>\n",
       "</table>\n",
       "<p>8 rows × 564 columns</p>\n",
       "</div>"
      ],
      "text/plain": [
       "                v0           v2           v3           v4      v5  \\\n",
       "count  7352.000000  7352.000000  7352.000000  7352.000000  7352.0   \n",
       "mean   3675.500000    -0.109141    -0.605438    -0.510938     0.0   \n",
       "std    2122.483922     0.056635     0.448734     0.502645     0.0   \n",
       "min       0.000000    -1.000000    -1.000000    -0.999873     0.0   \n",
       "25%    1837.750000    -0.120993    -0.992754    -0.978129     0.0   \n",
       "50%    3675.500000    -0.108676    -0.946196    -0.851897     0.0   \n",
       "75%    5513.250000    -0.097794    -0.242813    -0.034231     0.0   \n",
       "max    7351.000000     1.000000     1.000000     0.916238     0.0   \n",
       "\n",
       "                v6           v7           v8           v9          v10  ...  \\\n",
       "count  7352.000000  7352.000000  7351.000000  7352.000000  7345.000000  ...   \n",
       "mean     -0.630512    -0.526907    -0.606191    -0.468604    -0.305875  ...   \n",
       "std       0.424073     0.485942     0.414135     0.544547     0.282282  ...   \n",
       "min      -1.000000    -1.000000    -1.000000    -1.000000    -1.000000  ...   \n",
       "25%      -0.993591    -0.978162    -0.980252    -0.936219    -0.563530  ...   \n",
       "50%      -0.950709    -0.857328    -0.857244    -0.881637    -0.479508  ...   \n",
       "75%      -0.292680    -0.066701    -0.265598    -0.017129    -0.065161  ...   \n",
       "max       1.000000     0.967664     1.000000     1.000000     1.000000  ...   \n",
       "\n",
       "              v555         v556         v557         v558         v559  \\\n",
       "count  7352.000000  7352.000000  7352.000000  7352.000000  7352.000000   \n",
       "mean      0.002186     0.008726    -0.005981    -0.489547     0.058593   \n",
       "std       0.448306     0.608303     0.477975     0.511807     0.297480   \n",
       "min      -1.000000    -1.000000    -1.000000    -1.000000    -1.000000   \n",
       "25%      -0.289549    -0.482273    -0.376341    -0.812065    -0.017885   \n",
       "50%       0.008943     0.008735    -0.000368    -0.709417     0.182071   \n",
       "75%       0.292861     0.506187     0.359368    -0.509079     0.248353   \n",
       "max       1.000000     0.998702     0.996078     1.000000     0.478157   \n",
       "\n",
       "              v560         v562         v563         v564        label  \n",
       "count  7352.000000  7352.000000  7352.000000  7352.000000  7352.000000  \n",
       "mean     -0.056515     0.274488    -0.604754    -0.017695     2.315152  \n",
       "std       0.279122     0.070261     0.418687     0.040811     1.690628  \n",
       "min      -1.000000    -1.000000    -1.000000    -1.000000     0.000000  \n",
       "25%      -0.143414     0.262975    -0.980233    -0.024863     1.000000  \n",
       "50%       0.003181     0.277193    -0.859365    -0.017219     2.000000  \n",
       "75%       0.107659     0.288461    -0.262415    -0.010783     4.000000  \n",
       "max       1.000000     1.000000     1.000000     1.000000     5.000000  \n",
       "\n",
       "[8 rows x 564 columns]"
      ]
     },
     "execution_count": 14,
     "metadata": {},
     "output_type": "execute_result"
    }
   ],
   "source": [
    "df.describe()"
   ]
  },
  {
   "cell_type": "markdown",
   "metadata": {},
   "source": [
    "We can find very quickly what are minimum values and what are maximum values. This gives us idea about peak and dip point irrespective of units. As these features are not known so, we cannot find any description out of them or any statistic analysis."
   ]
  },
  {
   "cell_type": "markdown",
   "metadata": {},
   "source": [
    "### 3.3)- Check categorical variables"
   ]
  },
  {
   "cell_type": "code",
   "execution_count": 15,
   "metadata": {},
   "outputs": [
    {
     "data": {
      "text/html": [
       "<div>\n",
       "<style scoped>\n",
       "    .dataframe tbody tr th:only-of-type {\n",
       "        vertical-align: middle;\n",
       "    }\n",
       "\n",
       "    .dataframe tbody tr th {\n",
       "        vertical-align: top;\n",
       "    }\n",
       "\n",
       "    .dataframe thead th {\n",
       "        text-align: right;\n",
       "    }\n",
       "</style>\n",
       "<table border=\"1\" class=\"dataframe\">\n",
       "  <thead>\n",
       "    <tr style=\"text-align: right;\">\n",
       "      <th></th>\n",
       "      <th>v1</th>\n",
       "      <th>v561</th>\n",
       "    </tr>\n",
       "  </thead>\n",
       "  <tbody>\n",
       "    <tr>\n",
       "      <th>count</th>\n",
       "      <td>7352</td>\n",
       "      <td>7352</td>\n",
       "    </tr>\n",
       "    <tr>\n",
       "      <th>unique</th>\n",
       "      <td>6</td>\n",
       "      <td>21</td>\n",
       "    </tr>\n",
       "    <tr>\n",
       "      <th>top</th>\n",
       "      <td>d</td>\n",
       "      <td>Y</td>\n",
       "    </tr>\n",
       "    <tr>\n",
       "      <th>freq</th>\n",
       "      <td>1407</td>\n",
       "      <td>409</td>\n",
       "    </tr>\n",
       "  </tbody>\n",
       "</table>\n",
       "</div>"
      ],
      "text/plain": [
       "          v1  v561\n",
       "count   7352  7352\n",
       "unique     6    21\n",
       "top        d     Y\n",
       "freq    1407   409"
      ]
     },
     "execution_count": 15,
     "metadata": {},
     "output_type": "execute_result"
    }
   ],
   "source": [
    "df.describe(include=['object', 'bool'])"
   ]
  },
  {
   "cell_type": "code",
   "execution_count": 16,
   "metadata": {},
   "outputs": [
    {
     "data": {
      "text/plain": [
       "dtype('O')"
      ]
     },
     "execution_count": 16,
     "metadata": {},
     "output_type": "execute_result"
    }
   ],
   "source": [
    "df.v561.dtype"
   ]
  },
  {
   "cell_type": "markdown",
   "metadata": {},
   "source": [
    "Here we found one more interesting variable.What is it in terms of data type? Is it int, object or what?"
   ]
  },
  {
   "cell_type": "code",
   "execution_count": 17,
   "metadata": {},
   "outputs": [
    {
     "data": {
      "text/plain": [
       "Y     409\n",
       "U     408\n",
       "Z     392\n",
       "AD    383\n",
       "AB    382\n",
       "AA    376\n",
       "W     372\n",
       "Q     368\n",
       "P     366\n",
       "S     360\n",
       "A     347\n",
       "AC    344\n",
       "C     341\n",
       "O     328\n",
       "F     325\n",
       "N     323\n",
       "V     321\n",
       "K     316\n",
       "G     308\n",
       "E     302\n",
       "H     281\n",
       "Name: v561, dtype: int64"
      ]
     },
     "execution_count": 17,
     "metadata": {},
     "output_type": "execute_result"
    }
   ],
   "source": [
    "df.v561.value_counts()"
   ]
  },
  {
   "cell_type": "markdown",
   "metadata": {},
   "source": [
    "These values are also categories "
   ]
  },
  {
   "cell_type": "code",
   "execution_count": 18,
   "metadata": {},
   "outputs": [
    {
     "data": {
      "text/plain": [
       "v1       6\n",
       "v561    21\n",
       "dtype: int64"
      ]
     },
     "execution_count": 18,
     "metadata": {},
     "output_type": "execute_result"
    }
   ],
   "source": [
    "# Checking for double check\n",
    "df.select_dtypes('object').apply(pd.Series.nunique, axis = 0)"
   ]
  },
  {
   "cell_type": "markdown",
   "metadata": {},
   "source": [
    "### 3.4)- Encode categorical feature \n"
   ]
  },
  {
   "cell_type": "code",
   "execution_count": 19,
   "metadata": {},
   "outputs": [
    {
     "data": {
      "text/html": [
       "<div>\n",
       "<style scoped>\n",
       "    .dataframe tbody tr th:only-of-type {\n",
       "        vertical-align: middle;\n",
       "    }\n",
       "\n",
       "    .dataframe tbody tr th {\n",
       "        vertical-align: top;\n",
       "    }\n",
       "\n",
       "    .dataframe thead th {\n",
       "        text-align: right;\n",
       "    }\n",
       "</style>\n",
       "<table border=\"1\" class=\"dataframe\">\n",
       "  <thead>\n",
       "    <tr style=\"text-align: right;\">\n",
       "      <th></th>\n",
       "      <th>d</th>\n",
       "      <th>e</th>\n",
       "      <th>f</th>\n",
       "      <th>g</th>\n",
       "      <th>h</th>\n",
       "      <th>i</th>\n",
       "    </tr>\n",
       "  </thead>\n",
       "  <tbody>\n",
       "    <tr>\n",
       "      <th>0</th>\n",
       "      <td>0</td>\n",
       "      <td>0</td>\n",
       "      <td>1</td>\n",
       "      <td>0</td>\n",
       "      <td>0</td>\n",
       "      <td>0</td>\n",
       "    </tr>\n",
       "    <tr>\n",
       "      <th>1</th>\n",
       "      <td>0</td>\n",
       "      <td>0</td>\n",
       "      <td>1</td>\n",
       "      <td>0</td>\n",
       "      <td>0</td>\n",
       "      <td>0</td>\n",
       "    </tr>\n",
       "    <tr>\n",
       "      <th>2</th>\n",
       "      <td>0</td>\n",
       "      <td>0</td>\n",
       "      <td>1</td>\n",
       "      <td>0</td>\n",
       "      <td>0</td>\n",
       "      <td>0</td>\n",
       "    </tr>\n",
       "    <tr>\n",
       "      <th>3</th>\n",
       "      <td>0</td>\n",
       "      <td>0</td>\n",
       "      <td>1</td>\n",
       "      <td>0</td>\n",
       "      <td>0</td>\n",
       "      <td>0</td>\n",
       "    </tr>\n",
       "    <tr>\n",
       "      <th>4</th>\n",
       "      <td>0</td>\n",
       "      <td>0</td>\n",
       "      <td>1</td>\n",
       "      <td>0</td>\n",
       "      <td>0</td>\n",
       "      <td>0</td>\n",
       "    </tr>\n",
       "    <tr>\n",
       "      <th>...</th>\n",
       "      <td>...</td>\n",
       "      <td>...</td>\n",
       "      <td>...</td>\n",
       "      <td>...</td>\n",
       "      <td>...</td>\n",
       "      <td>...</td>\n",
       "    </tr>\n",
       "    <tr>\n",
       "      <th>7347</th>\n",
       "      <td>0</td>\n",
       "      <td>0</td>\n",
       "      <td>0</td>\n",
       "      <td>0</td>\n",
       "      <td>0</td>\n",
       "      <td>1</td>\n",
       "    </tr>\n",
       "    <tr>\n",
       "      <th>7348</th>\n",
       "      <td>0</td>\n",
       "      <td>0</td>\n",
       "      <td>0</td>\n",
       "      <td>0</td>\n",
       "      <td>0</td>\n",
       "      <td>1</td>\n",
       "    </tr>\n",
       "    <tr>\n",
       "      <th>7349</th>\n",
       "      <td>0</td>\n",
       "      <td>0</td>\n",
       "      <td>0</td>\n",
       "      <td>0</td>\n",
       "      <td>0</td>\n",
       "      <td>1</td>\n",
       "    </tr>\n",
       "    <tr>\n",
       "      <th>7350</th>\n",
       "      <td>0</td>\n",
       "      <td>0</td>\n",
       "      <td>0</td>\n",
       "      <td>0</td>\n",
       "      <td>0</td>\n",
       "      <td>1</td>\n",
       "    </tr>\n",
       "    <tr>\n",
       "      <th>7351</th>\n",
       "      <td>0</td>\n",
       "      <td>0</td>\n",
       "      <td>0</td>\n",
       "      <td>0</td>\n",
       "      <td>0</td>\n",
       "      <td>1</td>\n",
       "    </tr>\n",
       "  </tbody>\n",
       "</table>\n",
       "<p>7352 rows × 6 columns</p>\n",
       "</div>"
      ],
      "text/plain": [
       "      d  e  f  g  h  i\n",
       "0     0  0  1  0  0  0\n",
       "1     0  0  1  0  0  0\n",
       "2     0  0  1  0  0  0\n",
       "3     0  0  1  0  0  0\n",
       "4     0  0  1  0  0  0\n",
       "...  .. .. .. .. .. ..\n",
       "7347  0  0  0  0  0  1\n",
       "7348  0  0  0  0  0  1\n",
       "7349  0  0  0  0  0  1\n",
       "7350  0  0  0  0  0  1\n",
       "7351  0  0  0  0  0  1\n",
       "\n",
       "[7352 rows x 6 columns]"
      ]
     },
     "execution_count": 19,
     "metadata": {},
     "output_type": "execute_result"
    }
   ],
   "source": [
    "v = pd.get_dummies(df.v1, sparse=True)\n",
    "v"
   ]
  },
  {
   "cell_type": "code",
   "execution_count": 20,
   "metadata": {},
   "outputs": [
    {
     "data": {
      "text/html": [
       "<div>\n",
       "<style scoped>\n",
       "    .dataframe tbody tr th:only-of-type {\n",
       "        vertical-align: middle;\n",
       "    }\n",
       "\n",
       "    .dataframe tbody tr th {\n",
       "        vertical-align: top;\n",
       "    }\n",
       "\n",
       "    .dataframe thead th {\n",
       "        text-align: right;\n",
       "    }\n",
       "</style>\n",
       "<table border=\"1\" class=\"dataframe\">\n",
       "  <thead>\n",
       "    <tr style=\"text-align: right;\">\n",
       "      <th></th>\n",
       "      <th>A</th>\n",
       "      <th>AA</th>\n",
       "      <th>AB</th>\n",
       "      <th>AC</th>\n",
       "      <th>AD</th>\n",
       "      <th>C</th>\n",
       "      <th>E</th>\n",
       "      <th>F</th>\n",
       "      <th>G</th>\n",
       "      <th>H</th>\n",
       "      <th>...</th>\n",
       "      <th>N</th>\n",
       "      <th>O</th>\n",
       "      <th>P</th>\n",
       "      <th>Q</th>\n",
       "      <th>S</th>\n",
       "      <th>U</th>\n",
       "      <th>V</th>\n",
       "      <th>W</th>\n",
       "      <th>Y</th>\n",
       "      <th>Z</th>\n",
       "    </tr>\n",
       "  </thead>\n",
       "  <tbody>\n",
       "    <tr>\n",
       "      <th>0</th>\n",
       "      <td>1</td>\n",
       "      <td>0</td>\n",
       "      <td>0</td>\n",
       "      <td>0</td>\n",
       "      <td>0</td>\n",
       "      <td>0</td>\n",
       "      <td>0</td>\n",
       "      <td>0</td>\n",
       "      <td>0</td>\n",
       "      <td>0</td>\n",
       "      <td>...</td>\n",
       "      <td>0</td>\n",
       "      <td>0</td>\n",
       "      <td>0</td>\n",
       "      <td>0</td>\n",
       "      <td>0</td>\n",
       "      <td>0</td>\n",
       "      <td>0</td>\n",
       "      <td>0</td>\n",
       "      <td>0</td>\n",
       "      <td>0</td>\n",
       "    </tr>\n",
       "    <tr>\n",
       "      <th>1</th>\n",
       "      <td>1</td>\n",
       "      <td>0</td>\n",
       "      <td>0</td>\n",
       "      <td>0</td>\n",
       "      <td>0</td>\n",
       "      <td>0</td>\n",
       "      <td>0</td>\n",
       "      <td>0</td>\n",
       "      <td>0</td>\n",
       "      <td>0</td>\n",
       "      <td>...</td>\n",
       "      <td>0</td>\n",
       "      <td>0</td>\n",
       "      <td>0</td>\n",
       "      <td>0</td>\n",
       "      <td>0</td>\n",
       "      <td>0</td>\n",
       "      <td>0</td>\n",
       "      <td>0</td>\n",
       "      <td>0</td>\n",
       "      <td>0</td>\n",
       "    </tr>\n",
       "    <tr>\n",
       "      <th>2</th>\n",
       "      <td>1</td>\n",
       "      <td>0</td>\n",
       "      <td>0</td>\n",
       "      <td>0</td>\n",
       "      <td>0</td>\n",
       "      <td>0</td>\n",
       "      <td>0</td>\n",
       "      <td>0</td>\n",
       "      <td>0</td>\n",
       "      <td>0</td>\n",
       "      <td>...</td>\n",
       "      <td>0</td>\n",
       "      <td>0</td>\n",
       "      <td>0</td>\n",
       "      <td>0</td>\n",
       "      <td>0</td>\n",
       "      <td>0</td>\n",
       "      <td>0</td>\n",
       "      <td>0</td>\n",
       "      <td>0</td>\n",
       "      <td>0</td>\n",
       "    </tr>\n",
       "    <tr>\n",
       "      <th>3</th>\n",
       "      <td>1</td>\n",
       "      <td>0</td>\n",
       "      <td>0</td>\n",
       "      <td>0</td>\n",
       "      <td>0</td>\n",
       "      <td>0</td>\n",
       "      <td>0</td>\n",
       "      <td>0</td>\n",
       "      <td>0</td>\n",
       "      <td>0</td>\n",
       "      <td>...</td>\n",
       "      <td>0</td>\n",
       "      <td>0</td>\n",
       "      <td>0</td>\n",
       "      <td>0</td>\n",
       "      <td>0</td>\n",
       "      <td>0</td>\n",
       "      <td>0</td>\n",
       "      <td>0</td>\n",
       "      <td>0</td>\n",
       "      <td>0</td>\n",
       "    </tr>\n",
       "    <tr>\n",
       "      <th>4</th>\n",
       "      <td>1</td>\n",
       "      <td>0</td>\n",
       "      <td>0</td>\n",
       "      <td>0</td>\n",
       "      <td>0</td>\n",
       "      <td>0</td>\n",
       "      <td>0</td>\n",
       "      <td>0</td>\n",
       "      <td>0</td>\n",
       "      <td>0</td>\n",
       "      <td>...</td>\n",
       "      <td>0</td>\n",
       "      <td>0</td>\n",
       "      <td>0</td>\n",
       "      <td>0</td>\n",
       "      <td>0</td>\n",
       "      <td>0</td>\n",
       "      <td>0</td>\n",
       "      <td>0</td>\n",
       "      <td>0</td>\n",
       "      <td>0</td>\n",
       "    </tr>\n",
       "    <tr>\n",
       "      <th>...</th>\n",
       "      <td>...</td>\n",
       "      <td>...</td>\n",
       "      <td>...</td>\n",
       "      <td>...</td>\n",
       "      <td>...</td>\n",
       "      <td>...</td>\n",
       "      <td>...</td>\n",
       "      <td>...</td>\n",
       "      <td>...</td>\n",
       "      <td>...</td>\n",
       "      <td>...</td>\n",
       "      <td>...</td>\n",
       "      <td>...</td>\n",
       "      <td>...</td>\n",
       "      <td>...</td>\n",
       "      <td>...</td>\n",
       "      <td>...</td>\n",
       "      <td>...</td>\n",
       "      <td>...</td>\n",
       "      <td>...</td>\n",
       "      <td>...</td>\n",
       "    </tr>\n",
       "    <tr>\n",
       "      <th>7347</th>\n",
       "      <td>0</td>\n",
       "      <td>0</td>\n",
       "      <td>0</td>\n",
       "      <td>0</td>\n",
       "      <td>1</td>\n",
       "      <td>0</td>\n",
       "      <td>0</td>\n",
       "      <td>0</td>\n",
       "      <td>0</td>\n",
       "      <td>0</td>\n",
       "      <td>...</td>\n",
       "      <td>0</td>\n",
       "      <td>0</td>\n",
       "      <td>0</td>\n",
       "      <td>0</td>\n",
       "      <td>0</td>\n",
       "      <td>0</td>\n",
       "      <td>0</td>\n",
       "      <td>0</td>\n",
       "      <td>0</td>\n",
       "      <td>0</td>\n",
       "    </tr>\n",
       "    <tr>\n",
       "      <th>7348</th>\n",
       "      <td>0</td>\n",
       "      <td>0</td>\n",
       "      <td>0</td>\n",
       "      <td>0</td>\n",
       "      <td>1</td>\n",
       "      <td>0</td>\n",
       "      <td>0</td>\n",
       "      <td>0</td>\n",
       "      <td>0</td>\n",
       "      <td>0</td>\n",
       "      <td>...</td>\n",
       "      <td>0</td>\n",
       "      <td>0</td>\n",
       "      <td>0</td>\n",
       "      <td>0</td>\n",
       "      <td>0</td>\n",
       "      <td>0</td>\n",
       "      <td>0</td>\n",
       "      <td>0</td>\n",
       "      <td>0</td>\n",
       "      <td>0</td>\n",
       "    </tr>\n",
       "    <tr>\n",
       "      <th>7349</th>\n",
       "      <td>0</td>\n",
       "      <td>0</td>\n",
       "      <td>0</td>\n",
       "      <td>0</td>\n",
       "      <td>1</td>\n",
       "      <td>0</td>\n",
       "      <td>0</td>\n",
       "      <td>0</td>\n",
       "      <td>0</td>\n",
       "      <td>0</td>\n",
       "      <td>...</td>\n",
       "      <td>0</td>\n",
       "      <td>0</td>\n",
       "      <td>0</td>\n",
       "      <td>0</td>\n",
       "      <td>0</td>\n",
       "      <td>0</td>\n",
       "      <td>0</td>\n",
       "      <td>0</td>\n",
       "      <td>0</td>\n",
       "      <td>0</td>\n",
       "    </tr>\n",
       "    <tr>\n",
       "      <th>7350</th>\n",
       "      <td>0</td>\n",
       "      <td>0</td>\n",
       "      <td>0</td>\n",
       "      <td>0</td>\n",
       "      <td>1</td>\n",
       "      <td>0</td>\n",
       "      <td>0</td>\n",
       "      <td>0</td>\n",
       "      <td>0</td>\n",
       "      <td>0</td>\n",
       "      <td>...</td>\n",
       "      <td>0</td>\n",
       "      <td>0</td>\n",
       "      <td>0</td>\n",
       "      <td>0</td>\n",
       "      <td>0</td>\n",
       "      <td>0</td>\n",
       "      <td>0</td>\n",
       "      <td>0</td>\n",
       "      <td>0</td>\n",
       "      <td>0</td>\n",
       "    </tr>\n",
       "    <tr>\n",
       "      <th>7351</th>\n",
       "      <td>0</td>\n",
       "      <td>0</td>\n",
       "      <td>0</td>\n",
       "      <td>0</td>\n",
       "      <td>1</td>\n",
       "      <td>0</td>\n",
       "      <td>0</td>\n",
       "      <td>0</td>\n",
       "      <td>0</td>\n",
       "      <td>0</td>\n",
       "      <td>...</td>\n",
       "      <td>0</td>\n",
       "      <td>0</td>\n",
       "      <td>0</td>\n",
       "      <td>0</td>\n",
       "      <td>0</td>\n",
       "      <td>0</td>\n",
       "      <td>0</td>\n",
       "      <td>0</td>\n",
       "      <td>0</td>\n",
       "      <td>0</td>\n",
       "    </tr>\n",
       "  </tbody>\n",
       "</table>\n",
       "<p>7352 rows × 21 columns</p>\n",
       "</div>"
      ],
      "text/plain": [
       "      A  AA  AB  AC  AD  C  E  F  G  H  ...  N  O  P  Q  S  U  V  W  Y  Z\n",
       "0     1   0   0   0   0  0  0  0  0  0  ...  0  0  0  0  0  0  0  0  0  0\n",
       "1     1   0   0   0   0  0  0  0  0  0  ...  0  0  0  0  0  0  0  0  0  0\n",
       "2     1   0   0   0   0  0  0  0  0  0  ...  0  0  0  0  0  0  0  0  0  0\n",
       "3     1   0   0   0   0  0  0  0  0  0  ...  0  0  0  0  0  0  0  0  0  0\n",
       "4     1   0   0   0   0  0  0  0  0  0  ...  0  0  0  0  0  0  0  0  0  0\n",
       "...  ..  ..  ..  ..  .. .. .. .. .. ..  ... .. .. .. .. .. .. .. .. .. ..\n",
       "7347  0   0   0   0   1  0  0  0  0  0  ...  0  0  0  0  0  0  0  0  0  0\n",
       "7348  0   0   0   0   1  0  0  0  0  0  ...  0  0  0  0  0  0  0  0  0  0\n",
       "7349  0   0   0   0   1  0  0  0  0  0  ...  0  0  0  0  0  0  0  0  0  0\n",
       "7350  0   0   0   0   1  0  0  0  0  0  ...  0  0  0  0  0  0  0  0  0  0\n",
       "7351  0   0   0   0   1  0  0  0  0  0  ...  0  0  0  0  0  0  0  0  0  0\n",
       "\n",
       "[7352 rows x 21 columns]"
      ]
     },
     "execution_count": 20,
     "metadata": {},
     "output_type": "execute_result"
    }
   ],
   "source": [
    "x = pd.get_dummies(df.v561, sparse=True)\n",
    "x"
   ]
  },
  {
   "cell_type": "code",
   "execution_count": 21,
   "metadata": {},
   "outputs": [],
   "source": [
    "df=pd.get_dummies(df,columns=['v1'], drop_first=True)\n",
    "df=pd.get_dummies(df,columns=['v561'], drop_first=True)"
   ]
  },
  {
   "cell_type": "code",
   "execution_count": 22,
   "metadata": {},
   "outputs": [
    {
     "data": {
      "text/plain": [
       "(7352, 589)"
      ]
     },
     "execution_count": 22,
     "metadata": {},
     "output_type": "execute_result"
    }
   ],
   "source": [
    "df.shape"
   ]
  },
  {
   "cell_type": "markdown",
   "metadata": {},
   "source": [
    "### 3.5)- Missing values"
   ]
  },
  {
   "cell_type": "code",
   "execution_count": 23,
   "metadata": {},
   "outputs": [
    {
     "name": "stdout",
     "output_type": "stream",
     "text": [
      "No. of fields:  7352\n",
      "No. of missing fields:  7\n"
     ]
    },
    {
     "data": {
      "text/html": [
       "<div>\n",
       "<style scoped>\n",
       "    .dataframe tbody tr th:only-of-type {\n",
       "        vertical-align: middle;\n",
       "    }\n",
       "\n",
       "    .dataframe tbody tr th {\n",
       "        vertical-align: top;\n",
       "    }\n",
       "\n",
       "    .dataframe thead th {\n",
       "        text-align: right;\n",
       "    }\n",
       "</style>\n",
       "<table border=\"1\" class=\"dataframe\">\n",
       "  <thead>\n",
       "    <tr style=\"text-align: right;\">\n",
       "      <th></th>\n",
       "      <th>No. of mising Value</th>\n",
       "      <th>%age of missing Value</th>\n",
       "    </tr>\n",
       "  </thead>\n",
       "  <tbody>\n",
       "    <tr>\n",
       "      <th>v15</th>\n",
       "      <td>20</td>\n",
       "      <td>0.3</td>\n",
       "    </tr>\n",
       "    <tr>\n",
       "      <th>v14</th>\n",
       "      <td>19</td>\n",
       "      <td>0.3</td>\n",
       "    </tr>\n",
       "    <tr>\n",
       "      <th>v11</th>\n",
       "      <td>16</td>\n",
       "      <td>0.2</td>\n",
       "    </tr>\n",
       "    <tr>\n",
       "      <th>v13</th>\n",
       "      <td>12</td>\n",
       "      <td>0.2</td>\n",
       "    </tr>\n",
       "    <tr>\n",
       "      <th>v10</th>\n",
       "      <td>7</td>\n",
       "      <td>0.1</td>\n",
       "    </tr>\n",
       "    <tr>\n",
       "      <th>v12</th>\n",
       "      <td>5</td>\n",
       "      <td>0.1</td>\n",
       "    </tr>\n",
       "    <tr>\n",
       "      <th>v17</th>\n",
       "      <td>4</td>\n",
       "      <td>0.1</td>\n",
       "    </tr>\n",
       "  </tbody>\n",
       "</table>\n",
       "</div>"
      ],
      "text/plain": [
       "     No. of mising Value  %age of missing Value\n",
       "v15                   20                    0.3\n",
       "v14                   19                    0.3\n",
       "v11                   16                    0.2\n",
       "v13                   12                    0.2\n",
       "v10                    7                    0.1\n",
       "v12                    5                    0.1\n",
       "v17                    4                    0.1"
      ]
     },
     "execution_count": 23,
     "metadata": {},
     "output_type": "execute_result"
    }
   ],
   "source": [
    "def summary_missing(dataset):\n",
    "    n_miss = dataset.isnull().sum()\n",
    "    n_obs = dataset.shape[0]\n",
    "    n_miss_per = n_miss/n_obs*100\n",
    "    n_miss_tbl = pd.concat([n_miss, n_miss_per], axis = 1).sort_values(1, ascending = False).round(1)\n",
    "    n_miss_tbl = n_miss_tbl[n_miss_tbl[1] != 0]\n",
    "    print('No. of fields: ', dataset.shape[0])\n",
    "    print('No. of missing fields: ', n_miss_tbl.shape[0])\n",
    "    n_miss_tbl = n_miss_tbl.rename(columns = {0:'No. of mising Value', 1:'%age of missing Value'})\n",
    "    return n_miss_tbl\n",
    "\n",
    "summary_missing(df)"
   ]
  },
  {
   "cell_type": "code",
   "execution_count": 24,
   "metadata": {},
   "outputs": [
    {
     "data": {
      "text/plain": [
       "0   -0.995279\n",
       "1   -0.998245\n",
       "2   -0.995380\n",
       "3   -0.996091\n",
       "4   -0.998139\n",
       "Name: v3, dtype: float64"
      ]
     },
     "execution_count": 24,
     "metadata": {},
     "output_type": "execute_result"
    }
   ],
   "source": [
    "df.v3[:5]"
   ]
  },
  {
   "cell_type": "markdown",
   "metadata": {},
   "source": [
    "There are some missing values and we need to solve this problem"
   ]
  },
  {
   "cell_type": "code",
   "execution_count": 25,
   "metadata": {},
   "outputs": [
    {
     "data": {
      "text/plain": [
       "0   -0.999863\n",
       "1   -0.999788\n",
       "2   -0.999660\n",
       "3   -0.999736\n",
       "4   -0.999856\n",
       "Name: v17, dtype: float64"
      ]
     },
     "execution_count": 25,
     "metadata": {},
     "output_type": "execute_result"
    }
   ],
   "source": [
    "df.v17[:5]"
   ]
  },
  {
   "cell_type": "code",
   "execution_count": 26,
   "metadata": {},
   "outputs": [
    {
     "data": {
      "text/html": [
       "<div>\n",
       "<style scoped>\n",
       "    .dataframe tbody tr th:only-of-type {\n",
       "        vertical-align: middle;\n",
       "    }\n",
       "\n",
       "    .dataframe tbody tr th {\n",
       "        vertical-align: top;\n",
       "    }\n",
       "\n",
       "    .dataframe thead th {\n",
       "        text-align: right;\n",
       "    }\n",
       "</style>\n",
       "<table border=\"1\" class=\"dataframe\">\n",
       "  <thead>\n",
       "    <tr style=\"text-align: right;\">\n",
       "      <th></th>\n",
       "      <th>v0</th>\n",
       "      <th>v2</th>\n",
       "      <th>v3</th>\n",
       "      <th>v4</th>\n",
       "      <th>v5</th>\n",
       "      <th>v6</th>\n",
       "      <th>v7</th>\n",
       "      <th>v8</th>\n",
       "      <th>v9</th>\n",
       "      <th>v10</th>\n",
       "      <th>...</th>\n",
       "      <th>v561_N</th>\n",
       "      <th>v561_O</th>\n",
       "      <th>v561_P</th>\n",
       "      <th>v561_Q</th>\n",
       "      <th>v561_S</th>\n",
       "      <th>v561_U</th>\n",
       "      <th>v561_V</th>\n",
       "      <th>v561_W</th>\n",
       "      <th>v561_Y</th>\n",
       "      <th>v561_Z</th>\n",
       "    </tr>\n",
       "  </thead>\n",
       "  <tbody>\n",
       "    <tr>\n",
       "      <th>0</th>\n",
       "      <td>0</td>\n",
       "      <td>-0.132905</td>\n",
       "      <td>-0.995279</td>\n",
       "      <td>-0.983111</td>\n",
       "      <td>0</td>\n",
       "      <td>-0.995112</td>\n",
       "      <td>-0.983185</td>\n",
       "      <td>-0.923527</td>\n",
       "      <td>-0.934724</td>\n",
       "      <td>-0.567378</td>\n",
       "      <td>...</td>\n",
       "      <td>0</td>\n",
       "      <td>0</td>\n",
       "      <td>0</td>\n",
       "      <td>0</td>\n",
       "      <td>0</td>\n",
       "      <td>0</td>\n",
       "      <td>0</td>\n",
       "      <td>0</td>\n",
       "      <td>0</td>\n",
       "      <td>0</td>\n",
       "    </tr>\n",
       "    <tr>\n",
       "      <th>0</th>\n",
       "      <td>0</td>\n",
       "      <td>-0.132905</td>\n",
       "      <td>-0.995279</td>\n",
       "      <td>-0.983111</td>\n",
       "      <td>0</td>\n",
       "      <td>-0.995112</td>\n",
       "      <td>-0.983185</td>\n",
       "      <td>-0.923527</td>\n",
       "      <td>-0.934724</td>\n",
       "      <td>-0.567378</td>\n",
       "      <td>...</td>\n",
       "      <td>0</td>\n",
       "      <td>0</td>\n",
       "      <td>0</td>\n",
       "      <td>0</td>\n",
       "      <td>0</td>\n",
       "      <td>0</td>\n",
       "      <td>0</td>\n",
       "      <td>0</td>\n",
       "      <td>0</td>\n",
       "      <td>0</td>\n",
       "    </tr>\n",
       "    <tr>\n",
       "      <th>0</th>\n",
       "      <td>0</td>\n",
       "      <td>-0.132905</td>\n",
       "      <td>-0.995279</td>\n",
       "      <td>-0.983111</td>\n",
       "      <td>0</td>\n",
       "      <td>-0.995112</td>\n",
       "      <td>-0.983185</td>\n",
       "      <td>-0.923527</td>\n",
       "      <td>-0.934724</td>\n",
       "      <td>-0.567378</td>\n",
       "      <td>...</td>\n",
       "      <td>0</td>\n",
       "      <td>0</td>\n",
       "      <td>0</td>\n",
       "      <td>0</td>\n",
       "      <td>0</td>\n",
       "      <td>0</td>\n",
       "      <td>0</td>\n",
       "      <td>0</td>\n",
       "      <td>0</td>\n",
       "      <td>0</td>\n",
       "    </tr>\n",
       "    <tr>\n",
       "      <th>0</th>\n",
       "      <td>0</td>\n",
       "      <td>-0.132905</td>\n",
       "      <td>-0.995279</td>\n",
       "      <td>-0.983111</td>\n",
       "      <td>0</td>\n",
       "      <td>-0.995112</td>\n",
       "      <td>-0.983185</td>\n",
       "      <td>-0.923527</td>\n",
       "      <td>-0.934724</td>\n",
       "      <td>-0.567378</td>\n",
       "      <td>...</td>\n",
       "      <td>0</td>\n",
       "      <td>0</td>\n",
       "      <td>0</td>\n",
       "      <td>0</td>\n",
       "      <td>0</td>\n",
       "      <td>0</td>\n",
       "      <td>0</td>\n",
       "      <td>0</td>\n",
       "      <td>0</td>\n",
       "      <td>0</td>\n",
       "    </tr>\n",
       "    <tr>\n",
       "      <th>0</th>\n",
       "      <td>0</td>\n",
       "      <td>-0.132905</td>\n",
       "      <td>-0.995279</td>\n",
       "      <td>-0.983111</td>\n",
       "      <td>0</td>\n",
       "      <td>-0.995112</td>\n",
       "      <td>-0.983185</td>\n",
       "      <td>-0.923527</td>\n",
       "      <td>-0.934724</td>\n",
       "      <td>-0.567378</td>\n",
       "      <td>...</td>\n",
       "      <td>0</td>\n",
       "      <td>0</td>\n",
       "      <td>0</td>\n",
       "      <td>0</td>\n",
       "      <td>0</td>\n",
       "      <td>0</td>\n",
       "      <td>0</td>\n",
       "      <td>0</td>\n",
       "      <td>0</td>\n",
       "      <td>0</td>\n",
       "    </tr>\n",
       "    <tr>\n",
       "      <th>...</th>\n",
       "      <td>...</td>\n",
       "      <td>...</td>\n",
       "      <td>...</td>\n",
       "      <td>...</td>\n",
       "      <td>...</td>\n",
       "      <td>...</td>\n",
       "      <td>...</td>\n",
       "      <td>...</td>\n",
       "      <td>...</td>\n",
       "      <td>...</td>\n",
       "      <td>...</td>\n",
       "      <td>...</td>\n",
       "      <td>...</td>\n",
       "      <td>...</td>\n",
       "      <td>...</td>\n",
       "      <td>...</td>\n",
       "      <td>...</td>\n",
       "      <td>...</td>\n",
       "      <td>...</td>\n",
       "      <td>...</td>\n",
       "      <td>...</td>\n",
       "    </tr>\n",
       "    <tr>\n",
       "      <th>0</th>\n",
       "      <td>0</td>\n",
       "      <td>-0.132905</td>\n",
       "      <td>-0.995279</td>\n",
       "      <td>-0.983111</td>\n",
       "      <td>0</td>\n",
       "      <td>-0.995112</td>\n",
       "      <td>-0.983185</td>\n",
       "      <td>-0.923527</td>\n",
       "      <td>-0.934724</td>\n",
       "      <td>-0.567378</td>\n",
       "      <td>...</td>\n",
       "      <td>0</td>\n",
       "      <td>0</td>\n",
       "      <td>0</td>\n",
       "      <td>0</td>\n",
       "      <td>0</td>\n",
       "      <td>0</td>\n",
       "      <td>0</td>\n",
       "      <td>0</td>\n",
       "      <td>0</td>\n",
       "      <td>0</td>\n",
       "    </tr>\n",
       "    <tr>\n",
       "      <th>0</th>\n",
       "      <td>0</td>\n",
       "      <td>-0.132905</td>\n",
       "      <td>-0.995279</td>\n",
       "      <td>-0.983111</td>\n",
       "      <td>0</td>\n",
       "      <td>-0.995112</td>\n",
       "      <td>-0.983185</td>\n",
       "      <td>-0.923527</td>\n",
       "      <td>-0.934724</td>\n",
       "      <td>-0.567378</td>\n",
       "      <td>...</td>\n",
       "      <td>0</td>\n",
       "      <td>0</td>\n",
       "      <td>0</td>\n",
       "      <td>0</td>\n",
       "      <td>0</td>\n",
       "      <td>0</td>\n",
       "      <td>0</td>\n",
       "      <td>0</td>\n",
       "      <td>0</td>\n",
       "      <td>0</td>\n",
       "    </tr>\n",
       "    <tr>\n",
       "      <th>0</th>\n",
       "      <td>0</td>\n",
       "      <td>-0.132905</td>\n",
       "      <td>-0.995279</td>\n",
       "      <td>-0.983111</td>\n",
       "      <td>0</td>\n",
       "      <td>-0.995112</td>\n",
       "      <td>-0.983185</td>\n",
       "      <td>-0.923527</td>\n",
       "      <td>-0.934724</td>\n",
       "      <td>-0.567378</td>\n",
       "      <td>...</td>\n",
       "      <td>0</td>\n",
       "      <td>0</td>\n",
       "      <td>0</td>\n",
       "      <td>0</td>\n",
       "      <td>0</td>\n",
       "      <td>0</td>\n",
       "      <td>0</td>\n",
       "      <td>0</td>\n",
       "      <td>0</td>\n",
       "      <td>0</td>\n",
       "    </tr>\n",
       "    <tr>\n",
       "      <th>0</th>\n",
       "      <td>0</td>\n",
       "      <td>-0.132905</td>\n",
       "      <td>-0.995279</td>\n",
       "      <td>-0.983111</td>\n",
       "      <td>0</td>\n",
       "      <td>-0.995112</td>\n",
       "      <td>-0.983185</td>\n",
       "      <td>-0.923527</td>\n",
       "      <td>-0.934724</td>\n",
       "      <td>-0.567378</td>\n",
       "      <td>...</td>\n",
       "      <td>0</td>\n",
       "      <td>0</td>\n",
       "      <td>0</td>\n",
       "      <td>0</td>\n",
       "      <td>0</td>\n",
       "      <td>0</td>\n",
       "      <td>0</td>\n",
       "      <td>0</td>\n",
       "      <td>0</td>\n",
       "      <td>0</td>\n",
       "    </tr>\n",
       "    <tr>\n",
       "      <th>0</th>\n",
       "      <td>0</td>\n",
       "      <td>-0.132905</td>\n",
       "      <td>-0.995279</td>\n",
       "      <td>-0.983111</td>\n",
       "      <td>0</td>\n",
       "      <td>-0.995112</td>\n",
       "      <td>-0.983185</td>\n",
       "      <td>-0.923527</td>\n",
       "      <td>-0.934724</td>\n",
       "      <td>-0.567378</td>\n",
       "      <td>...</td>\n",
       "      <td>0</td>\n",
       "      <td>0</td>\n",
       "      <td>0</td>\n",
       "      <td>0</td>\n",
       "      <td>0</td>\n",
       "      <td>0</td>\n",
       "      <td>0</td>\n",
       "      <td>0</td>\n",
       "      <td>0</td>\n",
       "      <td>0</td>\n",
       "    </tr>\n",
       "  </tbody>\n",
       "</table>\n",
       "<p>589 rows × 589 columns</p>\n",
       "</div>"
      ],
      "text/plain": [
       "    v0        v2        v3        v4  v5        v6        v7        v8  \\\n",
       "0    0 -0.132905 -0.995279 -0.983111   0 -0.995112 -0.983185 -0.923527   \n",
       "0    0 -0.132905 -0.995279 -0.983111   0 -0.995112 -0.983185 -0.923527   \n",
       "0    0 -0.132905 -0.995279 -0.983111   0 -0.995112 -0.983185 -0.923527   \n",
       "0    0 -0.132905 -0.995279 -0.983111   0 -0.995112 -0.983185 -0.923527   \n",
       "0    0 -0.132905 -0.995279 -0.983111   0 -0.995112 -0.983185 -0.923527   \n",
       "..  ..       ...       ...       ...  ..       ...       ...       ...   \n",
       "0    0 -0.132905 -0.995279 -0.983111   0 -0.995112 -0.983185 -0.923527   \n",
       "0    0 -0.132905 -0.995279 -0.983111   0 -0.995112 -0.983185 -0.923527   \n",
       "0    0 -0.132905 -0.995279 -0.983111   0 -0.995112 -0.983185 -0.923527   \n",
       "0    0 -0.132905 -0.995279 -0.983111   0 -0.995112 -0.983185 -0.923527   \n",
       "0    0 -0.132905 -0.995279 -0.983111   0 -0.995112 -0.983185 -0.923527   \n",
       "\n",
       "          v9       v10  ...  v561_N  v561_O  v561_P  v561_Q  v561_S  v561_U  \\\n",
       "0  -0.934724 -0.567378  ...       0       0       0       0       0       0   \n",
       "0  -0.934724 -0.567378  ...       0       0       0       0       0       0   \n",
       "0  -0.934724 -0.567378  ...       0       0       0       0       0       0   \n",
       "0  -0.934724 -0.567378  ...       0       0       0       0       0       0   \n",
       "0  -0.934724 -0.567378  ...       0       0       0       0       0       0   \n",
       "..       ...       ...  ...     ...     ...     ...     ...     ...     ...   \n",
       "0  -0.934724 -0.567378  ...       0       0       0       0       0       0   \n",
       "0  -0.934724 -0.567378  ...       0       0       0       0       0       0   \n",
       "0  -0.934724 -0.567378  ...       0       0       0       0       0       0   \n",
       "0  -0.934724 -0.567378  ...       0       0       0       0       0       0   \n",
       "0  -0.934724 -0.567378  ...       0       0       0       0       0       0   \n",
       "\n",
       "    v561_V  v561_W  v561_Y  v561_Z  \n",
       "0        0       0       0       0  \n",
       "0        0       0       0       0  \n",
       "0        0       0       0       0  \n",
       "0        0       0       0       0  \n",
       "0        0       0       0       0  \n",
       "..     ...     ...     ...     ...  \n",
       "0        0       0       0       0  \n",
       "0        0       0       0       0  \n",
       "0        0       0       0       0  \n",
       "0        0       0       0       0  \n",
       "0        0       0       0       0  \n",
       "\n",
       "[589 rows x 589 columns]"
      ]
     },
     "execution_count": 26,
     "metadata": {},
     "output_type": "execute_result"
    }
   ],
   "source": [
    "df.loc[df.isnull().sum()]"
   ]
  },
  {
   "cell_type": "code",
   "execution_count": 27,
   "metadata": {},
   "outputs": [],
   "source": [
    "col_mask=df.isnull().any(axis=0) "
   ]
  },
  {
   "cell_type": "code",
   "execution_count": 28,
   "metadata": {},
   "outputs": [],
   "source": [
    "row_mask=df.isnull().any(axis=1)"
   ]
  },
  {
   "cell_type": "code",
   "execution_count": 29,
   "metadata": {},
   "outputs": [
    {
     "data": {
      "text/html": [
       "<div>\n",
       "<style scoped>\n",
       "    .dataframe tbody tr th:only-of-type {\n",
       "        vertical-align: middle;\n",
       "    }\n",
       "\n",
       "    .dataframe tbody tr th {\n",
       "        vertical-align: top;\n",
       "    }\n",
       "\n",
       "    .dataframe thead th {\n",
       "        text-align: right;\n",
       "    }\n",
       "</style>\n",
       "<table border=\"1\" class=\"dataframe\">\n",
       "  <thead>\n",
       "    <tr style=\"text-align: right;\">\n",
       "      <th></th>\n",
       "      <th>v8</th>\n",
       "      <th>v10</th>\n",
       "      <th>v11</th>\n",
       "      <th>v12</th>\n",
       "      <th>v13</th>\n",
       "      <th>v14</th>\n",
       "      <th>v15</th>\n",
       "      <th>v16</th>\n",
       "      <th>v17</th>\n",
       "      <th>v18</th>\n",
       "    </tr>\n",
       "  </thead>\n",
       "  <tbody>\n",
       "    <tr>\n",
       "      <th>85</th>\n",
       "      <td>-0.204493</td>\n",
       "      <td>-0.102134</td>\n",
       "      <td>-0.176986</td>\n",
       "      <td>0.094155</td>\n",
       "      <td>0.109592</td>\n",
       "      <td>NaN</td>\n",
       "      <td>-0.101385</td>\n",
       "      <td>-0.714917</td>\n",
       "      <td>-0.782954</td>\n",
       "      <td>-0.716864</td>\n",
       "    </tr>\n",
       "    <tr>\n",
       "      <th>86</th>\n",
       "      <td>-0.095763</td>\n",
       "      <td>-0.145546</td>\n",
       "      <td>-0.193157</td>\n",
       "      <td>0.280536</td>\n",
       "      <td>-0.023057</td>\n",
       "      <td>NaN</td>\n",
       "      <td>-0.148596</td>\n",
       "      <td>-0.789177</td>\n",
       "      <td>-0.813002</td>\n",
       "      <td>-0.656698</td>\n",
       "    </tr>\n",
       "    <tr>\n",
       "      <th>87</th>\n",
       "      <td>-0.233326</td>\n",
       "      <td>-0.173889</td>\n",
       "      <td>-0.126654</td>\n",
       "      <td>0.280536</td>\n",
       "      <td>-0.023057</td>\n",
       "      <td>NaN</td>\n",
       "      <td>-0.106409</td>\n",
       "      <td>-0.727085</td>\n",
       "      <td>-0.760976</td>\n",
       "      <td>-0.718639</td>\n",
       "    </tr>\n",
       "    <tr>\n",
       "      <th>120</th>\n",
       "      <td>-0.277213</td>\n",
       "      <td>0.084098</td>\n",
       "      <td>-0.099875</td>\n",
       "      <td>0.094599</td>\n",
       "      <td>0.025585</td>\n",
       "      <td>NaN</td>\n",
       "      <td>-0.235228</td>\n",
       "      <td>-0.799426</td>\n",
       "      <td>-0.835261</td>\n",
       "      <td>-0.753874</td>\n",
       "    </tr>\n",
       "    <tr>\n",
       "      <th>128</th>\n",
       "      <td>-0.318214</td>\n",
       "      <td>-0.034024</td>\n",
       "      <td>-0.372518</td>\n",
       "      <td>0.210398</td>\n",
       "      <td>-0.228288</td>\n",
       "      <td>NaN</td>\n",
       "      <td>-0.105281</td>\n",
       "      <td>-0.623365</td>\n",
       "      <td>-0.752514</td>\n",
       "      <td>-0.798732</td>\n",
       "    </tr>\n",
       "    <tr>\n",
       "      <th>...</th>\n",
       "      <td>...</td>\n",
       "      <td>...</td>\n",
       "      <td>...</td>\n",
       "      <td>...</td>\n",
       "      <td>...</td>\n",
       "      <td>...</td>\n",
       "      <td>...</td>\n",
       "      <td>...</td>\n",
       "      <td>...</td>\n",
       "      <td>...</td>\n",
       "    </tr>\n",
       "    <tr>\n",
       "      <th>7033</th>\n",
       "      <td>-0.990474</td>\n",
       "      <td>-0.545385</td>\n",
       "      <td>NaN</td>\n",
       "      <td>0.838980</td>\n",
       "      <td>0.669255</td>\n",
       "      <td>0.844922</td>\n",
       "      <td>-0.989612</td>\n",
       "      <td>-0.999909</td>\n",
       "      <td>-0.999696</td>\n",
       "      <td>-0.999810</td>\n",
       "    </tr>\n",
       "    <tr>\n",
       "      <th>7037</th>\n",
       "      <td>-0.993809</td>\n",
       "      <td>-0.568640</td>\n",
       "      <td>NaN</td>\n",
       "      <td>0.848479</td>\n",
       "      <td>0.693304</td>\n",
       "      <td>0.844290</td>\n",
       "      <td>-0.995626</td>\n",
       "      <td>-0.999952</td>\n",
       "      <td>-0.999977</td>\n",
       "      <td>-0.999890</td>\n",
       "    </tr>\n",
       "    <tr>\n",
       "      <th>7085</th>\n",
       "      <td>-0.213152</td>\n",
       "      <td>-0.218644</td>\n",
       "      <td>-0.281534</td>\n",
       "      <td>0.343670</td>\n",
       "      <td>0.268251</td>\n",
       "      <td>0.290204</td>\n",
       "      <td>NaN</td>\n",
       "      <td>-0.837644</td>\n",
       "      <td>-0.893945</td>\n",
       "      <td>-0.684714</td>\n",
       "    </tr>\n",
       "    <tr>\n",
       "      <th>7095</th>\n",
       "      <td>-0.180210</td>\n",
       "      <td>-0.112970</td>\n",
       "      <td>-0.297452</td>\n",
       "      <td>0.329200</td>\n",
       "      <td>0.293539</td>\n",
       "      <td>NaN</td>\n",
       "      <td>-0.261934</td>\n",
       "      <td>-0.824597</td>\n",
       "      <td>-0.883758</td>\n",
       "      <td>-0.691359</td>\n",
       "    </tr>\n",
       "    <tr>\n",
       "      <th>7096</th>\n",
       "      <td>-0.217711</td>\n",
       "      <td>-0.174690</td>\n",
       "      <td>-0.297452</td>\n",
       "      <td>0.363396</td>\n",
       "      <td>0.219450</td>\n",
       "      <td>NaN</td>\n",
       "      <td>-0.260994</td>\n",
       "      <td>-0.800430</td>\n",
       "      <td>-0.891400</td>\n",
       "      <td>-0.712458</td>\n",
       "    </tr>\n",
       "  </tbody>\n",
       "</table>\n",
       "<p>78 rows × 10 columns</p>\n",
       "</div>"
      ],
      "text/plain": [
       "            v8       v10       v11       v12       v13       v14       v15  \\\n",
       "85   -0.204493 -0.102134 -0.176986  0.094155  0.109592       NaN -0.101385   \n",
       "86   -0.095763 -0.145546 -0.193157  0.280536 -0.023057       NaN -0.148596   \n",
       "87   -0.233326 -0.173889 -0.126654  0.280536 -0.023057       NaN -0.106409   \n",
       "120  -0.277213  0.084098 -0.099875  0.094599  0.025585       NaN -0.235228   \n",
       "128  -0.318214 -0.034024 -0.372518  0.210398 -0.228288       NaN -0.105281   \n",
       "...        ...       ...       ...       ...       ...       ...       ...   \n",
       "7033 -0.990474 -0.545385       NaN  0.838980  0.669255  0.844922 -0.989612   \n",
       "7037 -0.993809 -0.568640       NaN  0.848479  0.693304  0.844290 -0.995626   \n",
       "7085 -0.213152 -0.218644 -0.281534  0.343670  0.268251  0.290204       NaN   \n",
       "7095 -0.180210 -0.112970 -0.297452  0.329200  0.293539       NaN -0.261934   \n",
       "7096 -0.217711 -0.174690 -0.297452  0.363396  0.219450       NaN -0.260994   \n",
       "\n",
       "           v16       v17       v18  \n",
       "85   -0.714917 -0.782954 -0.716864  \n",
       "86   -0.789177 -0.813002 -0.656698  \n",
       "87   -0.727085 -0.760976 -0.718639  \n",
       "120  -0.799426 -0.835261 -0.753874  \n",
       "128  -0.623365 -0.752514 -0.798732  \n",
       "...        ...       ...       ...  \n",
       "7033 -0.999909 -0.999696 -0.999810  \n",
       "7037 -0.999952 -0.999977 -0.999890  \n",
       "7085 -0.837644 -0.893945 -0.684714  \n",
       "7095 -0.824597 -0.883758 -0.691359  \n",
       "7096 -0.800430 -0.891400 -0.712458  \n",
       "\n",
       "[78 rows x 10 columns]"
      ]
     },
     "execution_count": 29,
     "metadata": {},
     "output_type": "execute_result"
    }
   ],
   "source": [
    "df.loc[row_mask,col_mask]"
   ]
  },
  {
   "cell_type": "markdown",
   "metadata": {},
   "source": [
    "These are rows that are supposed to have missing values. But, they do not have any missing data.\n",
    "\n",
    "We sometimes expect \"NaN\" written for missing data but, there are other issues like infite value problem. So, I ll try to implement all those trouble shooting methods one by one"
   ]
  },
  {
   "cell_type": "markdown",
   "metadata": {},
   "source": [
    "##### getting rid of infinite values."
   ]
  },
  {
   "cell_type": "code",
   "execution_count": 30,
   "metadata": {},
   "outputs": [],
   "source": [
    "df.replace([np.inf, -np.inf], np.nan, inplace=True)"
   ]
  },
  {
   "cell_type": "markdown",
   "metadata": {},
   "source": [
    "##### To fill values with mean as we have some outlier situation"
   ]
  },
  {
   "cell_type": "code",
   "execution_count": 31,
   "metadata": {},
   "outputs": [],
   "source": [
    "df.fillna(df.mean(), inplace=True)"
   ]
  },
  {
   "cell_type": "markdown",
   "metadata": {},
   "source": [
    "I tried couple of other techniques like imputer or feature by feature filling mean values."
   ]
  },
  {
   "cell_type": "code",
   "execution_count": 32,
   "metadata": {},
   "outputs": [],
   "source": [
    "#from sklearn.preprocessing import Imputer\n",
    "#imp = Imputer(missing_values='NaN', strategy='mean', axis=0)\n",
    "#imp.fit(df)"
   ]
  },
  {
   "cell_type": "code",
   "execution_count": 33,
   "metadata": {},
   "outputs": [],
   "source": [
    "#df['v15'].fillna((df['v15'].mean()), inplace=True)\n",
    "#df['v14'].fillna((df['v14'].mean()), inplace=True)\n",
    "#df['v11'].fillna((df['v11'].mean()), inplace=True)\n",
    "#df['v13'].fillna((df['v13'].mean()), inplace=True)\n",
    "#df['v10'].fillna((df['v10'].mean()), inplace=True)\n",
    "#df['v12'].fillna((df['v12'].mean()), inplace=True)\n",
    "#df['v17'].fillna((df['v17'].mean()), inplace=True)"
   ]
  },
  {
   "cell_type": "code",
   "execution_count": 34,
   "metadata": {},
   "outputs": [
    {
     "name": "stdout",
     "output_type": "stream",
     "text": [
      "No. of fields:  7352\n",
      "No. of missing fields:  0\n"
     ]
    },
    {
     "data": {
      "text/html": [
       "<div>\n",
       "<style scoped>\n",
       "    .dataframe tbody tr th:only-of-type {\n",
       "        vertical-align: middle;\n",
       "    }\n",
       "\n",
       "    .dataframe tbody tr th {\n",
       "        vertical-align: top;\n",
       "    }\n",
       "\n",
       "    .dataframe thead th {\n",
       "        text-align: right;\n",
       "    }\n",
       "</style>\n",
       "<table border=\"1\" class=\"dataframe\">\n",
       "  <thead>\n",
       "    <tr style=\"text-align: right;\">\n",
       "      <th></th>\n",
       "      <th>No. of mising Value</th>\n",
       "      <th>%age of missing Value</th>\n",
       "    </tr>\n",
       "  </thead>\n",
       "  <tbody>\n",
       "  </tbody>\n",
       "</table>\n",
       "</div>"
      ],
      "text/plain": [
       "Empty DataFrame\n",
       "Columns: [No. of mising Value, %age of missing Value]\n",
       "Index: []"
      ]
     },
     "execution_count": 34,
     "metadata": {},
     "output_type": "execute_result"
    }
   ],
   "source": [
    "summary_missing(df)"
   ]
  },
  {
   "cell_type": "markdown",
   "metadata": {},
   "source": [
    "So, there are no missing values."
   ]
  },
  {
   "cell_type": "markdown",
   "metadata": {},
   "source": [
    "### 3.5)- Duplicate values"
   ]
  },
  {
   "cell_type": "code",
   "execution_count": 35,
   "metadata": {},
   "outputs": [
    {
     "data": {
      "text/plain": [
       "0"
      ]
     },
     "execution_count": 35,
     "metadata": {},
     "output_type": "execute_result"
    }
   ],
   "source": [
    "df.duplicated().sum()"
   ]
  },
  {
   "cell_type": "markdown",
   "metadata": {},
   "source": [
    "None found, so no action needed."
   ]
  },
  {
   "cell_type": "markdown",
   "metadata": {},
   "source": [
    "### 3.6)-Outliers"
   ]
  },
  {
   "cell_type": "code",
   "execution_count": 36,
   "metadata": {},
   "outputs": [
    {
     "name": "stdout",
     "output_type": "stream",
     "text": [
      "Percentage of low: 0.00%\n",
      "Percentage of high: 0.00%\n",
      "Low value: -2691.95\n",
      "High value: 10042.95\n"
     ]
    }
   ],
   "source": [
    "def _zoom_3sigma(col, dataset, dataset_apl):\n",
    "    '''\n",
    "    col: Data column name\n",
    "    dataset: The original data table is used to calculate about 3 sigma\n",
    "    dataset_apl: New data table applies about 3 sigma taken from the dataset..\n",
    "    '''\n",
    "    xs = dataset[col]\n",
    "    mu = xs.mean()\n",
    "    sigma = xs.std()\n",
    "    low =  mu - 3*sigma\n",
    "#     low =  0 if low < 0 else low\n",
    "    high = mu + 3*sigma\n",
    "    \n",
    "    def _value(x):\n",
    "        if x < low: return low\n",
    "        elif x > high: return high\n",
    "        else: return x\n",
    "    xapl = dataset_apl[col]    \n",
    "    xnew = list(map(lambda x: _value(x), xapl))\n",
    "    n_low = len([i for i in xnew if i == low])\n",
    "    n_high = len([i for i in xnew if i == high])\n",
    "    n = len(xapl)\n",
    "    print('Percentage of low: {:.2f}{}'.format(100*n_low/n, '%'))\n",
    "    print('Percentage of high: {:.2f}{}'.format(100*n_high/n, '%'))\n",
    "    print('Low value: {:.2f}'.format(low))\n",
    "    print('High value: {:.2f}'.format(high))\n",
    "    return xnew\n",
    "\n",
    "# Check with v8 variable\n",
    "x = _zoom_3sigma('v0', df, df)"
   ]
  },
  {
   "cell_type": "markdown",
   "metadata": {},
   "source": [
    "There is huge variation in low and high value. So, we have tendency of outliers in our data. I ll get to solution of this issue. But, I need to first check my target variable."
   ]
  },
  {
   "cell_type": "markdown",
   "metadata": {},
   "source": [
    "### 3.7)- Target variable\n",
    "\n",
    "Let's explore target variable"
   ]
  },
  {
   "cell_type": "code",
   "execution_count": 37,
   "metadata": {},
   "outputs": [
    {
     "data": {
      "text/plain": [
       "dtype('int64')"
      ]
     },
     "execution_count": 37,
     "metadata": {},
     "output_type": "execute_result"
    }
   ],
   "source": [
    "df.label.dtype"
   ]
  },
  {
   "cell_type": "markdown",
   "metadata": {},
   "source": [
    "**1st up there is a problem. Label is also categorical variable but, it is encoded as int.We need to fix it.**"
   ]
  },
  {
   "cell_type": "code",
   "execution_count": 38,
   "metadata": {},
   "outputs": [],
   "source": [
    "df['label']=df['label'].astype('category')\n",
    "df_test['label']=df_test['label'].astype('category')"
   ]
  },
  {
   "cell_type": "code",
   "execution_count": 39,
   "metadata": {},
   "outputs": [
    {
     "data": {
      "text/plain": [
       "CategoricalDtype(categories=[0, 1, 2, 3, 4, 5], ordered=False)"
      ]
     },
     "execution_count": 39,
     "metadata": {},
     "output_type": "execute_result"
    }
   ],
   "source": [
    "df.label.dtype"
   ]
  },
  {
   "cell_type": "code",
   "execution_count": 40,
   "metadata": {},
   "outputs": [
    {
     "data": {
      "text/plain": [
       "CategoricalDtype(categories=[0, 1, 2, 3, 4, 5], ordered=False)"
      ]
     },
     "execution_count": 40,
     "metadata": {},
     "output_type": "execute_result"
    }
   ],
   "source": [
    "df_test.label.dtype"
   ]
  },
  {
   "cell_type": "code",
   "execution_count": 41,
   "metadata": {},
   "outputs": [
    {
     "data": {
      "text/plain": [
       "0    1407\n",
       "2    1374\n",
       "1    1286\n",
       "3    1226\n",
       "5    1073\n",
       "4     986\n",
       "Name: label, dtype: int64"
      ]
     },
     "execution_count": 41,
     "metadata": {},
     "output_type": "execute_result"
    }
   ],
   "source": [
    "df.label.value_counts()"
   ]
  },
  {
   "cell_type": "code",
   "execution_count": 42,
   "metadata": {},
   "outputs": [
    {
     "data": {
      "text/plain": [
       "<matplotlib.axes._subplots.AxesSubplot at 0x1a47d8fc90>"
      ]
     },
     "execution_count": 42,
     "metadata": {},
     "output_type": "execute_result"
    },
    {
     "data": {
      "image/png": "[encoded data removed]",
      "text/plain": [
       "<Figure size 432x288 with 1 Axes>"
      ]
     },
     "metadata": {
      "needs_background": "light"
     },
     "output_type": "display_data"
    }
   ],
   "source": [
    "df.label.value_counts().plot.bar()"
   ]
  },
  {
   "cell_type": "markdown",
   "metadata": {},
   "source": [
    "So, all is set. We have our training data cleaned."
   ]
  },
  {
   "cell_type": "markdown",
   "metadata": {},
   "source": [
    "# 4)- Pre-Modeling process"
   ]
  },
  {
   "cell_type": "code",
   "execution_count": 43,
   "metadata": {},
   "outputs": [],
   "source": [
    "y=df['label']"
   ]
  },
  {
   "cell_type": "code",
   "execution_count": 44,
   "metadata": {},
   "outputs": [],
   "source": [
    "X=df.drop(['label'], axis=1)"
   ]
  },
  {
   "cell_type": "code",
   "execution_count": 45,
   "metadata": {},
   "outputs": [
    {
     "name": "stdout",
     "output_type": "stream",
     "text": [
      "(7352,)\n",
      "(7352, 588)\n"
     ]
    }
   ],
   "source": [
    "print(y.shape)\n",
    "print(X.shape)"
   ]
  },
  {
   "cell_type": "markdown",
   "metadata": {},
   "source": [
    "### 4.1)- PCA"
   ]
  },
  {
   "cell_type": "code",
   "execution_count": 46,
   "metadata": {},
   "outputs": [],
   "source": [
    "scaler = StandardScaler()\n",
    "def transform_data(scaler, df, columns):\n",
    "    transformed_data = scaler.transform(X[columns])\n",
    "    df_transformed = pd.DataFrame(transformed_data, columns=columns)\n",
    "    \n",
    "    for col in df_transformed.columns:\n",
    "        df[col] = df_transformed[col]"
   ]
  },
  {
   "cell_type": "markdown",
   "metadata": {},
   "source": [
    "### 4.2)-Normalize data\n",
    "\n",
    "By this step, we can also minimize our **outlier** problem"
   ]
  },
  {
   "cell_type": "code",
   "execution_count": 47,
   "metadata": {},
   "outputs": [],
   "source": [
    "X_scaled=scaler.fit(X)"
   ]
  },
  {
   "cell_type": "code",
   "execution_count": 48,
   "metadata": {},
   "outputs": [
    {
     "data": {
      "text/plain": [
       "StandardScaler(copy=True, with_mean=True, with_std=True)"
      ]
     },
     "execution_count": 48,
     "metadata": {},
     "output_type": "execute_result"
    }
   ],
   "source": [
    "X_scaled"
   ]
  },
  {
   "cell_type": "code",
   "execution_count": 49,
   "metadata": {},
   "outputs": [],
   "source": [
    "transform_data(scaler, X, X.columns)"
   ]
  },
  {
   "cell_type": "code",
   "execution_count": 52,
   "metadata": {},
   "outputs": [],
   "source": [
    "X_pca = X.copy()"
   ]
  },
  {
   "cell_type": "code",
   "execution_count": 53,
   "metadata": {},
   "outputs": [],
   "source": [
    "from sklearn.decomposition import PCA\n",
    "pca = PCA(n_components=0.90) # to get 95% of variance"
   ]
  },
  {
   "cell_type": "code",
   "execution_count": 54,
   "metadata": {},
   "outputs": [
    {
     "data": {
      "text/plain": [
       "PCA(copy=True, iterated_power='auto', n_components=0.9, random_state=None,\n",
       "    svd_solver='auto', tol=0.0, whiten=False)"
      ]
     },
     "execution_count": 54,
     "metadata": {},
     "output_type": "execute_result"
    }
   ],
   "source": [
    "pca.fit(X_pca)"
   ]
  },
  {
   "cell_type": "code",
   "execution_count": 55,
   "metadata": {},
   "outputs": [
    {
     "name": "stdout",
     "output_type": "stream",
     "text": [
      "Variance:  0.9\n",
      "No. of components to keep:  76\n"
     ]
    }
   ],
   "source": [
    "# No. of PCA Components\n",
    "print ('Variance: ', pca.n_components)\n",
    "print ('No. of components to keep: ', pca.n_components_)"
   ]
  },
  {
   "cell_type": "markdown",
   "metadata": {},
   "source": [
    "### apply pca"
   ]
  },
  {
   "cell_type": "code",
   "execution_count": 56,
   "metadata": {},
   "outputs": [],
   "source": [
    "def transform_with_pca(pca, df, columns):\n",
    "    transformed_data = pca.transform(X[columns])\n",
    "    \n",
    "    tcols = []\n",
    "    for i in range(pca.n_components_):       \n",
    "        tcols.append('component_' + str(i))\n",
    "    \n",
    "    print ('components:',tcols)\n",
    "    df_transformed = pd.DataFrame(transformed_data, columns=tcols)\n",
    "    \n",
    "    for col in df_transformed.columns:\n",
    "        df[col] = df_transformed[col]\n",
    "    \n",
    "    df.drop(columns, inplace=True, axis=1)\n",
    "    \n",
    "    return tcols"
   ]
  },
  {
   "cell_type": "code",
   "execution_count": 57,
   "metadata": {},
   "outputs": [
    {
     "name": "stdout",
     "output_type": "stream",
     "text": [
      "components: ['component_0', 'component_1', 'component_2', 'component_3', 'component_4', 'component_5', 'component_6', 'component_7', 'component_8', 'component_9', 'component_10', 'component_11', 'component_12', 'component_13', 'component_14', 'component_15', 'component_16', 'component_17', 'component_18', 'component_19', 'component_20', 'component_21', 'component_22', 'component_23', 'component_24', 'component_25', 'component_26', 'component_27', 'component_28', 'component_29', 'component_30', 'component_31', 'component_32', 'component_33', 'component_34', 'component_35', 'component_36', 'component_37', 'component_38', 'component_39', 'component_40', 'component_41', 'component_42', 'component_43', 'component_44', 'component_45', 'component_46', 'component_47', 'component_48', 'component_49', 'component_50', 'component_51', 'component_52', 'component_53', 'component_54', 'component_55', 'component_56', 'component_57', 'component_58', 'component_59', 'component_60', 'component_61', 'component_62', 'component_63', 'component_64', 'component_65', 'component_66', 'component_67', 'component_68', 'component_69', 'component_70', 'component_71', 'component_72', 'component_73', 'component_74', 'component_75']\n"
     ]
    },
    {
     "data": {
      "text/plain": [
       "['component_0',\n",
       " 'component_1',\n",
       " 'component_2',\n",
       " 'component_3',\n",
       " 'component_4',\n",
       " 'component_5',\n",
       " 'component_6',\n",
       " 'component_7',\n",
       " 'component_8',\n",
       " 'component_9',\n",
       " 'component_10',\n",
       " 'component_11',\n",
       " 'component_12',\n",
       " 'component_13',\n",
       " 'component_14',\n",
       " 'component_15',\n",
       " 'component_16',\n",
       " 'component_17',\n",
       " 'component_18',\n",
       " 'component_19',\n",
       " 'component_20',\n",
       " 'component_21',\n",
       " 'component_22',\n",
       " 'component_23',\n",
       " 'component_24',\n",
       " 'component_25',\n",
       " 'component_26',\n",
       " 'component_27',\n",
       " 'component_28',\n",
       " 'component_29',\n",
       " 'component_30',\n",
       " 'component_31',\n",
       " 'component_32',\n",
       " 'component_33',\n",
       " 'component_34',\n",
       " 'component_35',\n",
       " 'component_36',\n",
       " 'component_37',\n",
       " 'component_38',\n",
       " 'component_39',\n",
       " 'component_40',\n",
       " 'component_41',\n",
       " 'component_42',\n",
       " 'component_43',\n",
       " 'component_44',\n",
       " 'component_45',\n",
       " 'component_46',\n",
       " 'component_47',\n",
       " 'component_48',\n",
       " 'component_49',\n",
       " 'component_50',\n",
       " 'component_51',\n",
       " 'component_52',\n",
       " 'component_53',\n",
       " 'component_54',\n",
       " 'component_55',\n",
       " 'component_56',\n",
       " 'component_57',\n",
       " 'component_58',\n",
       " 'component_59',\n",
       " 'component_60',\n",
       " 'component_61',\n",
       " 'component_62',\n",
       " 'component_63',\n",
       " 'component_64',\n",
       " 'component_65',\n",
       " 'component_66',\n",
       " 'component_67',\n",
       " 'component_68',\n",
       " 'component_69',\n",
       " 'component_70',\n",
       " 'component_71',\n",
       " 'component_72',\n",
       " 'component_73',\n",
       " 'component_74',\n",
       " 'component_75']"
      ]
     },
     "execution_count": 57,
     "metadata": {},
     "output_type": "execute_result"
    }
   ],
   "source": [
    "transform_with_pca(pca,X_pca,X_pca.columns)"
   ]
  },
  {
   "cell_type": "code",
   "execution_count": 58,
   "metadata": {},
   "outputs": [
    {
     "name": "stdout",
     "output_type": "stream",
     "text": [
      "[[-4.19653992e-03 -1.52557346e-03  5.61347745e-02 ...  3.10224656e-03\n",
      "  -3.42554966e-03 -2.38652493e-03]\n",
      " [-7.08764909e-03 -3.81561544e-03 -1.10592822e-02 ...  2.22184866e-02\n",
      "  -3.11684914e-02  6.21298587e-03]\n",
      " [ 1.61552665e-02  9.48063308e-03 -2.69406466e-02 ...  5.54907076e-02\n",
      "   1.05077563e-04 -1.13398059e-02]\n",
      " ...\n",
      " [ 1.30684259e-02 -1.18196205e-04  5.46195231e-04 ... -1.23125794e-01\n",
      "   1.64533432e-01  1.60211572e-01]\n",
      " [ 3.33940623e-02 -1.07912798e-01 -1.00974073e-02 ...  8.83668124e-03\n",
      "  -1.41507168e-02  1.18549003e-01]\n",
      " [ 7.81083923e-03 -3.98652362e-02 -1.16603889e-02 ...  3.31952430e-02\n",
      "   1.57982432e-01 -1.46663881e-02]]\n"
     ]
    }
   ],
   "source": [
    "print(pca.components_)"
   ]
  },
  {
   "cell_type": "code",
   "execution_count": 59,
   "metadata": {},
   "outputs": [
    {
     "data": {
      "text/html": [
       "<div>\n",
       "<style scoped>\n",
       "    .dataframe tbody tr th:only-of-type {\n",
       "        vertical-align: middle;\n",
       "    }\n",
       "\n",
       "    .dataframe tbody tr th {\n",
       "        vertical-align: top;\n",
       "    }\n",
       "\n",
       "    .dataframe thead th {\n",
       "        text-align: right;\n",
       "    }\n",
       "</style>\n",
       "<table border=\"1\" class=\"dataframe\">\n",
       "  <thead>\n",
       "    <tr style=\"text-align: right;\">\n",
       "      <th></th>\n",
       "      <th>component_0</th>\n",
       "      <th>component_1</th>\n",
       "      <th>component_2</th>\n",
       "      <th>component_3</th>\n",
       "      <th>component_4</th>\n",
       "      <th>component_5</th>\n",
       "      <th>component_6</th>\n",
       "      <th>component_7</th>\n",
       "      <th>component_8</th>\n",
       "      <th>component_9</th>\n",
       "      <th>...</th>\n",
       "      <th>component_66</th>\n",
       "      <th>component_67</th>\n",
       "      <th>component_68</th>\n",
       "      <th>component_69</th>\n",
       "      <th>component_70</th>\n",
       "      <th>component_71</th>\n",
       "      <th>component_72</th>\n",
       "      <th>component_73</th>\n",
       "      <th>component_74</th>\n",
       "      <th>component_75</th>\n",
       "    </tr>\n",
       "  </thead>\n",
       "  <tbody>\n",
       "    <tr>\n",
       "      <th>0</th>\n",
       "      <td>-16.175307</td>\n",
       "      <td>2.167266</td>\n",
       "      <td>3.040405</td>\n",
       "      <td>-0.157464</td>\n",
       "      <td>6.847707</td>\n",
       "      <td>-3.449790</td>\n",
       "      <td>-2.338293</td>\n",
       "      <td>5.595929</td>\n",
       "      <td>-0.360816</td>\n",
       "      <td>-3.771317</td>\n",
       "      <td>...</td>\n",
       "      <td>1.184391</td>\n",
       "      <td>-0.841281</td>\n",
       "      <td>1.412309</td>\n",
       "      <td>1.117183</td>\n",
       "      <td>1.342270</td>\n",
       "      <td>-0.529419</td>\n",
       "      <td>1.786104</td>\n",
       "      <td>-1.715903</td>\n",
       "      <td>0.058558</td>\n",
       "      <td>0.135205</td>\n",
       "    </tr>\n",
       "    <tr>\n",
       "      <th>1</th>\n",
       "      <td>-15.334258</td>\n",
       "      <td>1.401905</td>\n",
       "      <td>-0.699747</td>\n",
       "      <td>2.907268</td>\n",
       "      <td>4.397493</td>\n",
       "      <td>-1.692558</td>\n",
       "      <td>0.274266</td>\n",
       "      <td>2.067804</td>\n",
       "      <td>0.630966</td>\n",
       "      <td>-0.300288</td>\n",
       "      <td>...</td>\n",
       "      <td>0.713262</td>\n",
       "      <td>0.011020</td>\n",
       "      <td>0.434977</td>\n",
       "      <td>0.168156</td>\n",
       "      <td>-0.579217</td>\n",
       "      <td>-0.106327</td>\n",
       "      <td>1.339324</td>\n",
       "      <td>-0.974306</td>\n",
       "      <td>-0.324012</td>\n",
       "      <td>-0.112453</td>\n",
       "    </tr>\n",
       "    <tr>\n",
       "      <th>2</th>\n",
       "      <td>-15.175422</td>\n",
       "      <td>2.482400</td>\n",
       "      <td>-1.755376</td>\n",
       "      <td>3.828980</td>\n",
       "      <td>4.298502</td>\n",
       "      <td>-1.076046</td>\n",
       "      <td>0.137840</td>\n",
       "      <td>1.515766</td>\n",
       "      <td>0.736624</td>\n",
       "      <td>-0.752652</td>\n",
       "      <td>...</td>\n",
       "      <td>-0.542654</td>\n",
       "      <td>-0.110243</td>\n",
       "      <td>-0.359815</td>\n",
       "      <td>-0.002792</td>\n",
       "      <td>0.124428</td>\n",
       "      <td>0.076483</td>\n",
       "      <td>-0.084011</td>\n",
       "      <td>0.138276</td>\n",
       "      <td>0.282512</td>\n",
       "      <td>-0.449664</td>\n",
       "    </tr>\n",
       "    <tr>\n",
       "      <th>3</th>\n",
       "      <td>-15.388766</td>\n",
       "      <td>3.920788</td>\n",
       "      <td>-1.802816</td>\n",
       "      <td>2.700890</td>\n",
       "      <td>3.322267</td>\n",
       "      <td>-0.741983</td>\n",
       "      <td>-0.310715</td>\n",
       "      <td>1.873013</td>\n",
       "      <td>1.429770</td>\n",
       "      <td>-1.468199</td>\n",
       "      <td>...</td>\n",
       "      <td>-1.834358</td>\n",
       "      <td>0.713655</td>\n",
       "      <td>-1.711991</td>\n",
       "      <td>-0.266199</td>\n",
       "      <td>1.794911</td>\n",
       "      <td>-1.023834</td>\n",
       "      <td>-2.181434</td>\n",
       "      <td>0.876502</td>\n",
       "      <td>-3.835204</td>\n",
       "      <td>2.460028</td>\n",
       "    </tr>\n",
       "    <tr>\n",
       "      <th>4</th>\n",
       "      <td>-15.582434</td>\n",
       "      <td>4.599520</td>\n",
       "      <td>-2.183052</td>\n",
       "      <td>3.032400</td>\n",
       "      <td>3.220892</td>\n",
       "      <td>-0.925135</td>\n",
       "      <td>1.219705</td>\n",
       "      <td>0.745612</td>\n",
       "      <td>0.579285</td>\n",
       "      <td>1.013634</td>\n",
       "      <td>...</td>\n",
       "      <td>1.097336</td>\n",
       "      <td>-0.739443</td>\n",
       "      <td>-0.039893</td>\n",
       "      <td>0.857573</td>\n",
       "      <td>-0.308288</td>\n",
       "      <td>0.212869</td>\n",
       "      <td>0.089975</td>\n",
       "      <td>-0.455344</td>\n",
       "      <td>0.126191</td>\n",
       "      <td>-0.157863</td>\n",
       "    </tr>\n",
       "  </tbody>\n",
       "</table>\n",
       "<p>5 rows × 76 columns</p>\n",
       "</div>"
      ],
      "text/plain": [
       "   component_0  component_1  component_2  component_3  component_4  \\\n",
       "0   -16.175307     2.167266     3.040405    -0.157464     6.847707   \n",
       "1   -15.334258     1.401905    -0.699747     2.907268     4.397493   \n",
       "2   -15.175422     2.482400    -1.755376     3.828980     4.298502   \n",
       "3   -15.388766     3.920788    -1.802816     2.700890     3.322267   \n",
       "4   -15.582434     4.599520    -2.183052     3.032400     3.220892   \n",
       "\n",
       "   component_5  component_6  component_7  component_8  component_9  ...  \\\n",
       "0    -3.449790    -2.338293     5.595929    -0.360816    -3.771317  ...   \n",
       "1    -1.692558     0.274266     2.067804     0.630966    -0.300288  ...   \n",
       "2    -1.076046     0.137840     1.515766     0.736624    -0.752652  ...   \n",
       "3    -0.741983    -0.310715     1.873013     1.429770    -1.468199  ...   \n",
       "4    -0.925135     1.219705     0.745612     0.579285     1.013634  ...   \n",
       "\n",
       "   component_66  component_67  component_68  component_69  component_70  \\\n",
       "0      1.184391     -0.841281      1.412309      1.117183      1.342270   \n",
       "1      0.713262      0.011020      0.434977      0.168156     -0.579217   \n",
       "2     -0.542654     -0.110243     -0.359815     -0.002792      0.124428   \n",
       "3     -1.834358      0.713655     -1.711991     -0.266199      1.794911   \n",
       "4      1.097336     -0.739443     -0.039893      0.857573     -0.308288   \n",
       "\n",
       "   component_71  component_72  component_73  component_74  component_75  \n",
       "0     -0.529419      1.786104     -1.715903      0.058558      0.135205  \n",
       "1     -0.106327      1.339324     -0.974306     -0.324012     -0.112453  \n",
       "2      0.076483     -0.084011      0.138276      0.282512     -0.449664  \n",
       "3     -1.023834     -2.181434      0.876502     -3.835204      2.460028  \n",
       "4      0.212869      0.089975     -0.455344      0.126191     -0.157863  \n",
       "\n",
       "[5 rows x 76 columns]"
      ]
     },
     "execution_count": 59,
     "metadata": {},
     "output_type": "execute_result"
    }
   ],
   "source": [
    "X_pca.head()"
   ]
  },
  {
   "cell_type": "code",
   "execution_count": 60,
   "metadata": {},
   "outputs": [
    {
     "name": "stdout",
     "output_type": "stream",
     "text": [
      "[285.82733423  37.30838091  16.03452347  14.48195026  11.07403077\n",
      "  10.09525986   7.87273702   7.0923961    5.84354349   5.60836414\n",
      "   5.01742531   4.67784857   4.46503911   3.82051051   3.60676956\n",
      "   3.47568596   3.3889987    3.28938324   3.27114007   3.0109918\n",
      "   2.92128868   2.90643687   2.85371748   2.73094549   2.66506836\n",
      "   2.56424429   2.45999692   2.37342269   2.32728897   2.26524958\n",
      "   2.15630131   2.11118028   2.04077343   2.00293099   1.97047557\n",
      "   1.92066128   1.88827618   1.80003892   1.74879098   1.70346558\n",
      "   1.68034915   1.66315896   1.60967665   1.56025337   1.51469507\n",
      "   1.50203827   1.46409036   1.43509886   1.4056895    1.38644244\n",
      "   1.36506785   1.34347441   1.31593433   1.2863196    1.27801247\n",
      "   1.2665177    1.21570896   1.19341988   1.16164599   1.15187743\n",
      "   1.13453442   1.12270396   1.11006923   1.10111038   1.08724278\n",
      "   1.07085589   1.04169606   1.0304077    1.02428993   1.01041614\n",
      "   0.99473186   0.98297448   0.96817574   0.95658356   0.94100463\n",
      "   0.92936724]\n"
     ]
    }
   ],
   "source": [
    "print(pca.explained_variance_)"
   ]
  },
  {
   "cell_type": "markdown",
   "metadata": {},
   "source": [
    "1st component explain 285 variance and second 37. It goes down to show that after 15 components, we had only value of 5."
   ]
  },
  {
   "cell_type": "code",
   "execution_count": 61,
   "metadata": {},
   "outputs": [
    {
     "name": "stdout",
     "output_type": "stream",
     "text": [
      "(7352, 76)\n",
      "(7352,)\n"
     ]
    }
   ],
   "source": [
    "print(X_pca.shape)\n",
    "print(y.shape)"
   ]
  },
  {
   "cell_type": "markdown",
   "metadata": {},
   "source": [
    "# 5)-Model Building"
   ]
  },
  {
   "cell_type": "code",
   "execution_count": 62,
   "metadata": {},
   "outputs": [],
   "source": [
    "models = []\n",
    "models.append((\"NB\",GaussianNB()))\n",
    "models.append((\"KNN\",KNeighborsClassifier()))\n",
    "models.append((\"DT\",DecisionTreeClassifier()))\n",
    "models.append((\"RF\",RandomForestClassifier()))\n",
    "models.append((\"SVM\",SVC()))"
   ]
  },
  {
   "cell_type": "markdown",
   "metadata": {},
   "source": [
    "**using k-fold**\n",
    "\n",
    "We will not use train-test split for this method"
   ]
  },
  {
   "cell_type": "code",
   "execution_count": 63,
   "metadata": {},
   "outputs": [
    {
     "name": "stdout",
     "output_type": "stream",
     "text": [
      "NB 0.8920027358769594\n",
      "KNN 0.9352599083111507\n",
      "DT 0.7879447648624667\n",
      "RF 0.9277730331262939\n",
      "SVM 0.9774223602484472\n"
     ]
    }
   ],
   "source": [
    "results = []\n",
    "names = []\n",
    "for name,model in models:\n",
    "    kfold = KFold(n_splits=10, random_state=22)\n",
    "    cv_result = cross_val_score(model,X_pca,y, cv = kfold,scoring = \"accuracy\")\n",
    "    names.append(name)\n",
    "    results.append(cv_result)\n",
    "for i in range(len(names)):\n",
    "    print(names[i],results[i].mean())"
   ]
  },
  {
   "cell_type": "markdown",
   "metadata": {},
   "source": [
    "SVM is clear winner in accuracy. Let's see how it works with other evaluation matrics"
   ]
  },
  {
   "cell_type": "markdown",
   "metadata": {},
   "source": [
    "# 6)- SVM model"
   ]
  },
  {
   "cell_type": "code",
   "execution_count": 78,
   "metadata": {},
   "outputs": [],
   "source": [
    "from sklearn.model_selection import train_test_split\n",
    "X_train, X_test, y_train, y_test = train_test_split(X_pca, y, test_size = 0.25, random_state = 0)"
   ]
  },
  {
   "cell_type": "code",
   "execution_count": 79,
   "metadata": {},
   "outputs": [
    {
     "data": {
      "text/plain": [
       "SVC(C=1.0, break_ties=False, cache_size=200, class_weight=None, coef0=0.0,\n",
       "    decision_function_shape='ovr', degree=3, gamma='scale', kernel='rbf',\n",
       "    max_iter=-1, probability=False, random_state=None, shrinking=True,\n",
       "    tol=0.001, verbose=False)"
      ]
     },
     "execution_count": 79,
     "metadata": {},
     "output_type": "execute_result"
    }
   ],
   "source": [
    "from sklearn.svm import SVC\n",
    "classifier = SVC()\n",
    "classifier.fit(X_train, y_train)"
   ]
  },
  {
   "cell_type": "code",
   "execution_count": 80,
   "metadata": {},
   "outputs": [
    {
     "data": {
      "text/plain": [
       "array([0, 2, 4, ..., 1, 1, 4])"
      ]
     },
     "execution_count": 80,
     "metadata": {},
     "output_type": "execute_result"
    }
   ],
   "source": [
    "y_pred = classifier.predict(X_test)\n",
    "y_pred"
   ]
  },
  {
   "cell_type": "code",
   "execution_count": 81,
   "metadata": {},
   "outputs": [
    {
     "name": "stdout",
     "output_type": "stream",
     "text": [
      "0.998911860718172\n"
     ]
    }
   ],
   "source": [
    "print(accuracy_score(y_test, y_pred))"
   ]
  },
  {
   "cell_type": "markdown",
   "metadata": {},
   "source": [
    "##### Confusion matrix"
   ]
  },
  {
   "cell_type": "code",
   "execution_count": 83,
   "metadata": {},
   "outputs": [
    {
     "data": {
      "text/plain": [
       "array([[357,   0,   0,   0,   0,   0],\n",
       "       [  0, 350,   0,   0,   0,   0],\n",
       "       [  0,   0, 335,   0,   0,   0],\n",
       "       [  0,   0,   0, 306,   2,   0],\n",
       "       [  0,   0,   0,   0, 240,   0],\n",
       "       [  0,   0,   0,   0,   0, 248]])"
      ]
     },
     "execution_count": 83,
     "metadata": {},
     "output_type": "execute_result"
    }
   ],
   "source": [
    "cm=confusion_matrix(y_test,y_pred)\n",
    "cm"
   ]
  },
  {
   "cell_type": "code",
   "execution_count": 84,
   "metadata": {},
   "outputs": [
    {
     "data": {
      "text/plain": [
       "array([[1.        , 0.        , 0.        , 0.        , 0.        ,\n",
       "        0.        ],\n",
       "       [0.        , 1.        , 0.        , 0.        , 0.        ,\n",
       "        0.        ],\n",
       "       [0.        , 0.        , 1.        , 0.        , 0.        ,\n",
       "        0.        ],\n",
       "       [0.        , 0.        , 0.        , 0.99350649, 0.00833333,\n",
       "        0.        ],\n",
       "       [0.        , 0.        , 0.        , 0.        , 1.        ,\n",
       "        0.        ],\n",
       "       [0.        , 0.        , 0.        , 0.        , 0.        ,\n",
       "        1.        ]])"
      ]
     },
     "execution_count": 84,
     "metadata": {},
     "output_type": "execute_result"
    }
   ],
   "source": [
    "# for normalized results\n",
    "cm / cm.astype(np.float).sum(axis=1)"
   ]
  },
  {
   "cell_type": "markdown",
   "metadata": {},
   "source": [
    "# 6)- Model Tunning & Evaluation\n",
    "\n",
    "- Applying Grid Search\n",
    "- to find the best model and the best parameters"
   ]
  },
  {
   "cell_type": "code",
   "execution_count": 85,
   "metadata": {},
   "outputs": [],
   "source": [
    "from sklearn.model_selection import GridSearchCV\n",
    "parameters = [{'C': [1, 10, 100, 1000], 'kernel': ['linear']},\n",
    "              {'C': [1, 10, 100, 1000], 'kernel': ['rbf'], 'gamma': [0.1, 0.2, 0.3, 0.4, 0.5, 0.6, 0.7, 0.8, 0.9]}]\n",
    "grid_search = GridSearchCV(estimator = classifier,\n",
    "                           param_grid = parameters,\n",
    "                           scoring = 'accuracy',\n",
    "                           cv = 10,\n",
    "                           n_jobs = -1)\n",
    "grid_search = grid_search.fit(X_train, y_train)"
   ]
  },
  {
   "cell_type": "code",
   "execution_count": 86,
   "metadata": {},
   "outputs": [
    {
     "data": {
      "text/plain": [
       "0.9990932165496199"
      ]
     },
     "execution_count": 86,
     "metadata": {},
     "output_type": "execute_result"
    }
   ],
   "source": [
    "accuracy = grid_search.best_score_\n",
    "accuracy"
   ]
  },
  {
   "cell_type": "code",
   "execution_count": 87,
   "metadata": {},
   "outputs": [
    {
     "data": {
      "text/plain": [
       "{'C': 1, 'kernel': 'linear'}"
      ]
     },
     "execution_count": 87,
     "metadata": {},
     "output_type": "execute_result"
    }
   ],
   "source": [
    "grid_search.best_params_"
   ]
  },
  {
   "cell_type": "code",
   "execution_count": 88,
   "metadata": {},
   "outputs": [
    {
     "data": {
      "text/plain": [
       "SVC(C=1, break_ties=False, cache_size=200, class_weight=None, coef0=0.0,\n",
       "    decision_function_shape='ovr', degree=3, gamma='scale', kernel='linear',\n",
       "    max_iter=-1, probability=False, random_state=None, shrinking=True,\n",
       "    tol=0.001, verbose=False)"
      ]
     },
     "execution_count": 88,
     "metadata": {},
     "output_type": "execute_result"
    }
   ],
   "source": [
    "grid_search.best_estimator_"
   ]
  },
  {
   "cell_type": "markdown",
   "metadata": {},
   "source": [
    "This is our improved accuracy from model.In the end, we can submit these results to our final submission data file"
   ]
  },
  {
   "cell_type": "markdown",
   "metadata": {
    "colab_type": "text",
    "id": "ldvDx7DPUErC"
   },
   "source": [
    "**END OF NOTEBOOK**"
   ]
  }
 ],
 "metadata": {
  "accelerator": "GPU",
  "colab": {
   "collapsed_sections": [],
   "name": "3.Model.ipynb",
   "provenance": []
  },
  "kernelspec": {
   "display_name": "Python 3",
   "language": "python",
   "name": "python3"
  },
  "language_info": {
   "codemirror_mode": {
    "name": "ipython",
    "version": 3
   },
   "file_extension": ".py",
   "mimetype": "text/x-python",
   "name": "python",
   "nbconvert_exporter": "python",
   "pygments_lexer": "ipython3",
   "version": "3.7.5"
  }
 },
 "nbformat": 4,
 "nbformat_minor": 1
}
