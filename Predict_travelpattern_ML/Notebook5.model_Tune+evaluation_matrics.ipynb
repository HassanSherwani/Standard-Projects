{
 "cells": [
  {
   "cell_type": "markdown",
   "metadata": {
    "colab_type": "text",
    "id": "Qp6Jzx49W_ta"
   },
   "source": [
    "# Prediction of customers' travel pattern\n",
    "\n",
    "- Tune ML models\n",
    "- Using Logistic Clf\n",
    "- Discussing evaluation metrics"
   ]
  },
  {
   "cell_type": "markdown",
   "metadata": {},
   "source": [
    "# 1)-Importing key modules"
   ]
  },
  {
   "cell_type": "code",
   "execution_count": 1,
   "metadata": {
    "colab": {},
    "colab_type": "code",
    "id": "4V11g1goXDyF"
   },
   "outputs": [],
   "source": [
    "import warnings\n",
    "warnings.filterwarnings('ignore')\n",
    "# For processing\n",
    "import matplotlib.pyplot as plt\n",
    "import pandas as pd\n",
    "import numpy as np\n",
    "import scipy\n",
    "from collections import Counter\n",
    "import datetime as dt\n",
    "from datetime import datetime\n",
    "import seaborn as sns\n",
    "from pprint import pprint\n",
    "%matplotlib inline\n"
   ]
  },
  {
   "cell_type": "code",
   "execution_count": 2,
   "metadata": {},
   "outputs": [
    {
     "name": "stderr",
     "output_type": "stream",
     "text": [
      "Using TensorFlow backend.\n"
     ]
    }
   ],
   "source": [
    "# For modeling building and tunning\n",
    "from sklearn.model_selection import train_test_split\n",
    "from sklearn.preprocessing import StandardScaler\n",
    "from sklearn.model_selection import StratifiedKFold\n",
    "from sklearn.ensemble import RandomForestClassifier\n",
    "from sklearn.linear_model import LogisticRegression\n",
    "from sklearn.model_selection import GridSearchCV, StratifiedKFold\n",
    "from imblearn.under_sampling import NearMiss"
   ]
  },
  {
   "cell_type": "code",
   "execution_count": 3,
   "metadata": {},
   "outputs": [],
   "source": [
    "# for evaluation\n",
    "from sklearn import metrics\n",
    "from yellowbrick.model_selection import FeatureImportances\n",
    "from sklearn.metrics import f1_score\n",
    "from sklearn.metrics import accuracy_score\n",
    "from sklearn.metrics import roc_auc_score\n",
    "from sklearn.metrics import recall_score\n",
    "from sklearn.metrics import classification_report\n",
    "from sklearn.metrics import confusion_matrix\n",
    "from sklearn.metrics import roc_curve\n",
    "from sklearn.metrics import auc"
   ]
  },
  {
   "cell_type": "markdown",
   "metadata": {},
   "source": [
    "# 2)-Loading & Processing data"
   ]
  },
  {
   "cell_type": "code",
   "execution_count": 5,
   "metadata": {},
   "outputs": [
    {
     "data": {
      "text/plain": [
       "(45805, 514)"
      ]
     },
     "execution_count": 5,
     "metadata": {},
     "output_type": "execute_result"
    }
   ],
   "source": [
    "df = pd.read_csv('updated_feature.csv')\n",
    "df.shape"
   ]
  },
  {
   "cell_type": "code",
   "execution_count": 6,
   "metadata": {},
   "outputs": [
    {
     "data": {
      "text/html": [
       "<div>\n",
       "<style scoped>\n",
       "    .dataframe tbody tr th:only-of-type {\n",
       "        vertical-align: middle;\n",
       "    }\n",
       "\n",
       "    .dataframe tbody tr th {\n",
       "        vertical-align: top;\n",
       "    }\n",
       "\n",
       "    .dataframe thead th {\n",
       "        text-align: right;\n",
       "    }\n",
       "</style>\n",
       "<table border=\"1\" class=\"dataframe\">\n",
       "  <thead>\n",
       "    <tr style=\"text-align: right;\">\n",
       "      <th></th>\n",
       "      <th>event_type</th>\n",
       "      <th>distance</th>\n",
       "      <th>num_family</th>\n",
       "      <th>len_jour</th>\n",
       "      <th>origin_ADB</th>\n",
       "      <th>origin_ADL</th>\n",
       "      <th>origin_AER</th>\n",
       "      <th>origin_AGP</th>\n",
       "      <th>origin_AKL</th>\n",
       "      <th>origin_ALA</th>\n",
       "      <th>...</th>\n",
       "      <th>dest_YEG</th>\n",
       "      <th>dest_YMQ</th>\n",
       "      <th>dest_YOW</th>\n",
       "      <th>dest_YTO</th>\n",
       "      <th>dest_YUL</th>\n",
       "      <th>dest_YVR</th>\n",
       "      <th>dest_YWG</th>\n",
       "      <th>dest_YYC</th>\n",
       "      <th>dest_YYZ</th>\n",
       "      <th>dest_ZRH</th>\n",
       "    </tr>\n",
       "  </thead>\n",
       "  <tbody>\n",
       "    <tr>\n",
       "      <th>0</th>\n",
       "      <td>0</td>\n",
       "      <td>5834.154716</td>\n",
       "      <td>7</td>\n",
       "      <td>6.0</td>\n",
       "      <td>0</td>\n",
       "      <td>0</td>\n",
       "      <td>0</td>\n",
       "      <td>0</td>\n",
       "      <td>0</td>\n",
       "      <td>0</td>\n",
       "      <td>...</td>\n",
       "      <td>0</td>\n",
       "      <td>0</td>\n",
       "      <td>0</td>\n",
       "      <td>0</td>\n",
       "      <td>0</td>\n",
       "      <td>0</td>\n",
       "      <td>0</td>\n",
       "      <td>0</td>\n",
       "      <td>0</td>\n",
       "      <td>0</td>\n",
       "    </tr>\n",
       "    <tr>\n",
       "      <th>1</th>\n",
       "      <td>1</td>\n",
       "      <td>6525.926149</td>\n",
       "      <td>4</td>\n",
       "      <td>21.0</td>\n",
       "      <td>0</td>\n",
       "      <td>0</td>\n",
       "      <td>0</td>\n",
       "      <td>0</td>\n",
       "      <td>0</td>\n",
       "      <td>0</td>\n",
       "      <td>...</td>\n",
       "      <td>0</td>\n",
       "      <td>0</td>\n",
       "      <td>0</td>\n",
       "      <td>0</td>\n",
       "      <td>0</td>\n",
       "      <td>0</td>\n",
       "      <td>0</td>\n",
       "      <td>0</td>\n",
       "      <td>0</td>\n",
       "      <td>0</td>\n",
       "    </tr>\n",
       "    <tr>\n",
       "      <th>2</th>\n",
       "      <td>1</td>\n",
       "      <td>469.781624</td>\n",
       "      <td>2</td>\n",
       "      <td>3.0</td>\n",
       "      <td>0</td>\n",
       "      <td>0</td>\n",
       "      <td>0</td>\n",
       "      <td>0</td>\n",
       "      <td>0</td>\n",
       "      <td>0</td>\n",
       "      <td>...</td>\n",
       "      <td>0</td>\n",
       "      <td>0</td>\n",
       "      <td>0</td>\n",
       "      <td>0</td>\n",
       "      <td>0</td>\n",
       "      <td>0</td>\n",
       "      <td>0</td>\n",
       "      <td>0</td>\n",
       "      <td>0</td>\n",
       "      <td>0</td>\n",
       "    </tr>\n",
       "    <tr>\n",
       "      <th>3</th>\n",
       "      <td>1</td>\n",
       "      <td>1498.817537</td>\n",
       "      <td>1</td>\n",
       "      <td>3.0</td>\n",
       "      <td>0</td>\n",
       "      <td>0</td>\n",
       "      <td>0</td>\n",
       "      <td>0</td>\n",
       "      <td>0</td>\n",
       "      <td>0</td>\n",
       "      <td>...</td>\n",
       "      <td>0</td>\n",
       "      <td>0</td>\n",
       "      <td>0</td>\n",
       "      <td>0</td>\n",
       "      <td>0</td>\n",
       "      <td>0</td>\n",
       "      <td>0</td>\n",
       "      <td>0</td>\n",
       "      <td>0</td>\n",
       "      <td>0</td>\n",
       "    </tr>\n",
       "    <tr>\n",
       "      <th>4</th>\n",
       "      <td>1</td>\n",
       "      <td>2921.339028</td>\n",
       "      <td>4</td>\n",
       "      <td>6.0</td>\n",
       "      <td>0</td>\n",
       "      <td>0</td>\n",
       "      <td>0</td>\n",
       "      <td>0</td>\n",
       "      <td>0</td>\n",
       "      <td>0</td>\n",
       "      <td>...</td>\n",
       "      <td>0</td>\n",
       "      <td>0</td>\n",
       "      <td>0</td>\n",
       "      <td>0</td>\n",
       "      <td>0</td>\n",
       "      <td>0</td>\n",
       "      <td>0</td>\n",
       "      <td>0</td>\n",
       "      <td>0</td>\n",
       "      <td>0</td>\n",
       "    </tr>\n",
       "  </tbody>\n",
       "</table>\n",
       "<p>5 rows × 514 columns</p>\n",
       "</div>"
      ],
      "text/plain": [
       "   event_type     distance  num_family  len_jour  origin_ADB  origin_ADL  \\\n",
       "0           0  5834.154716           7       6.0           0           0   \n",
       "1           1  6525.926149           4      21.0           0           0   \n",
       "2           1   469.781624           2       3.0           0           0   \n",
       "3           1  1498.817537           1       3.0           0           0   \n",
       "4           1  2921.339028           4       6.0           0           0   \n",
       "\n",
       "   origin_AER  origin_AGP  origin_AKL  origin_ALA  ...  dest_YEG  dest_YMQ  \\\n",
       "0           0           0           0           0  ...         0         0   \n",
       "1           0           0           0           0  ...         0         0   \n",
       "2           0           0           0           0  ...         0         0   \n",
       "3           0           0           0           0  ...         0         0   \n",
       "4           0           0           0           0  ...         0         0   \n",
       "\n",
       "   dest_YOW  dest_YTO  dest_YUL  dest_YVR  dest_YWG  dest_YYC  dest_YYZ  \\\n",
       "0         0         0         0         0         0         0         0   \n",
       "1         0         0         0         0         0         0         0   \n",
       "2         0         0         0         0         0         0         0   \n",
       "3         0         0         0         0         0         0         0   \n",
       "4         0         0         0         0         0         0         0   \n",
       "\n",
       "   dest_ZRH  \n",
       "0         0  \n",
       "1         0  \n",
       "2         0  \n",
       "3         0  \n",
       "4         0  \n",
       "\n",
       "[5 rows x 514 columns]"
      ]
     },
     "execution_count": 6,
     "metadata": {},
     "output_type": "execute_result"
    }
   ],
   "source": [
    "df.head()"
   ]
  },
  {
   "cell_type": "code",
   "execution_count": 7,
   "metadata": {},
   "outputs": [],
   "source": [
    "df_model=df.copy()"
   ]
  },
  {
   "cell_type": "code",
   "execution_count": 8,
   "metadata": {},
   "outputs": [],
   "source": [
    "y=df_model[\"event_type\"]\n",
    "features=df_model.drop(['event_type'], axis=1)\n",
    "X = StandardScaler().fit_transform(features)\n",
    "X_train, X_test, y_train, y_test = train_test_split(X, y, test_size=0.3, random_state=0)\n",
    "nm = NearMiss()\n",
    "X_under,y_under=nm.fit_sample(X_train,y_train)\n",
    "# Logistic Classifeir\n",
    "logreg = LogisticRegression()\n",
    "logreg.fit(X_under, y_under)\n",
    "predictions_LR = logreg.predict(X_test)"
   ]
  },
  {
   "cell_type": "markdown",
   "metadata": {},
   "source": [
    "# 3)-Evaluation "
   ]
  },
  {
   "cell_type": "code",
   "execution_count": 9,
   "metadata": {},
   "outputs": [
    {
     "name": "stdout",
     "output_type": "stream",
     "text": [
      "Original dataset shape Counter({0: 30780, 1: 1283})\n",
      "Over-sampled dataset shape Counter({0: 1283, 1: 1283})\n"
     ]
    }
   ],
   "source": [
    "from collections import Counter\n",
    "print('Original dataset shape {}'.format(Counter(y_train)))\n",
    "print('Over-sampled dataset shape {}'.format(Counter(y_under)))"
   ]
  },
  {
   "cell_type": "code",
   "execution_count": 10,
   "metadata": {},
   "outputs": [
    {
     "data": {
      "text/plain": [
       "0    13217\n",
       "1      525\n",
       "Name: event_type, dtype: int64"
      ]
     },
     "execution_count": 10,
     "metadata": {},
     "output_type": "execute_result"
    }
   ],
   "source": [
    "y_test.value_counts()"
   ]
  },
  {
   "cell_type": "code",
   "execution_count": 11,
   "metadata": {},
   "outputs": [
    {
     "name": "stdout",
     "output_type": "stream",
     "text": [
      "(13742, 513)\n"
     ]
    }
   ],
   "source": [
    "print(X_test.shape)"
   ]
  },
  {
   "cell_type": "code",
   "execution_count": 12,
   "metadata": {},
   "outputs": [
    {
     "name": "stdout",
     "output_type": "stream",
     "text": [
      "0.20906709358172026\n"
     ]
    }
   ],
   "source": [
    "print(accuracy_score(predictions_LR,y_test))"
   ]
  },
  {
   "cell_type": "code",
   "execution_count": 13,
   "metadata": {},
   "outputs": [
    {
     "name": "stdout",
     "output_type": "stream",
     "text": [
      "              precision    recall  f1-score   support\n",
      "\n",
      "           0       0.19      0.95      0.31      2628\n",
      "           1       0.73      0.03      0.07     11114\n",
      "\n",
      "    accuracy                           0.21     13742\n",
      "   macro avg       0.46      0.49      0.19     13742\n",
      "weighted avg       0.63      0.21      0.11     13742\n",
      "\n"
     ]
    }
   ],
   "source": [
    "print(classification_report(predictions_LR,y_test))"
   ]
  },
  {
   "cell_type": "markdown",
   "metadata": {},
   "source": [
    "So far, I have used classification report to show results and kept \"Precicision\" for main matrics of evaluation. It is time to open bag and let \"cat\" out of it. **Why did I choose precision as matrics of evaluation for this very case?**"
   ]
  },
  {
   "cell_type": "markdown",
   "metadata": {},
   "source": [
    "### 3.1- Confusion matrix\n",
    "\n",
    "A confusion matrix is a table that is often used to describe the performance of a classification model (or \"classifier\") on a set of test data for which the true values are known.\n",
    "Key matrix elements are:\n",
    "\n",
    "- true positives (TP): These are cases in which we predicted yes (booking events), and actually they do have booked events. \n",
    "- true negatives (TN): We predicted booking events from customers,actually they were search ones.\n",
    "- false positives (FP): We predicted booking events from customers, but actually they were search ones. (Also known as a \"Type I error.\")\n",
    "- false negatives (FN): We predicted search events.Those were rather booking event types. (Also known as a \"Type II error.\")"
   ]
  },
  {
   "cell_type": "code",
   "execution_count": 14,
   "metadata": {},
   "outputs": [
    {
     "data": {
      "text/plain": [
       "array([[ 2488,   140],\n",
       "       [10729,   385]])"
      ]
     },
     "execution_count": 14,
     "metadata": {},
     "output_type": "execute_result"
    }
   ],
   "source": [
    "cm = confusion_matrix(predictions_LR,y_test)\n",
    "cm"
   ]
  },
  {
   "cell_type": "markdown",
   "metadata": {},
   "source": [
    "What does it mean?\n",
    "\n",
    "- Our test sample is 13742 where we have know we have 13217 search event samples and 525 booking event samples.\n",
    "- Our model has low accuracy score of 21% meaning it will pick only 3,023 correct predicts and rest are not predicted wel enough. This is not a good score. It happened because we let alot of values go in our training data and now we have more of thin data. But, there is one reason for that\n",
    "- As we have assumed that our organization is not short of data. We need a model which could predict a classifier for conversion-likelihood. If we wanted a model that would predict search and booking events then we would go for over sampling option to increase data samples.\n",
    "- we will not consider accuracy as our matrics of evaluation. We are not bothered if we have lower accuracy. We want to know how well our model predicts booking event instances.\n",
    "\n",
    "Few words for confusion matrix now\n",
    "\n",
    "- Above matrix shows that we have 385 instances where we predicted that samples are booking activities and they were actually booking event instances. They are called True positives. So, out of 525 , we picked 385 correct meaning we get 73% precision in getting right booking instances. Not bad !!!\n",
    "\n",
    "- We have 140 cases where our model predicts search instances and they actually were booking events.This prediction error is serious for us. Luckily , we have mistake of around 26% in our model which is not a very high weightage.We shall see one way to improve this outcome later using roc-auc curve. If we more data then this could improve as well. So, this approach is working well for booking instances.\n",
    "\n",
    "- For search instances, our model didn't do very well as we were not much concerned. We predicted search cases as correct with 2488 sample almost 19%. But, for mistakes..... we had 81% wrong prediction i.e 10729 cases. These are alot . One should expect as we had lower accuracy overall hence, our model is more precise in getting booking instances than search events.\n",
    "\n",
    "- This is the exact why we chose \"Precision\" as evaluation matric compared to other. "
   ]
  },
  {
   "cell_type": "code",
   "execution_count": 15,
   "metadata": {},
   "outputs": [],
   "source": [
    "# slice confusion matrix into four pieces\n",
    "TP = cm[1, 1]\n",
    "TN = cm[0, 0]\n",
    "FP = cm[0, 1]\n",
    "FN = cm[1, 0]"
   ]
  },
  {
   "cell_type": "markdown",
   "metadata": {},
   "source": [
    "#### Matrix for Precision"
   ]
  },
  {
   "cell_type": "code",
   "execution_count": 16,
   "metadata": {},
   "outputs": [
    {
     "data": {
      "text/plain": [
       "array([[0.18824242, 0.26666667],\n",
       "       [0.81175758, 0.73333333]])"
      ]
     },
     "execution_count": 16,
     "metadata": {},
     "output_type": "execute_result"
    }
   ],
   "source": [
    "P =(cm/cm.sum(axis=0))\n",
    "P"
   ]
  },
  {
   "cell_type": "markdown",
   "metadata": {},
   "source": [
    "### 3.2. Recall"
   ]
  },
  {
   "cell_type": "code",
   "execution_count": 17,
   "metadata": {},
   "outputs": [
    {
     "name": "stdout",
     "output_type": "stream",
     "text": [
      "0.03464099334173115\n",
      "0.03464099334173115\n"
     ]
    }
   ],
   "source": [
    "print(TP / float(TP + FN))\n",
    "print(recall_score(predictions_LR,y_test ))"
   ]
  },
  {
   "cell_type": "markdown",
   "metadata": {},
   "source": [
    "- We get very low recall score. This is for booking events If we were to choose better recall focus on search events then we would have chosen recall(1-3.5=96.5% for search class)."
   ]
  },
  {
   "cell_type": "markdown",
   "metadata": {},
   "source": [
    "### 3.3. Specificity\n",
    "When the actual value is negative, how often is the prediction correct? <br>\n",
    "How \"specific\" (or \"selective\") is the classifier?"
   ]
  },
  {
   "cell_type": "code",
   "execution_count": 18,
   "metadata": {},
   "outputs": [
    {
     "name": "stdout",
     "output_type": "stream",
     "text": [
      "0.9467275494672754\n"
     ]
    }
   ],
   "source": [
    "# score for booking class \n",
    "print(TN / float(TN + FP))"
   ]
  },
  {
   "cell_type": "markdown",
   "metadata": {},
   "source": [
    "### 3.4. Precision\n",
    "When a positive value is predicted, how often is the prediction correct?<br>\n",
    "How \"precise\" is the classifier when predicting positive instances?"
   ]
  },
  {
   "cell_type": "code",
   "execution_count": 19,
   "metadata": {},
   "outputs": [
    {
     "name": "stdout",
     "output_type": "stream",
     "text": [
      "0.7333333333333333\n",
      "0.7333333333333333\n"
     ]
    }
   ],
   "source": [
    "# for class type booking\n",
    "print(TP / float(TP + FP))\n",
    "print(metrics.precision_score(predictions_LR, y_test))"
   ]
  },
  {
   "cell_type": "markdown",
   "metadata": {},
   "source": [
    "Obviously for search event type we can use 1-74= 26% shown in matrix for precision as well"
   ]
  },
  {
   "cell_type": "markdown",
   "metadata": {},
   "source": [
    "# 3.GridSearchCV using Log Classifier Model"
   ]
  },
  {
   "cell_type": "code",
   "execution_count": 20,
   "metadata": {},
   "outputs": [],
   "source": [
    "y=df_model[\"event_type\"]\n",
    "features=df_model.drop(['event_type'], axis=1)\n",
    "X = StandardScaler().fit_transform(features)\n",
    "nm = NearMiss()\n",
    "X_under,y_under=nm.fit_sample(X,y)"
   ]
  },
  {
   "cell_type": "code",
   "execution_count": 21,
   "metadata": {},
   "outputs": [],
   "source": [
    "lr = LogisticRegression(random_state=5, class_weight='balanced',penalty='l2')"
   ]
  },
  {
   "cell_type": "code",
   "execution_count": 22,
   "metadata": {},
   "outputs": [],
   "source": [
    "dual=[True,False]\n",
    "max_iter=[100,110,120,130,140]\n",
    "C = [1.0,1.5,2.0,2.5]\n",
    "param_grid = dict(dual=dual,max_iter=max_iter,C=C)"
   ]
  },
  {
   "cell_type": "code",
   "execution_count": 23,
   "metadata": {},
   "outputs": [],
   "source": [
    "skf = StratifiedKFold(n_splits=5, shuffle=True, random_state=5)"
   ]
  },
  {
   "cell_type": "code",
   "execution_count": 24,
   "metadata": {},
   "outputs": [
    {
     "data": {
      "text/plain": [
       "LogisticRegression(C=2.0, class_weight='balanced', dual=False,\n",
       "                   fit_intercept=True, intercept_scaling=1, l1_ratio=None,\n",
       "                   max_iter=110, multi_class='auto', n_jobs=None, penalty='l2',\n",
       "                   random_state=5, solver='lbfgs', tol=0.0001, verbose=0,\n",
       "                   warm_start=False)"
      ]
     },
     "execution_count": 24,
     "metadata": {},
     "output_type": "execute_result"
    }
   ],
   "source": [
    "grid_search = GridSearchCV(lr,param_grid, n_jobs=-1, scoring='precision', cv=skf)\n",
    "grid_search = grid_search.fit(X, y)\n",
    "grid_search.best_estimator_"
   ]
  },
  {
   "cell_type": "code",
   "execution_count": 25,
   "metadata": {},
   "outputs": [
    {
     "data": {
      "text/plain": [
       "0.05392323797230615"
      ]
     },
     "execution_count": 25,
     "metadata": {},
     "output_type": "execute_result"
    }
   ],
   "source": [
    "grid_search.best_score_"
   ]
  },
  {
   "cell_type": "markdown",
   "metadata": {},
   "source": [
    "this is consistent with previous notebook K-fold.mean() for other ML model"
   ]
  },
  {
   "cell_type": "code",
   "execution_count": 26,
   "metadata": {},
   "outputs": [
    {
     "name": "stdout",
     "output_type": "stream",
     "text": [
      "tuned hpyerparameters :(best parameters)  {'C': 2.0, 'dual': False, 'max_iter': 110}\n"
     ]
    }
   ],
   "source": [
    "print(\"tuned hpyerparameters :(best parameters) \",grid_search.best_params_)"
   ]
  },
  {
   "cell_type": "code",
   "execution_count": 27,
   "metadata": {},
   "outputs": [
    {
     "data": {
      "text/plain": [
       "LogisticRegression(C=2.0, class_weight='balanced', dual=False,\n",
       "                   fit_intercept=True, intercept_scaling=1, l1_ratio=None,\n",
       "                   max_iter=110, multi_class='auto', n_jobs=None, penalty='l2',\n",
       "                   random_state=5, solver='lbfgs', tol=0.0001, verbose=0,\n",
       "                   warm_start=False)"
      ]
     },
     "execution_count": 27,
     "metadata": {},
     "output_type": "execute_result"
    }
   ],
   "source": [
    "grid_search.best_estimator_"
   ]
  },
  {
   "cell_type": "code",
   "execution_count": 28,
   "metadata": {},
   "outputs": [
    {
     "data": {
      "text/plain": [
       "{'mean_fit_time': array([ 2.06494093,  2.07871528,  1.20980105,  0.63330898,  0.63135743,\n",
       "        21.73921485, 22.83052139, 24.1044755 , 25.02190704, 23.97391329,\n",
       "         2.11781273,  1.20654426,  0.9572154 ,  0.89981174,  0.8984704 ,\n",
       "        21.70101256, 23.21017275, 25.42854195, 27.36320181, 24.69219861,\n",
       "         2.05428205,  1.12290831,  0.97095017,  0.87859759,  0.86392589,\n",
       "        21.61263895, 23.24171391, 25.83050027, 27.3104764 , 21.59256806,\n",
       "         1.9586103 ,  1.20591726,  1.06274199,  1.01903443,  0.9253274 ,\n",
       "        21.64100537, 24.39161019, 25.18763304, 25.9007268 , 21.01842799]),\n",
       " 'std_fit_time': array([0.0224312 , 0.01516744, 0.72165741, 0.01295004, 0.04564048,\n",
       "        0.2825195 , 0.44627378, 1.5833119 , 2.24084722, 3.12212769,\n",
       "        0.48765264, 0.18651162, 0.05895899, 0.01498743, 0.01737651,\n",
       "        0.32507751, 0.17753481, 0.59711192, 0.66899057, 3.64201358,\n",
       "        0.2821729 , 0.13876349, 0.04216614, 0.017104  , 0.01638466,\n",
       "        0.41597817, 0.15630716, 0.27820204, 0.44703298, 5.84131803,\n",
       "        0.60992554, 0.023398  , 0.04132259, 0.02108627, 0.03206828,\n",
       "        0.57515642, 0.50806818, 1.4522816 , 1.3371252 , 6.40561201]),\n",
       " 'mean_score_time': array([0.        , 0.        , 0.        , 0.        , 0.        ,\n",
       "        0.06414337, 0.03051596, 0.07143645, 0.05184083, 0.04300108,\n",
       "        0.        , 0.        , 0.        , 0.        , 0.        ,\n",
       "        0.06749129, 0.03439851, 0.0717308 , 0.04901748, 0.04852743,\n",
       "        0.        , 0.        , 0.        , 0.        , 0.        ,\n",
       "        0.06679206, 0.04137363, 0.08795352, 0.05935674, 0.11118693,\n",
       "        0.        , 0.        , 0.        , 0.        , 0.        ,\n",
       "        0.14179654, 0.06690922, 0.0798768 , 0.05652494, 0.02414441]),\n",
       " 'std_score_time': array([0.        , 0.        , 0.        , 0.        , 0.        ,\n",
       "        0.00739839, 0.01300128, 0.0159431 , 0.02208268, 0.01783508,\n",
       "        0.        , 0.        , 0.        , 0.        , 0.        ,\n",
       "        0.00479058, 0.00423616, 0.0182123 , 0.01105112, 0.02824992,\n",
       "        0.        , 0.        , 0.        , 0.        , 0.        ,\n",
       "        0.0089983 , 0.00899527, 0.01969538, 0.01650046, 0.12417174,\n",
       "        0.        , 0.        , 0.        , 0.        , 0.        ,\n",
       "        0.09303957, 0.01649853, 0.00912738, 0.0175296 , 0.01149935]),\n",
       " 'param_C': masked_array(data=[1.0, 1.0, 1.0, 1.0, 1.0, 1.0, 1.0, 1.0, 1.0, 1.0, 1.5,\n",
       "                    1.5, 1.5, 1.5, 1.5, 1.5, 1.5, 1.5, 1.5, 1.5, 2.0, 2.0,\n",
       "                    2.0, 2.0, 2.0, 2.0, 2.0, 2.0, 2.0, 2.0, 2.5, 2.5, 2.5,\n",
       "                    2.5, 2.5, 2.5, 2.5, 2.5, 2.5, 2.5],\n",
       "              mask=[False, False, False, False, False, False, False, False,\n",
       "                    False, False, False, False, False, False, False, False,\n",
       "                    False, False, False, False, False, False, False, False,\n",
       "                    False, False, False, False, False, False, False, False,\n",
       "                    False, False, False, False, False, False, False, False],\n",
       "        fill_value='?',\n",
       "             dtype=object),\n",
       " 'param_dual': masked_array(data=[True, True, True, True, True, False, False, False,\n",
       "                    False, False, True, True, True, True, True, False,\n",
       "                    False, False, False, False, True, True, True, True,\n",
       "                    True, False, False, False, False, False, True, True,\n",
       "                    True, True, True, False, False, False, False, False],\n",
       "              mask=[False, False, False, False, False, False, False, False,\n",
       "                    False, False, False, False, False, False, False, False,\n",
       "                    False, False, False, False, False, False, False, False,\n",
       "                    False, False, False, False, False, False, False, False,\n",
       "                    False, False, False, False, False, False, False, False],\n",
       "        fill_value='?',\n",
       "             dtype=object),\n",
       " 'param_max_iter': masked_array(data=[100, 110, 120, 130, 140, 100, 110, 120, 130, 140, 100,\n",
       "                    110, 120, 130, 140, 100, 110, 120, 130, 140, 100, 110,\n",
       "                    120, 130, 140, 100, 110, 120, 130, 140, 100, 110, 120,\n",
       "                    130, 140, 100, 110, 120, 130, 140],\n",
       "              mask=[False, False, False, False, False, False, False, False,\n",
       "                    False, False, False, False, False, False, False, False,\n",
       "                    False, False, False, False, False, False, False, False,\n",
       "                    False, False, False, False, False, False, False, False,\n",
       "                    False, False, False, False, False, False, False, False],\n",
       "        fill_value='?',\n",
       "             dtype=object),\n",
       " 'params': [{'C': 1.0, 'dual': True, 'max_iter': 100},\n",
       "  {'C': 1.0, 'dual': True, 'max_iter': 110},\n",
       "  {'C': 1.0, 'dual': True, 'max_iter': 120},\n",
       "  {'C': 1.0, 'dual': True, 'max_iter': 130},\n",
       "  {'C': 1.0, 'dual': True, 'max_iter': 140},\n",
       "  {'C': 1.0, 'dual': False, 'max_iter': 100},\n",
       "  {'C': 1.0, 'dual': False, 'max_iter': 110},\n",
       "  {'C': 1.0, 'dual': False, 'max_iter': 120},\n",
       "  {'C': 1.0, 'dual': False, 'max_iter': 130},\n",
       "  {'C': 1.0, 'dual': False, 'max_iter': 140},\n",
       "  {'C': 1.5, 'dual': True, 'max_iter': 100},\n",
       "  {'C': 1.5, 'dual': True, 'max_iter': 110},\n",
       "  {'C': 1.5, 'dual': True, 'max_iter': 120},\n",
       "  {'C': 1.5, 'dual': True, 'max_iter': 130},\n",
       "  {'C': 1.5, 'dual': True, 'max_iter': 140},\n",
       "  {'C': 1.5, 'dual': False, 'max_iter': 100},\n",
       "  {'C': 1.5, 'dual': False, 'max_iter': 110},\n",
       "  {'C': 1.5, 'dual': False, 'max_iter': 120},\n",
       "  {'C': 1.5, 'dual': False, 'max_iter': 130},\n",
       "  {'C': 1.5, 'dual': False, 'max_iter': 140},\n",
       "  {'C': 2.0, 'dual': True, 'max_iter': 100},\n",
       "  {'C': 2.0, 'dual': True, 'max_iter': 110},\n",
       "  {'C': 2.0, 'dual': True, 'max_iter': 120},\n",
       "  {'C': 2.0, 'dual': True, 'max_iter': 130},\n",
       "  {'C': 2.0, 'dual': True, 'max_iter': 140},\n",
       "  {'C': 2.0, 'dual': False, 'max_iter': 100},\n",
       "  {'C': 2.0, 'dual': False, 'max_iter': 110},\n",
       "  {'C': 2.0, 'dual': False, 'max_iter': 120},\n",
       "  {'C': 2.0, 'dual': False, 'max_iter': 130},\n",
       "  {'C': 2.0, 'dual': False, 'max_iter': 140},\n",
       "  {'C': 2.5, 'dual': True, 'max_iter': 100},\n",
       "  {'C': 2.5, 'dual': True, 'max_iter': 110},\n",
       "  {'C': 2.5, 'dual': True, 'max_iter': 120},\n",
       "  {'C': 2.5, 'dual': True, 'max_iter': 130},\n",
       "  {'C': 2.5, 'dual': True, 'max_iter': 140},\n",
       "  {'C': 2.5, 'dual': False, 'max_iter': 100},\n",
       "  {'C': 2.5, 'dual': False, 'max_iter': 110},\n",
       "  {'C': 2.5, 'dual': False, 'max_iter': 120},\n",
       "  {'C': 2.5, 'dual': False, 'max_iter': 130},\n",
       "  {'C': 2.5, 'dual': False, 'max_iter': 140}],\n",
       " 'split0_test_score': array([       nan,        nan,        nan,        nan,        nan,\n",
       "        0.05508366, 0.05509784, 0.05509784, 0.05511203, 0.05516886,\n",
       "               nan,        nan,        nan,        nan,        nan,\n",
       "        0.05509784, 0.05508366, 0.05508366, 0.05509784, 0.05508366,\n",
       "               nan,        nan,        nan,        nan,        nan,\n",
       "        0.05512622, 0.05514043, 0.05512622, 0.05512622, 0.05512622,\n",
       "               nan,        nan,        nan,        nan,        nan,\n",
       "        0.05511203, 0.05514043, 0.05514043, 0.05514043, 0.05514043]),\n",
       " 'split1_test_score': array([       nan,        nan,        nan,        nan,        nan,\n",
       "        0.05284657, 0.0528196 , 0.05284657, 0.05284657, 0.05284657,\n",
       "               nan,        nan,        nan,        nan,        nan,\n",
       "        0.05284657, 0.05284657, 0.05286006, 0.05286006, 0.05286006,\n",
       "               nan,        nan,        nan,        nan,        nan,\n",
       "        0.05286006, 0.05286006, 0.05286006, 0.05286006, 0.05286006,\n",
       "               nan,        nan,        nan,        nan,        nan,\n",
       "        0.05284657, 0.05284657, 0.05286006, 0.05286006, 0.05286006]),\n",
       " 'split2_test_score': array([       nan,        nan,        nan,        nan,        nan,\n",
       "        0.05329234, 0.05329234, 0.05329234, 0.05329234, 0.05329234,\n",
       "               nan,        nan,        nan,        nan,        nan,\n",
       "        0.053306  , 0.053306  , 0.053306  , 0.053306  , 0.053306  ,\n",
       "               nan,        nan,        nan,        nan,        nan,\n",
       "        0.05329234, 0.053306  , 0.05329234, 0.053306  , 0.053306  ,\n",
       "               nan,        nan,        nan,        nan,        nan,\n",
       "        0.053306  , 0.05329234, 0.05329234, 0.05329234, 0.05329234]),\n",
       " 'split3_test_score': array([       nan,        nan,        nan,        nan,        nan,\n",
       "        0.05175506, 0.05176832, 0.05176832, 0.05176832, 0.05178159,\n",
       "               nan,        nan,        nan,        nan,        nan,\n",
       "        0.05176832, 0.05179487, 0.05178159, 0.05178159, 0.05178159,\n",
       "               nan,        nan,        nan,        nan,        nan,\n",
       "        0.05178159, 0.05180816, 0.05179487, 0.05179487, 0.05179487,\n",
       "               nan,        nan,        nan,        nan,        nan,\n",
       "        0.05182145, 0.05179487, 0.05180816, 0.05180816, 0.05180816]),\n",
       " 'split4_test_score': array([       nan,        nan,        nan,        nan,        nan,\n",
       "        0.05650155, 0.05647241, 0.05650155, 0.05650155, 0.05650155,\n",
       "               nan,        nan,        nan,        nan,        nan,\n",
       "        0.05650155, 0.05650155, 0.05650155, 0.05651613, 0.05650155,\n",
       "               nan,        nan,        nan,        nan,        nan,\n",
       "        0.05647241, 0.05650155, 0.05650155, 0.05650155, 0.05650155,\n",
       "               nan,        nan,        nan,        nan,        nan,\n",
       "        0.05650155, 0.05650155, 0.05650155, 0.05650155, 0.05650155]),\n",
       " 'mean_test_score': array([       nan,        nan,        nan,        nan,        nan,\n",
       "        0.05389583, 0.0538901 , 0.05390132, 0.05390416, 0.05391818,\n",
       "               nan,        nan,        nan,        nan,        nan,\n",
       "        0.05390405, 0.05390653, 0.05390657, 0.05391232, 0.05390657,\n",
       "               nan,        nan,        nan,        nan,        nan,\n",
       "        0.05390653, 0.05392324, 0.05391501, 0.05391774, 0.05391774,\n",
       "               nan,        nan,        nan,        nan,        nan,\n",
       "        0.05391752, 0.05391515, 0.05392051, 0.05392051, 0.05392051]),\n",
       " 'std_test_score': array([       nan,        nan,        nan,        nan,        nan,\n",
       "        0.00168812, 0.0016812 , 0.00168676, 0.00168879, 0.0016937 ,\n",
       "               nan,        nan,        nan,        nan,        nan,\n",
       "        0.00168579, 0.00167708, 0.00167874, 0.00168524, 0.00167874,\n",
       "               nan,        nan,        nan,        nan,        nan,\n",
       "        0.00167685, 0.00168013, 0.00168243, 0.00168143, 0.00168143,\n",
       "               nan,        nan,        nan,        nan,        nan,\n",
       "        0.00167442, 0.00168619, 0.00168114, 0.00168114, 0.00168114]),\n",
       " 'rank_test_score': array([40, 21, 22, 23, 29, 19, 20, 18, 16,  5, 36, 37, 39, 30, 38, 17, 14,\n",
       "        12, 11, 12, 35, 34, 33, 32, 31, 15,  1, 10,  6,  6, 28, 27, 26, 25,\n",
       "        24,  8,  9,  2,  2,  2], dtype=int32)}"
      ]
     },
     "execution_count": 28,
     "metadata": {},
     "output_type": "execute_result"
    }
   ],
   "source": [
    "grid_search.cv_results_"
   ]
  },
  {
   "cell_type": "markdown",
   "metadata": {},
   "source": [
    "# 4)-predict_proba"
   ]
  },
  {
   "cell_type": "code",
   "execution_count": 29,
   "metadata": {},
   "outputs": [
    {
     "data": {
      "text/plain": [
       "array([[0.47815322, 0.52184678],\n",
       "       [0.73924572, 0.26075428],\n",
       "       [0.42361155, 0.57638845],\n",
       "       [0.63340836, 0.36659164],\n",
       "       [0.6335937 , 0.3664063 ],\n",
       "       [0.28259318, 0.71740682],\n",
       "       [0.32793908, 0.67206092],\n",
       "       [0.3866232 , 0.6133768 ],\n",
       "       [0.48883902, 0.51116098],\n",
       "       [0.59978904, 0.40021096]])"
      ]
     },
     "execution_count": 29,
     "metadata": {},
     "output_type": "execute_result"
    }
   ],
   "source": [
    "grid_search.predict_proba(X_test)[0:10, :]"
   ]
  },
  {
   "cell_type": "code",
   "execution_count": 30,
   "metadata": {},
   "outputs": [
    {
     "name": "stdout",
     "output_type": "stream",
     "text": [
      "[0.47815322 0.73924572 0.42361155 0.63340836 0.6335937 ]\n"
     ]
    }
   ],
   "source": [
    "pred_prob_zero = grid_search.predict_proba(X_test)[:, 0]\n",
    "print(pred_prob_zero[:5])"
   ]
  },
  {
   "cell_type": "markdown",
   "metadata": {},
   "source": [
    "predictions_LR that we had earlier in form of either 0 or 1 was class probability. This one is probability ranging from 0-1. If it is above 0.5 (our default point) then we have book event type and below 0.5 is search event type class."
   ]
  },
  {
   "cell_type": "code",
   "execution_count": 31,
   "metadata": {},
   "outputs": [
    {
     "data": {
      "text/plain": [
       "Text(0, 0.5, 'Frequency')"
      ]
     },
     "execution_count": 31,
     "metadata": {},
     "output_type": "execute_result"
    },
    {
     "data": {
      "image/png": "[encoded data removed]",
      "text/plain": [
       "<Figure size 576x396 with 1 Axes>"
      ]
     },
     "metadata": {},
     "output_type": "display_data"
    }
   ],
   "source": [
    "# histogram of predicted probabilities for search activities\n",
    "plt.hist(pred_prob_zero, bins=8)\n",
    "plt.xlim(0, 1)\n",
    "plt.title('Histogram of predicted probabilities')\n",
    "plt.xlabel('Predicted probability for searching activities')\n",
    "plt.ylabel('Frequency')"
   ]
  },
  {
   "cell_type": "code",
   "execution_count": 32,
   "metadata": {},
   "outputs": [
    {
     "name": "stdout",
     "output_type": "stream",
     "text": [
      "[0.52184678 0.26075428 0.57638845 0.36659164 0.3664063 ]\n"
     ]
    }
   ],
   "source": [
    "pred_prob_cl_one = grid_search.predict_proba(X_test)[:, 1]\n",
    "print(pred_prob_cl_one[:5])"
   ]
  },
  {
   "cell_type": "code",
   "execution_count": 33,
   "metadata": {},
   "outputs": [
    {
     "data": {
      "text/plain": [
       "Text(0, 0.5, 'Frequency')"
      ]
     },
     "execution_count": 33,
     "metadata": {},
     "output_type": "execute_result"
    },
    {
     "data": {
      "image/png": "[encoded data removed]",
      "text/plain": [
       "<Figure size 576x396 with 1 Axes>"
      ]
     },
     "metadata": {},
     "output_type": "display_data"
    }
   ],
   "source": [
    "# histogram of predicted probabilities for churned customers\n",
    "plt.hist(pred_prob_cl_one, bins=8)\n",
    "plt.xlim(0, 1)\n",
    "plt.title('Histogram of predicted probabilities')\n",
    "plt.xlabel('Predicted probability for booking activities among customers')\n",
    "plt.ylabel('Frequency')"
   ]
  },
  {
   "cell_type": "markdown",
   "metadata": {},
   "source": [
    "These are the probabilities that for booking and search acitivities among customers.\n",
    "\n",
    "If we still want to improve our model precision then we can change threshold. Defualt threshold for probability is 0.5. If we change then our results for booking could be more precise. There will less cases where our model would predict search results as booking. But, I will keep this current threshold Probability value."
   ]
  },
  {
   "cell_type": "markdown",
   "metadata": {},
   "source": [
    "# 5)-ROC & AUC"
   ]
  },
  {
   "cell_type": "code",
   "execution_count": 34,
   "metadata": {},
   "outputs": [],
   "source": [
    "from sklearn.metrics import roc_curve\n",
    "roc_score=roc_curve(y_test, pred_prob_cl_one)"
   ]
  },
  {
   "cell_type": "code",
   "execution_count": 35,
   "metadata": {},
   "outputs": [
    {
     "data": {
      "image/png": "[encoded data removed]",
      "text/plain": [
       "<Figure size 720x576 with 1 Axes>"
      ]
     },
     "metadata": {},
     "output_type": "display_data"
    }
   ],
   "source": [
    "from sklearn.metrics import roc_curve\n",
    "fpr, tpr, thres = roc_curve(y_test, pred_prob_cl_one)\n",
    "\n",
    "\n",
    "def _plot_roc_curve(fpr, tpr, thres):\n",
    "    roc = plt.figure(figsize = (10, 8))\n",
    "    plt.plot(fpr, tpr, 'b-', label = 'ROC')\n",
    "    plt.plot([0, 1], [0, 1], '--')\n",
    "    plt.axis([0, 1, 0, 1])\n",
    "    plt.xlabel('False Positive Rate(1 - Specificity)')\n",
    "    plt.ylabel('True Positive Rate(Sensitivity)')\n",
    "    plt.title('ROC Curve')\n",
    "    return roc\n",
    "p1 = _plot_roc_curve(fpr, tpr, thres)"
   ]
  },
  {
   "cell_type": "markdown",
   "metadata": {},
   "source": [
    "This shape is what we study in book as pretty nice balance between True positive and False positives. This plot also confirm right choice of imblanced solution, model, and tuning approach."
   ]
  },
  {
   "cell_type": "code",
   "execution_count": 36,
   "metadata": {},
   "outputs": [
    {
     "data": {
      "text/plain": [
       "0.692747435661864"
      ]
     },
     "execution_count": 36,
     "metadata": {},
     "output_type": "execute_result"
    }
   ],
   "source": [
    "from sklearn.metrics import auc\n",
    "auc(fpr, tpr)"
   ]
  },
  {
   "cell_type": "code",
   "execution_count": 37,
   "metadata": {},
   "outputs": [
    {
     "data": {
      "image/png": "[encoded data removed]",
      "text/plain": [
       "<Figure size 720x576 with 1 Axes>"
      ]
     },
     "metadata": {},
     "output_type": "display_data"
    }
   ],
   "source": [
    "from sklearn.metrics import roc_curve, precision_recall_curve\n",
    "prec, rec, thres = precision_recall_curve(y_test, pred_prob_cl_one)\n",
    "\n",
    "def _plot_prec_rec_curve(prec, rec, thres):\n",
    "    plot_pr = plt.figure(figsize = (10, 8))\n",
    "    plt.plot(thres, prec[:-1], 'b--', label = 'Precision')\n",
    "    plt.plot(thres, rec[:-1], 'g-', label = 'Recall')\n",
    "    plt.xlabel('Threshold')\n",
    "    plt.ylabel('Probability')\n",
    "    plt.title('Precsion vs Recall Curve')\n",
    "    plt.legend()\n",
    "    #return plot_pr(it creates duplicate graph)\n",
    "\n",
    "_plot_prec_rec_curve(prec, rec, thres)"
   ]
  },
  {
   "cell_type": "markdown",
   "metadata": {},
   "source": [
    "Our intersection point is 0.7 here. If we go to lower values(i.e left of our x-axis) we can get better recall values. Higher values will improve precision but, recall will go very low. This trade off is typical in Classification problems and depending on problem how much specific outcome vs sensitive outcome is required in the end."
   ]
  },
  {
   "cell_type": "markdown",
   "metadata": {},
   "source": [
    "# Key Takeaway"
   ]
  },
  {
   "cell_type": "markdown",
   "metadata": {},
   "source": [
    "- 1- It is important to undertand problem at hand. We needed a model that could predict conversion-likelihood of users. For this, we need to know which event type class is of more significance to us. Search and booking event types are two classes that we had so, it is binary classification model. And our class of interest is \"booking\". We got interesting insite while exploring different variables that gave us hints how our predictive model might provide us results.\n",
    "\n",
    "- 2- Next challenge was to know how would we measure performance of our model. what will be most optimal model for us and what is a number that we are looking? Mostly accuracy is considered to be standard evaluation Metric. In our case, it was not case. Accuracy shows only percentage of correct prediction results. We wanted to see how close we predict correct \"booking\" event type. For this reason, I assumed precision to be right metric of evaluation. I however; provided results from other metrics as well to give a good comparison.\n",
    "\n",
    "- 3- Out of 47007 samples, We had 45198 search instances and only 1809 book instance. Clearly, we have more search event type instances and when we train our model on random sample data then we would get better chances of predicting search instances than booking instances. This is very practical problem in ML domain.I applied machine learning first and showed by results that there is low precision for booking instances than search class instances. I proposed three solutions for this imbalnced classification problem. I chose solution with under sample given data and hence we had 1808 cased for both search and book instances. <br>\n",
    "Explanation of my choice has been documented in notebook3.\n",
    "\n",
    "- 4- Finally, feature selection. This is the only part where I didn't fully follow assignment's instruction. I chose three features that I extracted from given data i.e num_famil, len_jour, distance. These three features were of my interest. I also included ts_hour - the hour at which certain activity happened but, this variable is not significant hence, I dropped it.<br>\n",
    "I didnt drop categorical variable though. I had an opportunity to explore \"origin\" and \"destination\" variables and found that they show a good relationship with event_types. I also noticed that model performance lowered removing these variables. I encoded them and then I had many many variables 500+. It looks alot. Someone might think of fewer columns. I only had 5 features but, too many columns might look too much.\n",
    "First of all, they are not too much. There is a way to use fewer. One is backward elimination i.e checking p-values and see if these variables are significant or not. Eliminate all those values that are insignificant from equation and then run model again. Another approach is use TF-IDF vectorization method with keeping most frequent origin and destination entities with respect to event type class. It could be deducted to 25 most relevant airport origin and destination airports. By this, we have 53 columns. This NLP approach wasn't part of this assignment so, I didnt go too deep into that. For future work, I might explore that part.\n",
    "\n",
    "- 5- In the end, I enjoyed working on this assignment and I really hope that you have had fun reading this code.Thank you for this great opportunity! "
   ]
  },
  {
   "cell_type": "markdown",
   "metadata": {},
   "source": [
    "**END OF NOTEBOOK5**"
   ]
  }
 ],
 "metadata": {
  "accelerator": "GPU",
  "colab": {
   "collapsed_sections": [],
   "name": "3.Model.ipynb",
   "provenance": []
  },
  "kernelspec": {
   "display_name": "Python 3.7 (tensorflow)",
   "language": "python",
   "name": "tensorflow"
  },
  "language_info": {
   "codemirror_mode": {
    "name": "ipython",
    "version": 3
   },
   "file_extension": ".py",
   "mimetype": "text/x-python",
   "name": "python",
   "nbconvert_exporter": "python",
   "pygments_lexer": "ipython3",
   "version": "3.7.5"
  }
 },
 "nbformat": 4,
 "nbformat_minor": 1
}
